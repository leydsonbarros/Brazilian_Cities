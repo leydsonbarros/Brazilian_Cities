{
  "cells": [
    {
      "cell_type": "markdown",
      "metadata": {
        "id": "6d6lW9Mm3LOs"
      },
      "source": [
        "# **Notas**\n",
        "## **Alunos:**\n",
        "    **Leydson Barros**    \n",
        "    **Leandro Damaceno**\n",
        "\n",
        "\n",
        "---\n",
        "\n",
        "\n",
        "\n",
        "> https://medium.com/data-hackers/uma-introdu%C3%A7%C3%A3o-simples-ao-pandas-1e15eea37fa1\n",
        "\n"
      ]
    },
    {
      "cell_type": "markdown",
      "metadata": {
        "id": "9Z9rdt3ivJv7"
      },
      "source": [
        "# --**Brazilian Cities**--\n",
        "\n",
        "\n",
        "1.   Classificação: Ouro\n",
        "2.   Usabilidade: 10\n",
        "\n",
        "\n",
        "\n",
        "\n",
        "\n",
        "> https://www.kaggle.com/datasets/crisparada/brazilian-cities\n"
      ]
    },
    {
      "cell_type": "markdown",
      "metadata": {},
      "source": [
        "# --**Importações bibliotecas**-- "
      ]
    },
    {
      "cell_type": "code",
      "execution_count": null,
      "metadata": {
        "id": "L02HLXLhwnTM"
      },
      "outputs": [],
      "source": [
        "import numpy as np\n",
        "import pandas as pd\n",
        "from numpy import log10\n",
        "import matplotlib.pyplot as plt\n",
        "%matplotlib inline\n"
      ]
    },
    {
      "cell_type": "markdown",
      "metadata": {},
      "source": [
        "# **Base de dados** "
      ]
    },
    {
      "cell_type": "code",
      "execution_count": null,
      "metadata": {},
      "outputs": [],
      "source": [
        "\n",
        "df_brazil=pd.read_csv(\"datas\\BRAZIL_CITIES_REV2022.CSV\",sep=\",\")\n",
        "df_dictionary=pd.read_csv(\"datas\\Data_Dictionary.csv\",sep=\";\")\n",
        "pd.set_option('display.max_columns', None)\n",
        "pd.set_option('display.max_rows', None)\n"
      ]
    },
    {
      "cell_type": "markdown",
      "metadata": {},
      "source": [
        "# ***Especificação***\n",
        "#### 1. **Coletar\tdados ok**\n",
        "#### 2.\t**Realizar pré-processamento\tdos\tdados**\t\n",
        "\n",
        "\n",
        "*   Definição\tde\ttipos - ok\n",
        "*   Tratamento\tde\tdados\tausentes - ok\n",
        "*   Normalização\te\tdiscretização \n",
        "*   Limpeza\tde\tdados\t(univariado,\tbivariado\te\t\n",
        "multivariado)\n",
        "#### 3.\t**Apresentar estatísticas descritivas\tdos\tdados com\tvisualizações** \n",
        "#### 4.\t**Realizar teste\tde\thipóteses para comparação de\tvalores\tde\tcategorias\t(ex.\tpreço\tm2 em diferentes bairros)\te\tvisualizar diferenças**\n",
        "\n",
        "\n",
        "# **Bônus:**\n",
        "\n",
        "\n",
        "*   Integrar\tdados\tou extrair\tdados\tda\tWeb\n",
        "*   Utilizar técnicas não cobertas nas aula\n"
      ]
    },
    {
      "cell_type": "markdown",
      "metadata": {},
      "source": [
        "# **Pré-processamento** "
      ]
    },
    {
      "cell_type": "markdown",
      "metadata": {},
      "source": [
        "### Visualização dos dados"
      ]
    },
    {
      "cell_type": "code",
      "execution_count": null,
      "metadata": {},
      "outputs": [],
      "source": [
        "# Dicionário do dataframe\n",
        "df_dictionary"
      ]
    },
    {
      "cell_type": "code",
      "execution_count": null,
      "metadata": {},
      "outputs": [],
      "source": [
        "df_brazil.head()"
      ]
    },
    {
      "cell_type": "code",
      "execution_count": null,
      "metadata": {},
      "outputs": [],
      "source": [
        "df_brazil[['CITY','STATE','REGIAO_TUR','CATEGORIA_TUR','GVA_MAIN','RURAL_URBAN']].head(10)"
      ]
    },
    {
      "cell_type": "code",
      "execution_count": null,
      "metadata": {},
      "outputs": [],
      "source": [
        " #Verificando se existe dados nulos\n",
        "print(df_brazil.isnull().sum())"
      ]
    },
    {
      "cell_type": "code",
      "execution_count": null,
      "metadata": {},
      "outputs": [],
      "source": [
        "df_brazil.info()"
      ]
    },
    {
      "cell_type": "markdown",
      "metadata": {},
      "source": [
        "<h1>Limpeza dos dados (Leandro)<h1> "
      ]
    },
    {
      "cell_type": "markdown",
      "metadata": {},
      "source": [
        "<h2>Verificando se existe dados duplicados<h2>"
      ]
    },
    {
      "cell_type": "code",
      "execution_count": null,
      "metadata": {},
      "outputs": [],
      "source": [
        "len(df_brazil)\n"
      ]
    },
    {
      "cell_type": "code",
      "execution_count": null,
      "metadata": {},
      "outputs": [],
      "source": [
        "#  Eliminando linhas duplicadas, Cidades: Assis, Paraty e Nova Fátima\n",
        "df_brazil = df_brazil.drop_duplicates()"
      ]
    },
    {
      "cell_type": "code",
      "execution_count": null,
      "metadata": {},
      "outputs": [],
      "source": [
        "len(df_brazil)"
      ]
    },
    {
      "cell_type": "code",
      "execution_count": null,
      "metadata": {},
      "outputs": [],
      "source": [
        "df_brazil[df_brazil['CITY'] == 'Paraty'][['CITY','STATE','LAT','LONG']]"
      ]
    },
    {
      "cell_type": "code",
      "execution_count": null,
      "metadata": {},
      "outputs": [],
      "source": [
        "# Cidade de Paraty possui dois dados sobre a agência de correios, eliminei o diferente de 1 (pesquisado no google que só existe uma agência)\n",
        "df_brazil.drop(df_brazil.loc[(df_brazil['CITY']=='Paraty') & (df_brazil['POST_OFFICES'] != 1)].index, inplace=True)"
      ]
    },
    {
      "cell_type": "code",
      "execution_count": null,
      "metadata": {},
      "outputs": [],
      "source": [
        "len(df_brazil)"
      ]
    },
    {
      "cell_type": "markdown",
      "metadata": {},
      "source": [
        "<h2>Limpeza dos dados discrepantes<h2>"
      ]
    },
    {
      "cell_type": "code",
      "execution_count": null,
      "metadata": {},
      "outputs": [],
      "source": [
        "# De acordo com o IBGE a menor cidade do Brasil tem 3565 km², dando o código abaixo , retona 3 cidades com área 0\n",
        "df_brazil[(df_brazil['AREA'] < 3.565)][['CITY', 'STATE', 'AREA', 'IDHM']]\n"
      ]
    },
    {
      "cell_type": "code",
      "execution_count": null,
      "metadata": {},
      "outputs": [],
      "source": [
        "#Limpando as cidades que tem área menor que 3.565 km², pois foipesquisado que nao existe cidade menor que essetamanho de área\n",
        "df_brazil.drop(df_brazil.loc[(df_brazil['AREA'] < 3.565)].index, inplace=True)"
      ]
    },
    {
      "cell_type": "code",
      "execution_count": null,
      "metadata": {},
      "outputs": [],
      "source": [
        "len(df_brazil)"
      ]
    },
    {
      "cell_type": "code",
      "execution_count": null,
      "metadata": {},
      "outputs": [],
      "source": [
        "# De acordo com o IBGE a  cidade do Brasil menos povoada tem 776 pessoas\n",
        "df_brazil[(df_brazil['IBGE_RES_POP'] < 776)][['CITY', 'STATE', 'AREA', 'IBGE_RES_POP']]"
      ]
    },
    {
      "cell_type": "code",
      "execution_count": null,
      "metadata": {},
      "outputs": [],
      "source": [
        "#Eliminando as cidades que tem menos de 776 habitantes\n",
        "df_brazil.drop(df_brazil.loc[(df_brazil['IBGE_RES_POP'] < 776)].index, inplace=True)"
      ]
    },
    {
      "cell_type": "code",
      "execution_count": null,
      "metadata": {},
      "outputs": [],
      "source": [
        "len(df_brazil)"
      ]
    },
    {
      "cell_type": "code",
      "execution_count": null,
      "metadata": {},
      "outputs": [],
      "source": [
        "#Verificando as cidades que tem IDHM menor que 0.0\n",
        "df_brazil.loc[(df_brazil['IDHM'] == 0.0)][['CITY','STATE','IDHM','IDHM_Renda','IDHM_Longevidade','IDHM_Educacao']]"
      ]
    },
    {
      "cell_type": "code",
      "execution_count": null,
      "metadata": {},
      "outputs": [],
      "source": [
        "#Eliminando as cidades que tem IDHM menor que 0.0\n",
        "df_brazil.drop(df_brazil.loc[(df_brazil['IDHM'] == 0.0)].index, inplace=True)"
      ]
    },
    {
      "cell_type": "markdown",
      "metadata": {},
      "source": [
        "<h2>Limpeza dos outliers usando z-score robusto (univariado)<h2>"
      ]
    },
    {
      "cell_type": "code",
      "execution_count": null,
      "metadata": {},
      "outputs": [],
      "source": [
        "# decidi pegar a coluna GDP, o produto interno bruto de cada cidade brasileira\n",
        "df_brazil['GDP'].value_counts()"
      ]
    },
    {
      "cell_type": "code",
      "execution_count": null,
      "metadata": {},
      "outputs": [],
      "source": [
        "df_brazil['GDP'].describe()"
      ]
    },
    {
      "cell_type": "code",
      "execution_count": null,
      "metadata": {},
      "outputs": [],
      "source": [
        "# Usando plotbox para achar os outliers\n",
        "df_brazil['GDP'].plot.box()"
      ]
    },
    {
      "cell_type": "code",
      "execution_count": null,
      "metadata": {},
      "outputs": [],
      "source": [
        "df_brazil['GDP'].hist()"
      ]
    },
    {
      "cell_type": "code",
      "execution_count": null,
      "metadata": {},
      "outputs": [],
      "source": [
        "# Como visto em cima , os dados não estão simétricos , então aplicamos log10 e criamos uma coluna que é justamente a coluna GDP na base 10\n",
        "df_brazil['GDP_Log'] = log10(df_brazil['GDP'])\n",
        "df_brazil['GDP_Log'].hist()"
      ]
    },
    {
      "cell_type": "code",
      "execution_count": null,
      "metadata": {},
      "outputs": [],
      "source": [
        "# agora podemos usar o  z-core robusto\n",
        "from numpy import abs\n",
        "mad = abs(df_brazil['GDP_Log'] - df_brazil['GDP_Log'].median()).median()*(1/0.6745)\n",
        "print(mad)"
      ]
    },
    {
      "cell_type": "code",
      "execution_count": null,
      "metadata": {},
      "outputs": [],
      "source": [
        "# Agora vamos plotar o z-score robusto\n",
        "(abs(df_brazil['GDP_Log']-df_brazil['GDP_Log'].median())/mad).hist()"
      ]
    },
    {
      "cell_type": "code",
      "execution_count": null,
      "metadata": {},
      "outputs": [],
      "source": [
        "# Usando a limiar > 3.25, encontro os outliers\n",
        "df_brazil[abs(df_brazil['GDP_Log']-df_brazil['GDP_Log'].median())/mad > 3.25]"
      ]
    },
    {
      "cell_type": "code",
      "execution_count": null,
      "metadata": {},
      "outputs": [],
      "source": [
        "# Gerando novo dataframe, eliminando os outros\n",
        "df_brazil = df_brazil[abs(df_brazil['GDP_Log']-df_brazil['GDP_Log'].median())/mad < 3.25]"
      ]
    },
    {
      "cell_type": "markdown",
      "metadata": {},
      "source": [
        "<h2>Bivariada<h2>"
      ]
    },
    {
      "cell_type": "code",
      "execution_count": null,
      "metadata": {},
      "outputs": [],
      "source": [
        "# usando duas colunas 'COMP_TOTAL' E 'AREA', que são o total de companias de cada estado e a área de em km² respectivamente, percebesse\n",
        "df_brazil.plot.scatter(x='COMP_TOT',y='AREA', figsize=(15,15), linewidths = 10)"
      ]
    },
    {
      "cell_type": "code",
      "execution_count": null,
      "metadata": {},
      "outputs": [],
      "source": [
        "df_brazil['COMP_AREA'] = df_brazil['COMP_TOT'] / df_brazil['AREA']"
      ]
    },
    {
      "cell_type": "code",
      "execution_count": null,
      "metadata": {},
      "outputs": [],
      "source": [
        "# Agora que fizemos a divisão, transfomando em uma univarada partir daqui repetimos na coluna comp_area o mesmo processo de z-score robusto\n",
        "df_brazil['COMP_AREA'].describe()"
      ]
    },
    {
      "cell_type": "code",
      "execution_count": null,
      "metadata": {},
      "outputs": [],
      "source": [
        "df_brazil['COMP_AREA'].plot.box()"
      ]
    },
    {
      "cell_type": "code",
      "execution_count": null,
      "metadata": {},
      "outputs": [],
      "source": [
        "df_brazil['COMP_AREA'].hist()"
      ]
    },
    {
      "cell_type": "code",
      "execution_count": null,
      "metadata": {},
      "outputs": [],
      "source": [
        "df_brazil['COMP_AREA_L'] = log10(df_brazil['COMP_AREA'])\n",
        "df_brazil['COMP_AREA_L'].hist()"
      ]
    },
    {
      "cell_type": "code",
      "execution_count": null,
      "metadata": {},
      "outputs": [],
      "source": [
        "mad = abs(df_brazil['COMP_AREA_L'] - df_brazil['COMP_AREA_L'].median()).median()*(1/0.6745)"
      ]
    },
    {
      "cell_type": "code",
      "execution_count": null,
      "metadata": {},
      "outputs": [],
      "source": [
        "(abs(df_brazil['COMP_AREA_L']-df_brazil['COMP_AREA_L'].median())/mad).hist()"
      ]
    },
    {
      "cell_type": "code",
      "execution_count": null,
      "metadata": {},
      "outputs": [],
      "source": [
        "df_brazil[abs(df_brazil['COMP_AREA_L']-df_brazil['COMP_AREA_L'].median())/mad > 3.5]"
      ]
    },
    {
      "cell_type": "code",
      "execution_count": null,
      "metadata": {},
      "outputs": [],
      "source": [
        "df_brazil = df_brazil[abs(df_brazil['COMP_AREA_L']-df_brazil['COMP_AREA_L'].median())/mad < 3.5]"
      ]
    },
    {
      "cell_type": "markdown",
      "metadata": {},
      "source": [
        "<h2>Removendo outliers com Isolation Forests (multivariado)<h2>"
      ]
    },
    {
      "cell_type": "code",
      "execution_count": null,
      "metadata": {},
      "outputs": [],
      "source": [
        "# Primeiro passo , discretizar os dados , deixando os dados categóricos em numéricos\n",
        "df_brazil['CITY'] = df_brazil['CITY'].astype('category')\n",
        "df_brazil['STATE'] = df_brazil['STATE'].astype('category')\n",
        "df_brazil['REGIAO_TUR'] = df_brazil['REGIAO_TUR'].astype('category')\n",
        "df_brazil['CATEGORIA_TUR'] = df_brazil['CATEGORIA_TUR'].astype('category')\n",
        "df_brazil['RURAL_URBAN'] = df_brazil['RURAL_URBAN'].astype('category')\n",
        "df_brazil['GVA_MAIN'] = df_brazil['GVA_MAIN'].astype('category')"
      ]
    },
    {
      "cell_type": "code",
      "execution_count": null,
      "metadata": {},
      "outputs": [],
      "source": [
        "df_brazil['CITY'] = df_brazil['CITY'].cat.codes\n",
        "df_brazil['STATE'] = df_brazil['STATE'].cat.codes\n",
        "df_brazil['REGIAO_TUR'] = df_brazil['REGIAO_TUR'].cat.codes\n",
        "df_brazil['CATEGORIA_TUR'] = df_brazil['CATEGORIA_TUR'].cat.codes\n",
        "df_brazil['RURAL_URBAN'] = df_brazil['RURAL_URBAN'].cat.codes\n",
        "df_brazil['GVA_MAIN'] = df_brazil['GVA_MAIN'].cat.codes"
      ]
    },
    {
      "cell_type": "code",
      "execution_count": null,
      "metadata": {},
      "outputs": [],
      "source": [
        "from sklearn.ensemble import IsolationForest\n",
        "rng = np.random.RandomState(42)\n",
        "clf = IsolationForest(max_samples=100, random_state=rng)\n",
        "clf.fit(df_brazil)"
      ]
    },
    {
      "cell_type": "code",
      "execution_count": null,
      "metadata": {},
      "outputs": [],
      "source": [
        "scores = clf.predict(df_brazil)\n",
        "scores"
      ]
    },
    {
      "cell_type": "code",
      "execution_count": null,
      "metadata": {},
      "outputs": [],
      "source": [
        "df_brazil['outlier'] = scores\n",
        "print(df_brazil.head())"
      ]
    },
    {
      "cell_type": "code",
      "execution_count": null,
      "metadata": {},
      "outputs": [],
      "source": [
        "df_brazil[df_brazil['outlier'] == -1]\n"
      ]
    },
    {
      "cell_type": "code",
      "execution_count": null,
      "metadata": {},
      "outputs": [],
      "source": [
        "#nova dataframe sem os campos com -1, ou seja sem os outliers\n",
        "df_brazil = df_brazil[df_brazil['outlier'] != -1]\n",
        "len(df_brazil)"
      ]
    },
    {
      "cell_type": "markdown",
      "metadata": {},
      "source": [
        "### Discretização de dados "
      ]
    },
    {
      "cell_type": "code",
      "execution_count": null,
      "metadata": {},
      "outputs": [],
      "source": [
        "#Setando campos como categóricos\n",
        "#ajustando tipos dos dados\n",
        "df_brazil['CAPITAL'] = df_brazil['CAPITAL'].astype('category')\n",
        "df_brazil['STATE'] = df_brazil['STATE'].astype('category')\n",
        "df_brazil['CATEGORIA_TUR'] = df_brazil['CATEGORIA_TUR'].astype('category')\n",
        "df_brazil['GVA_MAIN'] = df_brazil['GVA_MAIN'].astype('category')\n",
        "df_brazil['RURAL_URBAN'] = df_brazil['RURAL_URBAN'].astype('category')\n",
        "\n"
      ]
    },
    {
      "cell_type": "code",
      "execution_count": null,
      "metadata": {},
      "outputs": [],
      "source": [
        "df_brazil[['CAPITAL','STATE','CATEGORIA_TUR','GVA_MAIN','RURAL_URBAN']].dtypes"
      ]
    },
    {
      "cell_type": "code",
      "execution_count": null,
      "metadata": {},
      "outputs": [],
      "source": [
        "df_brazil['CAPITAL'].cat.categories"
      ]
    },
    {
      "cell_type": "code",
      "execution_count": null,
      "metadata": {},
      "outputs": [],
      "source": [
        "df_brazil['STATE'].cat.categories"
      ]
    },
    {
      "cell_type": "code",
      "execution_count": null,
      "metadata": {},
      "outputs": [],
      "source": [
        "df_brazil['CATEGORIA_TUR'].cat.categories"
      ]
    },
    {
      "cell_type": "code",
      "execution_count": null,
      "metadata": {},
      "outputs": [],
      "source": [
        "df_brazil['GVA_MAIN'].cat.categories"
      ]
    },
    {
      "cell_type": "code",
      "execution_count": null,
      "metadata": {},
      "outputs": [],
      "source": [
        "df_brazil['RURAL_URBAN'].cat.categories"
      ]
    },
    {
      "cell_type": "markdown",
      "metadata": {},
      "source": [
        "#### IDHM"
      ]
    },
    {
      "cell_type": "code",
      "execution_count": null,
      "metadata": {},
      "outputs": [],
      "source": [
        "df_brazil['IDHM_dist'] = 'Muito Baixo'"
      ]
    },
    {
      "cell_type": "code",
      "execution_count": null,
      "metadata": {},
      "outputs": [],
      "source": [
        "df_brazil.loc[(df_brazil['IDHM'] <= 0.499),'IDHM_dist'] = 'Muito Baixo'\n",
        "df_brazil.loc[(df_brazil['IDHM'] >= 0.5) & (df_brazil['IDHM'] <= 0.599),'IDHM_dist'] = 'Baixo'\n",
        "df_brazil.loc[(df_brazil['IDHM'] >= 0.6) & (df_brazil['IDHM'] <= 0.699),'IDHM_dist'] = 'Médio'\n",
        "df_brazil.loc[(df_brazil['IDHM'] >= 0.7) & (df_brazil['IDHM'] <= 0.799),'IDHM_dist'] = 'Alto'\n",
        "df_brazil.loc[(df_brazil['IDHM'] >= 0.8) & (df_brazil['IDHM'] <= 1),'IDHM_dist'] = 'Muito Alto'\n",
        "df_brazil['IDHM_dist'] = df_brazil['IDHM_dist'].astype('category')"
      ]
    },
    {
      "cell_type": "code",
      "execution_count": null,
      "metadata": {},
      "outputs": [],
      "source": [
        "df_brazil['IDHM_dist'].cat.categories"
      ]
    },
    {
      "cell_type": "code",
      "execution_count": null,
      "metadata": {},
      "outputs": [],
      "source": [
        "df_brazil['IDHM_dist'].value_counts()"
      ]
    },
    {
      "cell_type": "code",
      "execution_count": null,
      "metadata": {},
      "outputs": [],
      "source": [
        "df_brazil['IDHM_dist'].value_counts().plot(kind='barh') \n",
        "plt.show()"
      ]
    },
    {
      "cell_type": "code",
      "execution_count": null,
      "metadata": {},
      "outputs": [],
      "source": [
        "df_brazil[['CITY','IDHM','IDHM_dist']].head()"
      ]
    },
    {
      "cell_type": "markdown",
      "metadata": {},
      "source": [
        "#### IDHM_Renda"
      ]
    },
    {
      "cell_type": "code",
      "execution_count": null,
      "metadata": {},
      "outputs": [],
      "source": [
        "df_brazil['IDHM_Renda_dist'] = 'Muito Baixo'"
      ]
    },
    {
      "cell_type": "code",
      "execution_count": null,
      "metadata": {},
      "outputs": [],
      "source": [
        "df_brazil.loc[(df_brazil['IDHM_Renda'] <= 0.499),'IDHM_Renda_dist'] = 'Muito Baixo'\n",
        "df_brazil.loc[(df_brazil['IDHM_Renda'] >= 0.5) & (df_brazil['IDHM_Renda'] <= 0.599),'IDHM_Renda_dist'] = 'Baixo'\n",
        "df_brazil.loc[(df_brazil['IDHM_Renda'] >= 0.6) & (df_brazil['IDHM_Renda'] <= 0.699),'IDHM_Renda_dist'] = 'Médio'\n",
        "df_brazil.loc[(df_brazil['IDHM_Renda'] >= 0.7) & (df_brazil['IDHM_Renda'] <= 0.799),'IDHM_Renda_dist'] = 'Alto'\n",
        "df_brazil.loc[(df_brazil['IDHM_Renda'] >= 0.8) & (df_brazil['IDHM_Renda'] <= 1),'IDHM_Renda_dist'] = 'Muito Alto'\n",
        "df_brazil['IDHM_Renda_dist'] = df_brazil['IDHM_Renda_dist'].astype('category')"
      ]
    },
    {
      "cell_type": "code",
      "execution_count": null,
      "metadata": {},
      "outputs": [],
      "source": [
        "df_brazil['IDHM_Renda_dist'].cat.categories"
      ]
    },
    {
      "cell_type": "code",
      "execution_count": null,
      "metadata": {},
      "outputs": [],
      "source": [
        "df_brazil['IDHM_Renda_dist'].value_counts()"
      ]
    },
    {
      "cell_type": "code",
      "execution_count": null,
      "metadata": {},
      "outputs": [],
      "source": [
        "df_brazil['IDHM_Renda_dist'].value_counts().plot(kind='barh') \n",
        "plt.show()"
      ]
    },
    {
      "cell_type": "code",
      "execution_count": null,
      "metadata": {},
      "outputs": [],
      "source": [
        "df_brazil[['CITY','IDHM_Renda','IDHM_Renda_dist']].head()"
      ]
    },
    {
      "cell_type": "markdown",
      "metadata": {},
      "source": [
        "#### IDHM_Longevidade"
      ]
    },
    {
      "cell_type": "code",
      "execution_count": null,
      "metadata": {},
      "outputs": [],
      "source": [
        "df_brazil['IDHM_Longevidade_dist'] = 'Muito Baixo'"
      ]
    },
    {
      "cell_type": "code",
      "execution_count": null,
      "metadata": {},
      "outputs": [],
      "source": [
        "df_brazil.loc[(df_brazil['IDHM_Longevidade'] <= 0.499),'IDHM_Longevidade_dist'] = 'Muito Baixo'\n",
        "df_brazil.loc[(df_brazil['IDHM_Longevidade'] >= 0.5) & (df_brazil['IDHM_Longevidade'] <= 0.599),'IDHM_Longevidade_dist'] = 'Baixo'\n",
        "df_brazil.loc[(df_brazil['IDHM_Longevidade'] >= 0.6) & (df_brazil['IDHM_Longevidade'] <= 0.699),'IDHM_Longevidade_dist'] = 'Médio'\n",
        "df_brazil.loc[(df_brazil['IDHM_Longevidade'] >= 0.7) & (df_brazil['IDHM_Longevidade'] <= 0.799),'IDHM_Longevidade_dist'] = 'Alto'\n",
        "df_brazil.loc[(df_brazil['IDHM_Longevidade'] >= 0.8) & (df_brazil['IDHM_Longevidade'] <= 1),'IDHM_Longevidade_dist'] = 'Muito Alto'\n",
        "df_brazil['IDHM_Longevidade_dist'] = df_brazil['IDHM_Longevidade_dist'].astype('category')"
      ]
    },
    {
      "cell_type": "code",
      "execution_count": null,
      "metadata": {},
      "outputs": [],
      "source": [
        "df_brazil['IDHM_Longevidade_dist'].cat.categories"
      ]
    },
    {
      "cell_type": "code",
      "execution_count": null,
      "metadata": {},
      "outputs": [],
      "source": [
        "df_brazil['IDHM_Longevidade_dist'].value_counts()"
      ]
    },
    {
      "cell_type": "code",
      "execution_count": null,
      "metadata": {},
      "outputs": [],
      "source": [
        "df_brazil['IDHM_Longevidade_dist'].value_counts().plot(kind='barh') \n",
        "plt.show()"
      ]
    },
    {
      "cell_type": "markdown",
      "metadata": {},
      "source": [
        "#### IDHM_Educacao"
      ]
    },
    {
      "cell_type": "code",
      "execution_count": null,
      "metadata": {},
      "outputs": [],
      "source": [
        "df_brazil['IDHM_Educacao_dist'] = 'Muito Baixo'"
      ]
    },
    {
      "cell_type": "code",
      "execution_count": null,
      "metadata": {},
      "outputs": [],
      "source": [
        "df_brazil.loc[(df_brazil['IDHM_Educacao'] <= 0.499),'IDHM_Educacao_dist'] = 'Muito Baixo'\n",
        "df_brazil.loc[(df_brazil['IDHM_Educacao'] >= 0.5) & (df_brazil['IDHM_Educacao'] <= 0.599),'IDHM_Educacao_dist'] = 'Baixo'\n",
        "df_brazil.loc[(df_brazil['IDHM_Educacao'] >= 0.6) & (df_brazil['IDHM_Educacao'] <= 0.699),'IDHM_Educacao_dist'] = 'Médio'\n",
        "df_brazil.loc[(df_brazil['IDHM_Educacao'] >= 0.7) & (df_brazil['IDHM_Educacao'] <= 0.799),'IDHM_Educacao_dist'] = 'Alto'\n",
        "df_brazil.loc[(df_brazil['IDHM_Educacao'] >= 0.8) & (df_brazil['IDHM_Educacao'] <= 1),'IDHM_Educacao_dist'] = 'Muito Alto'\n",
        "df_brazil['IDHM_Educacao_dist'] = df_brazil['IDHM_Educacao_dist'].astype('category')"
      ]
    },
    {
      "cell_type": "code",
      "execution_count": null,
      "metadata": {},
      "outputs": [],
      "source": [
        "df_brazil['IDHM_Educacao_dist'].cat.categories"
      ]
    },
    {
      "cell_type": "code",
      "execution_count": null,
      "metadata": {},
      "outputs": [],
      "source": [
        "df_brazil['IDHM_Educacao_dist'].value_counts()"
      ]
    },
    {
      "cell_type": "code",
      "execution_count": null,
      "metadata": {},
      "outputs": [],
      "source": [
        "df_brazil['IDHM_Educacao_dist'].value_counts().plot(kind='barh') \n",
        "plt.show()"
      ]
    },
    {
      "cell_type": "markdown",
      "metadata": {},
      "source": [
        "### Normalização\n",
        ". Ainda vou fazer"
      ]
    },
    {
      "cell_type": "markdown",
      "metadata": {},
      "source": [
        "# **Análise do dataSet** "
      ]
    },
    {
      "cell_type": "code",
      "execution_count": null,
      "metadata": {},
      "outputs": [],
      "source": [
        "#df_brazil.loc[(df_brazil['IDHM'] ==  1) | (df_brazil['IDHM'] > 0.6)][['CITY','STATE','IDHM','IDHM_dist']]"
      ]
    },
    {
      "cell_type": "code",
      "execution_count": null,
      "metadata": {},
      "outputs": [],
      "source": [
        "# Criando os dataframes por região\n",
        "\n",
        "nordeste = df_brazil.loc[(df_brazil['STATE'] == 'PE') | (df_brazil['STATE'] == 'MA') | (df_brazil['STATE'] == 'RN') | (df_brazil['STATE'] == 'BA') | (df_brazil['STATE'] == 'CE') | (df_brazil['STATE'] == 'AL') | (df_brazil['STATE'] == 'PI') | (df_brazil['STATE'] == 'PB') | (df_brazil['STATE'] == 'SE')]\n",
        "norte =  df_brazil.loc[(df_brazil['STATE'] == 'AC') | (df_brazil['STATE'] == 'AP') | (df_brazil['STATE'] == 'AM') | (df_brazil['STATE'] == 'PA') | (df_brazil['STATE'] == 'RO') | (df_brazil['STATE'] == 'RR') | (df_brazil['STATE'] == 'TO')]\n",
        "sul = df_brazil.loc[(df_brazil['STATE'] == 'PR') | (df_brazil['STATE'] == 'RS') | (df_brazil['STATE'] == 'SC')]\n",
        "centroOeste =  df_brazil.loc[(df_brazil['STATE'] == 'DF') | (df_brazil['STATE'] == 'GO') | (df_brazil['STATE'] == 'MT') | (df_brazil['STATE'] == 'MS')]\n",
        "sudeste = df_brazil.loc[(df_brazil['STATE'] == 'ES') | (df_brazil['STATE'] == 'MG') | (df_brazil['STATE'] == 'SP') | (df_brazil['STATE'] == 'RJ')]\n",
        "# Verificação dos estados \n",
        "checknordeste = ['PE','BA', 'MA','PI','CE','RN','PB','AL','SE']\n",
        "checknorte = ['AC','AP', 'AM','PA','RO','RR','TO']\n",
        "checksul = ['PR','RS', 'SC']\n",
        "checkcentroOeste = ['DF','GO', 'MT','MS']\n",
        "checksudeste = ['ES','MG', 'SP','RJ']\n",
        "# Verificação das cidades por estado\n",
        "cidadesNordeste = df_brazil[\"STATE\"].isin(checknordeste)\n",
        "cidadesNorte = df_brazil[\"STATE\"].isin(checknorte)\n",
        "cidadesSul = df_brazil[\"STATE\"].isin(checksul)\n",
        "cidadesCentroOeste = df_brazil[\"STATE\"].isin(checkcentroOeste)\n",
        "cidadesSudeste = df_brazil[\"STATE\"].isin(checksudeste)"
      ]
    },
    {
      "cell_type": "code",
      "execution_count": null,
      "metadata": {},
      "outputs": [],
      "source": [
        "# Mapa do Brasil \n",
        "\n",
        "long= df_brazil[\"LONG\"] !=0\n",
        "lat = df_brazil[\"LAT\"] !=0 \n",
        "## Montado o Mapa\n",
        "plt.figure(figsize=(10,10))\n",
        "plt.title(\" Cidades (Latitude e Longitude)\")\n",
        "plt.xlabel(\"Longitude\")\n",
        "plt.ylabel(\"Latitude\")\n",
        "#plt.scatter(df_brazil[long&lat&cap][\"LONG\"], df_brazil[long&lat&cap][\"LAT\"], s=50, alpha=1, label='Capital city', c ='#000000')\n",
        "plt.scatter(df_brazil[long&lat&cidadesNorte][\"LONG\"], df_brazil[long&lat&cidadesNorte][\"LAT\"], s=5, alpha=1, label='NORTE', c ='#006400')\n",
        "plt.scatter(df_brazil[long&lat&cidadesNordeste][\"LONG\"], df_brazil[long&lat&cidadesNordeste][\"LAT\"], s=5, alpha=1, label='Nordeste', c ='#00BFFF')\n",
        "plt.scatter(df_brazil[long&lat&cidadesCentroOeste][\"LONG\"], df_brazil[long&lat&cidadesCentroOeste][\"LAT\"], s=5, alpha=1, label='Centro Oeste', c ='#DB7093')\n",
        "plt.scatter(df_brazil[long&lat&cidadesSul][\"LONG\"], df_brazil[long&lat&cidadesSul][\"LAT\"], s=5, alpha=1, label='SUL', c ='#9932CC')\n",
        "plt.scatter(df_brazil[long&lat&cidadesSudeste][\"LONG\"], df_brazil[long&lat&cidadesSudeste][\"LAT\"], s=5, alpha=1, label='Sudeste', c ='#FF4500')\n",
        "#plt.scatter(df_brazil[long&lat&~cidadesNordeste][\"LONG\"], df_brazil[long&lat&~cidadesNordeste][\"LAT\"], s=1, alpha=1, c = '#4b0082')\n",
        "plt.legend()\n",
        "plt.show()"
      ]
    },
    {
      "cell_type": "code",
      "execution_count": null,
      "metadata": {},
      "outputs": [],
      "source": [
        "# Mapa do Brasil Capitais\n",
        "\n",
        "long= df_brazil[\"LONG\"] != 0\n",
        "lat = df_brazil[\"LAT\"] !=0 \n",
        "cap = df_brazil['CAPITAL'] ==1\n",
        " \n",
        "#Montando o Mapa\n",
        "plt.figure(figsize=(10,10))\n",
        "plt.title(\" Cidades (Latitude e Longitude)\")\n",
        "plt.xlabel(\"Longitude\")\n",
        "plt.ylabel(\"Latitude\")\n",
        "plt.scatter(df_brazil[long&lat&cap][\"LONG\"], df_brazil[long&lat&cap][\"LAT\"], s=50, alpha=1, label='Capital city', c ='#ff4500')\n",
        "plt.scatter(df_brazil[long&lat&~cap][\"LONG\"], df_brazil[long&lat&~cap][\"LAT\"], s=1, alpha=1, label='cidades', c = '#32cd32')\n",
        "plt.legend()\n",
        "plt.show()"
      ]
    },
    {
      "cell_type": "markdown",
      "metadata": {},
      "source": [
        "### **Índice de Desenvolvimento Humano** "
      ]
    },
    {
      "cell_type": "code",
      "execution_count": null,
      "metadata": {},
      "outputs": [],
      "source": [
        "df_brazil.boxplot(column=['IDHM'])"
      ]
    },
    {
      "cell_type": "markdown",
      "metadata": {},
      "source": [
        "# **Analisando as Regiões** "
      ]
    },
    {
      "cell_type": "markdown",
      "metadata": {},
      "source": [
        "## **Norte**"
      ]
    },
    {
      "cell_type": "code",
      "execution_count": null,
      "metadata": {},
      "outputs": [],
      "source": [
        "DadosNorte = [{'Capitais':norte.loc[(norte['CAPITAL'] == 1)]['CITY'].count(),'Cidades': norte['CITY'].count(),'Habitantes': norte['IBGE_RES_POP'].sum(), 'Empresas': norte['COMP_TOT'].sum()}]\n",
        "df_DadosNorte = pd.DataFrame(DadosNorte)\n",
        "df_DadosNorte"
      ]
    },
    {
      "cell_type": "code",
      "execution_count": null,
      "metadata": {},
      "outputs": [],
      "source": [
        "# Mapa do Norte\n",
        "\n",
        "long= df_brazil[\"LONG\"] !=0\n",
        "lat = df_brazil[\"LAT\"] !=0 \n",
        "capNorte = norte['CAPITAL'] == 1\n",
        "\n",
        "## use the scatter function\n",
        "plt.figure(figsize=(10,10))\n",
        "plt.title(\" Cidades do Norte\")\n",
        "plt.xlabel(\"Longitude\")\n",
        "plt.ylabel(\"Latitude\")\n",
        "plt.scatter(df_brazil[long&lat&cidadesNorte][\"LONG\"], df_brazil[long&lat&cidadesNorte][\"LAT\"], s=5, alpha=1, label='Cidades', c ='#00BFFF')\n",
        "plt.scatter(df_brazil[long&lat&capNorte][\"LONG\"], df_brazil[long&lat&capNorte][\"LAT\"], s=50, alpha=1, label='Capital city', c ='#ff4500')\n",
        "plt.legend()\n",
        "plt.show()"
      ]
    },
    {
      "cell_type": "code",
      "execution_count": null,
      "metadata": {},
      "outputs": [],
      "source": [
        "norte.boxplot(column=['IDHM'])"
      ]
    },
    {
      "cell_type": "code",
      "execution_count": null,
      "metadata": {},
      "outputs": [],
      "source": [
        "#Histograma do IDHM\n",
        "histPE=norte['IDHM'].hist()"
      ]
    },
    {
      "cell_type": "code",
      "execution_count": null,
      "metadata": {},
      "outputs": [],
      "source": [
        "#Comparando os IDHM dos estados do norte\n",
        "# Criando lista\n",
        "dados1 =  {'AC':norte[norte['STATE'] == 'AC'].IDHM_Educacao.mean() ,'AP':norte[norte['STATE'] == 'AP'].IDHM_Educacao.mean(), 'AM':norte[norte['STATE'] == 'AM'].IDHM_Educacao.mean(),'PA':norte[norte['STATE'] == 'PA'].IDHM_Educacao.mean(),'RO':norte[norte['STATE'] == 'RO'].IDHM_Educacao.mean(),'RR':norte[norte['STATE'] == 'RR'].IDHM_Educacao.mean(),'TO':norte[norte['STATE'] == 'TO'].IDHM_Educacao.mean()}\n",
        "dados2 =  {'AC':norte[norte['STATE'] == 'AC'].IDHM.mean() ,'AP':norte[norte['STATE'] == 'AP'].IDHM.mean(), 'AM':norte[norte['STATE'] == 'AM'].IDHM.mean(),'PA':norte[norte['STATE'] == 'PI'].IDHM.mean(),'RO':norte[norte['STATE'] == 'RO'].IDHM.mean(),'RR':norte[norte['STATE'] == 'RR'].IDHM.mean(),'TO':norte[norte['STATE'] == 'TO'].IDHM.mean()}\n",
        "dados3 =  {'AC':norte[norte['STATE'] == 'AC'].IDHM_Renda.mean() ,'AP':norte[norte['STATE'] == 'AP'].IDHM_Renda.mean(), 'AM':norte[norte['STATE'] == 'AM'].IDHM_Renda.mean(),'PA':norte[norte['STATE'] == 'PA'].IDHM_Renda.mean(),'RO':norte[norte['STATE'] == 'RO'].IDHM_Renda.mean(),'RR':norte[norte['STATE'] == 'RR'].IDHM_Renda.mean(),'TO':norte[norte['STATE'] == 'TO'].IDHM_Renda.mean()}\n",
        "dados4 =  {'AC':norte[norte['STATE'] == 'AC'].IDHM_Longevidade.mean() ,'AP':norte[norte['STATE'] == 'AP'].IDHM_Longevidade.mean(), 'AM':norte[norte['STATE'] == 'AM'].IDHM_Longevidade.mean(),'PA':norte[norte['STATE'] == 'PA'].IDHM_Longevidade.mean(),'RO':norte[norte['STATE'] == 'RO'].IDHM_Longevidade.mean(),'RR':norte[norte['STATE'] == 'RR'].IDHM_Longevidade.mean(),'TO':norte[norte['STATE'] == 'TO'].IDHM_Longevidade.mean()}\n",
        "Estados = list(dados1.keys())\n",
        "\n",
        "MediaIDHM = list(dados2.values())\n",
        "MediaIDHM_Educacao = list(dados1.values())\n",
        "MediaIDHM_renda = list(dados3.values())\n",
        "MediaIDHM_longevidade = list(dados4.values())\n",
        "\n",
        "barWidth = 0.2\n",
        "\n",
        "r1 = np.arange(len(MediaIDHM))\n",
        "r2 = [x + barWidth for x in r1]\n",
        "r3 = [x + barWidth for x in r2]\n",
        "r4 = [x + barWidth for x in r3]\n",
        "\n",
        "fig = plt.figure(figsize = (10, 5))\n",
        "\n",
        "#Criando as barras\n",
        "plt.bar(r1,MediaIDHM, color = '#00BFFF', width = barWidth, label = 'IDHM')\n",
        "plt.bar(r2,MediaIDHM_Educacao, color = '#1049F0', width = barWidth, label = 'IDHM_Educacao')\n",
        "plt.bar(r3,MediaIDHM_renda, color = '#D73E0D', width = barWidth, label = 'IDHM_renda')\n",
        "plt.bar(r4,MediaIDHM_longevidade, color = '#0DD7A3', width = barWidth, label = 'IDHM_longevidade')\n",
        "\n",
        "\n",
        "# criando Gráfico\n",
        "plt.xlabel(\"Estados\")\n",
        "plt.xticks([r + barWidth for r in range(len(MediaIDHM))], Estados)\n",
        "plt.ylabel(\"IDHM\")\n",
        "plt.title(\"Gráfico IDHM Médio norte\")\n",
        "plt.legend()\n",
        "plt.show()"
      ]
    },
    {
      "cell_type": "code",
      "execution_count": null,
      "metadata": {},
      "outputs": [],
      "source": [
        "#Capitais\n",
        "norte.loc[norte['CAPITAL'] == 1][['CITY','STATE','IDHM','REGIAO_TUR','CATEGORIA_TUR']].sort_values('IDHM', ascending=False)"
      ]
    },
    {
      "cell_type": "code",
      "execution_count": null,
      "metadata": {},
      "outputs": [],
      "source": [
        "#Melhores cidades turisticas do Norte\n",
        "norte.loc[(norte['IDHM'] >= 0.650) & (norte['REGIAO_TUR'] != '0')][['CITY','STATE','IDHM','REGIAO_TUR','CATEGORIA_TUR', 'RURAL_URBAN']].sort_values('IDHM', ascending=False).head(10)"
      ]
    },
    {
      "cell_type": "code",
      "execution_count": null,
      "metadata": {},
      "outputs": [],
      "source": [
        "# Criando Principais tipos de Industria no norte\n",
        "dados =  {'Agriculture':norte.COMP_A.sum()/1000,'Indústrias extrativas':norte.COMP_B.sum()/1000,'Indústrias de transformação':norte.COMP_C.sum()/1000,'Eletricidade e gás':norte.COMP_D.sum()/1000,'Saneamento':norte.COMP_E.sum()/1000,'Construção':norte.COMP_F.sum()/1000,'Automobilística':norte.COMP_G.sum()/1000,'Transporte':norte.COMP_H.sum()/1000,'Hospedagem e alimentação':norte.COMP_I.sum()/1000,'Informação e comunicação':norte.COMP_J.sum()/1000,'Atividades financeiras':norte.COMP_K.sum()/1000,'Atividades imobiliárias':norte.COMP_L.sum()/1000,'Científicas e Técnicas':norte.COMP_M.sum()/1000,'atividades administrativas':norte.COMP_N.sum()/1000,'Administração e Segurança':norte.COMP_O.sum()/1000,'Educação':norte.COMP_P.sum()/1000,'Saúde':norte.COMP_Q.sum()/1000,'Cultura':norte.COMP_R.sum()/1000,'Outras':norte.COMP_S.sum()/1000,'Serviços domésticos':norte.COMP_T.sum()/1000,'Internacional':norte.COMP_U.sum()/1000}\n",
        "Industria = list(dados.keys())\n",
        "qtd = list(dados.values())\n",
        "fig = plt.figure(figsize = (20, 10))\n",
        "\n",
        "# criando Gráfico\n",
        "plt.bar(Industria, qtd, color ='#00BFFF',width = 0.9)\n",
        "plt.xticks(rotation = 90)\n",
        "plt.xlabel(\"Áreas\")\n",
        "plt.ylabel(\"Quantidades(Mil)\")\n",
        "plt.title(\"Indústrias\")\n",
        "plt.show()"
      ]
    },
    {
      "cell_type": "markdown",
      "metadata": {},
      "source": [
        "## **Nordeste**"
      ]
    },
    {
      "cell_type": "code",
      "execution_count": null,
      "metadata": {},
      "outputs": [],
      "source": [
        "DadosNordeste = [{'Capitais':nordeste.loc[(nordeste['CAPITAL'] == 1)]['CITY'].count(),'Cidades': nordeste['CITY'].count(),'Habitantes': nordeste['IBGE_RES_POP'].sum(), 'Empresas': nordeste['COMP_TOT'].sum()}]\n",
        "df_DadosNordeste = pd.DataFrame(DadosNordeste)\n",
        "df_DadosNordeste"
      ]
    },
    {
      "cell_type": "code",
      "execution_count": null,
      "metadata": {},
      "outputs": [],
      "source": [
        "# Mapa do Nordeste\n",
        "\n",
        "long= df_brazil[\"LONG\"] !=0\n",
        "lat = df_brazil[\"LAT\"] !=0 \n",
        "capNordestete = nordeste['CAPITAL'] == 1\n",
        "\n",
        "## use the scatter function\n",
        "plt.figure(figsize=(10,10))\n",
        "plt.title(\" Cidades do Norte\")\n",
        "plt.xlabel(\"Longitude\")\n",
        "plt.ylabel(\"Latitude\")\n",
        "plt.scatter(df_brazil[long&lat&cidadesNordeste][\"LONG\"], df_brazil[long&lat&cidadesNordeste][\"LAT\"], s=5, alpha=1, label='Cidades', c ='#00BFFF')\n",
        "plt.scatter(df_brazil[long&lat&capNordestete][\"LONG\"], df_brazil[long&lat&capNordestete][\"LAT\"], s=50, alpha=1, label='Capital city', c ='#ff4500')\n",
        "plt.legend()\n",
        "plt.show()"
      ]
    },
    {
      "cell_type": "code",
      "execution_count": null,
      "metadata": {},
      "outputs": [],
      "source": [
        "nordeste.boxplot(column=['IDHM'])"
      ]
    },
    {
      "cell_type": "code",
      "execution_count": null,
      "metadata": {},
      "outputs": [],
      "source": [
        "# Criando lista\n",
        "dados1 =  {'PE':nordeste[nordeste['STATE'] == 'PE'].IDHM_Educacao.mean() ,'BA':nordeste[nordeste['STATE'] == 'BA'].IDHM_Educacao.mean(), 'MA':nordeste[nordeste['STATE'] == 'MA'].IDHM_Educacao.mean(),'PI':nordeste[nordeste['STATE'] == 'PI'].IDHM_Educacao.mean(),'CE':nordeste[nordeste['STATE'] == 'CE'].IDHM_Educacao.mean(),'RN':nordeste[nordeste['STATE'] == 'RN'].IDHM_Educacao.mean(),'PB':nordeste[nordeste['STATE'] == 'PB'].IDHM_Educacao.mean(),'AL':nordeste[nordeste['STATE'] == 'AL'].IDHM_Educacao.mean(),'SE':nordeste[nordeste['STATE'] == 'SE'].IDHM_Educacao.mean()}\n",
        "dados2 =  {'PE':nordeste[nordeste['STATE'] == 'PE'].IDHM.mean() ,'BA':nordeste[nordeste['STATE'] == 'BA'].IDHM.mean(), 'MA':nordeste[nordeste['STATE'] == 'MA'].IDHM.mean(),'PI':nordeste[nordeste['STATE'] == 'PI'].IDHM.mean(),'CE':nordeste[nordeste['STATE'] == 'CE'].IDHM.mean(),'RN':nordeste[nordeste['STATE'] == 'RN'].IDHM.mean(),'PB':nordeste[nordeste['STATE'] == 'PB'].IDHM.mean(),'AL':nordeste[nordeste['STATE'] == 'AL'].IDHM.mean(),'SE':nordeste[nordeste['STATE'] == 'SE'].IDHM.mean()}\n",
        "dados3 =  {'PE':nordeste[nordeste['STATE'] == 'PE'].IDHM_Renda.mean() ,'BA':nordeste[nordeste['STATE'] == 'BA'].IDHM_Renda.mean(), 'MA':nordeste[nordeste['STATE'] == 'MA'].IDHM_Renda.mean(),'PI':nordeste[nordeste['STATE'] == 'PI'].IDHM_Renda.mean(),'CE':nordeste[nordeste['STATE'] == 'CE'].IDHM_Renda.mean(),'RN':nordeste[nordeste['STATE'] == 'RN'].IDHM_Renda.mean(),'PB':nordeste[nordeste['STATE'] == 'PB'].IDHM_Renda.mean(),'AL':nordeste[nordeste['STATE'] == 'AL'].IDHM_Renda.mean(),'SE':nordeste[nordeste['STATE'] == 'SE'].IDHM_Renda.mean()}\n",
        "dados4 =  {'PE':nordeste[nordeste['STATE'] == 'PE'].IDHM_Longevidade.mean() ,'BA':nordeste[nordeste['STATE'] == 'BA'].IDHM_Longevidade.mean(), 'MA':nordeste[nordeste['STATE'] == 'MA'].IDHM_Longevidade.mean(),'PI':nordeste[nordeste['STATE'] == 'PI'].IDHM_Longevidade.mean(),'CE':nordeste[nordeste['STATE'] == 'CE'].IDHM_Longevidade.mean(),'RN':nordeste[nordeste['STATE'] == 'RN'].IDHM_Longevidade.mean(),'PB':nordeste[nordeste['STATE'] == 'PB'].IDHM_Longevidade.mean(),'AL':nordeste[nordeste['STATE'] == 'AL'].IDHM_Longevidade.mean(),'SE':nordeste[nordeste['STATE'] == 'SE'].IDHM_Longevidade.mean()}\n",
        "Estados = list(dados1.keys())\n",
        "\n",
        "MediaIDHM = list(dados2.values())\n",
        "MediaIDHM_Educacao = list(dados1.values())\n",
        "MediaIDHM_renda = list(dados3.values())\n",
        "MediaIDHM_longevidade = list(dados4.values())\n",
        "\n",
        "barWidth = 0.2\n",
        "\n",
        "r1 = np.arange(len(MediaIDHM))\n",
        "r2 = [x + barWidth for x in r1]\n",
        "r3 = [x + barWidth for x in r2]\n",
        "r4 = [x + barWidth for x in r3]\n",
        "\n",
        "fig = plt.figure(figsize = (10, 5))\n",
        "\n",
        "#Criando as barras\n",
        "plt.bar(r1,MediaIDHM, color = '#00BFFF', width = barWidth, label = 'IDHM')\n",
        "plt.bar(r2,MediaIDHM_Educacao, color = '#1049F0', width = barWidth, label = 'IDHM_Educacao')\n",
        "plt.bar(r3,MediaIDHM_renda, color = '#D73E0D', width = barWidth, label = 'IDHM_renda')\n",
        "plt.bar(r4,MediaIDHM_longevidade, color = '#0DD7A3', width = barWidth, label = 'IDHM_longevidade')\n",
        "\n",
        "\n",
        "# criando Gráfico\n",
        "plt.xlabel(\"Estados\")\n",
        "plt.xticks([r + barWidth for r in range(len(MediaIDHM))], Estados)\n",
        "plt.ylabel(\"IDHM\")\n",
        "plt.title(\"Gráfico IDHM Médio norte\")\n",
        "plt.legend()\n",
        "plt.show()\n",
        "plt.show()\n"
      ]
    },
    {
      "cell_type": "code",
      "execution_count": null,
      "metadata": {},
      "outputs": [],
      "source": [
        "# Criando Principais tipos de Industria no nordeste\n",
        "dados =  {'Agriculture':nordeste.COMP_A.sum()/1000,'Indústrias extrativas':nordeste.COMP_B.sum()/1000,'Indústrias de transformação':nordeste.COMP_C.sum()/1000,'Eletricidade e gás':nordeste.COMP_D.sum()/1000,'Saneamento':nordeste.COMP_E.sum()/1000,'Construção':nordeste.COMP_F.sum()/1000,'Automobilística':nordeste.COMP_G.sum()/1000,'Transporte':nordeste.COMP_H.sum()/1000,'Hospedagem e alimentação':nordeste.COMP_I.sum()/1000,'Informação e comunicação':nordeste.COMP_J.sum()/1000,'Atividades financeiras':nordeste.COMP_K.sum()/1000,'Atividades imobiliárias':nordeste.COMP_L.sum()/1000,'Científicas e Técnicas':nordeste.COMP_M.sum()/1000,'atividades administrativas':nordeste.COMP_N.sum()/1000,'Administração e Segurança':nordeste.COMP_O.sum()/1000,'Educação':nordeste.COMP_P.sum()/1000,'Saúde':nordeste.COMP_Q.sum()/1000,'Cultura':nordeste.COMP_R.sum()/1000,'Outras':nordeste.COMP_S.sum()/1000,'Serviços domésticos':nordeste.COMP_T.sum()/1000,'Internacional':nordeste.COMP_U.sum()/1000}\n",
        "Industria = list(dados.keys())\n",
        "qtd = list(dados.values())\n",
        "fig = plt.figure(figsize = (20, 10))\n",
        "\n",
        "# criando Gráfico\n",
        "plt.bar(Industria, qtd, color ='#00BFFF',width = 0.9)\n",
        "plt.xticks(rotation = 90)\n",
        "plt.xlabel(\"Áreas\")\n",
        "plt.ylabel(\"Quantidades(Mil)\")\n",
        "plt.title(\"Indústrias\")\n",
        "plt.show()"
      ]
    },
    {
      "cell_type": "markdown",
      "metadata": {},
      "source": [
        "# **Sul**"
      ]
    },
    {
      "cell_type": "code",
      "execution_count": null,
      "metadata": {},
      "outputs": [],
      "source": [
        "DadosSul = [{'Capitais':sul.loc[(sul['CAPITAL'] == 1)]['CITY'].count(),'Cidades': sul['CITY'].count(),'Habitantes': sul['IBGE_RES_POP'].sum(), 'Empresas': sul['COMP_TOT'].sum()}]\n",
        "df_DadosSul = pd.DataFrame(DadosSul)\n",
        "df_DadosSul"
      ]
    },
    {
      "cell_type": "code",
      "execution_count": null,
      "metadata": {},
      "outputs": [],
      "source": [
        "# Mapa do Sul\n",
        "\n",
        "long= df_brazil[\"LONG\"] !=0\n",
        "lat = df_brazil[\"LAT\"] !=0 \n",
        "capSul = sul['CAPITAL'] == 1\n",
        "\n",
        "## use the scatter function\n",
        "plt.figure(figsize=(10,10))\n",
        "plt.title(\" Cidades do Norte\")\n",
        "plt.xlabel(\"Longitude\")\n",
        "plt.ylabel(\"Latitude\")\n",
        "plt.scatter(df_brazil[long&lat&cidadesSul][\"LONG\"], df_brazil[long&lat&cidadesSul][\"LAT\"], s=5, alpha=1, label='Cidades', c ='#00BFFF')\n",
        "plt.scatter(df_brazil[long&lat&capSul][\"LONG\"], df_brazil[long&lat&capSul][\"LAT\"], s=50, alpha=1, label='Capital city', c ='#ff4500')\n",
        "plt.legend()\n",
        "plt.show()"
      ]
    },
    {
      "cell_type": "code",
      "execution_count": null,
      "metadata": {},
      "outputs": [],
      "source": [
        "sul.boxplot(column=['IDHM'])"
      ]
    },
    {
      "cell_type": "code",
      "execution_count": null,
      "metadata": {},
      "outputs": [],
      "source": [
        "#Histograma do IDHM\n",
        "histSUL=sul['IDHM'].hist()"
      ]
    },
    {
      "cell_type": "code",
      "execution_count": null,
      "metadata": {},
      "outputs": [],
      "source": [
        "# Criando lista\n",
        "dados1 =  {'PR':sul[sul['STATE'] == 'PR'].IDHM_Educacao.mean() ,'RS':sul[sul['STATE'] == 'RS'].IDHM_Educacao.mean(), 'SC':sul[sul['STATE'] == 'SC'].IDHM_Educacao.mean()}\n",
        "dados2 =  {'PR':sul[sul['STATE'] == 'PR'].IDHM.mean() ,'RS':sul[sul['STATE'] == 'RS'].IDHM.mean(), 'SC':sul[sul['STATE'] == 'SC'].IDHM.mean()}\n",
        "dados3 =  {'PR':sul[sul['STATE'] == 'PR'].IDHM_Renda.mean() ,'RS':sul[sul['STATE'] == 'RS'].IDHM_Renda.mean(), 'SC':sul[sul['STATE'] == 'SC'].IDHM_Renda.mean()}\n",
        "dados4 =  {'PR':sul[sul['STATE'] == 'PR'].IDHM_Longevidade.mean() ,'RS':sul[sul['STATE'] == 'RS'].IDHM_Longevidade.mean(), 'SC':sul[sul['STATE'] == 'SC'].IDHM_Longevidade.mean()}\n",
        "Estados = list(dados1.keys())\n",
        "\n",
        "MediaIDHM = list(dados2.values())\n",
        "MediaIDHM_Educacao = list(dados1.values())\n",
        "MediaIDHM_renda = list(dados3.values())\n",
        "MediaIDHM_longevidade = list(dados4.values())\n",
        "\n",
        "barWidth = 0.2\n",
        "\n",
        "r1 = np.arange(len(MediaIDHM))\n",
        "r2 = [x + barWidth for x in r1]\n",
        "r3 = [x + barWidth for x in r2]\n",
        "r4 = [x + barWidth for x in r3]\n",
        "\n",
        "fig = plt.figure(figsize = (10, 5))\n",
        "\n",
        "#Criando as barras\n",
        "plt.bar(r1,MediaIDHM, color = '#00BFFF', width = barWidth, label = 'IDHM')\n",
        "plt.bar(r2,MediaIDHM_Educacao, color = '#1049F0', width = barWidth, label = 'IDHM_Educacao')\n",
        "plt.bar(r3,MediaIDHM_renda, color = '#D73E0D', width = barWidth, label = 'IDHM_renda')\n",
        "plt.bar(r4,MediaIDHM_longevidade, color = '#0DD7A3', width = barWidth, label = 'IDHM_longevidade')\n",
        "\n",
        "\n",
        "# criando Gráfico\n",
        "plt.xlabel(\"Estados\")\n",
        "plt.xticks([r + barWidth for r in range(len(MediaIDHM))], Estados)\n",
        "plt.ylabel(\"IDHM\")\n",
        "plt.title(\"Gráfico IDHM Médio norte\")\n",
        "plt.legend()\n",
        "plt.show()\n"
      ]
    },
    {
      "cell_type": "code",
      "execution_count": null,
      "metadata": {},
      "outputs": [],
      "source": [
        "# Criando Principais tipos de Industria no sul\n",
        "dados =  {'Agriculture':sul.COMP_A.sum()/1000,'Indústrias extrativas':sul.COMP_B.sum()/1000,'Indústrias de transformação':sul.COMP_C.sum()/1000,'Eletricidade e gás':sul.COMP_D.sum()/1000,'Saneamento':sul.COMP_E.sum()/1000,'Construção':sul.COMP_F.sum()/1000,'Automobilística':sul.COMP_G.sum()/1000,'Transporte':sul.COMP_H.sum()/1000,'Hospedagem e alimentação':sul.COMP_I.sum()/1000,'Informação e comunicação':sul.COMP_J.sum()/1000,'Atividades financeiras':sul.COMP_K.sum()/1000,'Atividades imobiliárias':sul.COMP_L.sum()/1000,'Científicas e Técnicas':sul.COMP_M.sum()/1000,'atividades administrativas':sul.COMP_N.sum()/1000,'Administração e Segurança':sul.COMP_O.sum()/1000,'Educação':sul.COMP_P.sum()/1000,'Saúde':sul.COMP_Q.sum()/1000,'Cultura':sul.COMP_R.sum()/1000,'Outras':sul.COMP_S.sum()/1000,'Serviços domésticos':sul.COMP_T.sum()/1000,'Internacional':sul.COMP_U.sum()/1000}\n",
        "Industria = list(dados.keys())\n",
        "qtd = list(dados.values())\n",
        "fig = plt.figure(figsize = (20, 10))\n",
        "\n",
        "# criando Gráfico\n",
        "plt.bar(Industria, qtd, color ='#00BFFF',width = 0.9)\n",
        "plt.xticks(rotation = 90)\n",
        "plt.xlabel(\"Áreas\")\n",
        "plt.ylabel(\"Quantidades(Mil)\")\n",
        "plt.title(\"Indústrias\")\n",
        "plt.show()"
      ]
    },
    {
      "cell_type": "code",
      "execution_count": null,
      "metadata": {},
      "outputs": [],
      "source": [
        "nordeste.loc[(nordeste['IDHM'] <= 0.5) & (nordeste['STATE'] == \"PE\")][['CITY','STATE','IDHM']]"
      ]
    },
    {
      "cell_type": "code",
      "execution_count": null,
      "metadata": {},
      "outputs": [],
      "source": [
        "#As 10 cidades com IDHM maior \n",
        "nordeste.loc[(nordeste['IDHM'] >= 0.650) & (nordeste['STATE'] == \"PE\")][['CITY','STATE','IDHM','IBGE_RES_POP','GDP','COMP_TOT']].sort_values('IDHM', ascending=False).head(10)"
      ]
    },
    {
      "cell_type": "code",
      "execution_count": null,
      "metadata": {},
      "outputs": [],
      "source": [
        "# Criando lista\n",
        "dados =  {'Agriculture':nordeste[nordeste['STATE'] == 'PE'].COMP_A.sum()/1000,'Indústrias extrativas':nordeste[nordeste['STATE'] == 'PE'].COMP_B.sum()/1000,'Indústrias de transformação':nordeste[nordeste['STATE'] == 'PE'].COMP_C.sum()/1000,'Eletricidade e gás':nordeste[nordeste['STATE'] == 'PE'].COMP_D.sum()/1000,'Saneamento':nordeste[nordeste['STATE'] == 'PE'].COMP_E.sum()/1000,'Construção':nordeste[nordeste['STATE'] == 'PE'].COMP_F.sum()/1000,'Automobilística':nordeste[nordeste['STATE'] == 'PE'].COMP_G.sum()/1000,'Transporte':nordeste[nordeste['STATE'] == 'PE'].COMP_H.sum()/1000,'Hospedagem e alimentação':nordeste[nordeste['STATE'] == 'PE'].COMP_I.sum()/1000,'Informação e comunicação':nordeste[nordeste['STATE'] == 'PE'].COMP_J.sum()/1000,'Atividades financeiras':nordeste[nordeste['STATE'] == 'PE'].COMP_K.sum()/1000,'Atividades imobiliárias':nordeste[nordeste['STATE'] == 'PE'].COMP_L.sum()/1000,'Científicas e Técnicas':nordeste[nordeste['STATE'] == 'PE'].COMP_M.sum()/1000,'atividades administrativas':nordeste[nordeste['STATE'] == 'PE'].COMP_N.sum()/1000,'Administração e Segurança':nordeste[nordeste['STATE'] == 'PE'].COMP_O.sum()/1000,'Educação':nordeste[nordeste['STATE'] == 'PE'].COMP_P.sum()/1000,'Saúde':nordeste[nordeste['STATE'] == 'PE'].COMP_Q.sum()/1000,'Cultura':nordeste[nordeste['STATE'] == 'PE'].COMP_R.sum()/1000,'Outras':nordeste[nordeste['STATE'] == 'PE'].COMP_S.sum()/1000,'Serviços domésticos':nordeste[nordeste['STATE'] == 'PE'].COMP_T.sum()/1000,'Internacional':nordeste[nordeste['STATE'] == 'PE'].COMP_U.sum()/1000}\n",
        "Industria = list(dados.keys())\n",
        "qtd = list(dados.values())\n",
        "fig = plt.figure(figsize = (20, 10))\n",
        "\n",
        "# criando Gráfico\n",
        "plt.bar(Industria, qtd, color ='#00BFFF',width = 0.9)\n",
        "plt.xticks(rotation = 50)\n",
        "plt.xlabel(\"Áreas\")\n",
        "plt.ylabel(\"Quantidades\")\n",
        "plt.title(\"Indústrias\")\n",
        "plt.show()"
      ]
    },
    {
      "cell_type": "markdown",
      "metadata": {},
      "source": [
        "# **----------------------------------------------------------------------------** "
      ]
    },
    {
      "cell_type": "markdown",
      "metadata": {},
      "source": [
        "# **Leandro aqui**"
      ]
    },
    {
      "cell_type": "code",
      "execution_count": null,
      "metadata": {},
      "outputs": [],
      "source": [
        "df_brazil.describe()"
      ]
    },
    {
      "cell_type": "code",
      "execution_count": null,
      "metadata": {},
      "outputs": [],
      "source": [
        "#  Eliminando linhas duplicadas, Cidades: Assis, Paraty e Nova Fátima\n",
        "df_brazil = df_brazil.drop_duplicates()"
      ]
    },
    {
      "cell_type": "code",
      "execution_count": null,
      "metadata": {},
      "outputs": [],
      "source": [
        "# Cidade de Paraty possui dois dados sobre a agência de correios, eliminei o diferente de 1 (pesquisado no google que só existe uma agência)\n",
        "df_brazil.drop(df_brazil.loc[(df_brazil['CITY']=='Paraty') & (df_brazil['POST_OFFICES'] != 1)].index, inplace=True)"
      ]
    },
    {
      "cell_type": "code",
      "execution_count": null,
      "metadata": {},
      "outputs": [],
      "source": [
        "# gráfico mostrando que só há uber na área urbana\n",
        "df_brazil.groupby('RURAL_URBAN')['UBER'].sum().plot(kind='bar',figsize=(5,5))"
      ]
    },
    {
      "cell_type": "code",
      "execution_count": null,
      "metadata": {},
      "outputs": [],
      "source": [
        "#Porcentagem correpondente de cada tipologia\n",
        "\n",
        "df_brazil.groupby(['RURAL_URBAN']).size().plot(kind='pie', autopct='%0.2f%%', figsize=(10,10))"
      ]
    },
    {
      "cell_type": "code",
      "execution_count": null,
      "metadata": {},
      "outputs": [],
      "source": [
        "# De acordo com o IBGE a menor cidade do Brasil tem 3565 km², dando o código abaixo , retona 3 cidades com área 0\n",
        "df_brazil[(df_brazil['AREA'] < 3.565)]\n",
        "df_brazil.drop(df_brazil.loc[(df_brazil['AREA'] <  3565)].index, inplace=True)"
      ]
    },
    {
      "cell_type": "code",
      "execution_count": null,
      "metadata": {},
      "outputs": [],
      "source": [
        "# De acordo com o IBGE a  cidade do Brasil menos povoada tem 776 pessoas\n",
        "df_brazil[(df_brazil['IBGE_RES_POP'] < 776)]\n",
        "df_brazil.drop(df_brazil.loc[(df_brazil['IBGE_RES_POP']< 3.565)].index, inplace=True)"
      ]
    },
    {
      "cell_type": "markdown",
      "metadata": {},
      "source": [
        "<h1> <font color =\"yellow\">Limpeza</font> <font color=\"green\">dos dados</font><h1>"
      ]
    },
    {
      "cell_type": "markdown",
      "metadata": {},
      "source": [
        "<h3>Univariado usando Z-Score robusto<h3>"
      ]
    },
    {
      "cell_type": "code",
      "execution_count": null,
      "metadata": {},
      "outputs": [],
      "source": [
        "df_brazil['TAXES'].value_counts()"
      ]
    },
    {
      "cell_type": "code",
      "execution_count": null,
      "metadata": {},
      "outputs": [],
      "source": [
        "df_brazil['TAXES'].describe()"
      ]
    },
    {
      "cell_type": "code",
      "execution_count": null,
      "metadata": {},
      "outputs": [],
      "source": [
        "# Plotando o gráfico para ver as outliers\n",
        "df_brazil['TAXES'].plot.box()"
      ]
    },
    {
      "cell_type": "code",
      "execution_count": null,
      "metadata": {},
      "outputs": [],
      "source": [
        "df_brazil['TAXES'].hist()"
      ]
    },
    {
      "cell_type": "code",
      "execution_count": null,
      "metadata": {},
      "outputs": [],
      "source": [
        " # Como visto em cima , os dados não estão simétricos , então aplicamos log10\n",
        " df_brazil['TAXES_Log'] = log10(df_brazil['TAXES'])\n",
        " df_brazil['TAXES_Log'].hist()"
      ]
    },
    {
      "cell_type": "code",
      "execution_count": null,
      "metadata": {},
      "outputs": [],
      "source": [
        "# Usando z-core robusto\n",
        "from numpy import abs\n",
        "mad = abs(df_brazil['TAXES_Log'] - df_brazil['TAXES_Log'].median()).median()*(1/0.6745)\n",
        "print(mad)"
      ]
    },
    {
      "cell_type": "code",
      "execution_count": null,
      "metadata": {},
      "outputs": [],
      "source": [
        "# Agora vamos plotar o z-score robusto\n",
        "(abs(df_brazil['TAXES_Log']-df_brazil['TAXES_Log'].median())/mad).hist()"
      ]
    },
    {
      "cell_type": "code",
      "execution_count": null,
      "metadata": {},
      "outputs": [],
      "source": [
        "# Usando a limiar > 2.5, encontro os outliers\n",
        "df_brazil[abs(df_brazil['TAXES_Log']-df_brazil['TAXES_Log'].median())/mad > 2.5]"
      ]
    },
    {
      "cell_type": "code",
      "execution_count": null,
      "metadata": {},
      "outputs": [],
      "source": [
        "# Gerando novo dataframe, eliminando os outros\n",
        "df_brazil = df_brazil[abs(df_brazil['TAXES_Log']-df_brazil['TAXES_Log'].median())/mad < 2.5]"
      ]
    },
    {
      "cell_type": "code",
      "execution_count": null,
      "metadata": {},
      "outputs": [],
      "source": [
        "df_brazil['TAXES'].plot.box()"
      ]
    }
  ],
  "metadata": {
    "colab": {
      "name": "Brazilian Cities.ipynb",
      "provenance": []
    },
    "kernelspec": {
      "display_name": "Python 3.10.6 64-bit (windows store)",
      "language": "python",
      "name": "python3"
    },
    "language_info": {
      "codemirror_mode": {
        "name": "ipython",
        "version": 3
      },
      "file_extension": ".py",
      "mimetype": "text/x-python",
      "name": "python",
      "nbconvert_exporter": "python",
      "pygments_lexer": "ipython3",
      "version": "3.10.6"
    },
    "vscode": {
      "interpreter": {
        "hash": "7b1f2b33e866b0bf2409397e5f58ba9cdf170d3b7f64c8f359c79998e2f88ad4"
      }
    }
  },
  "nbformat": 4,
  "nbformat_minor": 0
}
