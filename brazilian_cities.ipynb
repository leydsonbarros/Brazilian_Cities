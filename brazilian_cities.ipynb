{
  "cells": [
    {
      "cell_type": "markdown",
      "metadata": {
        "id": "6d6lW9Mm3LOs"
      },
      "source": [
        "# **Notas**\n",
        "## **Alunos:**\n",
        "    **Leydson Barros**    \n",
        "    **Leandro Damaceno**\n",
        "\n",
        "\n",
        "---\n",
        "\n",
        "\n",
        "\n",
        "> https://medium.com/data-hackers/uma-introdu%C3%A7%C3%A3o-simples-ao-pandas-1e15eea37fa1\n",
        "\n"
      ]
    },
    {
      "cell_type": "markdown",
      "metadata": {
        "id": "9Z9rdt3ivJv7"
      },
      "source": [
        "# --**Brazilian Cities**--\n",
        "\n",
        "\n",
        "1.   Classificação: Ouro\n",
        "2.   Usabilidade: 10\n",
        "\n",
        "\n",
        "\n",
        "\n",
        "\n",
        "> https://www.kaggle.com/datasets/crisparada/brazilian-cities\n"
      ]
    },
    {
      "cell_type": "markdown",
      "metadata": {},
      "source": [
        "# --**Importações bibliotecas**-- "
      ]
    },
    {
      "cell_type": "code",
      "execution_count": 34,
      "metadata": {
        "id": "L02HLXLhwnTM"
      },
      "outputs": [],
      "source": [
        "import numpy as np\n",
        "import pandas as pd\n",
        "from numpy import log10\n",
        "import matplotlib.pyplot as plt\n",
        "%matplotlib inline"
      ]
    },
    {
      "cell_type": "markdown",
      "metadata": {},
      "source": [
        "# **Base de dados** "
      ]
    },
    {
      "cell_type": "code",
      "execution_count": null,
      "metadata": {},
      "outputs": [],
      "source": [
        "\n",
        "df_brazil=pd.read_csv(\"datas\\BRAZIL_CITIES_REV2022.CSV\",sep=\",\")\n",
        "df_dictionary=pd.read_csv(\"datas\\Data_Dictionary.csv\",sep=\";\")"
      ]
    },
    {
      "cell_type": "markdown",
      "metadata": {},
      "source": [
        "# ***Especificação***\n",
        "## 1. **Coletar\tdados ok**\n",
        "## 2.\t**Realizar pré-processamento\tdos\tdados**\t\n",
        "\n",
        "\n",
        "*   Definição\tde\ttipos\n",
        "*   Tratamento\tde\tdados\tausentes\n",
        "*   Normalização\te\tdiscretização\n",
        "*   Limpeza\tde\tdados\t(univariado,\tbivariado\te\t\n",
        "multivariado)\n",
        "## 3.\t**Apresentar estatísticas descritivas\tdos\tdados com\tvisualizações** \n",
        "## 4.\t**Realizar teste\tde\thipóteses para comparação de\tvalores\tde\tcategorias\t(ex.\tpreço\tm2 em diferentes bairros)\te\tvisualizar diferenças**\n",
        "\n",
        "\n",
        "# **Bônus:**\n",
        "\n",
        "\n",
        "*   Integrar\tdados\tou extrair\tdados\tda\tWeb\n",
        "*   Utilizar técnicas não cobertas nas aula\n"
      ]
    },
    {
      "cell_type": "markdown",
      "metadata": {},
      "source": [
        "# **Regiões do Brasil** "
      ]
    },
    {
      "cell_type": "code",
      "execution_count": null,
      "metadata": {},
      "outputs": [],
      "source": [
        "df_brazil.info()"
      ]
    },
    {
      "cell_type": "code",
      "execution_count": null,
      "metadata": {},
      "outputs": [],
      "source": [
        "df_brazil.boxplot(column=['IDHM'])"
      ]
    },
    {
      "cell_type": "code",
      "execution_count": null,
      "metadata": {},
      "outputs": [],
      "source": [
        "df_brazil.loc[(df_brazil['IDHM'] < 0.5)][['CITY','STATE','IDHM']]"
      ]
    },
    {
      "cell_type": "code",
      "execution_count": null,
      "metadata": {},
      "outputs": [],
      "source": [
        "df_brazil.loc[(df_brazil['IDHM'] ==  1) | (df_brazil['IDHM'] > 0.6)][['CITY','STATE','IDHM']]"
      ]
    },
    {
      "cell_type": "code",
      "execution_count": null,
      "metadata": {},
      "outputs": [],
      "source": [
        "# Criando os dataframes por região\n",
        "\n",
        "nordeste = df_brazil.loc[(df_brazil['STATE'] == 'PE') | (df_brazil['STATE'] == 'MA') | (df_brazil['STATE'] == 'RN') | (df_brazil['STATE'] == 'BA') | (df_brazil['STATE'] == 'CE') | (df_brazil['STATE'] == 'AL') | (df_brazil['STATE'] == 'PI') | (df_brazil['STATE'] == 'PB') | (df_brazil['STATE'] == 'SE')]\n",
        "norte =  df_brazil.loc[(df_brazil['STATE'] == 'AC') | (df_brazil['STATE'] == 'AP') | (df_brazil['STATE'] == 'AM') | (df_brazil['STATE'] == 'PA') | (df_brazil['STATE'] == 'RO') | (df_brazil['STATE'] == 'RR') | (df_brazil['STATE'] == 'TO')]\n",
        "sul = df_brazil.loc[(df_brazil['STATE'] == 'PR') | (df_brazil['STATE'] == 'RS') | (df_brazil['STATE'] == 'SC')]\n",
        "centroOeste =  df_brazil.loc[(df_brazil['STATE'] == 'DF') | (df_brazil['STATE'] == 'GO') | (df_brazil['STATE'] == 'MT') | (df_brazil['STATE'] == 'MS')]\n",
        "sudeste = df_brazil.loc[(df_brazil['STATE'] == 'ES') | (df_brazil['STATE'] == 'MG') | (df_brazil['STATE'] == 'SP') | (df_brazil['STATE'] == 'RJ')]\n",
        "# Verificação dos estados \n",
        "checknordeste = ['PE','BA', 'MA','PI','CE','RN','PB','AL','SE']\n",
        "checknorte = ['AC','AP', 'AM','PA','RO','RR','TO']\n",
        "checksul = ['PR','RS', 'SC']\n",
        "checkcentroOeste = ['DF','GO', 'MT','MS']\n",
        "checksudeste = ['ES','MG', 'SP','RJ']\n",
        "# Verificação das cidades por estado\n",
        "cidadesNordeste = df_brazil[\"STATE\"].isin(checknordeste)\n",
        "cidadesNorte = df_brazil[\"STATE\"].isin(checknorte)\n",
        "cidadesSul = df_brazil[\"STATE\"].isin(checksul)\n",
        "cidadesCentroOeste = df_brazil[\"STATE\"].isin(checkcentroOeste)\n",
        "cidadesSudeste = df_brazil[\"STATE\"].isin(checksudeste)"
      ]
    },
    {
      "cell_type": "code",
      "execution_count": null,
      "metadata": {},
      "outputs": [],
      "source": [
        "# Mapa do Brasil \n",
        "\n",
        "long= df_brazil[\"LONG\"] !=0\n",
        "lat = df_brazil[\"LAT\"] !=0 \n",
        "#cap = df_brazil.loc[df_brazil['CAPITAL'] == 1 & df_brazil[\"STATE\"].isin(nordeste) ]\n",
        "\n",
        "#cidadesNordeste = nordeste[\"STATE\"].isin(checknordeste)\n",
        "## use the scatter function\n",
        "plt.figure(figsize=(10,10))\n",
        "plt.title(\" Cidades (Latitude e Longitude)\")\n",
        "plt.xlabel(\"Longitude\")\n",
        "plt.ylabel(\"Latitude\")\n",
        "#plt.scatter(df_brazil[long&lat&cap][\"LONG\"], df_brazil[long&lat&cap][\"LAT\"], s=50, alpha=1, label='Capital city', c ='#000000')\n",
        "plt.scatter(df_brazil[long&lat&cidadesNorte][\"LONG\"], df_brazil[long&lat&cidadesNorte][\"LAT\"], s=5, alpha=1, label='NORTE', c ='#006400')\n",
        "plt.scatter(df_brazil[long&lat&cidadesNordeste][\"LONG\"], df_brazil[long&lat&cidadesNordeste][\"LAT\"], s=5, alpha=1, label='Nordeste', c ='#00BFFF')\n",
        "plt.scatter(df_brazil[long&lat&cidadesCentroOeste][\"LONG\"], df_brazil[long&lat&cidadesCentroOeste][\"LAT\"], s=5, alpha=1, label='Centro Oeste', c ='#DB7093')\n",
        "plt.scatter(df_brazil[long&lat&cidadesSul][\"LONG\"], df_brazil[long&lat&cidadesSul][\"LAT\"], s=5, alpha=1, label='SUL', c ='#9932CC')\n",
        "plt.scatter(df_brazil[long&lat&cidadesSudeste][\"LONG\"], df_brazil[long&lat&cidadesSudeste][\"LAT\"], s=5, alpha=1, label='Sudeste', c ='#FF4500')\n",
        "#plt.scatter(df_brazil[long&lat&~cidadesNordeste][\"LONG\"], df_brazil[long&lat&~cidadesNordeste][\"LAT\"], s=1, alpha=1, c = '#4b0082')\n",
        "plt.legend()\n",
        "plt.show()"
      ]
    },
    {
      "cell_type": "code",
      "execution_count": null,
      "metadata": {},
      "outputs": [],
      "source": [
        "# Mapa do Brasil Capitais\n",
        "\n",
        "long= df_brazil[\"LONG\"] != 0\n",
        "lat = df_brazil[\"LAT\"] !=0 \n",
        "cap = df_brazil['CAPITAL'] ==1\n",
        " \n",
        "## use the scatter function\n",
        "plt.figure(figsize=(10,10))\n",
        "plt.title(\" Cidades (Latitude e Longitude)\")\n",
        "plt.xlabel(\"Longitude\")\n",
        "plt.ylabel(\"Latitude\")\n",
        "plt.scatter(df_brazil[long&lat&cap][\"LONG\"], df_brazil[long&lat&cap][\"LAT\"], s=50, alpha=1, label='Capital city', c ='#ff4500')\n",
        "plt.scatter(df_brazil[long&lat&~cap][\"LONG\"], df_brazil[long&lat&~cap][\"LAT\"], s=1, alpha=1, label='cidades', c = '#32cd32')\n",
        "plt.legend()\n",
        "plt.show()"
      ]
    },
    {
      "cell_type": "markdown",
      "metadata": {},
      "source": [
        "# **Índice de Desenvolvimento Humano** "
      ]
    },
    {
      "cell_type": "code",
      "execution_count": null,
      "metadata": {},
      "outputs": [],
      "source": [
        "# Mapa do Nordeste\n",
        "\n",
        "long= df_brazil[\"LONG\"] !=0\n",
        "lat = df_brazil[\"LAT\"] !=0 \n",
        "## use the scatter function\n",
        "plt.figure(figsize=(10,10))\n",
        "plt.title(\" Cidades (Latitude e Longitude)\")\n",
        "plt.xlabel(\"Longitude\")\n",
        "plt.ylabel(\"Latitude\")\n",
        "plt.scatter(df_brazil[long&lat&cidadesNordeste][\"LONG\"], df_brazil[long&lat&cidadesNordeste][\"LAT\"], s=5, alpha=1, label='Nordeste', c ='#00BFFF')\n",
        "plt.legend()\n",
        "plt.show()"
      ]
    },
    {
      "cell_type": "code",
      "execution_count": null,
      "metadata": {},
      "outputs": [],
      "source": [
        "nordeste.boxplot(column=['IDHM'])"
      ]
    },
    {
      "cell_type": "code",
      "execution_count": null,
      "metadata": {},
      "outputs": [],
      "source": [
        "# Criando lista\n",
        "dados =  {'PE':nordeste[nordeste['STATE'] == 'PE'].IDHM.mean() ,'BA':nordeste[nordeste['STATE'] == 'BA'].IDHM.mean(), 'MA':nordeste[nordeste['STATE'] == 'MA'].IDHM.mean(),'PI':nordeste[nordeste['STATE'] == 'PI'].IDHM.mean(),'CE':nordeste[nordeste['STATE'] == 'CE'].IDHM.mean(),'RN':nordeste[nordeste['STATE'] == 'RN'].IDHM.mean(),'PB':nordeste[nordeste['STATE'] == 'PB'].IDHM.mean(),'AL':nordeste[nordeste['STATE'] == 'AL'].IDHM.mean(),'SE':nordeste[nordeste['STATE'] == 'SE'].IDHM.mean()}\n",
        "Estados = list(dados.keys())\n",
        "MediaIDHM = list(dados.values())\n",
        "fig = plt.figure(figsize = (10, 5))\n",
        "\n",
        "# criando Gráfico\n",
        "plt.bar(Estados, MediaIDHM, color ='#00BFFF',width = 0.4)\n",
        "plt.xlabel(\"Estados\")\n",
        "plt.ylabel(\"IDHM\")\n",
        "plt.title(\"Gráfico IDHM Médio Nordeste\")\n",
        "plt.show()"
      ]
    },
    {
      "cell_type": "markdown",
      "metadata": {},
      "source": [
        "# **Pernambuco**"
      ]
    },
    {
      "cell_type": "code",
      "execution_count": null,
      "metadata": {},
      "outputs": [],
      "source": [
        "nordeste.loc[(nordeste['STATE'] == \"PE\")].head()"
      ]
    },
    {
      "cell_type": "code",
      "execution_count": null,
      "metadata": {},
      "outputs": [],
      "source": [
        "nordeste.loc[(nordeste['STATE'] == \"PE\")].boxplot(column=['IDHM'])"
      ]
    },
    {
      "cell_type": "code",
      "execution_count": null,
      "metadata": {},
      "outputs": [],
      "source": [
        "histPE=nordeste[nordeste['STATE'] == \"PE\"]['IDHM'].hist()"
      ]
    },
    {
      "cell_type": "code",
      "execution_count": null,
      "metadata": {},
      "outputs": [],
      "source": [
        "#Quantidades de cidades de Pernambuco\n",
        "nordeste.loc[(nordeste['STATE'] == \"PE\")]['CITY'].count()"
      ]
    },
    {
      "cell_type": "code",
      "execution_count": null,
      "metadata": {},
      "outputs": [],
      "source": [
        "#Quantidade de Habitantes\n",
        "nordeste.loc[(nordeste['STATE'] == \"PE\")]['IBGE_RES_POP'].sum()"
      ]
    },
    {
      "cell_type": "code",
      "execution_count": null,
      "metadata": {},
      "outputs": [],
      "source": [
        "#Rankim IDHM PE\n",
        "\n",
        "nordeste.loc[(nordeste['STATE'] == \"PE\")]['IDHM Ranking 2010'].hist()"
      ]
    },
    {
      "cell_type": "code",
      "execution_count": null,
      "metadata": {},
      "outputs": [],
      "source": [
        "nordeste.loc[(nordeste['IDHM'] <= 0.5) & (nordeste['STATE'] == \"PE\")][['CITY','STATE','IDHM']]"
      ]
    },
    {
      "cell_type": "code",
      "execution_count": null,
      "metadata": {},
      "outputs": [],
      "source": [
        "#As 10 cidades com IDHM maior \n",
        "nordeste.loc[(nordeste['IDHM'] >= 0.650) & (nordeste['STATE'] == \"PE\")][['CITY','STATE','IDHM','IBGE_RES_POP','GDP','COMP_TOT']].sort_values('IDHM', ascending=False).head(10)"
      ]
    },
    {
      "cell_type": "code",
      "execution_count": null,
      "metadata": {},
      "outputs": [],
      "source": [
        "# Criando lista\n",
        "dados =  {'Agriculture':nordeste[nordeste['STATE'] == 'PE'].COMP_A.sum()/1000,'Indústrias extrativas':nordeste[nordeste['STATE'] == 'PE'].COMP_B.sum()/1000,'Indústrias de transformação':nordeste[nordeste['STATE'] == 'PE'].COMP_C.sum()/1000,'Eletricidade e gás':nordeste[nordeste['STATE'] == 'PE'].COMP_D.sum()/1000,'Saneamento':nordeste[nordeste['STATE'] == 'PE'].COMP_E.sum()/1000,'Construção':nordeste[nordeste['STATE'] == 'PE'].COMP_F.sum()/1000,'Automobilística':nordeste[nordeste['STATE'] == 'PE'].COMP_G.sum()/1000,'Transporte':nordeste[nordeste['STATE'] == 'PE'].COMP_H.sum()/1000,'Hospedagem e alimentação':nordeste[nordeste['STATE'] == 'PE'].COMP_I.sum()/1000,'Informação e comunicação':nordeste[nordeste['STATE'] == 'PE'].COMP_J.sum()/1000,'Atividades financeiras':nordeste[nordeste['STATE'] == 'PE'].COMP_K.sum()/1000,'Atividades imobiliárias':nordeste[nordeste['STATE'] == 'PE'].COMP_L.sum()/1000,'Científicas e Técnicas':nordeste[nordeste['STATE'] == 'PE'].COMP_M.sum()/1000,'atividades administrativas':nordeste[nordeste['STATE'] == 'PE'].COMP_N.sum()/1000,'Administração e Segurança':nordeste[nordeste['STATE'] == 'PE'].COMP_O.sum()/1000,'Educação':nordeste[nordeste['STATE'] == 'PE'].COMP_P.sum()/1000,'Saúde':nordeste[nordeste['STATE'] == 'PE'].COMP_Q.sum()/1000,'Cultura':nordeste[nordeste['STATE'] == 'PE'].COMP_R.sum()/1000,'Outras':nordeste[nordeste['STATE'] == 'PE'].COMP_S.sum()/1000,'Serviços domésticos':nordeste[nordeste['STATE'] == 'PE'].COMP_T.sum()/1000,'Internacional':nordeste[nordeste['STATE'] == 'PE'].COMP_U.sum()/1000}\n",
        "Industria = list(dados.keys())\n",
        "qtd = list(dados.values())\n",
        "fig = plt.figure(figsize = (20, 10))\n",
        "\n",
        "# criando Gráfico\n",
        "plt.bar(Industria, qtd, color ='#00BFFF',width = 0.9)\n",
        "plt.xticks(rotation = 50)\n",
        "plt.xlabel(\"Áreas\")\n",
        "plt.ylabel(\"Quantidades\")\n",
        "plt.title(\"Indústrias\")\n",
        "plt.show()"
      ]
    },
    {
      "cell_type": "markdown",
      "metadata": {},
      "source": [
        "# **----------------------------------------------------------------------------** "
      ]
    },
    {
      "cell_type": "markdown",
      "metadata": {},
      "source": [
        "# **Leandro aqui**"
      ]
    },
    {
      "cell_type": "code",
      "execution_count": null,
      "metadata": {},
      "outputs": [],
      "source": [
        "df_brazil.describe()"
      ]
    },
    {
      "cell_type": "code",
      "execution_count": null,
      "metadata": {},
      "outputs": [],
      "source": [
        "#  Eliminando linhas duplicadas, Cidades: Assis, Paraty e Nova Fátima\n",
        "df_brazil = df_brazil.drop_duplicates()"
      ]
    },
    {
      "cell_type": "code",
      "execution_count": null,
      "metadata": {},
      "outputs": [],
      "source": [
        "# Cidade de Paraty possui dois dados sobre a agência de correios, eliminei o diferente de 1 (pesquisado no google que só existe uma agência)\n",
        "df_brazil.drop(df_brazil.loc[(df_brazil['CITY']=='Paraty') & (df_brazil['POST_OFFICES'] != 1)].index, inplace=True)"
      ]
    },
    {
      "cell_type": "code",
      "execution_count": null,
      "metadata": {},
      "outputs": [],
      "source": [
        "# gráfico mostrando que só há uber na área urbana\n",
        "df_brazil.groupby('RURAL_URBAN')['UBER'].sum().plot(kind='bar',figsize=(5,5))"
      ]
    },
    {
      "cell_type": "code",
      "execution_count": null,
      "metadata": {},
      "outputs": [],
      "source": [
        "#Porcentagem correpondente de cada tipologia\n",
        "\n",
        "df_brazil.groupby(['RURAL_URBAN']).size().plot(kind='pie', autopct='%0.2f%%', figsize=(10,10))"
      ]
    },
    {
      "cell_type": "code",
      "execution_count": 37,
      "metadata": {},
      "outputs": [],
      "source": [
        "# De acordo com o IBGE a menor cidade do Brasil tem 3565 km², dando o código abaixo , retona 3 cidades com área 0\n",
        "df_brazil[(df_brazil['AREA'] < 3.565)]\n",
        "df_brazil.drop(df_brazil.loc[(df_brazil['AREA'] <  3565)].index, inplace=True)"
      ]
    },
    {
      "cell_type": "code",
      "execution_count": 38,
      "metadata": {},
      "outputs": [],
      "source": [
        "# De acordo com o IBGE a  cidade do Brasil menos povoada tem 776 pessoas\n",
        "df_brazil[(df_brazil['IBGE_RES_POP'] < 776)]\n",
        "df_brazil.drop(df_brazil.loc[(df_brazil['IBGE_RES_POP']< 3.565)].index, inplace=True)"
      ]
    },
    {
      "cell_type": "code",
      "execution_count": 39,
      "metadata": {},
      "outputs": [
        {
          "data": {
            "text/plain": [
              "13       4\n",
              "14       3\n",
              "4        3\n",
              "7        3\n",
              "17       3\n",
              "        ..\n",
              "12099    1\n",
              "171      1\n",
              "2055     1\n",
              "360      1\n",
              "938      1\n",
              "Name: Cars, Length: 395, dtype: int64"
            ]
          },
          "execution_count": 39,
          "metadata": {},
          "output_type": "execute_result"
        }
      ],
      "source": [
        "df_brazil['Cars'].value_counts()"
      ]
    },
    {
      "cell_type": "code",
      "execution_count": 40,
      "metadata": {},
      "outputs": [
        {
          "data": {
            "text/plain": [
              "count    4.260000e+02\n",
              "mean     1.140961e+04\n",
              "std      6.882321e+04\n",
              "min      2.000000e+00\n",
              "25%      2.900000e+02\n",
              "50%      1.155000e+03\n",
              "75%      3.915750e+03\n",
              "max      1.288107e+06\n",
              "Name: Cars, dtype: float64"
            ]
          },
          "execution_count": 40,
          "metadata": {},
          "output_type": "execute_result"
        }
      ],
      "source": [
        "df_brazil['Cars'].describe()"
      ]
    },
    {
      "cell_type": "code",
      "execution_count": 41,
      "metadata": {},
      "outputs": [
        {
          "data": {
            "text/plain": [
              "<AxesSubplot:>"
            ]
          },
          "execution_count": 41,
          "metadata": {},
          "output_type": "execute_result"
        },
        {
          "data": {
            "image/png": "[encoded data removed]",
            "text/plain": [
              "<Figure size 432x288 with 1 Axes>"
            ]
          },
          "metadata": {
            "needs_background": "light"
          },
          "output_type": "display_data"
        }
      ],
      "source": [
        "df_brazil['Cars'].plot.box()"
      ]
    },
    {
      "cell_type": "code",
      "execution_count": 32,
      "metadata": {},
      "outputs": [
        {
          "data": {
            "text/plain": [
              "<AxesSubplot:>"
            ]
          },
          "execution_count": 32,
          "metadata": {},
          "output_type": "execute_result"
        },
        {
          "data": {
            "image/png": "[encoded data removed]",
            "text/plain": [
              "<Figure size 432x288 with 1 Axes>"
            ]
          },
          "metadata": {
            "needs_background": "light"
          },
          "output_type": "display_data"
        }
      ],
      "source": [
        "df_brazil['Cars'].hist()"
      ]
    },
    {
      "cell_type": "code",
      "execution_count": 35,
      "metadata": {},
      "outputs": [
        {
          "data": {
            "text/plain": [
              "<AxesSubplot:>"
            ]
          },
          "execution_count": 35,
          "metadata": {},
          "output_type": "execute_result"
        },
        {
          "data": {
            "image/png": "[encoded data removed]",
            "text/plain": [
              "<Figure size 432x288 with 1 Axes>"
            ]
          },
          "metadata": {
            "needs_background": "light"
          },
          "output_type": "display_data"
        }
      ],
      "source": [
        " # Como visto em cima , os dados não estão simétricos , então aplicamos log10\n",
        " df_brazil['Cars_Log'] = log10(df_brazil['Cars'], where=df_brazil['Cars'] > 0)\n",
        " df_brazil['Cars_Log'].hist()"
      ]
    },
    {
      "cell_type": "code",
      "execution_count": 36,
      "metadata": {},
      "outputs": [
        {
          "name": "stdout",
          "output_type": "stream",
          "text": [
            "0.8562542844113403\n"
          ]
        }
      ],
      "source": [
        "# Usando z-core robusto\n",
        "from numpy import abs\n",
        "mad = abs(df_brazil['Cars_Log'] - df_brazil['Cars_Log'].median()).median()*(1/0.6745)\n",
        "print(mad)"
      ]
    },
    {
      "cell_type": "code",
      "execution_count": 42,
      "metadata": {},
      "outputs": [
        {
          "data": {
            "text/plain": [
              "<AxesSubplot:>"
            ]
          },
          "execution_count": 42,
          "metadata": {},
          "output_type": "execute_result"
        },
        {
          "data": {
            "image/png": "[encoded data removed]",
            "text/plain": [
              "<Figure size 432x288 with 1 Axes>"
            ]
          },
          "metadata": {
            "needs_background": "light"
          },
          "output_type": "display_data"
        }
      ],
      "source": [
        "# Agora vamos plotar o z-score robusto\n",
        "(abs(df_brazil['Cars_Log']-df_brazil['Cars_Log'].median())/mad).hist()"
      ]
    },
    {
      "cell_type": "code",
      "execution_count": 43,
      "metadata": {},
      "outputs": [
        {
          "data": {
            "text/html": [
              "<div>\n",
              "<style scoped>\n",
              "    .dataframe tbody tr th:only-of-type {\n",
              "        vertical-align: middle;\n",
              "    }\n",
              "\n",
              "    .dataframe tbody tr th {\n",
              "        vertical-align: top;\n",
              "    }\n",
              "\n",
              "    .dataframe thead th {\n",
              "        text-align: right;\n",
              "    }\n",
              "</style>\n",
              "<table border=\"1\" class=\"dataframe\">\n",
              "  <thead>\n",
              "    <tr style=\"text-align: right;\">\n",
              "      <th></th>\n",
              "      <th>CITY</th>\n",
              "      <th>STATE</th>\n",
              "      <th>CAPITAL</th>\n",
              "      <th>IBGE_RES_POP</th>\n",
              "      <th>IBGE_RES_POP_BRAS</th>\n",
              "      <th>IBGE_RES_POP_ESTR</th>\n",
              "      <th>IBGE_DU</th>\n",
              "      <th>IBGE_DU_URBAN</th>\n",
              "      <th>IBGE_DU_RURAL</th>\n",
              "      <th>IBGE_POP</th>\n",
              "      <th>...</th>\n",
              "      <th>Pr_Assets</th>\n",
              "      <th>Pu_Assets</th>\n",
              "      <th>Cars</th>\n",
              "      <th>Motorcycles</th>\n",
              "      <th>Wheeled_tractor</th>\n",
              "      <th>UBER</th>\n",
              "      <th>MAC</th>\n",
              "      <th>WAL-MART</th>\n",
              "      <th>POST_OFFICES</th>\n",
              "      <th>Cars_Log</th>\n",
              "    </tr>\n",
              "  </thead>\n",
              "  <tbody>\n",
              "    <tr>\n",
              "      <th>719</th>\n",
              "      <td>Brasília</td>\n",
              "      <td>DF</td>\n",
              "      <td>1</td>\n",
              "      <td>2570160</td>\n",
              "      <td>2564370</td>\n",
              "      <td>5790</td>\n",
              "      <td>774820</td>\n",
              "      <td>751558</td>\n",
              "      <td>23261</td>\n",
              "      <td>2450634</td>\n",
              "      <td>...</td>\n",
              "      <td>292093270172</td>\n",
              "      <td>8016164488595</td>\n",
              "      <td>1288107</td>\n",
              "      <td>211392</td>\n",
              "      <td>594</td>\n",
              "      <td>1</td>\n",
              "      <td>28</td>\n",
              "      <td>1</td>\n",
              "      <td>60</td>\n",
              "      <td>6.109952</td>\n",
              "    </tr>\n",
              "  </tbody>\n",
              "</table>\n",
              "<p>1 rows × 82 columns</p>\n",
              "</div>"
            ],
            "text/plain": [
              "         CITY STATE  CAPITAL  IBGE_RES_POP  IBGE_RES_POP_BRAS  \\\n",
              "719  Brasília    DF        1       2570160            2564370   \n",
              "\n",
              "     IBGE_RES_POP_ESTR  IBGE_DU  IBGE_DU_URBAN  IBGE_DU_RURAL  IBGE_POP  ...  \\\n",
              "719               5790   774820         751558          23261   2450634  ...   \n",
              "\n",
              "        Pr_Assets      Pu_Assets     Cars  Motorcycles  Wheeled_tractor  UBER  \\\n",
              "719  292093270172  8016164488595  1288107       211392              594     1   \n",
              "\n",
              "     MAC  WAL-MART  POST_OFFICES  Cars_Log  \n",
              "719   28         1            60  6.109952  \n",
              "\n",
              "[1 rows x 82 columns]"
            ]
          },
          "execution_count": 43,
          "metadata": {},
          "output_type": "execute_result"
        }
      ],
      "source": [
        "# Usando a limiar > 3.5, encontro os outliers\n",
        "df_brazil[abs(df_brazil['Cars_Log']-df_brazil['Cars_Log'].median())/mad > 3.5]"
      ]
    },
    {
      "cell_type": "code",
      "execution_count": 44,
      "metadata": {},
      "outputs": [],
      "source": [
        "# Gerando novo dataframe, eliminando os outros\n",
        "df_brazil = df_brazil[abs(df_brazil['Cars_Log']-df_brazil['Cars_Log'].median())/mad < 3.5]"
      ]
    }
  ],
  "metadata": {
    "colab": {
      "name": "Brazilian Cities.ipynb",
      "provenance": []
    },
    "kernelspec": {
      "display_name": "Python 3.10.4 64-bit",
      "language": "python",
      "name": "python3"
    },
    "language_info": {
      "codemirror_mode": {
        "name": "ipython",
        "version": 3
      },
      "file_extension": ".py",
      "mimetype": "text/x-python",
      "name": "python",
      "nbconvert_exporter": "python",
      "pygments_lexer": "ipython3",
      "version": "3.10.4"
    },
    "vscode": {
      "interpreter": {
        "hash": "fb4569285eef3a3450cb62085a5b1e0da4bce0af555edc33dcf29baf3acc1368"
      }
    }
  },
  "nbformat": 4,
  "nbformat_minor": 0
}
