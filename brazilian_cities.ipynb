{
  "cells": [
    {
      "cell_type": "markdown",
      "metadata": {
        "id": "6d6lW9Mm3LOs"
      },
      "source": [
        "# **Notas**\n",
        "## **Alunos:**\n",
        "    **Leydson Barros**    \n",
        "    **Leandro Damaceno**\n",
        "\n",
        "\n",
        "---\n",
        "\n",
        "\n",
        "\n",
        "> https://medium.com/data-hackers/uma-introdu%C3%A7%C3%A3o-simples-ao-pandas-1e15eea37fa1\n",
        "\n"
      ]
    },
    {
      "cell_type": "markdown",
      "metadata": {
        "id": "9Z9rdt3ivJv7"
      },
      "source": [
        "# --**Brazilian Cities**--\n",
        "\n",
        "\n",
        "1.   Classificação: Ouro\n",
        "2.   Usabilidade: 10\n",
        "\n",
        "\n",
        "\n",
        "\n",
        "\n",
        "> https://www.kaggle.com/datasets/crisparada/brazilian-cities\n"
      ]
    },
    {
      "cell_type": "markdown",
      "metadata": {},
      "source": [
        "# --**Importações bibliotecas**-- "
      ]
    },
    {
      "cell_type": "code",
      "execution_count": null,
      "metadata": {
        "id": "L02HLXLhwnTM"
      },
      "outputs": [],
      "source": [
        "import numpy as np\n",
        "import pandas as pd\n",
        "import matplotlib.pyplot as plt\n",
        "%matplotlib inline"
      ]
    },
    {
      "cell_type": "markdown",
      "metadata": {},
      "source": [
        "# **Base de dados** "
      ]
    },
    {
      "cell_type": "code",
      "execution_count": null,
      "metadata": {},
      "outputs": [],
      "source": [
        "\n",
        "df_brazil=pd.read_csv(\"datas\\BRAZIL_CITIES_REV2022.CSV\",sep=\",\")\n",
        "df_dictionary=pd.read_csv(\"datas\\Data_Dictionary.csv\",sep=\";\")"
      ]
    },
    {
      "cell_type": "markdown",
      "metadata": {},
      "source": [
        "# ***Especificação***\n",
        "## 1. **Coletar\tdados ok**\n",
        "## 2.\t**Realizar pré-processamento\tdos\tdados**\t\n",
        "\n",
        "\n",
        "*   Definição\tde\ttipos\n",
        "*   Tratamento\tde\tdados\tausentes\n",
        "*   Normalização\te\tdiscretização\n",
        "*   Limpeza\tde\tdados\t(univariado,\tbivariado\te\t\n",
        "multivariado)\n",
        "## 3.\t**Apresentar estatísticas descritivas\tdos\tdados com\tvisualizações** \n",
        "## 4.\t**Realizar teste\tde\thipóteses para comparação de\tvalores\tde\tcategorias\t(ex.\tpreço\tm2 em diferentes bairros)\te\tvisualizar diferenças**\n",
        "\n",
        "\n",
        "# **Bônus:**\n",
        "\n",
        "\n",
        "*   Integrar\tdados\tou extrair\tdados\tda\tWeb\n",
        "*   Utilizar técnicas não cobertas nas aula\n"
      ]
    },
    {
      "cell_type": "markdown",
      "metadata": {},
      "source": [
        "# **Regiões do Brasil** "
      ]
    },
    {
      "cell_type": "code",
      "execution_count": null,
      "metadata": {},
      "outputs": [],
      "source": [
        "df_brazil.info()"
      ]
    },
    {
      "cell_type": "code",
      "execution_count": null,
      "metadata": {},
      "outputs": [],
      "source": [
        "df_brazil.boxplot(column=['IDHM'])"
      ]
    },
    {
      "cell_type": "code",
      "execution_count": null,
      "metadata": {},
      "outputs": [],
      "source": [
        "df_brazil.loc[(df_brazil['IDHM'] < 0.5)][['CITY','STATE','IDHM']]"
      ]
    },
    {
      "cell_type": "code",
      "execution_count": null,
      "metadata": {},
      "outputs": [],
      "source": [
        "df_brazil.loc[(df_brazil['IDHM'] ==  1) | (df_brazil['IDHM'] > 0.6)][['CITY','STATE','IDHM']]"
      ]
    },
    {
      "cell_type": "code",
      "execution_count": null,
      "metadata": {},
      "outputs": [],
      "source": [
        "# Criando os dataframes por região\n",
        "\n",
        "nordeste = df_brazil.loc[(df_brazil['STATE'] == 'PE') | (df_brazil['STATE'] == 'MA') | (df_brazil['STATE'] == 'RN') | (df_brazil['STATE'] == 'BA') | (df_brazil['STATE'] == 'CE') | (df_brazil['STATE'] == 'AL') | (df_brazil['STATE'] == 'PI') | (df_brazil['STATE'] == 'PB') | (df_brazil['STATE'] == 'SE')]\n",
        "norte =  df_brazil.loc[(df_brazil['STATE'] == 'AC') | (df_brazil['STATE'] == 'AP') | (df_brazil['STATE'] == 'AM') | (df_brazil['STATE'] == 'PA') | (df_brazil['STATE'] == 'RO') | (df_brazil['STATE'] == 'RR') | (df_brazil['STATE'] == 'TO')]\n",
        "sul = df_brazil.loc[(df_brazil['STATE'] == 'PR') | (df_brazil['STATE'] == 'RS') | (df_brazil['STATE'] == 'SC')]\n",
        "centroOeste =  df_brazil.loc[(df_brazil['STATE'] == 'DF') | (df_brazil['STATE'] == 'GO') | (df_brazil['STATE'] == 'MT') | (df_brazil['STATE'] == 'MS')]\n",
        "sudeste = df_brazil.loc[(df_brazil['STATE'] == 'ES') | (df_brazil['STATE'] == 'MG') | (df_brazil['STATE'] == 'SP') | (df_brazil['STATE'] == 'RJ')]\n",
        "# Verificação dos estados \n",
        "checknordeste = ['PE','BA', 'MA','PI','CE','RN','PB','AL','SE']\n",
        "checknorte = ['AC','AP', 'AM','PA','RO','RR','TO']\n",
        "checksul = ['PR','RS', 'SC']\n",
        "checkcentroOeste = ['DF','GO', 'MT','MS']\n",
        "checksudeste = ['ES','MG', 'SP','RJ']\n",
        "# Verificação das cidades por estado\n",
        "cidadesNordeste = df_brazil[\"STATE\"].isin(checknordeste)\n",
        "cidadesNorte = df_brazil[\"STATE\"].isin(checknorte)\n",
        "cidadesSul = df_brazil[\"STATE\"].isin(checksul)\n",
        "cidadesCentroOeste = df_brazil[\"STATE\"].isin(checkcentroOeste)\n",
        "cidadesSudeste = df_brazil[\"STATE\"].isin(checksudeste)"
      ]
    },
    {
      "cell_type": "code",
      "execution_count": null,
      "metadata": {},
      "outputs": [],
      "source": [
        "# Mapa do Brasil \n",
        "\n",
        "long= df_brazil[\"LONG\"] !=0\n",
        "lat = df_brazil[\"LAT\"] !=0 \n",
        "#cap = df_brazil.loc[df_brazil['CAPITAL'] == 1 & df_brazil[\"STATE\"].isin(nordeste) ]\n",
        "\n",
        "#cidadesNordeste = nordeste[\"STATE\"].isin(checknordeste)\n",
        "## use the scatter function\n",
        "plt.figure(figsize=(10,10))\n",
        "plt.title(\" Cidades (Latitude e Longitude)\")\n",
        "plt.xlabel(\"Longitude\")\n",
        "plt.ylabel(\"Latitude\")\n",
        "#plt.scatter(df_brazil[long&lat&cap][\"LONG\"], df_brazil[long&lat&cap][\"LAT\"], s=50, alpha=1, label='Capital city', c ='#000000')\n",
        "plt.scatter(df_brazil[long&lat&cidadesNorte][\"LONG\"], df_brazil[long&lat&cidadesNorte][\"LAT\"], s=5, alpha=1, label='NORTE', c ='#006400')\n",
        "plt.scatter(df_brazil[long&lat&cidadesNordeste][\"LONG\"], df_brazil[long&lat&cidadesNordeste][\"LAT\"], s=5, alpha=1, label='Nordeste', c ='#00BFFF')\n",
        "plt.scatter(df_brazil[long&lat&cidadesCentroOeste][\"LONG\"], df_brazil[long&lat&cidadesCentroOeste][\"LAT\"], s=5, alpha=1, label='Centro Oeste', c ='#DB7093')\n",
        "plt.scatter(df_brazil[long&lat&cidadesSul][\"LONG\"], df_brazil[long&lat&cidadesSul][\"LAT\"], s=5, alpha=1, label='SUL', c ='#9932CC')\n",
        "plt.scatter(df_brazil[long&lat&cidadesSudeste][\"LONG\"], df_brazil[long&lat&cidadesSudeste][\"LAT\"], s=5, alpha=1, label='Sudeste', c ='#FF4500')\n",
        "#plt.scatter(df_brazil[long&lat&~cidadesNordeste][\"LONG\"], df_brazil[long&lat&~cidadesNordeste][\"LAT\"], s=1, alpha=1, c = '#4b0082')\n",
        "plt.legend()\n",
        "plt.show()"
      ]
    },
    {
      "cell_type": "code",
      "execution_count": null,
      "metadata": {},
      "outputs": [],
      "source": [
        "# Mapa do Brasil Capitais\n",
        "\n",
        "long= df_brazil[\"LONG\"] != 0\n",
        "lat = df_brazil[\"LAT\"] !=0 \n",
        "cap = df_brazil['CAPITAL'] ==1\n",
        " \n",
        "## use the scatter function\n",
        "plt.figure(figsize=(10,10))\n",
        "plt.title(\" Cidades (Latitude e Longitude)\")\n",
        "plt.xlabel(\"Longitude\")\n",
        "plt.ylabel(\"Latitude\")\n",
        "plt.scatter(df_brazil[long&lat&cap][\"LONG\"], df_brazil[long&lat&cap][\"LAT\"], s=50, alpha=1, label='Capital city', c ='#ff4500')\n",
        "plt.scatter(df_brazil[long&lat&~cap][\"LONG\"], df_brazil[long&lat&~cap][\"LAT\"], s=1, alpha=1, label='cidades', c = '#32cd32')\n",
        "plt.legend()\n",
        "plt.show()"
      ]
    },
    {
      "cell_type": "markdown",
      "metadata": {},
      "source": [
        "# **Índice de Desenvolvimento Humano** "
      ]
    },
    {
      "cell_type": "code",
      "execution_count": null,
      "metadata": {},
      "outputs": [],
      "source": [
        "# Mapa do Nordeste\n",
        "\n",
        "long= df_brazil[\"LONG\"] !=0\n",
        "lat = df_brazil[\"LAT\"] !=0 \n",
        "## use the scatter function\n",
        "plt.figure(figsize=(10,10))\n",
        "plt.title(\" Cidades (Latitude e Longitude)\")\n",
        "plt.xlabel(\"Longitude\")\n",
        "plt.ylabel(\"Latitude\")\n",
        "plt.scatter(df_brazil[long&lat&cidadesNordeste][\"LONG\"], df_brazil[long&lat&cidadesNordeste][\"LAT\"], s=5, alpha=1, label='Nordeste', c ='#00BFFF')\n",
        "plt.legend()\n",
        "plt.show()"
      ]
    },
    {
      "cell_type": "code",
      "execution_count": null,
      "metadata": {},
      "outputs": [],
      "source": [
        "nordeste.boxplot(column=['IDHM'])"
      ]
    },
    {
      "cell_type": "code",
      "execution_count": null,
      "metadata": {},
      "outputs": [],
      "source": [
        "# Criando lista\n",
        "dados =  {'PE':nordeste[nordeste['STATE'] == 'PE'].IDHM.mean() ,'BA':nordeste[nordeste['STATE'] == 'BA'].IDHM.mean(), 'MA':nordeste[nordeste['STATE'] == 'MA'].IDHM.mean(),'PI':nordeste[nordeste['STATE'] == 'PI'].IDHM.mean(),'CE':nordeste[nordeste['STATE'] == 'CE'].IDHM.mean(),'RN':nordeste[nordeste['STATE'] == 'RN'].IDHM.mean(),'PB':nordeste[nordeste['STATE'] == 'PB'].IDHM.mean(),'AL':nordeste[nordeste['STATE'] == 'AL'].IDHM.mean(),'SE':nordeste[nordeste['STATE'] == 'SE'].IDHM.mean()}\n",
        "Estados = list(dados.keys())\n",
        "MediaIDHM = list(dados.values())\n",
        "fig = plt.figure(figsize = (10, 5))\n",
        "\n",
        "# criando Gráfico\n",
        "plt.bar(Estados, MediaIDHM, color ='#00BFFF',width = 0.4)\n",
        "plt.xlabel(\"Estados\")\n",
        "plt.ylabel(\"IDHM\")\n",
        "plt.title(\"Gráfico IDHM Médio Nordeste\")\n",
        "plt.show()"
      ]
    },
    {
      "cell_type": "markdown",
      "metadata": {},
      "source": [
        "# **Pernambuco**"
      ]
    },
    {
      "cell_type": "code",
      "execution_count": null,
      "metadata": {},
      "outputs": [],
      "source": [
        "nordeste.loc[(nordeste['STATE'] == \"PE\")].head()"
      ]
    },
    {
      "cell_type": "code",
      "execution_count": null,
      "metadata": {},
      "outputs": [],
      "source": [
        "nordeste.loc[(nordeste['STATE'] == \"PE\")].boxplot(column=['IDHM'])"
      ]
    },
    {
      "cell_type": "code",
      "execution_count": null,
      "metadata": {},
      "outputs": [],
      "source": [
        "histPE=nordeste[nordeste['STATE'] == \"PE\"]['IDHM'].hist()"
      ]
    },
    {
      "cell_type": "code",
      "execution_count": null,
      "metadata": {},
      "outputs": [],
      "source": [
        "#Quantidades de cidades de Pernambuco\n",
        "nordeste.loc[(nordeste['STATE'] == \"PE\")]['CITY'].count()"
      ]
    },
    {
      "cell_type": "code",
      "execution_count": null,
      "metadata": {},
      "outputs": [],
      "source": [
        "#Quantidade de Habitantes\n",
        "nordeste.loc[(nordeste['STATE'] == \"PE\")]['IBGE_RES_POP'].sum()"
      ]
    },
    {
      "cell_type": "code",
      "execution_count": null,
      "metadata": {},
      "outputs": [],
      "source": [
        "#Rankim IDHM PE\n",
        "\n",
        "nordeste.loc[(nordeste['STATE'] == \"PE\")]['IDHM Ranking 2010'].hist()"
      ]
    },
    {
      "cell_type": "code",
      "execution_count": null,
      "metadata": {},
      "outputs": [],
      "source": [
        "nordeste.loc[(nordeste['IDHM'] <= 0.5) & (nordeste['STATE'] == \"PE\")][['CITY','STATE','IDHM']]"
      ]
    },
    {
      "cell_type": "code",
      "execution_count": null,
      "metadata": {},
      "outputs": [],
      "source": [
        "#As 10 cidades com IDHM maior \n",
        "nordeste.loc[(nordeste['IDHM'] >= 0.650) & (nordeste['STATE'] == \"PE\")][['CITY','STATE','IDHM','IBGE_RES_POP','GDP','COMP_TOT']].sort_values('IDHM', ascending=False).head(10)"
      ]
    },
    {
      "cell_type": "code",
      "execution_count": null,
      "metadata": {},
      "outputs": [],
      "source": [
        "# Criando lista\n",
        "dados =  {'Agriculture':nordeste[nordeste['STATE'] == 'PE'].COMP_A.sum()/1000,'Indústrias extrativas':nordeste[nordeste['STATE'] == 'PE'].COMP_B.sum()/1000,'Indústrias de transformação':nordeste[nordeste['STATE'] == 'PE'].COMP_C.sum()/1000,'Eletricidade e gás':nordeste[nordeste['STATE'] == 'PE'].COMP_D.sum()/1000,'Saneamento':nordeste[nordeste['STATE'] == 'PE'].COMP_E.sum()/1000,'Construção':nordeste[nordeste['STATE'] == 'PE'].COMP_F.sum()/1000,'Automobilística':nordeste[nordeste['STATE'] == 'PE'].COMP_G.sum()/1000,'Transporte':nordeste[nordeste['STATE'] == 'PE'].COMP_H.sum()/1000,'Hospedagem e alimentação':nordeste[nordeste['STATE'] == 'PE'].COMP_I.sum()/1000,'Informação e comunicação':nordeste[nordeste['STATE'] == 'PE'].COMP_J.sum()/1000,'Atividades financeiras':nordeste[nordeste['STATE'] == 'PE'].COMP_K.sum()/1000,'Atividades imobiliárias':nordeste[nordeste['STATE'] == 'PE'].COMP_L.sum()/1000,'Científicas e Técnicas':nordeste[nordeste['STATE'] == 'PE'].COMP_M.sum()/1000,'atividades administrativas':nordeste[nordeste['STATE'] == 'PE'].COMP_N.sum()/1000,'Administração e Segurança':nordeste[nordeste['STATE'] == 'PE'].COMP_O.sum()/1000,'Educação':nordeste[nordeste['STATE'] == 'PE'].COMP_P.sum()/1000,'Saúde':nordeste[nordeste['STATE'] == 'PE'].COMP_Q.sum()/1000,'Cultura':nordeste[nordeste['STATE'] == 'PE'].COMP_R.sum()/1000,'Outras':nordeste[nordeste['STATE'] == 'PE'].COMP_S.sum()/1000,'Serviços domésticos':nordeste[nordeste['STATE'] == 'PE'].COMP_T.sum()/1000,'Internacional':nordeste[nordeste['STATE'] == 'PE'].COMP_U.sum()/1000}\n",
        "Industria = list(dados.keys())\n",
        "qtd = list(dados.values())\n",
        "fig = plt.figure(figsize = (20, 10))\n",
        "\n",
        "# criando Gráfico\n",
        "plt.bar(Industria, qtd, color ='#00BFFF',width = 0.9)\n",
        "plt.xticks(rotation = 50)\n",
        "plt.xlabel(\"Áreas\")\n",
        "plt.ylabel(\"Quantidades\")\n",
        "plt.title(\"Indústrias\")\n",
        "plt.show()"
      ]
    },
    {
      "cell_type": "markdown",
      "metadata": {},
      "source": [
        "# **----------------------------------------------------------------------------** "
      ]
    },
    {
      "cell_type": "markdown",
      "metadata": {},
      "source": [
        "# **Leandro aqui**"
      ]
    },
    {
      "cell_type": "code",
      "execution_count": null,
      "metadata": {},
      "outputs": [],
      "source": [
        "df_brazil.describe()"
      ]
    },
    {
      "cell_type": "code",
      "execution_count": null,
      "metadata": {},
      "outputs": [],
      "source": [
        "#  Eliminando linhas duplicadas, Cidades: Assis, Paraty e Nossa senhora de Fátima\n",
        "df_brazil = df_brazil.drop_duplicates()"
      ]
    },
    {
      "cell_type": "code",
      "execution_count": null,
      "metadata": {},
      "outputs": [],
      "source": [
        "# Cidade de Paraty possui dois dados sobre a agência de correios, eliminei o diferente de 1 (pesquisado no google que só existe uma agência)\n",
        "df_brazil.drop(df_brazil.loc[(df_brazil['CITY']=='Paraty') & (df_brazil['POST_OFFICES'] != 1)].index, inplace=True)"
      ]
    }
  ],
  "metadata": {
    "colab": {
      "name": "Brazilian Cities.ipynb",
      "provenance": []
    },
    "kernelspec": {
      "display_name": "Python 3.9.1 64-bit",
      "language": "python",
      "name": "python3"
    },
    "language_info": {
      "codemirror_mode": {
        "name": "ipython",
        "version": 3
      },
      "file_extension": ".py",
      "mimetype": "text/x-python",
      "name": "python",
      "nbconvert_exporter": "python",
      "pygments_lexer": "ipython3",
      "version": "3.9.1"
    },
    "vscode": {
      "interpreter": {
        "hash": "23c97b6ce6e74fc802f0025f74c429d7e026c9009e3626756b84148f9ac2a5e4"
      }
    }
  },
  "nbformat": 4,
  "nbformat_minor": 0
}
