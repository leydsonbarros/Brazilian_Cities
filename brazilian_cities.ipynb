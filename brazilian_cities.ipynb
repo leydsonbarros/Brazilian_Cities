{
  "cells": [
    {
      "cell_type": "markdown",
      "metadata": {
        "id": "6d6lW9Mm3LOs"
      },
      "source": [
        "# **Notas**\n",
        "## **Alunos:**\n",
        "    **Leydson Barros**    \n",
        "    **Leandro Damaceno**\n",
        "\n",
        "\n",
        "---\n",
        "\n",
        "\n",
        "\n",
        "> https://medium.com/data-hackers/uma-introdu%C3%A7%C3%A3o-simples-ao-pandas-1e15eea37fa1\n",
        "\n"
      ]
    },
    {
      "cell_type": "markdown",
      "metadata": {
        "id": "9Z9rdt3ivJv7"
      },
      "source": [
        "# --**Brazilian Cities**--\n",
        "\n",
        "\n",
        "1.   Classificação: Ouro\n",
        "2.   Usabilidade: 10\n",
        "\n",
        "\n",
        "\n",
        "\n",
        "\n",
        "> https://www.kaggle.com/datasets/crisparada/brazilian-cities\n"
      ]
    },
    {
      "cell_type": "markdown",
      "metadata": {},
      "source": [
        "# --**Importações bibliotecas**-- "
      ]
    },
    {
      "cell_type": "code",
      "execution_count": 1,
      "metadata": {
        "id": "L02HLXLhwnTM"
      },
      "outputs": [],
      "source": [
        "import numpy as np\n",
        "import pandas as pd\n",
        "from numpy import log10\n",
        "import matplotlib.pyplot as plt\n",
        "%matplotlib inline"
      ]
    },
    {
      "cell_type": "markdown",
      "metadata": {},
      "source": [
        "# **Base de dados** "
      ]
    },
    {
      "cell_type": "code",
      "execution_count": 2,
      "metadata": {},
      "outputs": [],
      "source": [
        "\n",
        "df_brazil=pd.read_csv(\"datas\\BRAZIL_CITIES_REV2022.CSV\",sep=\",\")\n",
        "df_dictionary=pd.read_csv(\"datas\\Data_Dictionary.csv\",sep=\";\")"
      ]
    },
    {
      "cell_type": "markdown",
      "metadata": {},
      "source": [
        "# ***Especificação***\n",
        "## 1. **Coletar\tdados ok**\n",
        "## 2.\t**Realizar pré-processamento\tdos\tdados**\t\n",
        "\n",
        "\n",
        "*   Definição\tde\ttipos\n",
        "*   Tratamento\tde\tdados\tausentes\n",
        "*   Normalização\te\tdiscretização\n",
        "*   Limpeza\tde\tdados\t(univariado,\tbivariado\te\t\n",
        "multivariado)\n",
        "## 3.\t**Apresentar estatísticas descritivas\tdos\tdados com\tvisualizações** \n",
        "## 4.\t**Realizar teste\tde\thipóteses para comparação de\tvalores\tde\tcategorias\t(ex.\tpreço\tm2 em diferentes bairros)\te\tvisualizar diferenças**\n",
        "\n",
        "\n",
        "# **Bônus:**\n",
        "\n",
        "\n",
        "*   Integrar\tdados\tou extrair\tdados\tda\tWeb\n",
        "*   Utilizar técnicas não cobertas nas aula\n"
      ]
    },
    {
      "cell_type": "markdown",
      "metadata": {},
      "source": [
        "# **Regiões do Brasil** "
      ]
    },
    {
      "cell_type": "code",
      "execution_count": null,
      "metadata": {},
      "outputs": [],
      "source": [
        "df_brazil.info()"
      ]
    },
    {
      "cell_type": "code",
      "execution_count": null,
      "metadata": {},
      "outputs": [],
      "source": [
        "df_brazil.boxplot(column=['IDHM'])"
      ]
    },
    {
      "cell_type": "code",
      "execution_count": null,
      "metadata": {},
      "outputs": [],
      "source": [
        "df_brazil.loc[(df_brazil['IDHM'] < 0.5)][['CITY','STATE','IDHM']]"
      ]
    },
    {
      "cell_type": "code",
      "execution_count": null,
      "metadata": {},
      "outputs": [],
      "source": [
        "df_brazil.loc[(df_brazil['IDHM'] ==  1) | (df_brazil['IDHM'] > 0.6)][['CITY','STATE','IDHM']]"
      ]
    },
    {
      "cell_type": "code",
      "execution_count": null,
      "metadata": {},
      "outputs": [],
      "source": [
        "# Criando os dataframes por região\n",
        "\n",
        "nordeste = df_brazil.loc[(df_brazil['STATE'] == 'PE') | (df_brazil['STATE'] == 'MA') | (df_brazil['STATE'] == 'RN') | (df_brazil['STATE'] == 'BA') | (df_brazil['STATE'] == 'CE') | (df_brazil['STATE'] == 'AL') | (df_brazil['STATE'] == 'PI') | (df_brazil['STATE'] == 'PB') | (df_brazil['STATE'] == 'SE')]\n",
        "norte =  df_brazil.loc[(df_brazil['STATE'] == 'AC') | (df_brazil['STATE'] == 'AP') | (df_brazil['STATE'] == 'AM') | (df_brazil['STATE'] == 'PA') | (df_brazil['STATE'] == 'RO') | (df_brazil['STATE'] == 'RR') | (df_brazil['STATE'] == 'TO')]\n",
        "sul = df_brazil.loc[(df_brazil['STATE'] == 'PR') | (df_brazil['STATE'] == 'RS') | (df_brazil['STATE'] == 'SC')]\n",
        "centroOeste =  df_brazil.loc[(df_brazil['STATE'] == 'DF') | (df_brazil['STATE'] == 'GO') | (df_brazil['STATE'] == 'MT') | (df_brazil['STATE'] == 'MS')]\n",
        "sudeste = df_brazil.loc[(df_brazil['STATE'] == 'ES') | (df_brazil['STATE'] == 'MG') | (df_brazil['STATE'] == 'SP') | (df_brazil['STATE'] == 'RJ')]\n",
        "# Verificação dos estados \n",
        "checknordeste = ['PE','BA', 'MA','PI','CE','RN','PB','AL','SE']\n",
        "checknorte = ['AC','AP', 'AM','PA','RO','RR','TO']\n",
        "checksul = ['PR','RS', 'SC']\n",
        "checkcentroOeste = ['DF','GO', 'MT','MS']\n",
        "checksudeste = ['ES','MG', 'SP','RJ']\n",
        "# Verificação das cidades por estado\n",
        "cidadesNordeste = df_brazil[\"STATE\"].isin(checknordeste)\n",
        "cidadesNorte = df_brazil[\"STATE\"].isin(checknorte)\n",
        "cidadesSul = df_brazil[\"STATE\"].isin(checksul)\n",
        "cidadesCentroOeste = df_brazil[\"STATE\"].isin(checkcentroOeste)\n",
        "cidadesSudeste = df_brazil[\"STATE\"].isin(checksudeste)"
      ]
    },
    {
      "cell_type": "code",
      "execution_count": null,
      "metadata": {},
      "outputs": [],
      "source": [
        "# Mapa do Brasil \n",
        "\n",
        "long= df_brazil[\"LONG\"] !=0\n",
        "lat = df_brazil[\"LAT\"] !=0 \n",
        "#cap = df_brazil.loc[df_brazil['CAPITAL'] == 1 & df_brazil[\"STATE\"].isin(nordeste) ]\n",
        "\n",
        "#cidadesNordeste = nordeste[\"STATE\"].isin(checknordeste)\n",
        "## use the scatter function\n",
        "plt.figure(figsize=(10,10))\n",
        "plt.title(\" Cidades (Latitude e Longitude)\")\n",
        "plt.xlabel(\"Longitude\")\n",
        "plt.ylabel(\"Latitude\")\n",
        "#plt.scatter(df_brazil[long&lat&cap][\"LONG\"], df_brazil[long&lat&cap][\"LAT\"], s=50, alpha=1, label='Capital city', c ='#000000')\n",
        "plt.scatter(df_brazil[long&lat&cidadesNorte][\"LONG\"], df_brazil[long&lat&cidadesNorte][\"LAT\"], s=5, alpha=1, label='NORTE', c ='#006400')\n",
        "plt.scatter(df_brazil[long&lat&cidadesNordeste][\"LONG\"], df_brazil[long&lat&cidadesNordeste][\"LAT\"], s=5, alpha=1, label='Nordeste', c ='#00BFFF')\n",
        "plt.scatter(df_brazil[long&lat&cidadesCentroOeste][\"LONG\"], df_brazil[long&lat&cidadesCentroOeste][\"LAT\"], s=5, alpha=1, label='Centro Oeste', c ='#DB7093')\n",
        "plt.scatter(df_brazil[long&lat&cidadesSul][\"LONG\"], df_brazil[long&lat&cidadesSul][\"LAT\"], s=5, alpha=1, label='SUL', c ='#9932CC')\n",
        "plt.scatter(df_brazil[long&lat&cidadesSudeste][\"LONG\"], df_brazil[long&lat&cidadesSudeste][\"LAT\"], s=5, alpha=1, label='Sudeste', c ='#FF4500')\n",
        "#plt.scatter(df_brazil[long&lat&~cidadesNordeste][\"LONG\"], df_brazil[long&lat&~cidadesNordeste][\"LAT\"], s=1, alpha=1, c = '#4b0082')\n",
        "plt.legend()\n",
        "plt.show()"
      ]
    },
    {
      "cell_type": "code",
      "execution_count": null,
      "metadata": {},
      "outputs": [],
      "source": [
        "# Mapa do Brasil Capitais\n",
        "\n",
        "long= df_brazil[\"LONG\"] != 0\n",
        "lat = df_brazil[\"LAT\"] !=0 \n",
        "cap = df_brazil['CAPITAL'] ==1\n",
        " \n",
        "## use the scatter function\n",
        "plt.figure(figsize=(10,10))\n",
        "plt.title(\" Cidades (Latitude e Longitude)\")\n",
        "plt.xlabel(\"Longitude\")\n",
        "plt.ylabel(\"Latitude\")\n",
        "plt.scatter(df_brazil[long&lat&cap][\"LONG\"], df_brazil[long&lat&cap][\"LAT\"], s=50, alpha=1, label='Capital city', c ='#ff4500')\n",
        "plt.scatter(df_brazil[long&lat&~cap][\"LONG\"], df_brazil[long&lat&~cap][\"LAT\"], s=1, alpha=1, label='cidades', c = '#32cd32')\n",
        "plt.legend()\n",
        "plt.show()"
      ]
    },
    {
      "cell_type": "markdown",
      "metadata": {},
      "source": [
        "# **Índice de Desenvolvimento Humano** "
      ]
    },
    {
      "cell_type": "code",
      "execution_count": null,
      "metadata": {},
      "outputs": [],
      "source": [
        "# Mapa do Nordeste\n",
        "\n",
        "long= df_brazil[\"LONG\"] !=0\n",
        "lat = df_brazil[\"LAT\"] !=0 \n",
        "## use the scatter function\n",
        "plt.figure(figsize=(10,10))\n",
        "plt.title(\" Cidades (Latitude e Longitude)\")\n",
        "plt.xlabel(\"Longitude\")\n",
        "plt.ylabel(\"Latitude\")\n",
        "plt.scatter(df_brazil[long&lat&cidadesNordeste][\"LONG\"], df_brazil[long&lat&cidadesNordeste][\"LAT\"], s=5, alpha=1, label='Nordeste', c ='#00BFFF')\n",
        "plt.legend()\n",
        "plt.show()"
      ]
    },
    {
      "cell_type": "code",
      "execution_count": null,
      "metadata": {},
      "outputs": [],
      "source": [
        "nordeste.boxplot(column=['IDHM'])"
      ]
    },
    {
      "cell_type": "code",
      "execution_count": null,
      "metadata": {},
      "outputs": [],
      "source": [
        "# Criando lista\n",
        "dados =  {'PE':nordeste[nordeste['STATE'] == 'PE'].IDHM.mean() ,'BA':nordeste[nordeste['STATE'] == 'BA'].IDHM.mean(), 'MA':nordeste[nordeste['STATE'] == 'MA'].IDHM.mean(),'PI':nordeste[nordeste['STATE'] == 'PI'].IDHM.mean(),'CE':nordeste[nordeste['STATE'] == 'CE'].IDHM.mean(),'RN':nordeste[nordeste['STATE'] == 'RN'].IDHM.mean(),'PB':nordeste[nordeste['STATE'] == 'PB'].IDHM.mean(),'AL':nordeste[nordeste['STATE'] == 'AL'].IDHM.mean(),'SE':nordeste[nordeste['STATE'] == 'SE'].IDHM.mean()}\n",
        "Estados = list(dados.keys())\n",
        "MediaIDHM = list(dados.values())\n",
        "fig = plt.figure(figsize = (10, 5))\n",
        "\n",
        "# criando Gráfico\n",
        "plt.bar(Estados, MediaIDHM, color ='#00BFFF',width = 0.4)\n",
        "plt.xlabel(\"Estados\")\n",
        "plt.ylabel(\"IDHM\")\n",
        "plt.title(\"Gráfico IDHM Médio Nordeste\")\n",
        "plt.show()"
      ]
    },
    {
      "cell_type": "markdown",
      "metadata": {},
      "source": [
        "# **Pernambuco**"
      ]
    },
    {
      "cell_type": "code",
      "execution_count": null,
      "metadata": {},
      "outputs": [],
      "source": [
        "nordeste.loc[(nordeste['STATE'] == \"PE\")].head()"
      ]
    },
    {
      "cell_type": "code",
      "execution_count": null,
      "metadata": {},
      "outputs": [],
      "source": [
        "nordeste.loc[(nordeste['STATE'] == \"PE\")].boxplot(column=['IDHM'])"
      ]
    },
    {
      "cell_type": "code",
      "execution_count": null,
      "metadata": {},
      "outputs": [],
      "source": [
        "histPE=nordeste[nordeste['STATE'] == \"PE\"]['IDHM'].hist()"
      ]
    },
    {
      "cell_type": "code",
      "execution_count": null,
      "metadata": {},
      "outputs": [],
      "source": [
        "#Quantidades de cidades de Pernambuco\n",
        "nordeste.loc[(nordeste['STATE'] == \"PE\")]['CITY'].count()"
      ]
    },
    {
      "cell_type": "code",
      "execution_count": null,
      "metadata": {},
      "outputs": [],
      "source": [
        "#Quantidade de Habitantes\n",
        "nordeste.loc[(nordeste['STATE'] == \"PE\")]['IBGE_RES_POP'].sum()"
      ]
    },
    {
      "cell_type": "code",
      "execution_count": null,
      "metadata": {},
      "outputs": [],
      "source": [
        "#Rankim IDHM PE\n",
        "\n",
        "nordeste.loc[(nordeste['STATE'] == \"PE\")]['IDHM Ranking 2010'].hist()"
      ]
    },
    {
      "cell_type": "code",
      "execution_count": null,
      "metadata": {},
      "outputs": [],
      "source": [
        "nordeste.loc[(nordeste['IDHM'] <= 0.5) & (nordeste['STATE'] == \"PE\")][['CITY','STATE','IDHM']]"
      ]
    },
    {
      "cell_type": "code",
      "execution_count": null,
      "metadata": {},
      "outputs": [],
      "source": [
        "#As 10 cidades com IDHM maior \n",
        "nordeste.loc[(nordeste['IDHM'] >= 0.650) & (nordeste['STATE'] == \"PE\")][['CITY','STATE','IDHM','IBGE_RES_POP','GDP','COMP_TOT']].sort_values('IDHM', ascending=False).head(10)"
      ]
    },
    {
      "cell_type": "code",
      "execution_count": null,
      "metadata": {},
      "outputs": [],
      "source": [
        "# Criando lista\n",
        "dados =  {'Agriculture':nordeste[nordeste['STATE'] == 'PE'].COMP_A.sum()/1000,'Indústrias extrativas':nordeste[nordeste['STATE'] == 'PE'].COMP_B.sum()/1000,'Indústrias de transformação':nordeste[nordeste['STATE'] == 'PE'].COMP_C.sum()/1000,'Eletricidade e gás':nordeste[nordeste['STATE'] == 'PE'].COMP_D.sum()/1000,'Saneamento':nordeste[nordeste['STATE'] == 'PE'].COMP_E.sum()/1000,'Construção':nordeste[nordeste['STATE'] == 'PE'].COMP_F.sum()/1000,'Automobilística':nordeste[nordeste['STATE'] == 'PE'].COMP_G.sum()/1000,'Transporte':nordeste[nordeste['STATE'] == 'PE'].COMP_H.sum()/1000,'Hospedagem e alimentação':nordeste[nordeste['STATE'] == 'PE'].COMP_I.sum()/1000,'Informação e comunicação':nordeste[nordeste['STATE'] == 'PE'].COMP_J.sum()/1000,'Atividades financeiras':nordeste[nordeste['STATE'] == 'PE'].COMP_K.sum()/1000,'Atividades imobiliárias':nordeste[nordeste['STATE'] == 'PE'].COMP_L.sum()/1000,'Científicas e Técnicas':nordeste[nordeste['STATE'] == 'PE'].COMP_M.sum()/1000,'atividades administrativas':nordeste[nordeste['STATE'] == 'PE'].COMP_N.sum()/1000,'Administração e Segurança':nordeste[nordeste['STATE'] == 'PE'].COMP_O.sum()/1000,'Educação':nordeste[nordeste['STATE'] == 'PE'].COMP_P.sum()/1000,'Saúde':nordeste[nordeste['STATE'] == 'PE'].COMP_Q.sum()/1000,'Cultura':nordeste[nordeste['STATE'] == 'PE'].COMP_R.sum()/1000,'Outras':nordeste[nordeste['STATE'] == 'PE'].COMP_S.sum()/1000,'Serviços domésticos':nordeste[nordeste['STATE'] == 'PE'].COMP_T.sum()/1000,'Internacional':nordeste[nordeste['STATE'] == 'PE'].COMP_U.sum()/1000}\n",
        "Industria = list(dados.keys())\n",
        "qtd = list(dados.values())\n",
        "fig = plt.figure(figsize = (20, 10))\n",
        "\n",
        "# criando Gráfico\n",
        "plt.bar(Industria, qtd, color ='#00BFFF',width = 0.9)\n",
        "plt.xticks(rotation = 50)\n",
        "plt.xlabel(\"Áreas\")\n",
        "plt.ylabel(\"Quantidades\")\n",
        "plt.title(\"Indústrias\")\n",
        "plt.show()"
      ]
    },
    {
      "cell_type": "markdown",
      "metadata": {},
      "source": [
        "# **----------------------------------------------------------------------------** "
      ]
    },
    {
      "cell_type": "markdown",
      "metadata": {},
      "source": [
        "# **Leandro aqui**"
      ]
    },
    {
      "cell_type": "code",
      "execution_count": null,
      "metadata": {},
      "outputs": [],
      "source": [
        "df_brazil.describe()"
      ]
    },
    {
      "cell_type": "code",
      "execution_count": 3,
      "metadata": {},
      "outputs": [],
      "source": [
        "#  Eliminando linhas duplicadas, Cidades: Assis, Paraty e Nova Fátima\n",
        "df_brazil = df_brazil.drop_duplicates()"
      ]
    },
    {
      "cell_type": "code",
      "execution_count": 4,
      "metadata": {},
      "outputs": [],
      "source": [
        "# Cidade de Paraty possui dois dados sobre a agência de correios, eliminei o diferente de 1 (pesquisado no google que só existe uma agência)\n",
        "df_brazil.drop(df_brazil.loc[(df_brazil['CITY']=='Paraty') & (df_brazil['POST_OFFICES'] != 1)].index, inplace=True)"
      ]
    },
    {
      "cell_type": "code",
      "execution_count": null,
      "metadata": {},
      "outputs": [],
      "source": [
        "# gráfico mostrando que só há uber na área urbana\n",
        "df_brazil.groupby('RURAL_URBAN')['UBER'].sum().plot(kind='bar',figsize=(5,5))"
      ]
    },
    {
      "cell_type": "code",
      "execution_count": null,
      "metadata": {},
      "outputs": [],
      "source": [
        "#Porcentagem correpondente de cada tipologia\n",
        "\n",
        "df_brazil.groupby(['RURAL_URBAN']).size().plot(kind='pie', autopct='%0.2f%%', figsize=(10,10))"
      ]
    },
    {
      "cell_type": "code",
      "execution_count": 5,
      "metadata": {},
      "outputs": [],
      "source": [
        "# De acordo com o IBGE a menor cidade do Brasil tem 3565 km², dando o código abaixo , retona 3 cidades com área 0\n",
        "df_brazil[(df_brazil['AREA'] < 3.565)]\n",
        "df_brazil.drop(df_brazil.loc[(df_brazil['AREA'] <  3565)].index, inplace=True)"
      ]
    },
    {
      "cell_type": "code",
      "execution_count": 6,
      "metadata": {},
      "outputs": [],
      "source": [
        "# De acordo com o IBGE a  cidade do Brasil menos povoada tem 776 pessoas\n",
        "df_brazil[(df_brazil['IBGE_RES_POP'] < 776)]\n",
        "df_brazil.drop(df_brazil.loc[(df_brazil['IBGE_RES_POP']< 3.565)].index, inplace=True)"
      ]
    },
    {
      "cell_type": "code",
      "execution_count": 7,
      "metadata": {},
      "outputs": [
        {
          "data": {
            "text/plain": [
              "4075      2\n",
              "7582      2\n",
              "17178     1\n",
              "563433    1\n",
              "6049      1\n",
              "         ..\n",
              "75341     1\n",
              "1586      1\n",
              "47213     1\n",
              "141025    1\n",
              "24377     1\n",
              "Name: TAXES, Length: 424, dtype: int64"
            ]
          },
          "execution_count": 7,
          "metadata": {},
          "output_type": "execute_result"
        }
      ],
      "source": [
        "df_brazil['TAXES'].value_counts()"
      ]
    },
    {
      "cell_type": "code",
      "execution_count": 8,
      "metadata": {},
      "outputs": [
        {
          "data": {
            "text/plain": [
              "count    4.260000e+02\n",
              "mean     2.129235e+05\n",
              "std      1.595879e+06\n",
              "min      5.910000e+02\n",
              "25%      6.292750e+03\n",
              "50%      2.008100e+04\n",
              "75%      6.898725e+04\n",
              "max      2.914558e+07\n",
              "Name: TAXES, dtype: float64"
            ]
          },
          "execution_count": 8,
          "metadata": {},
          "output_type": "execute_result"
        }
      ],
      "source": [
        "df_brazil['TAXES'].describe()"
      ]
    },
    {
      "cell_type": "code",
      "execution_count": 9,
      "metadata": {},
      "outputs": [
        {
          "data": {
            "text/plain": [
              "<AxesSubplot:>"
            ]
          },
          "execution_count": 9,
          "metadata": {},
          "output_type": "execute_result"
        },
        {
          "data": {
            "image/png": "[encoded data removed]",
            "text/plain": [
              "<Figure size 432x288 with 1 Axes>"
            ]
          },
          "metadata": {
            "needs_background": "light"
          },
          "output_type": "display_data"
        }
      ],
      "source": [
        "df_brazil['TAXES'].plot.box()"
      ]
    },
    {
      "cell_type": "code",
      "execution_count": 10,
      "metadata": {},
      "outputs": [
        {
          "data": {
            "text/plain": [
              "<AxesSubplot:>"
            ]
          },
          "execution_count": 10,
          "metadata": {},
          "output_type": "execute_result"
        },
        {
          "data": {
            "image/png": "[encoded data removed]",
            "text/plain": [
              "<Figure size 432x288 with 1 Axes>"
            ]
          },
          "metadata": {
            "needs_background": "light"
          },
          "output_type": "display_data"
        }
      ],
      "source": [
        "df_brazil['TAXES'].hist()"
      ]
    },
    {
      "cell_type": "code",
      "execution_count": 11,
      "metadata": {},
      "outputs": [
        {
          "data": {
            "text/plain": [
              "<AxesSubplot:>"
            ]
          },
          "execution_count": 11,
          "metadata": {},
          "output_type": "execute_result"
        },
        {
          "data": {
            "image/png": "[encoded data removed]",
            "text/plain": [
              "<Figure size 432x288 with 1 Axes>"
            ]
          },
          "metadata": {
            "needs_background": "light"
          },
          "output_type": "display_data"
        }
      ],
      "source": [
        " # Como visto em cima , os dados não estão simétricos , então aplicamos log10\n",
        " df_brazil['TAXES_Log'] = log10(df_brazil['TAXES'])\n",
        " df_brazil['TAXES_Log'].hist()"
      ]
    },
    {
      "cell_type": "code",
      "execution_count": 12,
      "metadata": {},
      "outputs": [
        {
          "name": "stdout",
          "output_type": "stream",
          "text": [
            "0.7598219750170238\n"
          ]
        }
      ],
      "source": [
        "# Usando z-core robusto\n",
        "from numpy import abs\n",
        "mad = abs(df_brazil['TAXES_Log'] - df_brazil['TAXES_Log'].median()).median()*(1/0.6745)\n",
        "print(mad)"
      ]
    },
    {
      "cell_type": "code",
      "execution_count": 13,
      "metadata": {},
      "outputs": [
        {
          "data": {
            "text/plain": [
              "<AxesSubplot:>"
            ]
          },
          "execution_count": 13,
          "metadata": {},
          "output_type": "execute_result"
        },
        {
          "data": {
            "image/png": "[encoded data removed]",
            "text/plain": [
              "<Figure size 432x288 with 1 Axes>"
            ]
          },
          "metadata": {
            "needs_background": "light"
          },
          "output_type": "display_data"
        }
      ],
      "source": [
        "# Agora vamos plotar o z-score robusto\n",
        "(abs(df_brazil['TAXES_Log']-df_brazil['TAXES_Log'].median())/mad).hist()"
      ]
    },
    {
      "cell_type": "code",
      "execution_count": 14,
      "metadata": {},
      "outputs": [
        {
          "data": {
            "text/html": [
              "<div>\n",
              "<style scoped>\n",
              "    .dataframe tbody tr th:only-of-type {\n",
              "        vertical-align: middle;\n",
              "    }\n",
              "\n",
              "    .dataframe tbody tr th {\n",
              "        vertical-align: top;\n",
              "    }\n",
              "\n",
              "    .dataframe thead th {\n",
              "        text-align: right;\n",
              "    }\n",
              "</style>\n",
              "<table border=\"1\" class=\"dataframe\">\n",
              "  <thead>\n",
              "    <tr style=\"text-align: right;\">\n",
              "      <th></th>\n",
              "      <th>CITY</th>\n",
              "      <th>STATE</th>\n",
              "      <th>CAPITAL</th>\n",
              "      <th>IBGE_RES_POP</th>\n",
              "      <th>IBGE_RES_POP_BRAS</th>\n",
              "      <th>IBGE_RES_POP_ESTR</th>\n",
              "      <th>IBGE_DU</th>\n",
              "      <th>IBGE_DU_URBAN</th>\n",
              "      <th>IBGE_DU_RURAL</th>\n",
              "      <th>IBGE_POP</th>\n",
              "      <th>...</th>\n",
              "      <th>Pr_Assets</th>\n",
              "      <th>Pu_Assets</th>\n",
              "      <th>Cars</th>\n",
              "      <th>Motorcycles</th>\n",
              "      <th>Wheeled_tractor</th>\n",
              "      <th>UBER</th>\n",
              "      <th>MAC</th>\n",
              "      <th>WAL-MART</th>\n",
              "      <th>POST_OFFICES</th>\n",
              "      <th>TAXES_Log</th>\n",
              "    </tr>\n",
              "  </thead>\n",
              "  <tbody>\n",
              "    <tr>\n",
              "      <th>719</th>\n",
              "      <td>Brasília</td>\n",
              "      <td>DF</td>\n",
              "      <td>1</td>\n",
              "      <td>2570160</td>\n",
              "      <td>2564370</td>\n",
              "      <td>5790</td>\n",
              "      <td>774820</td>\n",
              "      <td>751558</td>\n",
              "      <td>23261</td>\n",
              "      <td>2450634</td>\n",
              "      <td>...</td>\n",
              "      <td>292093270172</td>\n",
              "      <td>8016164488595</td>\n",
              "      <td>1288107</td>\n",
              "      <td>211392</td>\n",
              "      <td>594</td>\n",
              "      <td>1</td>\n",
              "      <td>28</td>\n",
              "      <td>1</td>\n",
              "      <td>60</td>\n",
              "      <td>7.464573</td>\n",
              "    </tr>\n",
              "    <tr>\n",
              "      <th>933</th>\n",
              "      <td>Campo Grande</td>\n",
              "      <td>MS</td>\n",
              "      <td>1</td>\n",
              "      <td>786797</td>\n",
              "      <td>785017</td>\n",
              "      <td>1780</td>\n",
              "      <td>250542</td>\n",
              "      <td>247159</td>\n",
              "      <td>3383</td>\n",
              "      <td>765394</td>\n",
              "      <td>...</td>\n",
              "      <td>9588640536</td>\n",
              "      <td>122580555181</td>\n",
              "      <td>302311</td>\n",
              "      <td>169030</td>\n",
              "      <td>123</td>\n",
              "      <td>1</td>\n",
              "      <td>4</td>\n",
              "      <td>1</td>\n",
              "      <td>24</td>\n",
              "      <td>6.543740</td>\n",
              "    </tr>\n",
              "    <tr>\n",
              "      <th>2849</th>\n",
              "      <td>Manaus</td>\n",
              "      <td>AM</td>\n",
              "      <td>1</td>\n",
              "      <td>1802014</td>\n",
              "      <td>1798773</td>\n",
              "      <td>3241</td>\n",
              "      <td>461426</td>\n",
              "      <td>458959</td>\n",
              "      <td>2467</td>\n",
              "      <td>1760829</td>\n",
              "      <td>...</td>\n",
              "      <td>13996268907</td>\n",
              "      <td>232305730782</td>\n",
              "      <td>373985</td>\n",
              "      <td>192002</td>\n",
              "      <td>77</td>\n",
              "      <td>1</td>\n",
              "      <td>3</td>\n",
              "      <td>0</td>\n",
              "      <td>21</td>\n",
              "      <td>7.094584</td>\n",
              "    </tr>\n",
              "    <tr>\n",
              "      <th>3927</th>\n",
              "      <td>Porto Velho</td>\n",
              "      <td>RO</td>\n",
              "      <td>1</td>\n",
              "      <td>428527</td>\n",
              "      <td>427841</td>\n",
              "      <td>686</td>\n",
              "      <td>119755</td>\n",
              "      <td>109628</td>\n",
              "      <td>10126</td>\n",
              "      <td>387189</td>\n",
              "      <td>...</td>\n",
              "      <td>1888267091</td>\n",
              "      <td>16961139220</td>\n",
              "      <td>113792</td>\n",
              "      <td>108884</td>\n",
              "      <td>10</td>\n",
              "      <td>1</td>\n",
              "      <td>1</td>\n",
              "      <td>0</td>\n",
              "      <td>16</td>\n",
              "      <td>6.279349</td>\n",
              "    </tr>\n",
              "    <tr>\n",
              "      <th>5326</th>\n",
              "      <td>Uberaba</td>\n",
              "      <td>MG</td>\n",
              "      <td>0</td>\n",
              "      <td>295988</td>\n",
              "      <td>295644</td>\n",
              "      <td>344</td>\n",
              "      <td>96944</td>\n",
              "      <td>94685</td>\n",
              "      <td>2259</td>\n",
              "      <td>285743</td>\n",
              "      <td>...</td>\n",
              "      <td>3204456039</td>\n",
              "      <td>8100860683</td>\n",
              "      <td>122698</td>\n",
              "      <td>60104</td>\n",
              "      <td>27</td>\n",
              "      <td>1</td>\n",
              "      <td>3</td>\n",
              "      <td>1</td>\n",
              "      <td>11</td>\n",
              "      <td>6.227202</td>\n",
              "    </tr>\n",
              "    <tr>\n",
              "      <th>5327</th>\n",
              "      <td>Uberlândia</td>\n",
              "      <td>MG</td>\n",
              "      <td>0</td>\n",
              "      <td>604013</td>\n",
              "      <td>603274</td>\n",
              "      <td>739</td>\n",
              "      <td>196195</td>\n",
              "      <td>191137</td>\n",
              "      <td>5058</td>\n",
              "      <td>580561</td>\n",
              "      <td>...</td>\n",
              "      <td>32121822440</td>\n",
              "      <td>35931873949</td>\n",
              "      <td>247595</td>\n",
              "      <td>119057</td>\n",
              "      <td>391</td>\n",
              "      <td>1</td>\n",
              "      <td>4</td>\n",
              "      <td>1</td>\n",
              "      <td>22</td>\n",
              "      <td>6.904431</td>\n",
              "    </tr>\n",
              "  </tbody>\n",
              "</table>\n",
              "<p>6 rows × 82 columns</p>\n",
              "</div>"
            ],
            "text/plain": [
              "              CITY STATE  CAPITAL  IBGE_RES_POP  IBGE_RES_POP_BRAS  \\\n",
              "719       Brasília    DF        1       2570160            2564370   \n",
              "933   Campo Grande    MS        1        786797             785017   \n",
              "2849        Manaus    AM        1       1802014            1798773   \n",
              "3927   Porto Velho    RO        1        428527             427841   \n",
              "5326       Uberaba    MG        0        295988             295644   \n",
              "5327    Uberlândia    MG        0        604013             603274   \n",
              "\n",
              "      IBGE_RES_POP_ESTR  IBGE_DU  IBGE_DU_URBAN  IBGE_DU_RURAL  IBGE_POP  ...  \\\n",
              "719                5790   774820         751558          23261   2450634  ...   \n",
              "933                1780   250542         247159           3383    765394  ...   \n",
              "2849               3241   461426         458959           2467   1760829  ...   \n",
              "3927                686   119755         109628          10126    387189  ...   \n",
              "5326                344    96944          94685           2259    285743  ...   \n",
              "5327                739   196195         191137           5058    580561  ...   \n",
              "\n",
              "         Pr_Assets      Pu_Assets     Cars  Motorcycles  Wheeled_tractor  \\\n",
              "719   292093270172  8016164488595  1288107       211392              594   \n",
              "933     9588640536   122580555181   302311       169030              123   \n",
              "2849   13996268907   232305730782   373985       192002               77   \n",
              "3927    1888267091    16961139220   113792       108884               10   \n",
              "5326    3204456039     8100860683   122698        60104               27   \n",
              "5327   32121822440    35931873949   247595       119057              391   \n",
              "\n",
              "      UBER  MAC  WAL-MART  POST_OFFICES  TAXES_Log  \n",
              "719      1   28         1            60   7.464573  \n",
              "933      1    4         1            24   6.543740  \n",
              "2849     1    3         0            21   7.094584  \n",
              "3927     1    1         0            16   6.279349  \n",
              "5326     1    3         1            11   6.227202  \n",
              "5327     1    4         1            22   6.904431  \n",
              "\n",
              "[6 rows x 82 columns]"
            ]
          },
          "execution_count": 14,
          "metadata": {},
          "output_type": "execute_result"
        }
      ],
      "source": [
        "# Usando a limiar > 3.5, encontro os outliers\n",
        "df_brazil[abs(df_brazil['TAXES_Log']-df_brazil['TAXES_Log'].median())/mad > 2.5]"
      ]
    },
    {
      "cell_type": "code",
      "execution_count": 17,
      "metadata": {},
      "outputs": [],
      "source": [
        "# Gerando novo dataframe, eliminando os outros\n",
        "df_brazil = df_brazil[abs(df_brazil['TAXES_Log']-df_brazil['TAXES_Log'].median())/mad < 2.5]"
      ]
    },
    {
      "cell_type": "code",
      "execution_count": 18,
      "metadata": {},
      "outputs": [
        {
          "data": {
            "text/plain": [
              "<AxesSubplot:>"
            ]
          },
          "execution_count": 18,
          "metadata": {},
          "output_type": "execute_result"
        },
        {
          "data": {
            "image/png": "[encoded data removed]",
            "text/plain": [
              "<Figure size 432x288 with 1 Axes>"
            ]
          },
          "metadata": {
            "needs_background": "light"
          },
          "output_type": "display_data"
        }
      ],
      "source": [
        "df_brazil['TAXES'].plot.box()"
      ]
    }
  ],
  "metadata": {
    "colab": {
      "name": "Brazilian Cities.ipynb",
      "provenance": []
    },
    "kernelspec": {
      "display_name": "Python 3.10.4 64-bit",
      "language": "python",
      "name": "python3"
    },
    "language_info": {
      "codemirror_mode": {
        "name": "ipython",
        "version": 3
      },
      "file_extension": ".py",
      "mimetype": "text/x-python",
      "name": "python",
      "nbconvert_exporter": "python",
      "pygments_lexer": "ipython3",
      "version": "3.10.4"
    },
    "vscode": {
      "interpreter": {
        "hash": "fb4569285eef3a3450cb62085a5b1e0da4bce0af555edc33dcf29baf3acc1368"
      }
    }
  },
  "nbformat": 4,
  "nbformat_minor": 0
}
