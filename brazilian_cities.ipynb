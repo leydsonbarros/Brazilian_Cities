{
  "cells": [
    {
      "cell_type": "markdown",
      "metadata": {
        "id": "6d6lW9Mm3LOs"
      },
      "source": [
        "# **Notas**\n",
        "## **Alunos:**\n",
        "    **Leydson Barros**    \n",
        "    **Leandro Damaceno**\n",
        "\n",
        "\n",
        "---\n",
        "\n",
        "\n",
        "\n",
        "> https://medium.com/data-hackers/uma-introdu%C3%A7%C3%A3o-simples-ao-pandas-1e15eea37fa1\n",
        "\n"
      ]
    },
    {
      "cell_type": "markdown",
      "metadata": {
        "id": "9Z9rdt3ivJv7"
      },
      "source": [
        "# --**Brazilian Cities**--\n",
        "\n",
        "\n",
        "1.   Classificação: Ouro\n",
        "2.   Usabilidade: 10\n",
        "\n",
        "\n",
        "\n",
        "\n",
        "\n",
        "> https://www.kaggle.com/datasets/crisparada/brazilian-cities\n"
      ]
    },
    {
      "cell_type": "markdown",
      "metadata": {},
      "source": [
        "# --**Importações bibliotecas**-- "
      ]
    },
    {
      "cell_type": "code",
      "execution_count": 1,
      "metadata": {
        "id": "L02HLXLhwnTM"
      },
      "outputs": [],
      "source": [
        "import numpy as np\n",
        "import pandas as pd\n",
        "from numpy import log10\n",
        "import matplotlib.pyplot as plt\n",
        "%matplotlib inline\n"
      ]
    },
    {
      "cell_type": "markdown",
      "metadata": {},
      "source": [
        "# **Base de dados** "
      ]
    },
    {
      "cell_type": "code",
      "execution_count": 2,
      "metadata": {},
      "outputs": [],
      "source": [
        "\n",
        "df_brazil=pd.read_csv(\"datas\\BRAZIL_CITIES_REV2022.CSV\",sep=\",\")\n",
        "df_dictionary=pd.read_csv(\"datas\\Data_Dictionary.csv\",sep=\";\")\n",
        "pd.set_option('display.max_columns', None)\n",
        "pd.set_option('display.max_rows', None)\n"
      ]
    },
    {
      "cell_type": "markdown",
      "metadata": {},
      "source": [
        "# ***Especificação***\n",
        "#### 1. **Coletar\tdados ok**\n",
        "#### 2.\t**Realizar pré-processamento\tdos\tdados**\t\n",
        "\n",
        "\n",
        "*   Definição\tde\ttipos - ok\n",
        "*   Tratamento\tde\tdados\tausentes - ok\n",
        "*   Normalização\te\tdiscretização \n",
        "*   Limpeza\tde\tdados\t(univariado,\tbivariado\te\t\n",
        "multivariado)\n",
        "#### 3.\t**Apresentar estatísticas descritivas\tdos\tdados com\tvisualizações** \n",
        "#### 4.\t**Realizar teste\tde\thipóteses para comparação de\tvalores\tde\tcategorias\t(ex.\tpreço\tm2 em diferentes bairros)\te\tvisualizar diferenças**\n",
        "\n",
        "\n",
        "# **Bônus:**\n",
        "\n",
        "\n",
        "*   Integrar\tdados\tou extrair\tdados\tda\tWeb\n",
        "*   Utilizar técnicas não cobertas nas aula\n"
      ]
    },
    {
      "cell_type": "markdown",
      "metadata": {},
      "source": [
        "# **Pré-processamento** "
      ]
    },
    {
      "cell_type": "markdown",
      "metadata": {},
      "source": [
        "### Visualização dos dados"
      ]
    },
    {
      "cell_type": "code",
      "execution_count": 3,
      "metadata": {},
      "outputs": [
        {
          "data": {
            "text/html": [
              "<div>\n",
              "<style scoped>\n",
              "    .dataframe tbody tr th:only-of-type {\n",
              "        vertical-align: middle;\n",
              "    }\n",
              "\n",
              "    .dataframe tbody tr th {\n",
              "        vertical-align: top;\n",
              "    }\n",
              "\n",
              "    .dataframe thead th {\n",
              "        text-align: right;\n",
              "    }\n",
              "</style>\n",
              "<table border=\"1\" class=\"dataframe\">\n",
              "  <thead>\n",
              "    <tr style=\"text-align: right;\">\n",
              "      <th></th>\n",
              "      <th>FIELD</th>\n",
              "      <th>DESCRIPTION</th>\n",
              "      <th>REFERENCE</th>\n",
              "      <th>UNIT</th>\n",
              "      <th>SOURCE</th>\n",
              "      <th>Unnamed: 5</th>\n",
              "    </tr>\n",
              "  </thead>\n",
              "  <tbody>\n",
              "    <tr>\n",
              "      <th>0</th>\n",
              "      <td>CITY</td>\n",
              "      <td>Name of the City</td>\n",
              "      <td>NaN</td>\n",
              "      <td>NaN</td>\n",
              "      <td>-</td>\n",
              "      <td>NaN</td>\n",
              "    </tr>\n",
              "    <tr>\n",
              "      <th>1</th>\n",
              "      <td>STATE</td>\n",
              "      <td>Name of the State</td>\n",
              "      <td>NaN</td>\n",
              "      <td>NaN</td>\n",
              "      <td>-</td>\n",
              "      <td>NaN</td>\n",
              "    </tr>\n",
              "    <tr>\n",
              "      <th>2</th>\n",
              "      <td>CAPITAL</td>\n",
              "      <td>1 if Capital of State</td>\n",
              "      <td>NaN</td>\n",
              "      <td>NaN</td>\n",
              "      <td>-</td>\n",
              "      <td>NaN</td>\n",
              "    </tr>\n",
              "    <tr>\n",
              "      <th>3</th>\n",
              "      <td>IBGE_RES_POP</td>\n",
              "      <td>Resident Population</td>\n",
              "      <td>2010</td>\n",
              "      <td>-</td>\n",
              "      <td>https://sidra.ibge.gov.br/tabela/1497</td>\n",
              "      <td>NaN</td>\n",
              "    </tr>\n",
              "    <tr>\n",
              "      <th>4</th>\n",
              "      <td>IBGE_RES_POP_BRAS</td>\n",
              "      <td>Resident Population Brazilian</td>\n",
              "      <td>2010</td>\n",
              "      <td>-</td>\n",
              "      <td>https://sidra.ibge.gov.br/tabela/1497</td>\n",
              "      <td>NaN</td>\n",
              "    </tr>\n",
              "    <tr>\n",
              "      <th>5</th>\n",
              "      <td>IBGE_RES_POP_ESTR</td>\n",
              "      <td>Redident Population Foreigners</td>\n",
              "      <td>2010</td>\n",
              "      <td>-</td>\n",
              "      <td>https://sidra.ibge.gov.br/tabela/1497</td>\n",
              "      <td>NaN</td>\n",
              "    </tr>\n",
              "    <tr>\n",
              "      <th>6</th>\n",
              "      <td>IBGE_DU</td>\n",
              "      <td>Domestic Units Total</td>\n",
              "      <td>2010</td>\n",
              "      <td>-</td>\n",
              "      <td>https://sidra.ibge.gov.br/tabela/3495</td>\n",
              "      <td>NaN</td>\n",
              "    </tr>\n",
              "    <tr>\n",
              "      <th>7</th>\n",
              "      <td>IBGE_DU_URBAN</td>\n",
              "      <td>Domestic Units Urban</td>\n",
              "      <td>2010</td>\n",
              "      <td>-</td>\n",
              "      <td>https://sidra.ibge.gov.br/tabela/3495</td>\n",
              "      <td>NaN</td>\n",
              "    </tr>\n",
              "    <tr>\n",
              "      <th>8</th>\n",
              "      <td>IBGE_DU_RURAL</td>\n",
              "      <td>Domestic Units Rural</td>\n",
              "      <td>2010</td>\n",
              "      <td>-</td>\n",
              "      <td>https://sidra.ibge.gov.br/tabela/3495</td>\n",
              "      <td>NaN</td>\n",
              "    </tr>\n",
              "    <tr>\n",
              "      <th>9</th>\n",
              "      <td>IBGE_POP</td>\n",
              "      <td>Resident Population Regular Urban Planning</td>\n",
              "      <td>2010</td>\n",
              "      <td>-</td>\n",
              "      <td>https://sidra.ibge.gov.br/tabela/3365</td>\n",
              "      <td>NaN</td>\n",
              "    </tr>\n",
              "    <tr>\n",
              "      <th>10</th>\n",
              "      <td>IBGE_1</td>\n",
              "      <td>Resident Population Regular Urban Planning - u...</td>\n",
              "      <td>2010</td>\n",
              "      <td>-</td>\n",
              "      <td>https://sidra.ibge.gov.br/tabela/3365</td>\n",
              "      <td>NaN</td>\n",
              "    </tr>\n",
              "    <tr>\n",
              "      <th>11</th>\n",
              "      <td>IBGE_1-4</td>\n",
              "      <td>Resident Population Regular Urban Planning - f...</td>\n",
              "      <td>2010</td>\n",
              "      <td>-</td>\n",
              "      <td>https://sidra.ibge.gov.br/tabela/3365</td>\n",
              "      <td>NaN</td>\n",
              "    </tr>\n",
              "    <tr>\n",
              "      <th>12</th>\n",
              "      <td>IBGE_5-9</td>\n",
              "      <td>Resident Population Regular Urban Planning - f...</td>\n",
              "      <td>2010</td>\n",
              "      <td>-</td>\n",
              "      <td>https://sidra.ibge.gov.br/tabela/3365</td>\n",
              "      <td>NaN</td>\n",
              "    </tr>\n",
              "    <tr>\n",
              "      <th>13</th>\n",
              "      <td>IBGE_10-14</td>\n",
              "      <td>Resident Population Regular Urban Planning - f...</td>\n",
              "      <td>2010</td>\n",
              "      <td>-</td>\n",
              "      <td>https://sidra.ibge.gov.br/tabela/3365</td>\n",
              "      <td>NaN</td>\n",
              "    </tr>\n",
              "    <tr>\n",
              "      <th>14</th>\n",
              "      <td>IBGE_15-59</td>\n",
              "      <td>Resident Population Regular Urban Planning - f...</td>\n",
              "      <td>2010</td>\n",
              "      <td>-</td>\n",
              "      <td>https://sidra.ibge.gov.br/tabela/3365</td>\n",
              "      <td>NaN</td>\n",
              "    </tr>\n",
              "    <tr>\n",
              "      <th>15</th>\n",
              "      <td>IBGE_60+</td>\n",
              "      <td>Resident Population Regular Urban Planning - a...</td>\n",
              "      <td>2010</td>\n",
              "      <td>-</td>\n",
              "      <td>https://sidra.ibge.gov.br/tabela/3365</td>\n",
              "      <td>NaN</td>\n",
              "    </tr>\n",
              "    <tr>\n",
              "      <th>16</th>\n",
              "      <td>IBGE_PLANTED_AREA</td>\n",
              "      <td>Planted Area (hectares)</td>\n",
              "      <td>2017</td>\n",
              "      <td>1 hectare (1 hectare = 10,000 square meters)</td>\n",
              "      <td>https://sidra.ibge.gov.br/tabela/5457</td>\n",
              "      <td>NaN</td>\n",
              "    </tr>\n",
              "    <tr>\n",
              "      <th>17</th>\n",
              "      <td>IBGE_CROP_PRODUCTION_$</td>\n",
              "      <td>Crop Production</td>\n",
              "      <td>2017</td>\n",
              "      <td>$ 1,000 reais</td>\n",
              "      <td>https://sidra.ibge.gov.br/tabela/5457</td>\n",
              "      <td>NaN</td>\n",
              "    </tr>\n",
              "    <tr>\n",
              "      <th>18</th>\n",
              "      <td>IDHM Ranking</td>\n",
              "      <td>HDI Ranking</td>\n",
              "      <td>2010</td>\n",
              "      <td>-</td>\n",
              "      <td>http://www.br.undp.org/content/brazil/pt/home/...</td>\n",
              "      <td>NaN</td>\n",
              "    </tr>\n",
              "    <tr>\n",
              "      <th>19</th>\n",
              "      <td>IDHM</td>\n",
              "      <td>HDI Human Development Index</td>\n",
              "      <td>2010</td>\n",
              "      <td>-</td>\n",
              "      <td>http://www.br.undp.org/content/brazil/pt/home/...</td>\n",
              "      <td>NaN</td>\n",
              "    </tr>\n",
              "    <tr>\n",
              "      <th>20</th>\n",
              "      <td>IDHM_Renda</td>\n",
              "      <td>HDI GNI Index</td>\n",
              "      <td>2010</td>\n",
              "      <td>-</td>\n",
              "      <td>http://www.br.undp.org/content/brazil/pt/home/...</td>\n",
              "      <td>NaN</td>\n",
              "    </tr>\n",
              "    <tr>\n",
              "      <th>21</th>\n",
              "      <td>IDHM_Longevidade</td>\n",
              "      <td>HDI Life Expectancy index</td>\n",
              "      <td>2010</td>\n",
              "      <td>-</td>\n",
              "      <td>http://www.br.undp.org/content/brazil/pt/home/...</td>\n",
              "      <td>NaN</td>\n",
              "    </tr>\n",
              "    <tr>\n",
              "      <th>22</th>\n",
              "      <td>IDHM_Educacao</td>\n",
              "      <td>HDI Education index</td>\n",
              "      <td>2010</td>\n",
              "      <td>-</td>\n",
              "      <td>http://www.br.undp.org/content/brazil/pt/home/...</td>\n",
              "      <td>NaN</td>\n",
              "    </tr>\n",
              "    <tr>\n",
              "      <th>23</th>\n",
              "      <td>LONG</td>\n",
              "      <td>City Latitude</td>\n",
              "      <td>2010</td>\n",
              "      <td>-</td>\n",
              "      <td>ftp://geoftp.ibge.gov.br/organizacao_do_territ...</td>\n",
              "      <td>NaN</td>\n",
              "    </tr>\n",
              "    <tr>\n",
              "      <th>24</th>\n",
              "      <td>LAT</td>\n",
              "      <td>City Longitude</td>\n",
              "      <td>2010</td>\n",
              "      <td>-</td>\n",
              "      <td>ftp://geoftp.ibge.gov.br/organizacao_do_territ...</td>\n",
              "      <td>NaN</td>\n",
              "    </tr>\n",
              "    <tr>\n",
              "      <th>25</th>\n",
              "      <td>ALT</td>\n",
              "      <td>City Elevation (meters)</td>\n",
              "      <td>2010</td>\n",
              "      <td>1 meter</td>\n",
              "      <td>ftp://geoftp.ibge.gov.br/organizacao_do_territ...</td>\n",
              "      <td>NaN</td>\n",
              "    </tr>\n",
              "    <tr>\n",
              "      <th>26</th>\n",
              "      <td>PAY_TV</td>\n",
              "      <td>PayTV users</td>\n",
              "      <td>2019-03</td>\n",
              "      <td>-</td>\n",
              "      <td>https://cloud.anatel.gov.br/index.php/s/TpaFAw...</td>\n",
              "      <td>NaN</td>\n",
              "    </tr>\n",
              "    <tr>\n",
              "      <th>27</th>\n",
              "      <td>FIXED_PHONES</td>\n",
              "      <td>Fixed Fones (not cell phones) users</td>\n",
              "      <td>2019-03</td>\n",
              "      <td>-</td>\n",
              "      <td>https://cloud.anatel.gov.br/index.php/s/TpaFAw...</td>\n",
              "      <td>NaN</td>\n",
              "    </tr>\n",
              "    <tr>\n",
              "      <th>28</th>\n",
              "      <td>AREA</td>\n",
              "      <td>City area (squared kilometers)</td>\n",
              "      <td>2018</td>\n",
              "      <td>1 squared Kilometer (1 kilometer = 1,000,000 s...</td>\n",
              "      <td>https://www.ibge.gov.br/geociencias/organizaca...</td>\n",
              "      <td>NaN</td>\n",
              "    </tr>\n",
              "    <tr>\n",
              "      <th>29</th>\n",
              "      <td>REGIAO_TUR</td>\n",
              "      <td>Turism Category Region</td>\n",
              "      <td>2017</td>\n",
              "      <td>-</td>\n",
              "      <td>http://dados.turismo.gov.br/mapa-do-turismo-br...</td>\n",
              "      <td>NaN</td>\n",
              "    </tr>\n",
              "    <tr>\n",
              "      <th>30</th>\n",
              "      <td>CATEGORIA_TUR</td>\n",
              "      <td>Turism Category</td>\n",
              "      <td>2017</td>\n",
              "      <td>-</td>\n",
              "      <td>http://dados.turismo.gov.br/mapa-do-turismo-br...</td>\n",
              "      <td>NaN</td>\n",
              "    </tr>\n",
              "    <tr>\n",
              "      <th>31</th>\n",
              "      <td>ESTIMATED_POP</td>\n",
              "      <td>Estimated Population</td>\n",
              "      <td>2018-07</td>\n",
              "      <td>-</td>\n",
              "      <td>https://www.ibge.gov.br/estatisticas/sociais/p...</td>\n",
              "      <td>NaN</td>\n",
              "    </tr>\n",
              "    <tr>\n",
              "      <th>32</th>\n",
              "      <td>RURAL_URBAN</td>\n",
              "      <td>Rural or Urban Tipology</td>\n",
              "      <td>2016</td>\n",
              "      <td>-</td>\n",
              "      <td>https://www.ibge.gov.br/estatisticas/economica...</td>\n",
              "      <td>NaN</td>\n",
              "    </tr>\n",
              "    <tr>\n",
              "      <th>33</th>\n",
              "      <td>GVA_AGROPEC</td>\n",
              "      <td>Gross Added Value - Agropecuary</td>\n",
              "      <td>2016</td>\n",
              "      <td>$ 1,000 reais</td>\n",
              "      <td>https://www.ibge.gov.br/estatisticas/economica...</td>\n",
              "      <td>NaN</td>\n",
              "    </tr>\n",
              "    <tr>\n",
              "      <th>34</th>\n",
              "      <td>GVA_INDUSTRY</td>\n",
              "      <td>Gross Added Value - Industry</td>\n",
              "      <td>2016</td>\n",
              "      <td>$ 1,000 reais</td>\n",
              "      <td>https://www.ibge.gov.br/estatisticas/economica...</td>\n",
              "      <td>NaN</td>\n",
              "    </tr>\n",
              "    <tr>\n",
              "      <th>35</th>\n",
              "      <td>GVA_SERVICES</td>\n",
              "      <td>Gross Added Value - Services</td>\n",
              "      <td>2016</td>\n",
              "      <td>$ 1,000 reais</td>\n",
              "      <td>https://www.ibge.gov.br/estatisticas/economica...</td>\n",
              "      <td>NaN</td>\n",
              "    </tr>\n",
              "    <tr>\n",
              "      <th>36</th>\n",
              "      <td>GVA_PUBLIC</td>\n",
              "      <td>Gross Added Value - Public Services</td>\n",
              "      <td>2016</td>\n",
              "      <td>$ 1,000 reais</td>\n",
              "      <td>https://www.ibge.gov.br/estatisticas/economica...</td>\n",
              "      <td>NaN</td>\n",
              "    </tr>\n",
              "    <tr>\n",
              "      <th>37</th>\n",
              "      <td>GVA_TOTAL</td>\n",
              "      <td>Total Gross Added Value</td>\n",
              "      <td>2016</td>\n",
              "      <td>$ 1,000 reais</td>\n",
              "      <td>https://www.ibge.gov.br/estatisticas/economica...</td>\n",
              "      <td>NaN</td>\n",
              "    </tr>\n",
              "    <tr>\n",
              "      <th>38</th>\n",
              "      <td>TAXES</td>\n",
              "      <td>Taxes</td>\n",
              "      <td>2016</td>\n",
              "      <td>$ 1,000 reais</td>\n",
              "      <td>https://www.ibge.gov.br/estatisticas/economica...</td>\n",
              "      <td>NaN</td>\n",
              "    </tr>\n",
              "    <tr>\n",
              "      <th>39</th>\n",
              "      <td>GDP</td>\n",
              "      <td>Gross Domestic Product</td>\n",
              "      <td>2016</td>\n",
              "      <td>$ 1,000 reais</td>\n",
              "      <td>https://www.ibge.gov.br/estatisticas/economica...</td>\n",
              "      <td>NaN</td>\n",
              "    </tr>\n",
              "    <tr>\n",
              "      <th>40</th>\n",
              "      <td>POP_GDP</td>\n",
              "      <td>Population</td>\n",
              "      <td>2016</td>\n",
              "      <td>-</td>\n",
              "      <td>https://www.ibge.gov.br/estatisticas/economica...</td>\n",
              "      <td>NaN</td>\n",
              "    </tr>\n",
              "    <tr>\n",
              "      <th>41</th>\n",
              "      <td>GDP_CAPITA</td>\n",
              "      <td>Gross Domestic Product per capita</td>\n",
              "      <td>2016</td>\n",
              "      <td>-</td>\n",
              "      <td>https://www.ibge.gov.br/estatisticas/economica...</td>\n",
              "      <td>NaN</td>\n",
              "    </tr>\n",
              "    <tr>\n",
              "      <th>42</th>\n",
              "      <td>GVA_MAIN</td>\n",
              "      <td>Activity with higher GVA contribution</td>\n",
              "      <td>2016</td>\n",
              "      <td>-</td>\n",
              "      <td>https://www.ibge.gov.br/estatisticas/economica...</td>\n",
              "      <td>Para as variáveis com as maiores atividades ec...</td>\n",
              "    </tr>\n",
              "    <tr>\n",
              "      <th>43</th>\n",
              "      <td>MUN_EXPENDIT</td>\n",
              "      <td>Municipal expenditures - in reais</td>\n",
              "      <td>2016</td>\n",
              "      <td>$ 1 real</td>\n",
              "      <td>http://www.tesourotransparente.gov.br/ckan/dat...</td>\n",
              "      <td>NaN</td>\n",
              "    </tr>\n",
              "    <tr>\n",
              "      <th>44</th>\n",
              "      <td>COMP_TOT</td>\n",
              "      <td>Total number of companies</td>\n",
              "      <td>2016</td>\n",
              "      <td>-</td>\n",
              "      <td>https://sidra.ibge.gov.br/tabela/993</td>\n",
              "      <td>NaN</td>\n",
              "    </tr>\n",
              "    <tr>\n",
              "      <th>45</th>\n",
              "      <td>COMP_A</td>\n",
              "      <td>Number of Companies: Agriculture, livestock, f...</td>\n",
              "      <td>2016</td>\n",
              "      <td>-</td>\n",
              "      <td>https://sidra.ibge.gov.br/tabela/993</td>\n",
              "      <td>NaN</td>\n",
              "    </tr>\n",
              "    <tr>\n",
              "      <th>46</th>\n",
              "      <td>COMP_B</td>\n",
              "      <td>Number of Companies: Extractive industries</td>\n",
              "      <td>2016</td>\n",
              "      <td>-</td>\n",
              "      <td>https://sidra.ibge.gov.br/tabela/993</td>\n",
              "      <td>NaN</td>\n",
              "    </tr>\n",
              "    <tr>\n",
              "      <th>47</th>\n",
              "      <td>COMP_C</td>\n",
              "      <td>Number of Companies: Industries of transformation</td>\n",
              "      <td>2016</td>\n",
              "      <td>-</td>\n",
              "      <td>https://sidra.ibge.gov.br/tabela/993</td>\n",
              "      <td>NaN</td>\n",
              "    </tr>\n",
              "    <tr>\n",
              "      <th>48</th>\n",
              "      <td>COMP_D</td>\n",
              "      <td>Number of Companies: Electricity and gas</td>\n",
              "      <td>2016</td>\n",
              "      <td>-</td>\n",
              "      <td>https://sidra.ibge.gov.br/tabela/993</td>\n",
              "      <td>NaN</td>\n",
              "    </tr>\n",
              "    <tr>\n",
              "      <th>49</th>\n",
              "      <td>COMP_E</td>\n",
              "      <td>Number of Companies: Water, sewage, waste mana...</td>\n",
              "      <td>2016</td>\n",
              "      <td>-</td>\n",
              "      <td>https://sidra.ibge.gov.br/tabela/993</td>\n",
              "      <td>NaN</td>\n",
              "    </tr>\n",
              "    <tr>\n",
              "      <th>50</th>\n",
              "      <td>COMP_F</td>\n",
              "      <td>Number of Companies: Construction</td>\n",
              "      <td>2016</td>\n",
              "      <td>-</td>\n",
              "      <td>https://sidra.ibge.gov.br/tabela/993</td>\n",
              "      <td>NaN</td>\n",
              "    </tr>\n",
              "    <tr>\n",
              "      <th>51</th>\n",
              "      <td>COMP_G</td>\n",
              "      <td>Number of Companies: Trade; repair of motor ve...</td>\n",
              "      <td>2016</td>\n",
              "      <td>-</td>\n",
              "      <td>https://sidra.ibge.gov.br/tabela/993</td>\n",
              "      <td>NaN</td>\n",
              "    </tr>\n",
              "    <tr>\n",
              "      <th>52</th>\n",
              "      <td>COMP_H</td>\n",
              "      <td>Number of Companies: Transport, storage and mail</td>\n",
              "      <td>2016</td>\n",
              "      <td>-</td>\n",
              "      <td>https://sidra.ibge.gov.br/tabela/993</td>\n",
              "      <td>NaN</td>\n",
              "    </tr>\n",
              "    <tr>\n",
              "      <th>53</th>\n",
              "      <td>COMP_I</td>\n",
              "      <td>Number of Companies: Accommodation and food</td>\n",
              "      <td>2016</td>\n",
              "      <td>-</td>\n",
              "      <td>https://sidra.ibge.gov.br/tabela/993</td>\n",
              "      <td>NaN</td>\n",
              "    </tr>\n",
              "    <tr>\n",
              "      <th>54</th>\n",
              "      <td>COMP_J</td>\n",
              "      <td>Number of Companies: Information and communica...</td>\n",
              "      <td>2016</td>\n",
              "      <td>-</td>\n",
              "      <td>https://sidra.ibge.gov.br/tabela/993</td>\n",
              "      <td>NaN</td>\n",
              "    </tr>\n",
              "    <tr>\n",
              "      <th>55</th>\n",
              "      <td>COMP_K</td>\n",
              "      <td>Number of Companies: Financial, insurance and ...</td>\n",
              "      <td>2016</td>\n",
              "      <td>-</td>\n",
              "      <td>https://sidra.ibge.gov.br/tabela/993</td>\n",
              "      <td>NaN</td>\n",
              "    </tr>\n",
              "    <tr>\n",
              "      <th>56</th>\n",
              "      <td>COMP_L</td>\n",
              "      <td>Number of Companies: Real estate activities</td>\n",
              "      <td>2016</td>\n",
              "      <td>-</td>\n",
              "      <td>https://sidra.ibge.gov.br/tabela/993</td>\n",
              "      <td>NaN</td>\n",
              "    </tr>\n",
              "    <tr>\n",
              "      <th>57</th>\n",
              "      <td>COMP_M</td>\n",
              "      <td>Number of Companies: Professional, scientific ...</td>\n",
              "      <td>2016</td>\n",
              "      <td>-</td>\n",
              "      <td>https://sidra.ibge.gov.br/tabela/993</td>\n",
              "      <td>NaN</td>\n",
              "    </tr>\n",
              "    <tr>\n",
              "      <th>58</th>\n",
              "      <td>COMP_N</td>\n",
              "      <td>Number of Companies: Administrative activities...</td>\n",
              "      <td>2016</td>\n",
              "      <td>-</td>\n",
              "      <td>https://sidra.ibge.gov.br/tabela/993</td>\n",
              "      <td>NaN</td>\n",
              "    </tr>\n",
              "    <tr>\n",
              "      <th>59</th>\n",
              "      <td>COMP_O</td>\n",
              "      <td>Number of Companies: Public administration, de...</td>\n",
              "      <td>2016</td>\n",
              "      <td>-</td>\n",
              "      <td>https://sidra.ibge.gov.br/tabela/993</td>\n",
              "      <td>NaN</td>\n",
              "    </tr>\n",
              "    <tr>\n",
              "      <th>60</th>\n",
              "      <td>COMP_P</td>\n",
              "      <td>Number of Companies: Education</td>\n",
              "      <td>2016</td>\n",
              "      <td>-</td>\n",
              "      <td>https://sidra.ibge.gov.br/tabela/993</td>\n",
              "      <td>NaN</td>\n",
              "    </tr>\n",
              "    <tr>\n",
              "      <th>61</th>\n",
              "      <td>COMP_Q</td>\n",
              "      <td>Number of Companies: Human health and social s...</td>\n",
              "      <td>2016</td>\n",
              "      <td>-</td>\n",
              "      <td>https://sidra.ibge.gov.br/tabela/993</td>\n",
              "      <td>NaN</td>\n",
              "    </tr>\n",
              "    <tr>\n",
              "      <th>62</th>\n",
              "      <td>COMP_R</td>\n",
              "      <td>Number of Companies: Arts, culture, sport and ...</td>\n",
              "      <td>2016</td>\n",
              "      <td>-</td>\n",
              "      <td>https://sidra.ibge.gov.br/tabela/993</td>\n",
              "      <td>NaN</td>\n",
              "    </tr>\n",
              "    <tr>\n",
              "      <th>63</th>\n",
              "      <td>COMP_S</td>\n",
              "      <td>Number of Companies: Other service activities</td>\n",
              "      <td>2016</td>\n",
              "      <td>-</td>\n",
              "      <td>https://sidra.ibge.gov.br/tabela/993</td>\n",
              "      <td>NaN</td>\n",
              "    </tr>\n",
              "    <tr>\n",
              "      <th>64</th>\n",
              "      <td>COMP_T</td>\n",
              "      <td>Number of Companies: Domestic services</td>\n",
              "      <td>2016</td>\n",
              "      <td>-</td>\n",
              "      <td>https://sidra.ibge.gov.br/tabela/993</td>\n",
              "      <td>NaN</td>\n",
              "    </tr>\n",
              "    <tr>\n",
              "      <th>65</th>\n",
              "      <td>COMP_U</td>\n",
              "      <td>Number of Companies: International and other e...</td>\n",
              "      <td>2016</td>\n",
              "      <td>-</td>\n",
              "      <td>https://sidra.ibge.gov.br/tabela/993</td>\n",
              "      <td>NaN</td>\n",
              "    </tr>\n",
              "    <tr>\n",
              "      <th>66</th>\n",
              "      <td>HOTELS</td>\n",
              "      <td>Total number of hotels</td>\n",
              "      <td>2019-03</td>\n",
              "      <td>-</td>\n",
              "      <td>http://dados.turismo.gov.br/cadastur</td>\n",
              "      <td>NaN</td>\n",
              "    </tr>\n",
              "    <tr>\n",
              "      <th>67</th>\n",
              "      <td>BEDS</td>\n",
              "      <td>Toal number of hotel beds</td>\n",
              "      <td>2019-03</td>\n",
              "      <td>-</td>\n",
              "      <td>http://dados.turismo.gov.br/cadastur</td>\n",
              "      <td>NaN</td>\n",
              "    </tr>\n",
              "    <tr>\n",
              "      <th>68</th>\n",
              "      <td>Pr_Agencies</td>\n",
              "      <td>Total number of private bank agencies</td>\n",
              "      <td>2019-02</td>\n",
              "      <td>-</td>\n",
              "      <td>https://www.bcb.gov.br/estatisticas/estatistic...</td>\n",
              "      <td>NaN</td>\n",
              "    </tr>\n",
              "    <tr>\n",
              "      <th>69</th>\n",
              "      <td>Pu_Agencies</td>\n",
              "      <td>Total number of public bank agencies</td>\n",
              "      <td>2019-02</td>\n",
              "      <td>-</td>\n",
              "      <td>https://www.bcb.gov.br/estatisticas/estatistic...</td>\n",
              "      <td>NaN</td>\n",
              "    </tr>\n",
              "    <tr>\n",
              "      <th>70</th>\n",
              "      <td>Pr_Bank</td>\n",
              "      <td>Total number of private banks</td>\n",
              "      <td>2019-02</td>\n",
              "      <td>-</td>\n",
              "      <td>https://www.bcb.gov.br/estatisticas/estatistic...</td>\n",
              "      <td>NaN</td>\n",
              "    </tr>\n",
              "    <tr>\n",
              "      <th>71</th>\n",
              "      <td>Pu_Bank</td>\n",
              "      <td>Total number of public banks</td>\n",
              "      <td>2019-02</td>\n",
              "      <td>-</td>\n",
              "      <td>https://www.bcb.gov.br/estatisticas/estatistic...</td>\n",
              "      <td>NaN</td>\n",
              "    </tr>\n",
              "    <tr>\n",
              "      <th>72</th>\n",
              "      <td>Pr_Assets</td>\n",
              "      <td>Total amount of private bank assets</td>\n",
              "      <td>2019-02</td>\n",
              "      <td>$ 1 real</td>\n",
              "      <td>https://www.bcb.gov.br/estatisticas/estatistic...</td>\n",
              "      <td>NaN</td>\n",
              "    </tr>\n",
              "    <tr>\n",
              "      <th>73</th>\n",
              "      <td>Pu_Assets</td>\n",
              "      <td>Total amount of public bank assets</td>\n",
              "      <td>2019-02</td>\n",
              "      <td>$ 1 real</td>\n",
              "      <td>https://www.bcb.gov.br/estatisticas/estatistic...</td>\n",
              "      <td>NaN</td>\n",
              "    </tr>\n",
              "    <tr>\n",
              "      <th>74</th>\n",
              "      <td>Cars</td>\n",
              "      <td>Total number of cars</td>\n",
              "      <td>2019-01</td>\n",
              "      <td>-</td>\n",
              "      <td>https://www.denatran.gov.br/estatistica/639-fr...</td>\n",
              "      <td>NaN</td>\n",
              "    </tr>\n",
              "    <tr>\n",
              "      <th>75</th>\n",
              "      <td>Motorcycles</td>\n",
              "      <td>Total number of motorcycles, scooters, moped</td>\n",
              "      <td>2019-01</td>\n",
              "      <td>-</td>\n",
              "      <td>https://www.denatran.gov.br/estatistica/639-fr...</td>\n",
              "      <td>NaN</td>\n",
              "    </tr>\n",
              "    <tr>\n",
              "      <th>76</th>\n",
              "      <td>Wheeled_tractor</td>\n",
              "      <td>Total number of wheeled tractors</td>\n",
              "      <td>2019-01</td>\n",
              "      <td>-</td>\n",
              "      <td>https://www.denatran.gov.br/estatistica/639-fr...</td>\n",
              "      <td>NaN</td>\n",
              "    </tr>\n",
              "    <tr>\n",
              "      <th>77</th>\n",
              "      <td>UBER</td>\n",
              "      <td>1 if UBER</td>\n",
              "      <td>2019-05</td>\n",
              "      <td>-</td>\n",
              "      <td>https://www.uber.com/en-BR/cities/</td>\n",
              "      <td>NaN</td>\n",
              "    </tr>\n",
              "    <tr>\n",
              "      <th>78</th>\n",
              "      <td>MAC</td>\n",
              "      <td>Total number of Mac Donalds stores</td>\n",
              "      <td>2018-11</td>\n",
              "      <td>-</td>\n",
              "      <td>https://www.mcdonalds.com.br/enderecos</td>\n",
              "      <td>NaN</td>\n",
              "    </tr>\n",
              "    <tr>\n",
              "      <th>79</th>\n",
              "      <td>WALLMART</td>\n",
              "      <td>Total number of Walmart Stores</td>\n",
              "      <td>2018-12</td>\n",
              "      <td>-</td>\n",
              "      <td>https://tabloide.walmartbrasil.com.br/</td>\n",
              "      <td>NaN</td>\n",
              "    </tr>\n",
              "    <tr>\n",
              "      <th>80</th>\n",
              "      <td>POST_OFFICES</td>\n",
              "      <td>Total number of post offices</td>\n",
              "      <td>2019-05</td>\n",
              "      <td>-</td>\n",
              "      <td>http://www2.correios.com.br/sistemas/agencias/</td>\n",
              "      <td>NaN</td>\n",
              "    </tr>\n",
              "    <tr>\n",
              "      <th>81</th>\n",
              "      <td>NaN</td>\n",
              "      <td>NaN</td>\n",
              "      <td>NaN</td>\n",
              "      <td>NaN</td>\n",
              "      <td>NaN</td>\n",
              "      <td>NaN</td>\n",
              "    </tr>\n",
              "    <tr>\n",
              "      <th>82</th>\n",
              "      <td>NaN</td>\n",
              "      <td>NaN</td>\n",
              "      <td>NaN</td>\n",
              "      <td>NaN</td>\n",
              "      <td>NaN</td>\n",
              "      <td>NaN</td>\n",
              "    </tr>\n",
              "    <tr>\n",
              "      <th>83</th>\n",
              "      <td>NaN</td>\n",
              "      <td>NaN</td>\n",
              "      <td>NaN</td>\n",
              "      <td>NaN</td>\n",
              "      <td>NaN</td>\n",
              "      <td>NaN</td>\n",
              "    </tr>\n",
              "    <tr>\n",
              "      <th>84</th>\n",
              "      <td>NaN</td>\n",
              "      <td>NaN</td>\n",
              "      <td>NaN</td>\n",
              "      <td>NaN</td>\n",
              "      <td>NaN</td>\n",
              "      <td>NaN</td>\n",
              "    </tr>\n",
              "    <tr>\n",
              "      <th>85</th>\n",
              "      <td>NaN</td>\n",
              "      <td>NaN</td>\n",
              "      <td>NaN</td>\n",
              "      <td>NaN</td>\n",
              "      <td>NaN</td>\n",
              "      <td>NaN</td>\n",
              "    </tr>\n",
              "    <tr>\n",
              "      <th>86</th>\n",
              "      <td>NaN</td>\n",
              "      <td>NaN</td>\n",
              "      <td>NaN</td>\n",
              "      <td>NaN</td>\n",
              "      <td>NaN</td>\n",
              "      <td>NaN</td>\n",
              "    </tr>\n",
              "    <tr>\n",
              "      <th>87</th>\n",
              "      <td>NaN</td>\n",
              "      <td>NaN</td>\n",
              "      <td>NaN</td>\n",
              "      <td>NaN</td>\n",
              "      <td>NaN</td>\n",
              "      <td>NaN</td>\n",
              "    </tr>\n",
              "    <tr>\n",
              "      <th>88</th>\n",
              "      <td>NaN</td>\n",
              "      <td>NaN</td>\n",
              "      <td>NaN</td>\n",
              "      <td>NaN</td>\n",
              "      <td>NaN</td>\n",
              "      <td>NaN</td>\n",
              "    </tr>\n",
              "    <tr>\n",
              "      <th>89</th>\n",
              "      <td>NaN</td>\n",
              "      <td>NaN</td>\n",
              "      <td>NaN</td>\n",
              "      <td>NaN</td>\n",
              "      <td>NaN</td>\n",
              "      <td>NaN</td>\n",
              "    </tr>\n",
              "    <tr>\n",
              "      <th>90</th>\n",
              "      <td>NaN</td>\n",
              "      <td>NaN</td>\n",
              "      <td>NaN</td>\n",
              "      <td>NaN</td>\n",
              "      <td>NaN</td>\n",
              "      <td>NaN</td>\n",
              "    </tr>\n",
              "    <tr>\n",
              "      <th>91</th>\n",
              "      <td>NaN</td>\n",
              "      <td>NaN</td>\n",
              "      <td>NaN</td>\n",
              "      <td>NaN</td>\n",
              "      <td>NaN</td>\n",
              "      <td>NaN</td>\n",
              "    </tr>\n",
              "    <tr>\n",
              "      <th>92</th>\n",
              "      <td>NaN</td>\n",
              "      <td>NaN</td>\n",
              "      <td>NaN</td>\n",
              "      <td>NaN</td>\n",
              "      <td>NaN</td>\n",
              "      <td>NaN</td>\n",
              "    </tr>\n",
              "    <tr>\n",
              "      <th>93</th>\n",
              "      <td>NaN</td>\n",
              "      <td>NaN</td>\n",
              "      <td>NaN</td>\n",
              "      <td>NaN</td>\n",
              "      <td>NaN</td>\n",
              "      <td>NaN</td>\n",
              "    </tr>\n",
              "    <tr>\n",
              "      <th>94</th>\n",
              "      <td>NaN</td>\n",
              "      <td>NaN</td>\n",
              "      <td>NaN</td>\n",
              "      <td>NaN</td>\n",
              "      <td>NaN</td>\n",
              "      <td>NaN</td>\n",
              "    </tr>\n",
              "    <tr>\n",
              "      <th>95</th>\n",
              "      <td>NaN</td>\n",
              "      <td>NaN</td>\n",
              "      <td>NaN</td>\n",
              "      <td>NaN</td>\n",
              "      <td>NaN</td>\n",
              "      <td>NaN</td>\n",
              "    </tr>\n",
              "  </tbody>\n",
              "</table>\n",
              "</div>"
            ],
            "text/plain": [
              "                     FIELD                                        DESCRIPTION  \\\n",
              "0                     CITY                                   Name of the City   \n",
              "1                    STATE                                  Name of the State   \n",
              "2                  CAPITAL                              1 if Capital of State   \n",
              "3             IBGE_RES_POP                               Resident Population    \n",
              "4        IBGE_RES_POP_BRAS                      Resident Population Brazilian   \n",
              "5        IBGE_RES_POP_ESTR                     Redident Population Foreigners   \n",
              "6                  IBGE_DU                              Domestic Units Total    \n",
              "7            IBGE_DU_URBAN                              Domestic Units Urban    \n",
              "8            IBGE_DU_RURAL                               Domestic Units Rural   \n",
              "9                 IBGE_POP         Resident Population Regular Urban Planning   \n",
              "10                  IBGE_1  Resident Population Regular Urban Planning - u...   \n",
              "11                IBGE_1-4  Resident Population Regular Urban Planning - f...   \n",
              "12                IBGE_5-9  Resident Population Regular Urban Planning - f...   \n",
              "13              IBGE_10-14  Resident Population Regular Urban Planning - f...   \n",
              "14              IBGE_15-59  Resident Population Regular Urban Planning - f...   \n",
              "15                IBGE_60+  Resident Population Regular Urban Planning - a...   \n",
              "16       IBGE_PLANTED_AREA                           Planted Area (hectares)    \n",
              "17  IBGE_CROP_PRODUCTION_$                                    Crop Production   \n",
              "18            IDHM Ranking                                        HDI Ranking   \n",
              "19                    IDHM                        HDI Human Development Index   \n",
              "20              IDHM_Renda                                      HDI GNI Index   \n",
              "21        IDHM_Longevidade                          HDI Life Expectancy index   \n",
              "22           IDHM_Educacao                                HDI Education index   \n",
              "23                    LONG                                     City Latitude    \n",
              "24                     LAT                                    City Longitude    \n",
              "25                     ALT                            City Elevation (meters)   \n",
              "26                  PAY_TV                                        PayTV users   \n",
              "27            FIXED_PHONES                Fixed Fones (not cell phones) users   \n",
              "28                    AREA                     City area (squared kilometers)   \n",
              "29              REGIAO_TUR                             Turism Category Region   \n",
              "30           CATEGORIA_TUR                                   Turism Category    \n",
              "31           ESTIMATED_POP                               Estimated Population   \n",
              "32             RURAL_URBAN                            Rural or Urban Tipology   \n",
              "33             GVA_AGROPEC                    Gross Added Value - Agropecuary   \n",
              "34            GVA_INDUSTRY                       Gross Added Value - Industry   \n",
              "35            GVA_SERVICES                       Gross Added Value - Services   \n",
              "36              GVA_PUBLIC                Gross Added Value - Public Services   \n",
              "37               GVA_TOTAL                            Total Gross Added Value   \n",
              "38                   TAXES                                              Taxes   \n",
              "39                     GDP                             Gross Domestic Product   \n",
              "40                 POP_GDP                                         Population   \n",
              "41              GDP_CAPITA                  Gross Domestic Product per capita   \n",
              "42                GVA_MAIN              Activity with higher GVA contribution   \n",
              "43            MUN_EXPENDIT                  Municipal expenditures - in reais   \n",
              "44                COMP_TOT                          Total number of companies   \n",
              "45                  COMP_A  Number of Companies: Agriculture, livestock, f...   \n",
              "46                  COMP_B         Number of Companies: Extractive industries   \n",
              "47                  COMP_C  Number of Companies: Industries of transformation   \n",
              "48                  COMP_D           Number of Companies: Electricity and gas   \n",
              "49                  COMP_E  Number of Companies: Water, sewage, waste mana...   \n",
              "50                  COMP_F                  Number of Companies: Construction   \n",
              "51                  COMP_G  Number of Companies: Trade; repair of motor ve...   \n",
              "52                  COMP_H   Number of Companies: Transport, storage and mail   \n",
              "53                  COMP_I        Number of Companies: Accommodation and food   \n",
              "54                  COMP_J  Number of Companies: Information and communica...   \n",
              "55                  COMP_K  Number of Companies: Financial, insurance and ...   \n",
              "56                  COMP_L        Number of Companies: Real estate activities   \n",
              "57                  COMP_M  Number of Companies: Professional, scientific ...   \n",
              "58                  COMP_N  Number of Companies: Administrative activities...   \n",
              "59                  COMP_O  Number of Companies: Public administration, de...   \n",
              "60                  COMP_P                     Number of Companies: Education   \n",
              "61                  COMP_Q  Number of Companies: Human health and social s...   \n",
              "62                  COMP_R  Number of Companies: Arts, culture, sport and ...   \n",
              "63                  COMP_S      Number of Companies: Other service activities   \n",
              "64                  COMP_T             Number of Companies: Domestic services   \n",
              "65                  COMP_U  Number of Companies: International and other e...   \n",
              "66                  HOTELS                             Total number of hotels   \n",
              "67                    BEDS                          Toal number of hotel beds   \n",
              "68             Pr_Agencies              Total number of private bank agencies   \n",
              "69             Pu_Agencies               Total number of public bank agencies   \n",
              "70                 Pr_Bank                      Total number of private banks   \n",
              "71                 Pu_Bank                       Total number of public banks   \n",
              "72               Pr_Assets                Total amount of private bank assets   \n",
              "73               Pu_Assets                 Total amount of public bank assets   \n",
              "74                    Cars                               Total number of cars   \n",
              "75             Motorcycles       Total number of motorcycles, scooters, moped   \n",
              "76         Wheeled_tractor                   Total number of wheeled tractors   \n",
              "77                    UBER                                         1 if UBER    \n",
              "78                     MAC                 Total number of Mac Donalds stores   \n",
              "79                WALLMART                     Total number of Walmart Stores   \n",
              "80            POST_OFFICES                       Total number of post offices   \n",
              "81                     NaN                                                NaN   \n",
              "82                     NaN                                                NaN   \n",
              "83                     NaN                                                NaN   \n",
              "84                     NaN                                                NaN   \n",
              "85                     NaN                                                NaN   \n",
              "86                     NaN                                                NaN   \n",
              "87                     NaN                                                NaN   \n",
              "88                     NaN                                                NaN   \n",
              "89                     NaN                                                NaN   \n",
              "90                     NaN                                                NaN   \n",
              "91                     NaN                                                NaN   \n",
              "92                     NaN                                                NaN   \n",
              "93                     NaN                                                NaN   \n",
              "94                     NaN                                                NaN   \n",
              "95                     NaN                                                NaN   \n",
              "\n",
              "   REFERENCE                                               UNIT  \\\n",
              "0        NaN                                                NaN   \n",
              "1        NaN                                                NaN   \n",
              "2        NaN                                                NaN   \n",
              "3       2010                                                  -   \n",
              "4       2010                                                  -   \n",
              "5       2010                                                  -   \n",
              "6       2010                                                  -   \n",
              "7       2010                                                  -   \n",
              "8       2010                                                  -   \n",
              "9       2010                                                  -   \n",
              "10      2010                                                  -   \n",
              "11      2010                                                  -   \n",
              "12      2010                                                  -   \n",
              "13      2010                                                  -   \n",
              "14      2010                                                  -   \n",
              "15      2010                                                  -   \n",
              "16      2017       1 hectare (1 hectare = 10,000 square meters)   \n",
              "17      2017                                      $ 1,000 reais   \n",
              "18      2010                                                  -   \n",
              "19      2010                                                  -   \n",
              "20      2010                                                  -   \n",
              "21      2010                                                  -   \n",
              "22      2010                                                  -   \n",
              "23      2010                                                  -   \n",
              "24      2010                                                  -   \n",
              "25      2010                                            1 meter   \n",
              "26   2019-03                                                  -   \n",
              "27   2019-03                                                  -   \n",
              "28      2018  1 squared Kilometer (1 kilometer = 1,000,000 s...   \n",
              "29      2017                                                  -   \n",
              "30      2017                                                  -   \n",
              "31   2018-07                                                  -   \n",
              "32      2016                                                  -   \n",
              "33      2016                                      $ 1,000 reais   \n",
              "34      2016                                      $ 1,000 reais   \n",
              "35      2016                                      $ 1,000 reais   \n",
              "36      2016                                      $ 1,000 reais   \n",
              "37      2016                                      $ 1,000 reais   \n",
              "38      2016                                      $ 1,000 reais   \n",
              "39      2016                                      $ 1,000 reais   \n",
              "40      2016                                                  -   \n",
              "41      2016                                                  -   \n",
              "42      2016                                                  -   \n",
              "43      2016                                           $ 1 real   \n",
              "44      2016                                                  -   \n",
              "45      2016                                                  -   \n",
              "46      2016                                                  -   \n",
              "47      2016                                                  -   \n",
              "48      2016                                                  -   \n",
              "49      2016                                                  -   \n",
              "50      2016                                                  -   \n",
              "51      2016                                                  -   \n",
              "52      2016                                                  -   \n",
              "53      2016                                                  -   \n",
              "54      2016                                                  -   \n",
              "55      2016                                                  -   \n",
              "56      2016                                                  -   \n",
              "57      2016                                                  -   \n",
              "58      2016                                                  -   \n",
              "59      2016                                                  -   \n",
              "60      2016                                                  -   \n",
              "61      2016                                                  -   \n",
              "62      2016                                                  -   \n",
              "63      2016                                                  -   \n",
              "64      2016                                                  -   \n",
              "65      2016                                                  -   \n",
              "66   2019-03                                                  -   \n",
              "67   2019-03                                                  -   \n",
              "68   2019-02                                                  -   \n",
              "69   2019-02                                                  -   \n",
              "70   2019-02                                                  -   \n",
              "71   2019-02                                                  -   \n",
              "72   2019-02                                           $ 1 real   \n",
              "73   2019-02                                           $ 1 real   \n",
              "74   2019-01                                                  -   \n",
              "75   2019-01                                                  -   \n",
              "76   2019-01                                                  -   \n",
              "77   2019-05                                                  -   \n",
              "78   2018-11                                                  -   \n",
              "79   2018-12                                                  -   \n",
              "80   2019-05                                                  -   \n",
              "81       NaN                                                NaN   \n",
              "82       NaN                                                NaN   \n",
              "83       NaN                                                NaN   \n",
              "84       NaN                                                NaN   \n",
              "85       NaN                                                NaN   \n",
              "86       NaN                                                NaN   \n",
              "87       NaN                                                NaN   \n",
              "88       NaN                                                NaN   \n",
              "89       NaN                                                NaN   \n",
              "90       NaN                                                NaN   \n",
              "91       NaN                                                NaN   \n",
              "92       NaN                                                NaN   \n",
              "93       NaN                                                NaN   \n",
              "94       NaN                                                NaN   \n",
              "95       NaN                                                NaN   \n",
              "\n",
              "                                               SOURCE  \\\n",
              "0                                                   -   \n",
              "1                                                   -   \n",
              "2                                                   -   \n",
              "3               https://sidra.ibge.gov.br/tabela/1497   \n",
              "4               https://sidra.ibge.gov.br/tabela/1497   \n",
              "5               https://sidra.ibge.gov.br/tabela/1497   \n",
              "6               https://sidra.ibge.gov.br/tabela/3495   \n",
              "7               https://sidra.ibge.gov.br/tabela/3495   \n",
              "8               https://sidra.ibge.gov.br/tabela/3495   \n",
              "9               https://sidra.ibge.gov.br/tabela/3365   \n",
              "10              https://sidra.ibge.gov.br/tabela/3365   \n",
              "11              https://sidra.ibge.gov.br/tabela/3365   \n",
              "12              https://sidra.ibge.gov.br/tabela/3365   \n",
              "13              https://sidra.ibge.gov.br/tabela/3365   \n",
              "14              https://sidra.ibge.gov.br/tabela/3365   \n",
              "15              https://sidra.ibge.gov.br/tabela/3365   \n",
              "16              https://sidra.ibge.gov.br/tabela/5457   \n",
              "17              https://sidra.ibge.gov.br/tabela/5457   \n",
              "18  http://www.br.undp.org/content/brazil/pt/home/...   \n",
              "19  http://www.br.undp.org/content/brazil/pt/home/...   \n",
              "20  http://www.br.undp.org/content/brazil/pt/home/...   \n",
              "21  http://www.br.undp.org/content/brazil/pt/home/...   \n",
              "22  http://www.br.undp.org/content/brazil/pt/home/...   \n",
              "23  ftp://geoftp.ibge.gov.br/organizacao_do_territ...   \n",
              "24  ftp://geoftp.ibge.gov.br/organizacao_do_territ...   \n",
              "25  ftp://geoftp.ibge.gov.br/organizacao_do_territ...   \n",
              "26  https://cloud.anatel.gov.br/index.php/s/TpaFAw...   \n",
              "27  https://cloud.anatel.gov.br/index.php/s/TpaFAw...   \n",
              "28  https://www.ibge.gov.br/geociencias/organizaca...   \n",
              "29  http://dados.turismo.gov.br/mapa-do-turismo-br...   \n",
              "30  http://dados.turismo.gov.br/mapa-do-turismo-br...   \n",
              "31  https://www.ibge.gov.br/estatisticas/sociais/p...   \n",
              "32  https://www.ibge.gov.br/estatisticas/economica...   \n",
              "33  https://www.ibge.gov.br/estatisticas/economica...   \n",
              "34  https://www.ibge.gov.br/estatisticas/economica...   \n",
              "35  https://www.ibge.gov.br/estatisticas/economica...   \n",
              "36  https://www.ibge.gov.br/estatisticas/economica...   \n",
              "37  https://www.ibge.gov.br/estatisticas/economica...   \n",
              "38  https://www.ibge.gov.br/estatisticas/economica...   \n",
              "39  https://www.ibge.gov.br/estatisticas/economica...   \n",
              "40  https://www.ibge.gov.br/estatisticas/economica...   \n",
              "41  https://www.ibge.gov.br/estatisticas/economica...   \n",
              "42  https://www.ibge.gov.br/estatisticas/economica...   \n",
              "43  http://www.tesourotransparente.gov.br/ckan/dat...   \n",
              "44               https://sidra.ibge.gov.br/tabela/993   \n",
              "45               https://sidra.ibge.gov.br/tabela/993   \n",
              "46               https://sidra.ibge.gov.br/tabela/993   \n",
              "47               https://sidra.ibge.gov.br/tabela/993   \n",
              "48               https://sidra.ibge.gov.br/tabela/993   \n",
              "49               https://sidra.ibge.gov.br/tabela/993   \n",
              "50               https://sidra.ibge.gov.br/tabela/993   \n",
              "51               https://sidra.ibge.gov.br/tabela/993   \n",
              "52               https://sidra.ibge.gov.br/tabela/993   \n",
              "53               https://sidra.ibge.gov.br/tabela/993   \n",
              "54               https://sidra.ibge.gov.br/tabela/993   \n",
              "55               https://sidra.ibge.gov.br/tabela/993   \n",
              "56               https://sidra.ibge.gov.br/tabela/993   \n",
              "57               https://sidra.ibge.gov.br/tabela/993   \n",
              "58               https://sidra.ibge.gov.br/tabela/993   \n",
              "59               https://sidra.ibge.gov.br/tabela/993   \n",
              "60               https://sidra.ibge.gov.br/tabela/993   \n",
              "61               https://sidra.ibge.gov.br/tabela/993   \n",
              "62               https://sidra.ibge.gov.br/tabela/993   \n",
              "63               https://sidra.ibge.gov.br/tabela/993   \n",
              "64               https://sidra.ibge.gov.br/tabela/993   \n",
              "65               https://sidra.ibge.gov.br/tabela/993   \n",
              "66               http://dados.turismo.gov.br/cadastur   \n",
              "67               http://dados.turismo.gov.br/cadastur   \n",
              "68  https://www.bcb.gov.br/estatisticas/estatistic...   \n",
              "69  https://www.bcb.gov.br/estatisticas/estatistic...   \n",
              "70  https://www.bcb.gov.br/estatisticas/estatistic...   \n",
              "71  https://www.bcb.gov.br/estatisticas/estatistic...   \n",
              "72  https://www.bcb.gov.br/estatisticas/estatistic...   \n",
              "73  https://www.bcb.gov.br/estatisticas/estatistic...   \n",
              "74  https://www.denatran.gov.br/estatistica/639-fr...   \n",
              "75  https://www.denatran.gov.br/estatistica/639-fr...   \n",
              "76  https://www.denatran.gov.br/estatistica/639-fr...   \n",
              "77                 https://www.uber.com/en-BR/cities/   \n",
              "78             https://www.mcdonalds.com.br/enderecos   \n",
              "79             https://tabloide.walmartbrasil.com.br/   \n",
              "80     http://www2.correios.com.br/sistemas/agencias/   \n",
              "81                                                NaN   \n",
              "82                                                NaN   \n",
              "83                                                NaN   \n",
              "84                                                NaN   \n",
              "85                                                NaN   \n",
              "86                                                NaN   \n",
              "87                                                NaN   \n",
              "88                                                NaN   \n",
              "89                                                NaN   \n",
              "90                                                NaN   \n",
              "91                                                NaN   \n",
              "92                                                NaN   \n",
              "93                                                NaN   \n",
              "94                                                NaN   \n",
              "95                                                NaN   \n",
              "\n",
              "                                           Unnamed: 5  \n",
              "0                                                 NaN  \n",
              "1                                                 NaN  \n",
              "2                                                 NaN  \n",
              "3                                                 NaN  \n",
              "4                                                 NaN  \n",
              "5                                                 NaN  \n",
              "6                                                 NaN  \n",
              "7                                                 NaN  \n",
              "8                                                 NaN  \n",
              "9                                                 NaN  \n",
              "10                                                NaN  \n",
              "11                                                NaN  \n",
              "12                                                NaN  \n",
              "13                                                NaN  \n",
              "14                                                NaN  \n",
              "15                                                NaN  \n",
              "16                                                NaN  \n",
              "17                                                NaN  \n",
              "18                                                NaN  \n",
              "19                                                NaN  \n",
              "20                                                NaN  \n",
              "21                                                NaN  \n",
              "22                                                NaN  \n",
              "23                                                NaN  \n",
              "24                                                NaN  \n",
              "25                                                NaN  \n",
              "26                                                NaN  \n",
              "27                                                NaN  \n",
              "28                                                NaN  \n",
              "29                                                NaN  \n",
              "30                                                NaN  \n",
              "31                                                NaN  \n",
              "32                                                NaN  \n",
              "33                                                NaN  \n",
              "34                                                NaN  \n",
              "35                                                NaN  \n",
              "36                                                NaN  \n",
              "37                                                NaN  \n",
              "38                                                NaN  \n",
              "39                                                NaN  \n",
              "40                                                NaN  \n",
              "41                                                NaN  \n",
              "42  Para as variáveis com as maiores atividades ec...  \n",
              "43                                                NaN  \n",
              "44                                                NaN  \n",
              "45                                                NaN  \n",
              "46                                                NaN  \n",
              "47                                                NaN  \n",
              "48                                                NaN  \n",
              "49                                                NaN  \n",
              "50                                                NaN  \n",
              "51                                                NaN  \n",
              "52                                                NaN  \n",
              "53                                                NaN  \n",
              "54                                                NaN  \n",
              "55                                                NaN  \n",
              "56                                                NaN  \n",
              "57                                                NaN  \n",
              "58                                                NaN  \n",
              "59                                                NaN  \n",
              "60                                                NaN  \n",
              "61                                                NaN  \n",
              "62                                                NaN  \n",
              "63                                                NaN  \n",
              "64                                                NaN  \n",
              "65                                                NaN  \n",
              "66                                                NaN  \n",
              "67                                                NaN  \n",
              "68                                                NaN  \n",
              "69                                                NaN  \n",
              "70                                                NaN  \n",
              "71                                                NaN  \n",
              "72                                                NaN  \n",
              "73                                                NaN  \n",
              "74                                                NaN  \n",
              "75                                                NaN  \n",
              "76                                                NaN  \n",
              "77                                                NaN  \n",
              "78                                                NaN  \n",
              "79                                                NaN  \n",
              "80                                                NaN  \n",
              "81                                                NaN  \n",
              "82                                                NaN  \n",
              "83                                                NaN  \n",
              "84                                                NaN  \n",
              "85                                                NaN  \n",
              "86                                                NaN  \n",
              "87                                                NaN  \n",
              "88                                                NaN  \n",
              "89                                                NaN  \n",
              "90                                                NaN  \n",
              "91                                                NaN  \n",
              "92                                                NaN  \n",
              "93                                                NaN  \n",
              "94                                                NaN  \n",
              "95                                                NaN  "
            ]
          },
          "execution_count": 3,
          "metadata": {},
          "output_type": "execute_result"
        }
      ],
      "source": [
        "# Dicionário do dataframe\n",
        "df_dictionary"
      ]
    },
    {
      "cell_type": "code",
      "execution_count": 4,
      "metadata": {},
      "outputs": [
        {
          "data": {
            "text/html": [
              "<div>\n",
              "<style scoped>\n",
              "    .dataframe tbody tr th:only-of-type {\n",
              "        vertical-align: middle;\n",
              "    }\n",
              "\n",
              "    .dataframe tbody tr th {\n",
              "        vertical-align: top;\n",
              "    }\n",
              "\n",
              "    .dataframe thead th {\n",
              "        text-align: right;\n",
              "    }\n",
              "</style>\n",
              "<table border=\"1\" class=\"dataframe\">\n",
              "  <thead>\n",
              "    <tr style=\"text-align: right;\">\n",
              "      <th></th>\n",
              "      <th>CITY</th>\n",
              "      <th>STATE</th>\n",
              "      <th>CAPITAL</th>\n",
              "      <th>IBGE_RES_POP</th>\n",
              "      <th>IBGE_RES_POP_BRAS</th>\n",
              "      <th>IBGE_RES_POP_ESTR</th>\n",
              "      <th>IBGE_DU</th>\n",
              "      <th>IBGE_DU_URBAN</th>\n",
              "      <th>IBGE_DU_RURAL</th>\n",
              "      <th>IBGE_POP</th>\n",
              "      <th>IBGE_1</th>\n",
              "      <th>IBGE_1-4</th>\n",
              "      <th>IBGE_5-9</th>\n",
              "      <th>IBGE_10-14</th>\n",
              "      <th>IBGE_15-59</th>\n",
              "      <th>IBGE_60+</th>\n",
              "      <th>IBGE_PLANTED_AREA</th>\n",
              "      <th>IBGE_CROP_PRODUCTION_$</th>\n",
              "      <th>IDHM Ranking 2010</th>\n",
              "      <th>IDHM</th>\n",
              "      <th>IDHM_Renda</th>\n",
              "      <th>IDHM_Longevidade</th>\n",
              "      <th>IDHM_Educacao</th>\n",
              "      <th>LONG</th>\n",
              "      <th>LAT</th>\n",
              "      <th>ALT</th>\n",
              "      <th>PAY_TV</th>\n",
              "      <th>FIXED_PHONES</th>\n",
              "      <th>AREA</th>\n",
              "      <th>REGIAO_TUR</th>\n",
              "      <th>CATEGORIA_TUR</th>\n",
              "      <th>ESTIMATED_POP</th>\n",
              "      <th>RURAL_URBAN</th>\n",
              "      <th>GVA_AGROPEC</th>\n",
              "      <th>GVA_INDUSTRY</th>\n",
              "      <th>GVA_SERVICES</th>\n",
              "      <th>GVA_PUBLIC</th>\n",
              "      <th>GVA_TOTAL</th>\n",
              "      <th>TAXES</th>\n",
              "      <th>GDP</th>\n",
              "      <th>POP_GDP</th>\n",
              "      <th>GDP_CAPITA</th>\n",
              "      <th>GVA_MAIN</th>\n",
              "      <th>MUN_EXPENDIT</th>\n",
              "      <th>COMP_TOT</th>\n",
              "      <th>COMP_A</th>\n",
              "      <th>COMP_B</th>\n",
              "      <th>COMP_C</th>\n",
              "      <th>COMP_D</th>\n",
              "      <th>COMP_E</th>\n",
              "      <th>COMP_F</th>\n",
              "      <th>COMP_G</th>\n",
              "      <th>COMP_H</th>\n",
              "      <th>COMP_I</th>\n",
              "      <th>COMP_J</th>\n",
              "      <th>COMP_K</th>\n",
              "      <th>COMP_L</th>\n",
              "      <th>COMP_M</th>\n",
              "      <th>COMP_N</th>\n",
              "      <th>COMP_O</th>\n",
              "      <th>COMP_P</th>\n",
              "      <th>COMP_Q</th>\n",
              "      <th>COMP_R</th>\n",
              "      <th>COMP_S</th>\n",
              "      <th>COMP_T</th>\n",
              "      <th>COMP_U</th>\n",
              "      <th>HOTELS</th>\n",
              "      <th>BEDS</th>\n",
              "      <th>Pr_Agencies</th>\n",
              "      <th>Pu_Agencies</th>\n",
              "      <th>Pr_Bank</th>\n",
              "      <th>Pu_Bank</th>\n",
              "      <th>Pr_Assets</th>\n",
              "      <th>Pu_Assets</th>\n",
              "      <th>Cars</th>\n",
              "      <th>Motorcycles</th>\n",
              "      <th>Wheeled_tractor</th>\n",
              "      <th>UBER</th>\n",
              "      <th>MAC</th>\n",
              "      <th>WAL-MART</th>\n",
              "      <th>POST_OFFICES</th>\n",
              "    </tr>\n",
              "  </thead>\n",
              "  <tbody>\n",
              "    <tr>\n",
              "      <th>0</th>\n",
              "      <td>Abadia De Goiás</td>\n",
              "      <td>GO</td>\n",
              "      <td>0</td>\n",
              "      <td>6876</td>\n",
              "      <td>6876</td>\n",
              "      <td>0</td>\n",
              "      <td>2137</td>\n",
              "      <td>1546</td>\n",
              "      <td>591</td>\n",
              "      <td>5300</td>\n",
              "      <td>69</td>\n",
              "      <td>318</td>\n",
              "      <td>438</td>\n",
              "      <td>517</td>\n",
              "      <td>3542</td>\n",
              "      <td>416</td>\n",
              "      <td>319</td>\n",
              "      <td>1843</td>\n",
              "      <td>1689</td>\n",
              "      <td>0.708</td>\n",
              "      <td>0.687</td>\n",
              "      <td>0.830</td>\n",
              "      <td>0.622</td>\n",
              "      <td>-49.4405</td>\n",
              "      <td>-16.7588</td>\n",
              "      <td>893.6015</td>\n",
              "      <td>360</td>\n",
              "      <td>842</td>\n",
              "      <td>147.256</td>\n",
              "      <td>0</td>\n",
              "      <td>0</td>\n",
              "      <td>8583</td>\n",
              "      <td>Urbano</td>\n",
              "      <td>6201</td>\n",
              "      <td>27991</td>\n",
              "      <td>74750</td>\n",
              "      <td>36915</td>\n",
              "      <td>145858</td>\n",
              "      <td>20554</td>\n",
              "      <td>166412</td>\n",
              "      <td>8053</td>\n",
              "      <td>20665.0</td>\n",
              "      <td>Demais serviços</td>\n",
              "      <td>28227690</td>\n",
              "      <td>284</td>\n",
              "      <td>5</td>\n",
              "      <td>1</td>\n",
              "      <td>56</td>\n",
              "      <td>0</td>\n",
              "      <td>2</td>\n",
              "      <td>29</td>\n",
              "      <td>110</td>\n",
              "      <td>26</td>\n",
              "      <td>4</td>\n",
              "      <td>5</td>\n",
              "      <td>0</td>\n",
              "      <td>2</td>\n",
              "      <td>10</td>\n",
              "      <td>12</td>\n",
              "      <td>4</td>\n",
              "      <td>6</td>\n",
              "      <td>6</td>\n",
              "      <td>1</td>\n",
              "      <td>5</td>\n",
              "      <td>0</td>\n",
              "      <td>0</td>\n",
              "      <td>0</td>\n",
              "      <td>0</td>\n",
              "      <td>0</td>\n",
              "      <td>0</td>\n",
              "      <td>0</td>\n",
              "      <td>0</td>\n",
              "      <td>0</td>\n",
              "      <td>0</td>\n",
              "      <td>2158</td>\n",
              "      <td>1246</td>\n",
              "      <td>0</td>\n",
              "      <td>0</td>\n",
              "      <td>0</td>\n",
              "      <td>0</td>\n",
              "      <td>1</td>\n",
              "    </tr>\n",
              "    <tr>\n",
              "      <th>1</th>\n",
              "      <td>Abadia Dos Dourados</td>\n",
              "      <td>MG</td>\n",
              "      <td>0</td>\n",
              "      <td>6704</td>\n",
              "      <td>6704</td>\n",
              "      <td>0</td>\n",
              "      <td>2328</td>\n",
              "      <td>1481</td>\n",
              "      <td>847</td>\n",
              "      <td>4154</td>\n",
              "      <td>38</td>\n",
              "      <td>207</td>\n",
              "      <td>260</td>\n",
              "      <td>351</td>\n",
              "      <td>2709</td>\n",
              "      <td>589</td>\n",
              "      <td>4479</td>\n",
              "      <td>18017</td>\n",
              "      <td>2207</td>\n",
              "      <td>0.689</td>\n",
              "      <td>0.693</td>\n",
              "      <td>0.839</td>\n",
              "      <td>0.563</td>\n",
              "      <td>-47.3968</td>\n",
              "      <td>-18.4876</td>\n",
              "      <td>753.1249</td>\n",
              "      <td>77</td>\n",
              "      <td>296</td>\n",
              "      <td>881.064</td>\n",
              "      <td>Caminhos Do Cerrado</td>\n",
              "      <td>D</td>\n",
              "      <td>6972</td>\n",
              "      <td>Rural Adjacente</td>\n",
              "      <td>50525</td>\n",
              "      <td>25918</td>\n",
              "      <td>62689</td>\n",
              "      <td>28084</td>\n",
              "      <td>167215</td>\n",
              "      <td>12873</td>\n",
              "      <td>180089</td>\n",
              "      <td>7037</td>\n",
              "      <td>25592.0</td>\n",
              "      <td>Demais serviços</td>\n",
              "      <td>17909274</td>\n",
              "      <td>476</td>\n",
              "      <td>6</td>\n",
              "      <td>6</td>\n",
              "      <td>30</td>\n",
              "      <td>1</td>\n",
              "      <td>2</td>\n",
              "      <td>34</td>\n",
              "      <td>190</td>\n",
              "      <td>70</td>\n",
              "      <td>28</td>\n",
              "      <td>11</td>\n",
              "      <td>0</td>\n",
              "      <td>4</td>\n",
              "      <td>15</td>\n",
              "      <td>29</td>\n",
              "      <td>2</td>\n",
              "      <td>9</td>\n",
              "      <td>14</td>\n",
              "      <td>6</td>\n",
              "      <td>19</td>\n",
              "      <td>0</td>\n",
              "      <td>0</td>\n",
              "      <td>0</td>\n",
              "      <td>0</td>\n",
              "      <td>0</td>\n",
              "      <td>0</td>\n",
              "      <td>0</td>\n",
              "      <td>0</td>\n",
              "      <td>0</td>\n",
              "      <td>0</td>\n",
              "      <td>2227</td>\n",
              "      <td>1142</td>\n",
              "      <td>0</td>\n",
              "      <td>0</td>\n",
              "      <td>0</td>\n",
              "      <td>0</td>\n",
              "      <td>1</td>\n",
              "    </tr>\n",
              "    <tr>\n",
              "      <th>2</th>\n",
              "      <td>Abadiânia</td>\n",
              "      <td>GO</td>\n",
              "      <td>0</td>\n",
              "      <td>15757</td>\n",
              "      <td>15609</td>\n",
              "      <td>148</td>\n",
              "      <td>4655</td>\n",
              "      <td>3233</td>\n",
              "      <td>1422</td>\n",
              "      <td>10656</td>\n",
              "      <td>139</td>\n",
              "      <td>650</td>\n",
              "      <td>894</td>\n",
              "      <td>1087</td>\n",
              "      <td>6896</td>\n",
              "      <td>990</td>\n",
              "      <td>10307</td>\n",
              "      <td>33085</td>\n",
              "      <td>2202</td>\n",
              "      <td>0.689</td>\n",
              "      <td>0.671</td>\n",
              "      <td>0.841</td>\n",
              "      <td>0.579</td>\n",
              "      <td>-48.7188</td>\n",
              "      <td>-16.1827</td>\n",
              "      <td>1017.5506</td>\n",
              "      <td>227</td>\n",
              "      <td>720</td>\n",
              "      <td>1045.127</td>\n",
              "      <td>Região Turística Do Ouro E Cristais</td>\n",
              "      <td>C</td>\n",
              "      <td>19614</td>\n",
              "      <td>Rural Adjacente</td>\n",
              "      <td>42839</td>\n",
              "      <td>16728</td>\n",
              "      <td>138199</td>\n",
              "      <td>63396</td>\n",
              "      <td>261162</td>\n",
              "      <td>26823</td>\n",
              "      <td>287984</td>\n",
              "      <td>18427</td>\n",
              "      <td>15628.0</td>\n",
              "      <td>Demais serviços</td>\n",
              "      <td>37513019</td>\n",
              "      <td>288</td>\n",
              "      <td>5</td>\n",
              "      <td>9</td>\n",
              "      <td>26</td>\n",
              "      <td>0</td>\n",
              "      <td>2</td>\n",
              "      <td>7</td>\n",
              "      <td>117</td>\n",
              "      <td>12</td>\n",
              "      <td>57</td>\n",
              "      <td>2</td>\n",
              "      <td>1</td>\n",
              "      <td>0</td>\n",
              "      <td>7</td>\n",
              "      <td>15</td>\n",
              "      <td>3</td>\n",
              "      <td>11</td>\n",
              "      <td>5</td>\n",
              "      <td>1</td>\n",
              "      <td>8</td>\n",
              "      <td>0</td>\n",
              "      <td>0</td>\n",
              "      <td>1</td>\n",
              "      <td>34</td>\n",
              "      <td>1</td>\n",
              "      <td>1</td>\n",
              "      <td>1</td>\n",
              "      <td>1</td>\n",
              "      <td>33724584</td>\n",
              "      <td>67091904</td>\n",
              "      <td>2838</td>\n",
              "      <td>1426</td>\n",
              "      <td>0</td>\n",
              "      <td>0</td>\n",
              "      <td>0</td>\n",
              "      <td>0</td>\n",
              "      <td>3</td>\n",
              "    </tr>\n",
              "    <tr>\n",
              "      <th>3</th>\n",
              "      <td>Abaetetuba</td>\n",
              "      <td>PA</td>\n",
              "      <td>0</td>\n",
              "      <td>141100</td>\n",
              "      <td>141040</td>\n",
              "      <td>60</td>\n",
              "      <td>31061</td>\n",
              "      <td>19057</td>\n",
              "      <td>12004</td>\n",
              "      <td>82956</td>\n",
              "      <td>1354</td>\n",
              "      <td>5567</td>\n",
              "      <td>7618</td>\n",
              "      <td>8905</td>\n",
              "      <td>53516</td>\n",
              "      <td>5996</td>\n",
              "      <td>25200</td>\n",
              "      <td>700872</td>\n",
              "      <td>3530</td>\n",
              "      <td>0.628</td>\n",
              "      <td>0.579</td>\n",
              "      <td>0.798</td>\n",
              "      <td>0.537</td>\n",
              "      <td>-48.8844</td>\n",
              "      <td>-1.7235</td>\n",
              "      <td>10.1203</td>\n",
              "      <td>3389</td>\n",
              "      <td>1218</td>\n",
              "      <td>1610.651</td>\n",
              "      <td>Araguaia-Tocantins</td>\n",
              "      <td>D</td>\n",
              "      <td>156292</td>\n",
              "      <td>Urbano</td>\n",
              "      <td>140464</td>\n",
              "      <td>58610</td>\n",
              "      <td>468129</td>\n",
              "      <td>486872</td>\n",
              "      <td>1154075</td>\n",
              "      <td>95180</td>\n",
              "      <td>1249255</td>\n",
              "      <td>151934</td>\n",
              "      <td>8222.0</td>\n",
              "      <td>Administração, defesa, educação e saúde públic...</td>\n",
              "      <td>0</td>\n",
              "      <td>931</td>\n",
              "      <td>4</td>\n",
              "      <td>2</td>\n",
              "      <td>43</td>\n",
              "      <td>0</td>\n",
              "      <td>1</td>\n",
              "      <td>27</td>\n",
              "      <td>500</td>\n",
              "      <td>16</td>\n",
              "      <td>31</td>\n",
              "      <td>6</td>\n",
              "      <td>1</td>\n",
              "      <td>1</td>\n",
              "      <td>22</td>\n",
              "      <td>16</td>\n",
              "      <td>2</td>\n",
              "      <td>155</td>\n",
              "      <td>33</td>\n",
              "      <td>15</td>\n",
              "      <td>56</td>\n",
              "      <td>0</td>\n",
              "      <td>0</td>\n",
              "      <td>0</td>\n",
              "      <td>0</td>\n",
              "      <td>2</td>\n",
              "      <td>4</td>\n",
              "      <td>2</td>\n",
              "      <td>4</td>\n",
              "      <td>76181384</td>\n",
              "      <td>800078483</td>\n",
              "      <td>5277</td>\n",
              "      <td>25661</td>\n",
              "      <td>0</td>\n",
              "      <td>0</td>\n",
              "      <td>0</td>\n",
              "      <td>0</td>\n",
              "      <td>2</td>\n",
              "    </tr>\n",
              "    <tr>\n",
              "      <th>4</th>\n",
              "      <td>Abaeté</td>\n",
              "      <td>MG</td>\n",
              "      <td>0</td>\n",
              "      <td>22690</td>\n",
              "      <td>22690</td>\n",
              "      <td>0</td>\n",
              "      <td>7694</td>\n",
              "      <td>6667</td>\n",
              "      <td>1027</td>\n",
              "      <td>18464</td>\n",
              "      <td>176</td>\n",
              "      <td>856</td>\n",
              "      <td>1233</td>\n",
              "      <td>1539</td>\n",
              "      <td>11979</td>\n",
              "      <td>2681</td>\n",
              "      <td>1862</td>\n",
              "      <td>7502</td>\n",
              "      <td>1994</td>\n",
              "      <td>0.698</td>\n",
              "      <td>0.720</td>\n",
              "      <td>0.848</td>\n",
              "      <td>0.556</td>\n",
              "      <td>-45.4462</td>\n",
              "      <td>-19.1558</td>\n",
              "      <td>644.7399</td>\n",
              "      <td>1230</td>\n",
              "      <td>1716</td>\n",
              "      <td>1817.067</td>\n",
              "      <td>Lago De Três Marias</td>\n",
              "      <td>D</td>\n",
              "      <td>23223</td>\n",
              "      <td>Urbano</td>\n",
              "      <td>113825</td>\n",
              "      <td>31003</td>\n",
              "      <td>172333</td>\n",
              "      <td>86081</td>\n",
              "      <td>403241</td>\n",
              "      <td>26994</td>\n",
              "      <td>430235</td>\n",
              "      <td>23574</td>\n",
              "      <td>18250.0</td>\n",
              "      <td>Demais serviços</td>\n",
              "      <td>0</td>\n",
              "      <td>621</td>\n",
              "      <td>18</td>\n",
              "      <td>1</td>\n",
              "      <td>40</td>\n",
              "      <td>0</td>\n",
              "      <td>1</td>\n",
              "      <td>20</td>\n",
              "      <td>303</td>\n",
              "      <td>62</td>\n",
              "      <td>30</td>\n",
              "      <td>9</td>\n",
              "      <td>6</td>\n",
              "      <td>4</td>\n",
              "      <td>28</td>\n",
              "      <td>27</td>\n",
              "      <td>2</td>\n",
              "      <td>15</td>\n",
              "      <td>19</td>\n",
              "      <td>9</td>\n",
              "      <td>27</td>\n",
              "      <td>0</td>\n",
              "      <td>0</td>\n",
              "      <td>0</td>\n",
              "      <td>0</td>\n",
              "      <td>2</td>\n",
              "      <td>2</td>\n",
              "      <td>2</td>\n",
              "      <td>2</td>\n",
              "      <td>44974716</td>\n",
              "      <td>371922572</td>\n",
              "      <td>6928</td>\n",
              "      <td>2953</td>\n",
              "      <td>0</td>\n",
              "      <td>0</td>\n",
              "      <td>0</td>\n",
              "      <td>0</td>\n",
              "      <td>4</td>\n",
              "    </tr>\n",
              "  </tbody>\n",
              "</table>\n",
              "</div>"
            ],
            "text/plain": [
              "                  CITY STATE  CAPITAL  IBGE_RES_POP  IBGE_RES_POP_BRAS  \\\n",
              "0      Abadia De Goiás    GO        0          6876               6876   \n",
              "1  Abadia Dos Dourados    MG        0          6704               6704   \n",
              "2            Abadiânia    GO        0         15757              15609   \n",
              "3           Abaetetuba    PA        0        141100             141040   \n",
              "4               Abaeté    MG        0         22690              22690   \n",
              "\n",
              "   IBGE_RES_POP_ESTR  IBGE_DU  IBGE_DU_URBAN  IBGE_DU_RURAL  IBGE_POP  IBGE_1  \\\n",
              "0                  0     2137           1546            591      5300      69   \n",
              "1                  0     2328           1481            847      4154      38   \n",
              "2                148     4655           3233           1422     10656     139   \n",
              "3                 60    31061          19057          12004     82956    1354   \n",
              "4                  0     7694           6667           1027     18464     176   \n",
              "\n",
              "   IBGE_1-4  IBGE_5-9  IBGE_10-14  IBGE_15-59  IBGE_60+  IBGE_PLANTED_AREA  \\\n",
              "0       318       438         517        3542       416                319   \n",
              "1       207       260         351        2709       589               4479   \n",
              "2       650       894        1087        6896       990              10307   \n",
              "3      5567      7618        8905       53516      5996              25200   \n",
              "4       856      1233        1539       11979      2681               1862   \n",
              "\n",
              "   IBGE_CROP_PRODUCTION_$  IDHM Ranking 2010   IDHM  IDHM_Renda  \\\n",
              "0                    1843               1689  0.708       0.687   \n",
              "1                   18017               2207  0.689       0.693   \n",
              "2                   33085               2202  0.689       0.671   \n",
              "3                  700872               3530  0.628       0.579   \n",
              "4                    7502               1994  0.698       0.720   \n",
              "\n",
              "   IDHM_Longevidade  IDHM_Educacao     LONG      LAT        ALT  PAY_TV  \\\n",
              "0             0.830          0.622 -49.4405 -16.7588   893.6015     360   \n",
              "1             0.839          0.563 -47.3968 -18.4876   753.1249      77   \n",
              "2             0.841          0.579 -48.7188 -16.1827  1017.5506     227   \n",
              "3             0.798          0.537 -48.8844  -1.7235    10.1203    3389   \n",
              "4             0.848          0.556 -45.4462 -19.1558   644.7399    1230   \n",
              "\n",
              "   FIXED_PHONES      AREA                           REGIAO_TUR CATEGORIA_TUR  \\\n",
              "0           842   147.256                                    0             0   \n",
              "1           296   881.064                  Caminhos Do Cerrado             D   \n",
              "2           720  1045.127  Região Turística Do Ouro E Cristais             C   \n",
              "3          1218  1610.651                   Araguaia-Tocantins             D   \n",
              "4          1716  1817.067                  Lago De Três Marias             D   \n",
              "\n",
              "   ESTIMATED_POP      RURAL_URBAN  GVA_AGROPEC  GVA_INDUSTRY  GVA_SERVICES  \\\n",
              "0           8583           Urbano         6201         27991         74750   \n",
              "1           6972  Rural Adjacente        50525         25918         62689   \n",
              "2          19614  Rural Adjacente        42839         16728        138199   \n",
              "3         156292           Urbano       140464         58610        468129   \n",
              "4          23223           Urbano       113825         31003        172333   \n",
              "\n",
              "   GVA_PUBLIC  GVA_TOTAL  TAXES      GDP  POP_GDP  GDP_CAPITA  \\\n",
              "0       36915     145858  20554   166412     8053     20665.0   \n",
              "1       28084     167215  12873   180089     7037     25592.0   \n",
              "2       63396     261162  26823   287984    18427     15628.0   \n",
              "3      486872    1154075  95180  1249255   151934      8222.0   \n",
              "4       86081     403241  26994   430235    23574     18250.0   \n",
              "\n",
              "                                            GVA_MAIN  MUN_EXPENDIT  COMP_TOT  \\\n",
              "0                                    Demais serviços      28227690       284   \n",
              "1                                    Demais serviços      17909274       476   \n",
              "2                                    Demais serviços      37513019       288   \n",
              "3  Administração, defesa, educação e saúde públic...             0       931   \n",
              "4                                    Demais serviços             0       621   \n",
              "\n",
              "   COMP_A  COMP_B  COMP_C  COMP_D  COMP_E  COMP_F  COMP_G  COMP_H  COMP_I  \\\n",
              "0       5       1      56       0       2      29     110      26       4   \n",
              "1       6       6      30       1       2      34     190      70      28   \n",
              "2       5       9      26       0       2       7     117      12      57   \n",
              "3       4       2      43       0       1      27     500      16      31   \n",
              "4      18       1      40       0       1      20     303      62      30   \n",
              "\n",
              "   COMP_J  COMP_K  COMP_L  COMP_M  COMP_N  COMP_O  COMP_P  COMP_Q  COMP_R  \\\n",
              "0       5       0       2      10      12       4       6       6       1   \n",
              "1      11       0       4      15      29       2       9      14       6   \n",
              "2       2       1       0       7      15       3      11       5       1   \n",
              "3       6       1       1      22      16       2     155      33      15   \n",
              "4       9       6       4      28      27       2      15      19       9   \n",
              "\n",
              "   COMP_S  COMP_T  COMP_U  HOTELS  BEDS  Pr_Agencies  Pu_Agencies  Pr_Bank  \\\n",
              "0       5       0       0       0     0            0            0        0   \n",
              "1      19       0       0       0     0            0            0        0   \n",
              "2       8       0       0       1    34            1            1        1   \n",
              "3      56       0       0       0     0            2            4        2   \n",
              "4      27       0       0       0     0            2            2        2   \n",
              "\n",
              "   Pu_Bank  Pr_Assets  Pu_Assets  Cars  Motorcycles  Wheeled_tractor  UBER  \\\n",
              "0        0          0          0  2158         1246                0     0   \n",
              "1        0          0          0  2227         1142                0     0   \n",
              "2        1   33724584   67091904  2838         1426                0     0   \n",
              "3        4   76181384  800078483  5277        25661                0     0   \n",
              "4        2   44974716  371922572  6928         2953                0     0   \n",
              "\n",
              "   MAC  WAL-MART  POST_OFFICES  \n",
              "0    0         0             1  \n",
              "1    0         0             1  \n",
              "2    0         0             3  \n",
              "3    0         0             2  \n",
              "4    0         0             4  "
            ]
          },
          "execution_count": 4,
          "metadata": {},
          "output_type": "execute_result"
        }
      ],
      "source": [
        "df_brazil.head()"
      ]
    },
    {
      "cell_type": "code",
      "execution_count": 5,
      "metadata": {},
      "outputs": [
        {
          "data": {
            "text/html": [
              "<div>\n",
              "<style scoped>\n",
              "    .dataframe tbody tr th:only-of-type {\n",
              "        vertical-align: middle;\n",
              "    }\n",
              "\n",
              "    .dataframe tbody tr th {\n",
              "        vertical-align: top;\n",
              "    }\n",
              "\n",
              "    .dataframe thead th {\n",
              "        text-align: right;\n",
              "    }\n",
              "</style>\n",
              "<table border=\"1\" class=\"dataframe\">\n",
              "  <thead>\n",
              "    <tr style=\"text-align: right;\">\n",
              "      <th></th>\n",
              "      <th>CITY</th>\n",
              "      <th>STATE</th>\n",
              "      <th>REGIAO_TUR</th>\n",
              "      <th>CATEGORIA_TUR</th>\n",
              "      <th>GVA_MAIN</th>\n",
              "      <th>RURAL_URBAN</th>\n",
              "    </tr>\n",
              "  </thead>\n",
              "  <tbody>\n",
              "    <tr>\n",
              "      <th>0</th>\n",
              "      <td>Abadia De Goiás</td>\n",
              "      <td>GO</td>\n",
              "      <td>0</td>\n",
              "      <td>0</td>\n",
              "      <td>Demais serviços</td>\n",
              "      <td>Urbano</td>\n",
              "    </tr>\n",
              "    <tr>\n",
              "      <th>1</th>\n",
              "      <td>Abadia Dos Dourados</td>\n",
              "      <td>MG</td>\n",
              "      <td>Caminhos Do Cerrado</td>\n",
              "      <td>D</td>\n",
              "      <td>Demais serviços</td>\n",
              "      <td>Rural Adjacente</td>\n",
              "    </tr>\n",
              "    <tr>\n",
              "      <th>2</th>\n",
              "      <td>Abadiânia</td>\n",
              "      <td>GO</td>\n",
              "      <td>Região Turística Do Ouro E Cristais</td>\n",
              "      <td>C</td>\n",
              "      <td>Demais serviços</td>\n",
              "      <td>Rural Adjacente</td>\n",
              "    </tr>\n",
              "    <tr>\n",
              "      <th>3</th>\n",
              "      <td>Abaetetuba</td>\n",
              "      <td>PA</td>\n",
              "      <td>Araguaia-Tocantins</td>\n",
              "      <td>D</td>\n",
              "      <td>Administração, defesa, educação e saúde públic...</td>\n",
              "      <td>Urbano</td>\n",
              "    </tr>\n",
              "    <tr>\n",
              "      <th>4</th>\n",
              "      <td>Abaeté</td>\n",
              "      <td>MG</td>\n",
              "      <td>Lago De Três Marias</td>\n",
              "      <td>D</td>\n",
              "      <td>Demais serviços</td>\n",
              "      <td>Urbano</td>\n",
              "    </tr>\n",
              "    <tr>\n",
              "      <th>5</th>\n",
              "      <td>Abaiara</td>\n",
              "      <td>CE</td>\n",
              "      <td>0</td>\n",
              "      <td>0</td>\n",
              "      <td>Administração, defesa, educação e saúde públic...</td>\n",
              "      <td>Rural Adjacente</td>\n",
              "    </tr>\n",
              "    <tr>\n",
              "      <th>6</th>\n",
              "      <td>Abaré</td>\n",
              "      <td>BA</td>\n",
              "      <td>0</td>\n",
              "      <td>0</td>\n",
              "      <td>Administração, defesa, educação e saúde públic...</td>\n",
              "      <td>Rural Remoto</td>\n",
              "    </tr>\n",
              "    <tr>\n",
              "      <th>7</th>\n",
              "      <td>Abatiá</td>\n",
              "      <td>PR</td>\n",
              "      <td>0</td>\n",
              "      <td>0</td>\n",
              "      <td>Agricultura, inclusive apoio à agricultura e a...</td>\n",
              "      <td>Rural Adjacente</td>\n",
              "    </tr>\n",
              "    <tr>\n",
              "      <th>8</th>\n",
              "      <td>Abaíra</td>\n",
              "      <td>BA</td>\n",
              "      <td>Chapada Diamantina</td>\n",
              "      <td>D</td>\n",
              "      <td>Administração, defesa, educação e saúde públic...</td>\n",
              "      <td>Rural Remoto</td>\n",
              "    </tr>\n",
              "    <tr>\n",
              "      <th>9</th>\n",
              "      <td>Abdon Batista</td>\n",
              "      <td>SC</td>\n",
              "      <td>Vale Do Contestado</td>\n",
              "      <td>D</td>\n",
              "      <td>Administração, defesa, educação e saúde públic...</td>\n",
              "      <td>Rural Adjacente</td>\n",
              "    </tr>\n",
              "  </tbody>\n",
              "</table>\n",
              "</div>"
            ],
            "text/plain": [
              "                  CITY STATE                           REGIAO_TUR  \\\n",
              "0      Abadia De Goiás    GO                                    0   \n",
              "1  Abadia Dos Dourados    MG                  Caminhos Do Cerrado   \n",
              "2            Abadiânia    GO  Região Turística Do Ouro E Cristais   \n",
              "3           Abaetetuba    PA                   Araguaia-Tocantins   \n",
              "4               Abaeté    MG                  Lago De Três Marias   \n",
              "5              Abaiara    CE                                    0   \n",
              "6                Abaré    BA                                    0   \n",
              "7               Abatiá    PR                                    0   \n",
              "8               Abaíra    BA                   Chapada Diamantina   \n",
              "9        Abdon Batista    SC                   Vale Do Contestado   \n",
              "\n",
              "  CATEGORIA_TUR                                           GVA_MAIN  \\\n",
              "0             0                                    Demais serviços   \n",
              "1             D                                    Demais serviços   \n",
              "2             C                                    Demais serviços   \n",
              "3             D  Administração, defesa, educação e saúde públic...   \n",
              "4             D                                    Demais serviços   \n",
              "5             0  Administração, defesa, educação e saúde públic...   \n",
              "6             0  Administração, defesa, educação e saúde públic...   \n",
              "7             0  Agricultura, inclusive apoio à agricultura e a...   \n",
              "8             D  Administração, defesa, educação e saúde públic...   \n",
              "9             D  Administração, defesa, educação e saúde públic...   \n",
              "\n",
              "       RURAL_URBAN  \n",
              "0           Urbano  \n",
              "1  Rural Adjacente  \n",
              "2  Rural Adjacente  \n",
              "3           Urbano  \n",
              "4           Urbano  \n",
              "5  Rural Adjacente  \n",
              "6     Rural Remoto  \n",
              "7  Rural Adjacente  \n",
              "8     Rural Remoto  \n",
              "9  Rural Adjacente  "
            ]
          },
          "execution_count": 5,
          "metadata": {},
          "output_type": "execute_result"
        }
      ],
      "source": [
        "df_brazil[['CITY','STATE','REGIAO_TUR','CATEGORIA_TUR','GVA_MAIN','RURAL_URBAN']].head(10)"
      ]
    },
    {
      "cell_type": "code",
      "execution_count": 6,
      "metadata": {},
      "outputs": [
        {
          "name": "stdout",
          "output_type": "stream",
          "text": [
            "CITY                      0\n",
            "STATE                     0\n",
            "CAPITAL                   0\n",
            "IBGE_RES_POP              0\n",
            "IBGE_RES_POP_BRAS         0\n",
            "IBGE_RES_POP_ESTR         0\n",
            "IBGE_DU                   0\n",
            "IBGE_DU_URBAN             0\n",
            "IBGE_DU_RURAL             0\n",
            "IBGE_POP                  0\n",
            "IBGE_1                    0\n",
            "IBGE_1-4                  0\n",
            "IBGE_5-9                  0\n",
            "IBGE_10-14                0\n",
            "IBGE_15-59                0\n",
            "IBGE_60+                  0\n",
            "IBGE_PLANTED_AREA         0\n",
            "IBGE_CROP_PRODUCTION_$    0\n",
            "IDHM Ranking 2010         0\n",
            "IDHM                      0\n",
            "IDHM_Renda                0\n",
            "IDHM_Longevidade          0\n",
            "IDHM_Educacao             0\n",
            "LONG                      0\n",
            "LAT                       0\n",
            "ALT                       0\n",
            "PAY_TV                    0\n",
            "FIXED_PHONES              0\n",
            "AREA                      0\n",
            "REGIAO_TUR                0\n",
            "CATEGORIA_TUR             0\n",
            "ESTIMATED_POP             0\n",
            "RURAL_URBAN               0\n",
            "GVA_AGROPEC               0\n",
            "GVA_INDUSTRY              0\n",
            "GVA_SERVICES              0\n",
            "GVA_PUBLIC                0\n",
            "GVA_TOTAL                 0\n",
            "TAXES                     0\n",
            "GDP                       0\n",
            "POP_GDP                   0\n",
            "GDP_CAPITA                0\n",
            "GVA_MAIN                  0\n",
            "MUN_EXPENDIT              0\n",
            "COMP_TOT                  0\n",
            "COMP_A                    0\n",
            "COMP_B                    0\n",
            "COMP_C                    0\n",
            "COMP_D                    0\n",
            "COMP_E                    0\n",
            "COMP_F                    0\n",
            "COMP_G                    0\n",
            "COMP_H                    0\n",
            "COMP_I                    0\n",
            "COMP_J                    0\n",
            "COMP_K                    0\n",
            "COMP_L                    0\n",
            "COMP_M                    0\n",
            "COMP_N                    0\n",
            "COMP_O                    0\n",
            "COMP_P                    0\n",
            "COMP_Q                    0\n",
            "COMP_R                    0\n",
            "COMP_S                    0\n",
            "COMP_T                    0\n",
            "COMP_U                    0\n",
            "HOTELS                    0\n",
            "BEDS                      0\n",
            "Pr_Agencies               0\n",
            "Pu_Agencies               0\n",
            "Pr_Bank                   0\n",
            "Pu_Bank                   0\n",
            "Pr_Assets                 0\n",
            "Pu_Assets                 0\n",
            "Cars                      0\n",
            "Motorcycles               0\n",
            "Wheeled_tractor           0\n",
            "UBER                      0\n",
            "MAC                       0\n",
            "WAL-MART                  0\n",
            "POST_OFFICES              0\n",
            "dtype: int64\n"
          ]
        }
      ],
      "source": [
        " #Verificando se existe dados nulos\n",
        "print(df_brazil.isnull().sum())"
      ]
    },
    {
      "cell_type": "code",
      "execution_count": 7,
      "metadata": {},
      "outputs": [
        {
          "name": "stdout",
          "output_type": "stream",
          "text": [
            "<class 'pandas.core.frame.DataFrame'>\n",
            "RangeIndex: 5578 entries, 0 to 5577\n",
            "Data columns (total 81 columns):\n",
            " #   Column                  Non-Null Count  Dtype  \n",
            "---  ------                  --------------  -----  \n",
            " 0   CITY                    5578 non-null   object \n",
            " 1   STATE                   5578 non-null   object \n",
            " 2   CAPITAL                 5578 non-null   int64  \n",
            " 3   IBGE_RES_POP            5578 non-null   int64  \n",
            " 4   IBGE_RES_POP_BRAS       5578 non-null   int64  \n",
            " 5   IBGE_RES_POP_ESTR       5578 non-null   int64  \n",
            " 6   IBGE_DU                 5578 non-null   int64  \n",
            " 7   IBGE_DU_URBAN           5578 non-null   int64  \n",
            " 8   IBGE_DU_RURAL           5578 non-null   int64  \n",
            " 9   IBGE_POP                5578 non-null   int64  \n",
            " 10  IBGE_1                  5578 non-null   int64  \n",
            " 11  IBGE_1-4                5578 non-null   int64  \n",
            " 12  IBGE_5-9                5578 non-null   int64  \n",
            " 13  IBGE_10-14              5578 non-null   int64  \n",
            " 14  IBGE_15-59              5578 non-null   int64  \n",
            " 15  IBGE_60+                5578 non-null   int64  \n",
            " 16  IBGE_PLANTED_AREA       5578 non-null   int64  \n",
            " 17  IBGE_CROP_PRODUCTION_$  5578 non-null   int64  \n",
            " 18  IDHM Ranking 2010       5578 non-null   int64  \n",
            " 19  IDHM                    5578 non-null   float64\n",
            " 20  IDHM_Renda              5578 non-null   float64\n",
            " 21  IDHM_Longevidade        5578 non-null   float64\n",
            " 22  IDHM_Educacao           5578 non-null   float64\n",
            " 23  LONG                    5578 non-null   float64\n",
            " 24  LAT                     5578 non-null   float64\n",
            " 25  ALT                     5578 non-null   float64\n",
            " 26  PAY_TV                  5578 non-null   int64  \n",
            " 27  FIXED_PHONES            5578 non-null   int64  \n",
            " 28  AREA                    5578 non-null   float64\n",
            " 29  REGIAO_TUR              5578 non-null   object \n",
            " 30  CATEGORIA_TUR           5578 non-null   object \n",
            " 31  ESTIMATED_POP           5578 non-null   int64  \n",
            " 32  RURAL_URBAN             5578 non-null   object \n",
            " 33  GVA_AGROPEC             5578 non-null   int64  \n",
            " 34  GVA_INDUSTRY            5578 non-null   int64  \n",
            " 35  GVA_SERVICES            5578 non-null   int64  \n",
            " 36  GVA_PUBLIC              5578 non-null   int64  \n",
            " 37  GVA_TOTAL               5578 non-null   int64  \n",
            " 38  TAXES                   5578 non-null   int64  \n",
            " 39  GDP                     5578 non-null   int64  \n",
            " 40  POP_GDP                 5578 non-null   int64  \n",
            " 41  GDP_CAPITA              5578 non-null   float64\n",
            " 42  GVA_MAIN                5578 non-null   object \n",
            " 43  MUN_EXPENDIT            5578 non-null   int64  \n",
            " 44  COMP_TOT                5578 non-null   int64  \n",
            " 45  COMP_A                  5578 non-null   int64  \n",
            " 46  COMP_B                  5578 non-null   int64  \n",
            " 47  COMP_C                  5578 non-null   int64  \n",
            " 48  COMP_D                  5578 non-null   int64  \n",
            " 49  COMP_E                  5578 non-null   int64  \n",
            " 50  COMP_F                  5578 non-null   int64  \n",
            " 51  COMP_G                  5578 non-null   int64  \n",
            " 52  COMP_H                  5578 non-null   int64  \n",
            " 53  COMP_I                  5578 non-null   int64  \n",
            " 54  COMP_J                  5578 non-null   int64  \n",
            " 55  COMP_K                  5578 non-null   int64  \n",
            " 56  COMP_L                  5578 non-null   int64  \n",
            " 57  COMP_M                  5578 non-null   int64  \n",
            " 58  COMP_N                  5578 non-null   int64  \n",
            " 59  COMP_O                  5578 non-null   int64  \n",
            " 60  COMP_P                  5578 non-null   int64  \n",
            " 61  COMP_Q                  5578 non-null   int64  \n",
            " 62  COMP_R                  5578 non-null   int64  \n",
            " 63  COMP_S                  5578 non-null   int64  \n",
            " 64  COMP_T                  5578 non-null   int64  \n",
            " 65  COMP_U                  5578 non-null   int64  \n",
            " 66  HOTELS                  5578 non-null   int64  \n",
            " 67  BEDS                    5578 non-null   int64  \n",
            " 68  Pr_Agencies             5578 non-null   int64  \n",
            " 69  Pu_Agencies             5578 non-null   int64  \n",
            " 70  Pr_Bank                 5578 non-null   int64  \n",
            " 71  Pu_Bank                 5578 non-null   int64  \n",
            " 72  Pr_Assets               5578 non-null   int64  \n",
            " 73  Pu_Assets               5578 non-null   int64  \n",
            " 74  Cars                    5578 non-null   int64  \n",
            " 75  Motorcycles             5578 non-null   int64  \n",
            " 76  Wheeled_tractor         5578 non-null   int64  \n",
            " 77  UBER                    5578 non-null   int64  \n",
            " 78  MAC                     5578 non-null   int64  \n",
            " 79  WAL-MART                5578 non-null   int64  \n",
            " 80  POST_OFFICES            5578 non-null   int64  \n",
            "dtypes: float64(9), int64(66), object(6)\n",
            "memory usage: 3.4+ MB\n"
          ]
        }
      ],
      "source": [
        "df_brazil.info()"
      ]
    },
    {
      "cell_type": "markdown",
      "metadata": {},
      "source": [
        "### Limpeza de dados"
      ]
    },
    {
      "cell_type": "markdown",
      "metadata": {},
      "source": [
        "###### Verificando se existe dados duplicados"
      ]
    },
    {
      "cell_type": "code",
      "execution_count": 8,
      "metadata": {},
      "outputs": [
        {
          "data": {
            "text/plain": [
              "5578"
            ]
          },
          "execution_count": 8,
          "metadata": {},
          "output_type": "execute_result"
        }
      ],
      "source": [
        "len(df_brazil)\n"
      ]
    },
    {
      "cell_type": "code",
      "execution_count": 9,
      "metadata": {},
      "outputs": [],
      "source": [
        "#  Eliminando linhas duplicadas, Cidades: Assis, Paraty e Nova Fátima\n",
        "df_brazil = df_brazil.drop_duplicates()"
      ]
    },
    {
      "cell_type": "code",
      "execution_count": 10,
      "metadata": {},
      "outputs": [
        {
          "data": {
            "text/plain": [
              "5576"
            ]
          },
          "execution_count": 10,
          "metadata": {},
          "output_type": "execute_result"
        }
      ],
      "source": [
        "len(df_brazil)"
      ]
    },
    {
      "cell_type": "code",
      "execution_count": 11,
      "metadata": {},
      "outputs": [
        {
          "data": {
            "text/html": [
              "<div>\n",
              "<style scoped>\n",
              "    .dataframe tbody tr th:only-of-type {\n",
              "        vertical-align: middle;\n",
              "    }\n",
              "\n",
              "    .dataframe tbody tr th {\n",
              "        vertical-align: top;\n",
              "    }\n",
              "\n",
              "    .dataframe thead th {\n",
              "        text-align: right;\n",
              "    }\n",
              "</style>\n",
              "<table border=\"1\" class=\"dataframe\">\n",
              "  <thead>\n",
              "    <tr style=\"text-align: right;\">\n",
              "      <th></th>\n",
              "      <th>CITY</th>\n",
              "      <th>STATE</th>\n",
              "      <th>LAT</th>\n",
              "      <th>LONG</th>\n",
              "    </tr>\n",
              "  </thead>\n",
              "  <tbody>\n",
              "    <tr>\n",
              "      <th>3561</th>\n",
              "      <td>Paraty</td>\n",
              "      <td>RJ</td>\n",
              "      <td>-23.2194</td>\n",
              "      <td>-44.7109</td>\n",
              "    </tr>\n",
              "    <tr>\n",
              "      <th>3562</th>\n",
              "      <td>Paraty</td>\n",
              "      <td>RJ</td>\n",
              "      <td>-23.2194</td>\n",
              "      <td>-44.7109</td>\n",
              "    </tr>\n",
              "  </tbody>\n",
              "</table>\n",
              "</div>"
            ],
            "text/plain": [
              "        CITY STATE      LAT     LONG\n",
              "3561  Paraty    RJ -23.2194 -44.7109\n",
              "3562  Paraty    RJ -23.2194 -44.7109"
            ]
          },
          "execution_count": 11,
          "metadata": {},
          "output_type": "execute_result"
        }
      ],
      "source": [
        "df_brazil[df_brazil['CITY'] == 'Paraty'][['CITY','STATE','LAT','LONG']]"
      ]
    },
    {
      "cell_type": "code",
      "execution_count": 12,
      "metadata": {},
      "outputs": [],
      "source": [
        "# Cidade de Paraty possui dois dados sobre a agência de correios, eliminei o diferente de 1 (pesquisado no google que só existe uma agência)\n",
        "df_brazil.drop(df_brazil.loc[(df_brazil['CITY']=='Paraty') & (df_brazil['POST_OFFICES'] != 1)].index, inplace=True)"
      ]
    },
    {
      "cell_type": "code",
      "execution_count": 13,
      "metadata": {},
      "outputs": [
        {
          "data": {
            "text/plain": [
              "5575"
            ]
          },
          "execution_count": 13,
          "metadata": {},
          "output_type": "execute_result"
        }
      ],
      "source": [
        "len(df_brazil)"
      ]
    },
    {
      "cell_type": "markdown",
      "metadata": {},
      "source": [
        "###### Limpeza de dados discrepantes"
      ]
    },
    {
      "cell_type": "code",
      "execution_count": 14,
      "metadata": {},
      "outputs": [
        {
          "data": {
            "text/html": [
              "<div>\n",
              "<style scoped>\n",
              "    .dataframe tbody tr th:only-of-type {\n",
              "        vertical-align: middle;\n",
              "    }\n",
              "\n",
              "    .dataframe tbody tr th {\n",
              "        vertical-align: top;\n",
              "    }\n",
              "\n",
              "    .dataframe thead th {\n",
              "        text-align: right;\n",
              "    }\n",
              "</style>\n",
              "<table border=\"1\" class=\"dataframe\">\n",
              "  <thead>\n",
              "    <tr style=\"text-align: right;\">\n",
              "      <th></th>\n",
              "      <th>CITY</th>\n",
              "      <th>STATE</th>\n",
              "      <th>AREA</th>\n",
              "      <th>IDHM</th>\n",
              "    </tr>\n",
              "  </thead>\n",
              "  <tbody>\n",
              "    <tr>\n",
              "      <th>4448</th>\n",
              "      <td>Santa Teresinha</td>\n",
              "      <td>BA</td>\n",
              "      <td>0.0</td>\n",
              "      <td>0.587</td>\n",
              "    </tr>\n",
              "    <tr>\n",
              "      <th>4746</th>\n",
              "      <td>São Caetano</td>\n",
              "      <td>PE</td>\n",
              "      <td>0.0</td>\n",
              "      <td>0.000</td>\n",
              "    </tr>\n",
              "    <tr>\n",
              "      <th>5070</th>\n",
              "      <td>São Vicente do Seridó</td>\n",
              "      <td>PB</td>\n",
              "      <td>0.0</td>\n",
              "      <td>0.555</td>\n",
              "    </tr>\n",
              "  </tbody>\n",
              "</table>\n",
              "</div>"
            ],
            "text/plain": [
              "                       CITY STATE  AREA   IDHM\n",
              "4448        Santa Teresinha    BA   0.0  0.587\n",
              "4746            São Caetano    PE   0.0  0.000\n",
              "5070  São Vicente do Seridó    PB   0.0  0.555"
            ]
          },
          "execution_count": 14,
          "metadata": {},
          "output_type": "execute_result"
        }
      ],
      "source": [
        "# De acordo com o IBGE a menor cidade do Brasil tem 3565 km², dando o código abaixo , retona 3 cidades com área 0\n",
        "df_brazil[(df_brazil['AREA'] < 3.565)][['CITY', 'STATE', 'AREA', 'IDHM']]\n"
      ]
    },
    {
      "cell_type": "code",
      "execution_count": 15,
      "metadata": {},
      "outputs": [],
      "source": [
        "#Limpando as cidades que tem área 0\n",
        "df_brazil.drop(df_brazil.loc[(df_brazil['AREA'] < 3.565)].index, inplace=True)"
      ]
    },
    {
      "cell_type": "code",
      "execution_count": 16,
      "metadata": {},
      "outputs": [
        {
          "data": {
            "text/plain": [
              "5572"
            ]
          },
          "execution_count": 16,
          "metadata": {},
          "output_type": "execute_result"
        }
      ],
      "source": [
        "len(df_brazil)"
      ]
    },
    {
      "cell_type": "code",
      "execution_count": 17,
      "metadata": {},
      "outputs": [
        {
          "data": {
            "text/html": [
              "<div>\n",
              "<style scoped>\n",
              "    .dataframe tbody tr th:only-of-type {\n",
              "        vertical-align: middle;\n",
              "    }\n",
              "\n",
              "    .dataframe tbody tr th {\n",
              "        vertical-align: top;\n",
              "    }\n",
              "\n",
              "    .dataframe thead th {\n",
              "        text-align: right;\n",
              "    }\n",
              "</style>\n",
              "<table border=\"1\" class=\"dataframe\">\n",
              "  <thead>\n",
              "    <tr style=\"text-align: right;\">\n",
              "      <th></th>\n",
              "      <th>CITY</th>\n",
              "      <th>STATE</th>\n",
              "      <th>AREA</th>\n",
              "      <th>IBGE_RES_POP</th>\n",
              "    </tr>\n",
              "  </thead>\n",
              "  <tbody>\n",
              "    <tr>\n",
              "      <th>436</th>\n",
              "      <td>Balneário Rincão</td>\n",
              "      <td>SC</td>\n",
              "      <td>63.431</td>\n",
              "      <td>0</td>\n",
              "    </tr>\n",
              "    <tr>\n",
              "      <th>2666</th>\n",
              "      <td>Lagoa Dos Patos</td>\n",
              "      <td>RS</td>\n",
              "      <td>10158.754</td>\n",
              "      <td>0</td>\n",
              "    </tr>\n",
              "    <tr>\n",
              "      <th>2673</th>\n",
              "      <td>Lagoa Mirim</td>\n",
              "      <td>RS</td>\n",
              "      <td>2859.139</td>\n",
              "      <td>0</td>\n",
              "    </tr>\n",
              "    <tr>\n",
              "      <th>3079</th>\n",
              "      <td>Mojuí Dos Campos</td>\n",
              "      <td>PA</td>\n",
              "      <td>4988.236</td>\n",
              "      <td>0</td>\n",
              "    </tr>\n",
              "    <tr>\n",
              "      <th>3569</th>\n",
              "      <td>Paraíso Das Águas</td>\n",
              "      <td>MS</td>\n",
              "      <td>5061.433</td>\n",
              "      <td>0</td>\n",
              "    </tr>\n",
              "    <tr>\n",
              "      <th>3722</th>\n",
              "      <td>Pescaria Brava</td>\n",
              "      <td>SC</td>\n",
              "      <td>106.853</td>\n",
              "      <td>0</td>\n",
              "    </tr>\n",
              "    <tr>\n",
              "      <th>3781</th>\n",
              "      <td>Pinto Bandeira</td>\n",
              "      <td>RS</td>\n",
              "      <td>104.856</td>\n",
              "      <td>0</td>\n",
              "    </tr>\n",
              "  </tbody>\n",
              "</table>\n",
              "</div>"
            ],
            "text/plain": [
              "                   CITY STATE       AREA  IBGE_RES_POP\n",
              "436    Balneário Rincão    SC     63.431             0\n",
              "2666    Lagoa Dos Patos    RS  10158.754             0\n",
              "2673        Lagoa Mirim    RS   2859.139             0\n",
              "3079   Mojuí Dos Campos    PA   4988.236             0\n",
              "3569  Paraíso Das Águas    MS   5061.433             0\n",
              "3722     Pescaria Brava    SC    106.853             0\n",
              "3781     Pinto Bandeira    RS    104.856             0"
            ]
          },
          "execution_count": 17,
          "metadata": {},
          "output_type": "execute_result"
        }
      ],
      "source": [
        "# De acordo com o IBGE a  cidade do Brasil menos povoada tem 776 pessoas\n",
        "df_brazil[(df_brazil['IBGE_RES_POP'] < 776)][['CITY', 'STATE', 'AREA', 'IBGE_RES_POP']]"
      ]
    },
    {
      "cell_type": "code",
      "execution_count": 18,
      "metadata": {},
      "outputs": [],
      "source": [
        "#Eliminando as cidades que tem menos de 776 habitantes\n",
        "df_brazil.drop(df_brazil.loc[(df_brazil['IBGE_RES_POP'] < 776)].index, inplace=True)"
      ]
    },
    {
      "cell_type": "code",
      "execution_count": 19,
      "metadata": {},
      "outputs": [
        {
          "data": {
            "text/plain": [
              "5565"
            ]
          },
          "execution_count": 19,
          "metadata": {},
          "output_type": "execute_result"
        }
      ],
      "source": [
        "len(df_brazil)"
      ]
    },
    {
      "cell_type": "code",
      "execution_count": 20,
      "metadata": {},
      "outputs": [
        {
          "data": {
            "text/html": [
              "<div>\n",
              "<style scoped>\n",
              "    .dataframe tbody tr th:only-of-type {\n",
              "        vertical-align: middle;\n",
              "    }\n",
              "\n",
              "    .dataframe tbody tr th {\n",
              "        vertical-align: top;\n",
              "    }\n",
              "\n",
              "    .dataframe thead th {\n",
              "        text-align: right;\n",
              "    }\n",
              "</style>\n",
              "<table border=\"1\" class=\"dataframe\">\n",
              "  <thead>\n",
              "    <tr style=\"text-align: right;\">\n",
              "      <th></th>\n",
              "      <th>CITY</th>\n",
              "      <th>STATE</th>\n",
              "      <th>IDHM</th>\n",
              "      <th>IDHM_Renda</th>\n",
              "      <th>IDHM_Longevidade</th>\n",
              "      <th>IDHM_Educacao</th>\n",
              "    </tr>\n",
              "  </thead>\n",
              "  <tbody>\n",
              "    <tr>\n",
              "      <th>4456</th>\n",
              "      <td>Santa Terezinha</td>\n",
              "      <td>BA</td>\n",
              "      <td>0.0</td>\n",
              "      <td>0.0</td>\n",
              "      <td>0.0</td>\n",
              "      <td>0.0</td>\n",
              "    </tr>\n",
              "    <tr>\n",
              "      <th>5066</th>\n",
              "      <td>São Vicente Do Seridó</td>\n",
              "      <td>PB</td>\n",
              "      <td>0.0</td>\n",
              "      <td>0.0</td>\n",
              "      <td>0.0</td>\n",
              "      <td>0.0</td>\n",
              "    </tr>\n",
              "  </tbody>\n",
              "</table>\n",
              "</div>"
            ],
            "text/plain": [
              "                       CITY STATE  IDHM  IDHM_Renda  IDHM_Longevidade  \\\n",
              "4456        Santa Terezinha    BA   0.0         0.0               0.0   \n",
              "5066  São Vicente Do Seridó    PB   0.0         0.0               0.0   \n",
              "\n",
              "      IDHM_Educacao  \n",
              "4456            0.0  \n",
              "5066            0.0  "
            ]
          },
          "execution_count": 20,
          "metadata": {},
          "output_type": "execute_result"
        }
      ],
      "source": [
        "#Verificando as cidades que tem IDHM menor que 0.0\n",
        "df_brazil.loc[(df_brazil['IDHM'] == 0.0)][['CITY','STATE','IDHM','IDHM_Renda','IDHM_Longevidade','IDHM_Educacao']]"
      ]
    },
    {
      "cell_type": "code",
      "execution_count": 21,
      "metadata": {},
      "outputs": [],
      "source": [
        "#Eliminando as cidades que tem IDHM menor que 0.0\n",
        "df_brazil.drop(df_brazil.loc[(df_brazil['IDHM'] == 0.0)].index, inplace=True)"
      ]
    },
    {
      "cell_type": "markdown",
      "metadata": {},
      "source": [
        "### Discretização de dados "
      ]
    },
    {
      "cell_type": "code",
      "execution_count": 22,
      "metadata": {},
      "outputs": [],
      "source": [
        "#Setando campos como categóricos\n",
        "#ajustando tipos dos dados\n",
        "df_brazil['CAPITAL'] = df_brazil['CAPITAL'].astype('category')\n",
        "df_brazil['STATE'] = df_brazil['STATE'].astype('category')\n",
        "df_brazil['CATEGORIA_TUR'] = df_brazil['CATEGORIA_TUR'].astype('category')\n",
        "df_brazil['GVA_MAIN'] = df_brazil['GVA_MAIN'].astype('category')\n",
        "df_brazil['RURAL_URBAN'] = df_brazil['RURAL_URBAN'].astype('category')\n",
        "\n"
      ]
    },
    {
      "cell_type": "code",
      "execution_count": 23,
      "metadata": {},
      "outputs": [
        {
          "data": {
            "text/plain": [
              "CAPITAL          category\n",
              "STATE            category\n",
              "CATEGORIA_TUR    category\n",
              "GVA_MAIN         category\n",
              "RURAL_URBAN      category\n",
              "dtype: object"
            ]
          },
          "execution_count": 23,
          "metadata": {},
          "output_type": "execute_result"
        }
      ],
      "source": [
        "df_brazil[['CAPITAL','STATE','CATEGORIA_TUR','GVA_MAIN','RURAL_URBAN']].dtypes"
      ]
    },
    {
      "cell_type": "code",
      "execution_count": 24,
      "metadata": {},
      "outputs": [
        {
          "data": {
            "text/plain": [
              "Int64Index([0, 1], dtype='int64')"
            ]
          },
          "execution_count": 24,
          "metadata": {},
          "output_type": "execute_result"
        }
      ],
      "source": [
        "df_brazil['CAPITAL'].cat.categories"
      ]
    },
    {
      "cell_type": "code",
      "execution_count": 25,
      "metadata": {},
      "outputs": [
        {
          "data": {
            "text/plain": [
              "Index(['AC', 'AL', 'AM', 'AP', 'BA', 'CE', 'DF', 'ES', 'GO', 'MA', 'MG', 'MS',\n",
              "       'MT', 'PA', 'PB', 'PE', 'PI', 'PR', 'RJ', 'RN', 'RO', 'RR', 'RS', 'SC',\n",
              "       'SE', 'SP', 'TO'],\n",
              "      dtype='object')"
            ]
          },
          "execution_count": 25,
          "metadata": {},
          "output_type": "execute_result"
        }
      ],
      "source": [
        "df_brazil['STATE'].cat.categories"
      ]
    },
    {
      "cell_type": "code",
      "execution_count": 26,
      "metadata": {},
      "outputs": [
        {
          "data": {
            "text/plain": [
              "Index(['0', 'A', 'B', 'C', 'D', 'E'], dtype='object')"
            ]
          },
          "execution_count": 26,
          "metadata": {},
          "output_type": "execute_result"
        }
      ],
      "source": [
        "df_brazil['CATEGORIA_TUR'].cat.categories"
      ]
    },
    {
      "cell_type": "code",
      "execution_count": 27,
      "metadata": {},
      "outputs": [
        {
          "data": {
            "text/plain": [
              "Index(['Administração, defesa, educação e saúde públicas e seguridade social',\n",
              "       'Agricultura, inclusive apoio à agricultura e a pós colheita',\n",
              "       'Comércio e reparação de veículos automotores e motocicletas',\n",
              "       'Construção', 'Demais serviços',\n",
              "       'Eletricidade e gás, água, esgoto, atividades de gestão de resíduos e descontaminação',\n",
              "       'Indústrias de transformação', 'Indústrias extrativas',\n",
              "       'Pecuária, inclusive apoio à pecuária',\n",
              "       'Produção florestal, pesca e aquicultura'],\n",
              "      dtype='object')"
            ]
          },
          "execution_count": 27,
          "metadata": {},
          "output_type": "execute_result"
        }
      ],
      "source": [
        "df_brazil['GVA_MAIN'].cat.categories"
      ]
    },
    {
      "cell_type": "code",
      "execution_count": 28,
      "metadata": {},
      "outputs": [
        {
          "data": {
            "text/plain": [
              "Index(['Intermediário Adjacente', 'Intermediário Remoto', 'Rural Adjacente',\n",
              "       'Rural Remoto', 'Urbano'],\n",
              "      dtype='object')"
            ]
          },
          "execution_count": 28,
          "metadata": {},
          "output_type": "execute_result"
        }
      ],
      "source": [
        "df_brazil['RURAL_URBAN'].cat.categories"
      ]
    },
    {
      "cell_type": "markdown",
      "metadata": {},
      "source": [
        "#### IDHM"
      ]
    },
    {
      "cell_type": "code",
      "execution_count": 29,
      "metadata": {},
      "outputs": [],
      "source": [
        "df_brazil['IDHM_dist'] = 'Muito Baixo'"
      ]
    },
    {
      "cell_type": "code",
      "execution_count": 30,
      "metadata": {},
      "outputs": [],
      "source": [
        "df_brazil.loc[(df_brazil['IDHM'] <= 0.499),'IDHM_dist'] = 'Muito Baixo'\n",
        "df_brazil.loc[(df_brazil['IDHM'] >= 0.5) & (df_brazil['IDHM'] <= 0.599),'IDHM_dist'] = 'Baixo'\n",
        "df_brazil.loc[(df_brazil['IDHM'] >= 0.6) & (df_brazil['IDHM'] <= 0.699),'IDHM_dist'] = 'Médio'\n",
        "df_brazil.loc[(df_brazil['IDHM'] >= 0.7) & (df_brazil['IDHM'] <= 0.799),'IDHM_dist'] = 'Alto'\n",
        "df_brazil.loc[(df_brazil['IDHM'] >= 0.8) & (df_brazil['IDHM'] <= 1),'IDHM_dist'] = 'Muito Alto'\n",
        "df_brazil['IDHM_dist'] = df_brazil['IDHM_dist'].astype('category')"
      ]
    },
    {
      "cell_type": "code",
      "execution_count": 31,
      "metadata": {},
      "outputs": [
        {
          "data": {
            "text/plain": [
              "Index(['Alto', 'Baixo', 'Muito Alto', 'Muito Baixo', 'Médio'], dtype='object')"
            ]
          },
          "execution_count": 31,
          "metadata": {},
          "output_type": "execute_result"
        }
      ],
      "source": [
        "df_brazil['IDHM_dist'].cat.categories"
      ]
    },
    {
      "cell_type": "code",
      "execution_count": 32,
      "metadata": {},
      "outputs": [
        {
          "data": {
            "text/plain": [
              "Médio          2233\n",
              "Alto           1889\n",
              "Baixo          1365\n",
              "Muito Alto       44\n",
              "Muito Baixo      32\n",
              "Name: IDHM_dist, dtype: int64"
            ]
          },
          "execution_count": 32,
          "metadata": {},
          "output_type": "execute_result"
        }
      ],
      "source": [
        "df_brazil['IDHM_dist'].value_counts()"
      ]
    },
    {
      "cell_type": "code",
      "execution_count": 33,
      "metadata": {},
      "outputs": [
        {
          "data": {
            "image/png": "[encoded data removed]",
            "text/plain": [
              "<Figure size 432x288 with 1 Axes>"
            ]
          },
          "metadata": {
            "needs_background": "light"
          },
          "output_type": "display_data"
        }
      ],
      "source": [
        "df_brazil['IDHM_dist'].value_counts().plot(kind='barh') \n",
        "plt.show()"
      ]
    },
    {
      "cell_type": "code",
      "execution_count": 34,
      "metadata": {},
      "outputs": [
        {
          "data": {
            "text/html": [
              "<div>\n",
              "<style scoped>\n",
              "    .dataframe tbody tr th:only-of-type {\n",
              "        vertical-align: middle;\n",
              "    }\n",
              "\n",
              "    .dataframe tbody tr th {\n",
              "        vertical-align: top;\n",
              "    }\n",
              "\n",
              "    .dataframe thead th {\n",
              "        text-align: right;\n",
              "    }\n",
              "</style>\n",
              "<table border=\"1\" class=\"dataframe\">\n",
              "  <thead>\n",
              "    <tr style=\"text-align: right;\">\n",
              "      <th></th>\n",
              "      <th>CITY</th>\n",
              "      <th>IDHM</th>\n",
              "      <th>IDHM_dist</th>\n",
              "    </tr>\n",
              "  </thead>\n",
              "  <tbody>\n",
              "    <tr>\n",
              "      <th>0</th>\n",
              "      <td>Abadia De Goiás</td>\n",
              "      <td>0.708</td>\n",
              "      <td>Alto</td>\n",
              "    </tr>\n",
              "    <tr>\n",
              "      <th>1</th>\n",
              "      <td>Abadia Dos Dourados</td>\n",
              "      <td>0.689</td>\n",
              "      <td>Médio</td>\n",
              "    </tr>\n",
              "    <tr>\n",
              "      <th>2</th>\n",
              "      <td>Abadiânia</td>\n",
              "      <td>0.689</td>\n",
              "      <td>Médio</td>\n",
              "    </tr>\n",
              "    <tr>\n",
              "      <th>3</th>\n",
              "      <td>Abaetetuba</td>\n",
              "      <td>0.628</td>\n",
              "      <td>Médio</td>\n",
              "    </tr>\n",
              "    <tr>\n",
              "      <th>4</th>\n",
              "      <td>Abaeté</td>\n",
              "      <td>0.698</td>\n",
              "      <td>Médio</td>\n",
              "    </tr>\n",
              "  </tbody>\n",
              "</table>\n",
              "</div>"
            ],
            "text/plain": [
              "                  CITY   IDHM IDHM_dist\n",
              "0      Abadia De Goiás  0.708      Alto\n",
              "1  Abadia Dos Dourados  0.689     Médio\n",
              "2            Abadiânia  0.689     Médio\n",
              "3           Abaetetuba  0.628     Médio\n",
              "4               Abaeté  0.698     Médio"
            ]
          },
          "execution_count": 34,
          "metadata": {},
          "output_type": "execute_result"
        }
      ],
      "source": [
        "df_brazil[['CITY','IDHM','IDHM_dist']].head()"
      ]
    },
    {
      "cell_type": "markdown",
      "metadata": {},
      "source": [
        "#### IDHM_Renda"
      ]
    },
    {
      "cell_type": "code",
      "execution_count": 35,
      "metadata": {},
      "outputs": [],
      "source": [
        "df_brazil['IDHM_Renda_dist'] = 'Muito Baixo'"
      ]
    },
    {
      "cell_type": "code",
      "execution_count": 36,
      "metadata": {},
      "outputs": [],
      "source": [
        "df_brazil.loc[(df_brazil['IDHM_Renda'] <= 0.499),'IDHM_Renda_dist'] = 'Muito Baixo'\n",
        "df_brazil.loc[(df_brazil['IDHM_Renda'] >= 0.5) & (df_brazil['IDHM_Renda'] <= 0.599),'IDHM_Renda_dist'] = 'Baixo'\n",
        "df_brazil.loc[(df_brazil['IDHM_Renda'] >= 0.6) & (df_brazil['IDHM_Renda'] <= 0.699),'IDHM_Renda_dist'] = 'Médio'\n",
        "df_brazil.loc[(df_brazil['IDHM_Renda'] >= 0.7) & (df_brazil['IDHM_Renda'] <= 0.799),'IDHM_Renda_dist'] = 'Alto'\n",
        "df_brazil.loc[(df_brazil['IDHM_Renda'] >= 0.8) & (df_brazil['IDHM_Renda'] <= 1),'IDHM_Renda_dist'] = 'Muito Alto'\n",
        "df_brazil['IDHM_Renda_dist'] = df_brazil['IDHM_Renda_dist'].astype('category')"
      ]
    },
    {
      "cell_type": "code",
      "execution_count": 37,
      "metadata": {},
      "outputs": [
        {
          "data": {
            "text/plain": [
              "Index(['Alto', 'Baixo', 'Muito Alto', 'Muito Baixo', 'Médio'], dtype='object')"
            ]
          },
          "execution_count": 37,
          "metadata": {},
          "output_type": "execute_result"
        }
      ],
      "source": [
        "df_brazil['IDHM_Renda_dist'].cat.categories"
      ]
    },
    {
      "cell_type": "code",
      "execution_count": 38,
      "metadata": {},
      "outputs": [
        {
          "data": {
            "text/plain": [
              "Médio          2032\n",
              "Baixo          1795\n",
              "Alto           1548\n",
              "Muito Baixo     132\n",
              "Muito Alto       56\n",
              "Name: IDHM_Renda_dist, dtype: int64"
            ]
          },
          "execution_count": 38,
          "metadata": {},
          "output_type": "execute_result"
        }
      ],
      "source": [
        "df_brazil['IDHM_Renda_dist'].value_counts()"
      ]
    },
    {
      "cell_type": "code",
      "execution_count": 39,
      "metadata": {},
      "outputs": [
        {
          "data": {
            "image/png": "[encoded data removed]",
            "text/plain": [
              "<Figure size 432x288 with 1 Axes>"
            ]
          },
          "metadata": {
            "needs_background": "light"
          },
          "output_type": "display_data"
        }
      ],
      "source": [
        "df_brazil['IDHM_Renda_dist'].value_counts().plot(kind='barh') \n",
        "plt.show()"
      ]
    },
    {
      "cell_type": "code",
      "execution_count": 40,
      "metadata": {},
      "outputs": [
        {
          "data": {
            "text/html": [
              "<div>\n",
              "<style scoped>\n",
              "    .dataframe tbody tr th:only-of-type {\n",
              "        vertical-align: middle;\n",
              "    }\n",
              "\n",
              "    .dataframe tbody tr th {\n",
              "        vertical-align: top;\n",
              "    }\n",
              "\n",
              "    .dataframe thead th {\n",
              "        text-align: right;\n",
              "    }\n",
              "</style>\n",
              "<table border=\"1\" class=\"dataframe\">\n",
              "  <thead>\n",
              "    <tr style=\"text-align: right;\">\n",
              "      <th></th>\n",
              "      <th>CITY</th>\n",
              "      <th>IDHM_Renda</th>\n",
              "      <th>IDHM_Renda_dist</th>\n",
              "    </tr>\n",
              "  </thead>\n",
              "  <tbody>\n",
              "    <tr>\n",
              "      <th>0</th>\n",
              "      <td>Abadia De Goiás</td>\n",
              "      <td>0.687</td>\n",
              "      <td>Médio</td>\n",
              "    </tr>\n",
              "    <tr>\n",
              "      <th>1</th>\n",
              "      <td>Abadia Dos Dourados</td>\n",
              "      <td>0.693</td>\n",
              "      <td>Médio</td>\n",
              "    </tr>\n",
              "    <tr>\n",
              "      <th>2</th>\n",
              "      <td>Abadiânia</td>\n",
              "      <td>0.671</td>\n",
              "      <td>Médio</td>\n",
              "    </tr>\n",
              "    <tr>\n",
              "      <th>3</th>\n",
              "      <td>Abaetetuba</td>\n",
              "      <td>0.579</td>\n",
              "      <td>Baixo</td>\n",
              "    </tr>\n",
              "    <tr>\n",
              "      <th>4</th>\n",
              "      <td>Abaeté</td>\n",
              "      <td>0.720</td>\n",
              "      <td>Alto</td>\n",
              "    </tr>\n",
              "  </tbody>\n",
              "</table>\n",
              "</div>"
            ],
            "text/plain": [
              "                  CITY  IDHM_Renda IDHM_Renda_dist\n",
              "0      Abadia De Goiás       0.687           Médio\n",
              "1  Abadia Dos Dourados       0.693           Médio\n",
              "2            Abadiânia       0.671           Médio\n",
              "3           Abaetetuba       0.579           Baixo\n",
              "4               Abaeté       0.720            Alto"
            ]
          },
          "execution_count": 40,
          "metadata": {},
          "output_type": "execute_result"
        }
      ],
      "source": [
        "df_brazil[['CITY','IDHM_Renda','IDHM_Renda_dist']].head()"
      ]
    },
    {
      "cell_type": "markdown",
      "metadata": {},
      "source": [
        "#### IDHM_Longevidade"
      ]
    },
    {
      "cell_type": "code",
      "execution_count": 41,
      "metadata": {},
      "outputs": [],
      "source": [
        "df_brazil['IDHM_Longevidade_dist'] = 'Muito Baixo'"
      ]
    },
    {
      "cell_type": "code",
      "execution_count": 42,
      "metadata": {},
      "outputs": [],
      "source": [
        "df_brazil.loc[(df_brazil['IDHM_Longevidade'] <= 0.499),'IDHM_Longevidade_dist'] = 'Muito Baixo'\n",
        "df_brazil.loc[(df_brazil['IDHM_Longevidade'] >= 0.5) & (df_brazil['IDHM_Longevidade'] <= 0.599),'IDHM_Longevidade_dist'] = 'Baixo'\n",
        "df_brazil.loc[(df_brazil['IDHM_Longevidade'] >= 0.6) & (df_brazil['IDHM_Longevidade'] <= 0.699),'IDHM_Longevidade_dist'] = 'Médio'\n",
        "df_brazil.loc[(df_brazil['IDHM_Longevidade'] >= 0.7) & (df_brazil['IDHM_Longevidade'] <= 0.799),'IDHM_Longevidade_dist'] = 'Alto'\n",
        "df_brazil.loc[(df_brazil['IDHM_Longevidade'] >= 0.8) & (df_brazil['IDHM_Longevidade'] <= 1),'IDHM_Longevidade_dist'] = 'Muito Alto'\n",
        "df_brazil['IDHM_Longevidade_dist'] = df_brazil['IDHM_Longevidade_dist'].astype('category')"
      ]
    },
    {
      "cell_type": "code",
      "execution_count": 43,
      "metadata": {},
      "outputs": [
        {
          "data": {
            "text/plain": [
              "Index(['Alto', 'Muito Alto', 'Médio'], dtype='object')"
            ]
          },
          "execution_count": 43,
          "metadata": {},
          "output_type": "execute_result"
        }
      ],
      "source": [
        "df_brazil['IDHM_Longevidade_dist'].cat.categories"
      ]
    },
    {
      "cell_type": "code",
      "execution_count": 44,
      "metadata": {},
      "outputs": [
        {
          "data": {
            "text/plain": [
              "Muito Alto    3165\n",
              "Alto          2319\n",
              "Médio           79\n",
              "Name: IDHM_Longevidade_dist, dtype: int64"
            ]
          },
          "execution_count": 44,
          "metadata": {},
          "output_type": "execute_result"
        }
      ],
      "source": [
        "df_brazil['IDHM_Longevidade_dist'].value_counts()"
      ]
    },
    {
      "cell_type": "code",
      "execution_count": 45,
      "metadata": {},
      "outputs": [
        {
          "data": {
            "image/png": "[encoded data removed]",
            "text/plain": [
              "<Figure size 432x288 with 1 Axes>"
            ]
          },
          "metadata": {
            "needs_background": "light"
          },
          "output_type": "display_data"
        }
      ],
      "source": [
        "df_brazil['IDHM_Longevidade_dist'].value_counts().plot(kind='barh') \n",
        "plt.show()"
      ]
    },
    {
      "cell_type": "markdown",
      "metadata": {},
      "source": [
        "#### IDHM_Educacao"
      ]
    },
    {
      "cell_type": "code",
      "execution_count": 46,
      "metadata": {},
      "outputs": [],
      "source": [
        "df_brazil['IDHM_Educacao_dist'] = 'Muito Baixo'"
      ]
    },
    {
      "cell_type": "code",
      "execution_count": 47,
      "metadata": {},
      "outputs": [],
      "source": [
        "df_brazil.loc[(df_brazil['IDHM_Educacao'] <= 0.499),'IDHM_Educacao_dist'] = 'Muito Baixo'\n",
        "df_brazil.loc[(df_brazil['IDHM_Educacao'] >= 0.5) & (df_brazil['IDHM_Educacao'] <= 0.599),'IDHM_Educacao_dist'] = 'Baixo'\n",
        "df_brazil.loc[(df_brazil['IDHM_Educacao'] >= 0.6) & (df_brazil['IDHM_Educacao'] <= 0.699),'IDHM_Educacao_dist'] = 'Médio'\n",
        "df_brazil.loc[(df_brazil['IDHM_Educacao'] >= 0.7) & (df_brazil['IDHM_Educacao'] <= 0.799),'IDHM_Educacao_dist'] = 'Alto'\n",
        "df_brazil.loc[(df_brazil['IDHM_Educacao'] >= 0.8) & (df_brazil['IDHM_Educacao'] <= 1),'IDHM_Educacao_dist'] = 'Muito Alto'\n",
        "df_brazil['IDHM_Educacao_dist'] = df_brazil['IDHM_Educacao_dist'].astype('category')"
      ]
    },
    {
      "cell_type": "code",
      "execution_count": 48,
      "metadata": {},
      "outputs": [
        {
          "data": {
            "text/plain": [
              "Index(['Alto', 'Baixo', 'Muito Alto', 'Muito Baixo', 'Médio'], dtype='object')"
            ]
          },
          "execution_count": 48,
          "metadata": {},
          "output_type": "execute_result"
        }
      ],
      "source": [
        "df_brazil['IDHM_Educacao_dist'].cat.categories"
      ]
    },
    {
      "cell_type": "code",
      "execution_count": 49,
      "metadata": {},
      "outputs": [
        {
          "data": {
            "text/plain": [
              "Baixo          2011\n",
              "Médio          1613\n",
              "Muito Baixo    1576\n",
              "Alto            358\n",
              "Muito Alto        5\n",
              "Name: IDHM_Educacao_dist, dtype: int64"
            ]
          },
          "execution_count": 49,
          "metadata": {},
          "output_type": "execute_result"
        }
      ],
      "source": [
        "df_brazil['IDHM_Educacao_dist'].value_counts()"
      ]
    },
    {
      "cell_type": "code",
      "execution_count": 50,
      "metadata": {},
      "outputs": [
        {
          "data": {
            "image/png": "[encoded data removed]",
            "text/plain": [
              "<Figure size 432x288 with 1 Axes>"
            ]
          },
          "metadata": {
            "needs_background": "light"
          },
          "output_type": "display_data"
        }
      ],
      "source": [
        "df_brazil['IDHM_Educacao_dist'].value_counts().plot(kind='barh') \n",
        "plt.show()"
      ]
    },
    {
      "cell_type": "markdown",
      "metadata": {},
      "source": [
        "### Normalização\n",
        ". Ainda vou fazer"
      ]
    },
    {
      "cell_type": "markdown",
      "metadata": {},
      "source": [
        "# **Análise do dataSet** "
      ]
    },
    {
      "cell_type": "code",
      "execution_count": 51,
      "metadata": {},
      "outputs": [],
      "source": [
        "#df_brazil.loc[(df_brazil['IDHM'] ==  1) | (df_brazil['IDHM'] > 0.6)][['CITY','STATE','IDHM','IDHM_dist']]"
      ]
    },
    {
      "cell_type": "code",
      "execution_count": 52,
      "metadata": {},
      "outputs": [],
      "source": [
        "# Criando os dataframes por região\n",
        "\n",
        "nordeste = df_brazil.loc[(df_brazil['STATE'] == 'PE') | (df_brazil['STATE'] == 'MA') | (df_brazil['STATE'] == 'RN') | (df_brazil['STATE'] == 'BA') | (df_brazil['STATE'] == 'CE') | (df_brazil['STATE'] == 'AL') | (df_brazil['STATE'] == 'PI') | (df_brazil['STATE'] == 'PB') | (df_brazil['STATE'] == 'SE')]\n",
        "norte =  df_brazil.loc[(df_brazil['STATE'] == 'AC') | (df_brazil['STATE'] == 'AP') | (df_brazil['STATE'] == 'AM') | (df_brazil['STATE'] == 'PA') | (df_brazil['STATE'] == 'RO') | (df_brazil['STATE'] == 'RR') | (df_brazil['STATE'] == 'TO')]\n",
        "sul = df_brazil.loc[(df_brazil['STATE'] == 'PR') | (df_brazil['STATE'] == 'RS') | (df_brazil['STATE'] == 'SC')]\n",
        "centroOeste =  df_brazil.loc[(df_brazil['STATE'] == 'DF') | (df_brazil['STATE'] == 'GO') | (df_brazil['STATE'] == 'MT') | (df_brazil['STATE'] == 'MS')]\n",
        "sudeste = df_brazil.loc[(df_brazil['STATE'] == 'ES') | (df_brazil['STATE'] == 'MG') | (df_brazil['STATE'] == 'SP') | (df_brazil['STATE'] == 'RJ')]\n",
        "# Verificação dos estados \n",
        "checknordeste = ['PE','BA', 'MA','PI','CE','RN','PB','AL','SE']\n",
        "checknorte = ['AC','AP', 'AM','PA','RO','RR','TO']\n",
        "checksul = ['PR','RS', 'SC']\n",
        "checkcentroOeste = ['DF','GO', 'MT','MS']\n",
        "checksudeste = ['ES','MG', 'SP','RJ']\n",
        "# Verificação das cidades por estado\n",
        "cidadesNordeste = df_brazil[\"STATE\"].isin(checknordeste)\n",
        "cidadesNorte = df_brazil[\"STATE\"].isin(checknorte)\n",
        "cidadesSul = df_brazil[\"STATE\"].isin(checksul)\n",
        "cidadesCentroOeste = df_brazil[\"STATE\"].isin(checkcentroOeste)\n",
        "cidadesSudeste = df_brazil[\"STATE\"].isin(checksudeste)"
      ]
    },
    {
      "cell_type": "code",
      "execution_count": 53,
      "metadata": {},
      "outputs": [
        {
          "data": {
            "image/png": "[encoded data removed]",
            "text/plain": [
              "<Figure size 720x720 with 1 Axes>"
            ]
          },
          "metadata": {
            "needs_background": "light"
          },
          "output_type": "display_data"
        }
      ],
      "source": [
        "# Mapa do Brasil \n",
        "\n",
        "long= df_brazil[\"LONG\"] !=0\n",
        "lat = df_brazil[\"LAT\"] !=0 \n",
        "## Montado o Mapa\n",
        "plt.figure(figsize=(10,10))\n",
        "plt.title(\" Cidades (Latitude e Longitude)\")\n",
        "plt.xlabel(\"Longitude\")\n",
        "plt.ylabel(\"Latitude\")\n",
        "#plt.scatter(df_brazil[long&lat&cap][\"LONG\"], df_brazil[long&lat&cap][\"LAT\"], s=50, alpha=1, label='Capital city', c ='#000000')\n",
        "plt.scatter(df_brazil[long&lat&cidadesNorte][\"LONG\"], df_brazil[long&lat&cidadesNorte][\"LAT\"], s=5, alpha=1, label='NORTE', c ='#006400')\n",
        "plt.scatter(df_brazil[long&lat&cidadesNordeste][\"LONG\"], df_brazil[long&lat&cidadesNordeste][\"LAT\"], s=5, alpha=1, label='Nordeste', c ='#00BFFF')\n",
        "plt.scatter(df_brazil[long&lat&cidadesCentroOeste][\"LONG\"], df_brazil[long&lat&cidadesCentroOeste][\"LAT\"], s=5, alpha=1, label='Centro Oeste', c ='#DB7093')\n",
        "plt.scatter(df_brazil[long&lat&cidadesSul][\"LONG\"], df_brazil[long&lat&cidadesSul][\"LAT\"], s=5, alpha=1, label='SUL', c ='#9932CC')\n",
        "plt.scatter(df_brazil[long&lat&cidadesSudeste][\"LONG\"], df_brazil[long&lat&cidadesSudeste][\"LAT\"], s=5, alpha=1, label='Sudeste', c ='#FF4500')\n",
        "#plt.scatter(df_brazil[long&lat&~cidadesNordeste][\"LONG\"], df_brazil[long&lat&~cidadesNordeste][\"LAT\"], s=1, alpha=1, c = '#4b0082')\n",
        "plt.legend()\n",
        "plt.show()"
      ]
    },
    {
      "cell_type": "code",
      "execution_count": 54,
      "metadata": {},
      "outputs": [
        {
          "data": {
            "image/png": "[encoded data removed]",
            "text/plain": [
              "<Figure size 720x720 with 1 Axes>"
            ]
          },
          "metadata": {
            "needs_background": "light"
          },
          "output_type": "display_data"
        }
      ],
      "source": [
        "# Mapa do Brasil Capitais\n",
        "\n",
        "long= df_brazil[\"LONG\"] != 0\n",
        "lat = df_brazil[\"LAT\"] !=0 \n",
        "cap = df_brazil['CAPITAL'] ==1\n",
        " \n",
        "#Montando o Mapa\n",
        "plt.figure(figsize=(10,10))\n",
        "plt.title(\" Cidades (Latitude e Longitude)\")\n",
        "plt.xlabel(\"Longitude\")\n",
        "plt.ylabel(\"Latitude\")\n",
        "plt.scatter(df_brazil[long&lat&cap][\"LONG\"], df_brazil[long&lat&cap][\"LAT\"], s=50, alpha=1, label='Capital city', c ='#ff4500')\n",
        "plt.scatter(df_brazil[long&lat&~cap][\"LONG\"], df_brazil[long&lat&~cap][\"LAT\"], s=1, alpha=1, label='cidades', c = '#32cd32')\n",
        "plt.legend()\n",
        "plt.show()"
      ]
    },
    {
      "cell_type": "markdown",
      "metadata": {},
      "source": [
        "### **Índice de Desenvolvimento Humano** "
      ]
    },
    {
      "cell_type": "code",
      "execution_count": 55,
      "metadata": {},
      "outputs": [
        {
          "data": {
            "text/plain": [
              "<AxesSubplot:>"
            ]
          },
          "execution_count": 55,
          "metadata": {},
          "output_type": "execute_result"
        },
        {
          "data": {
            "image/png": "[encoded data removed]",
            "text/plain": [
              "<Figure size 432x288 with 1 Axes>"
            ]
          },
          "metadata": {
            "needs_background": "light"
          },
          "output_type": "display_data"
        }
      ],
      "source": [
        "df_brazil.boxplot(column=['IDHM'])"
      ]
    },
    {
      "cell_type": "markdown",
      "metadata": {},
      "source": [
        "# **Analisando as Regiões** "
      ]
    },
    {
      "cell_type": "markdown",
      "metadata": {},
      "source": [
        "## **Norte**"
      ]
    },
    {
      "cell_type": "code",
      "execution_count": 56,
      "metadata": {},
      "outputs": [
        {
          "data": {
            "text/html": [
              "<div>\n",
              "<style scoped>\n",
              "    .dataframe tbody tr th:only-of-type {\n",
              "        vertical-align: middle;\n",
              "    }\n",
              "\n",
              "    .dataframe tbody tr th {\n",
              "        vertical-align: top;\n",
              "    }\n",
              "\n",
              "    .dataframe thead th {\n",
              "        text-align: right;\n",
              "    }\n",
              "</style>\n",
              "<table border=\"1\" class=\"dataframe\">\n",
              "  <thead>\n",
              "    <tr style=\"text-align: right;\">\n",
              "      <th></th>\n",
              "      <th>Capitais</th>\n",
              "      <th>Cidades</th>\n",
              "      <th>Habitantes</th>\n",
              "      <th>Empresas</th>\n",
              "    </tr>\n",
              "  </thead>\n",
              "  <tbody>\n",
              "    <tr>\n",
              "      <th>0</th>\n",
              "      <td>7</td>\n",
              "      <td>449</td>\n",
              "      <td>15864454</td>\n",
              "      <td>176417</td>\n",
              "    </tr>\n",
              "  </tbody>\n",
              "</table>\n",
              "</div>"
            ],
            "text/plain": [
              "   Capitais  Cidades  Habitantes  Empresas\n",
              "0         7      449    15864454    176417"
            ]
          },
          "execution_count": 56,
          "metadata": {},
          "output_type": "execute_result"
        }
      ],
      "source": [
        "DadosNorte = [{'Capitais':norte.loc[(norte['CAPITAL'] == 1)]['CITY'].count(),'Cidades': norte['CITY'].count(),'Habitantes': norte['IBGE_RES_POP'].sum(), 'Empresas': norte['COMP_TOT'].sum()}]\n",
        "df_DadosNorte = pd.DataFrame(DadosNorte)\n",
        "df_DadosNorte"
      ]
    },
    {
      "cell_type": "code",
      "execution_count": 57,
      "metadata": {},
      "outputs": [
        {
          "data": {
            "image/png": "[encoded data removed]",
            "text/plain": [
              "<Figure size 720x720 with 1 Axes>"
            ]
          },
          "metadata": {
            "needs_background": "light"
          },
          "output_type": "display_data"
        }
      ],
      "source": [
        "# Mapa do Norte\n",
        "\n",
        "long= df_brazil[\"LONG\"] !=0\n",
        "lat = df_brazil[\"LAT\"] !=0 \n",
        "capNorte = norte['CAPITAL'] == 1\n",
        "\n",
        "## use the scatter function\n",
        "plt.figure(figsize=(10,10))\n",
        "plt.title(\" Cidades do Norte\")\n",
        "plt.xlabel(\"Longitude\")\n",
        "plt.ylabel(\"Latitude\")\n",
        "plt.scatter(df_brazil[long&lat&cidadesNorte][\"LONG\"], df_brazil[long&lat&cidadesNorte][\"LAT\"], s=5, alpha=1, label='Cidades', c ='#00BFFF')\n",
        "plt.scatter(df_brazil[long&lat&capNorte][\"LONG\"], df_brazil[long&lat&capNorte][\"LAT\"], s=50, alpha=1, label='Capital city', c ='#ff4500')\n",
        "plt.legend()\n",
        "plt.show()"
      ]
    },
    {
      "cell_type": "code",
      "execution_count": 58,
      "metadata": {},
      "outputs": [
        {
          "data": {
            "text/plain": [
              "<AxesSubplot:>"
            ]
          },
          "execution_count": 58,
          "metadata": {},
          "output_type": "execute_result"
        },
        {
          "data": {
            "image/png": "[encoded data removed]",
            "text/plain": [
              "<Figure size 432x288 with 1 Axes>"
            ]
          },
          "metadata": {
            "needs_background": "light"
          },
          "output_type": "display_data"
        }
      ],
      "source": [
        "norte.boxplot(column=['IDHM'])"
      ]
    },
    {
      "cell_type": "code",
      "execution_count": 59,
      "metadata": {},
      "outputs": [
        {
          "data": {
            "image/png": "[encoded data removed]",
            "text/plain": [
              "<Figure size 432x288 with 1 Axes>"
            ]
          },
          "metadata": {
            "needs_background": "light"
          },
          "output_type": "display_data"
        }
      ],
      "source": [
        "#Histograma do IDHM\n",
        "histPE=norte['IDHM'].hist()"
      ]
    },
    {
      "cell_type": "code",
      "execution_count": 60,
      "metadata": {},
      "outputs": [
        {
          "data": {
            "image/png": "[encoded data removed]",
            "text/plain": [
              "<Figure size 720x360 with 1 Axes>"
            ]
          },
          "metadata": {
            "needs_background": "light"
          },
          "output_type": "display_data"
        }
      ],
      "source": [
        "#Comparando os IDHM dos estados do norte\n",
        "# Criando lista\n",
        "dados1 =  {'AC':norte[norte['STATE'] == 'AC'].IDHM_Educacao.mean() ,'AP':norte[norte['STATE'] == 'AP'].IDHM_Educacao.mean(), 'AM':norte[norte['STATE'] == 'AM'].IDHM_Educacao.mean(),'PA':norte[norte['STATE'] == 'PA'].IDHM_Educacao.mean(),'RO':norte[norte['STATE'] == 'RO'].IDHM_Educacao.mean(),'RR':norte[norte['STATE'] == 'RR'].IDHM_Educacao.mean(),'TO':norte[norte['STATE'] == 'TO'].IDHM_Educacao.mean()}\n",
        "dados2 =  {'AC':norte[norte['STATE'] == 'AC'].IDHM.mean() ,'AP':norte[norte['STATE'] == 'AP'].IDHM.mean(), 'AM':norte[norte['STATE'] == 'AM'].IDHM.mean(),'PA':norte[norte['STATE'] == 'PI'].IDHM.mean(),'RO':norte[norte['STATE'] == 'RO'].IDHM.mean(),'RR':norte[norte['STATE'] == 'RR'].IDHM.mean(),'TO':norte[norte['STATE'] == 'TO'].IDHM.mean()}\n",
        "dados3 =  {'AC':norte[norte['STATE'] == 'AC'].IDHM_Renda.mean() ,'AP':norte[norte['STATE'] == 'AP'].IDHM_Renda.mean(), 'AM':norte[norte['STATE'] == 'AM'].IDHM_Renda.mean(),'PA':norte[norte['STATE'] == 'PA'].IDHM_Renda.mean(),'RO':norte[norte['STATE'] == 'RO'].IDHM_Renda.mean(),'RR':norte[norte['STATE'] == 'RR'].IDHM_Renda.mean(),'TO':norte[norte['STATE'] == 'TO'].IDHM_Renda.mean()}\n",
        "dados4 =  {'AC':norte[norte['STATE'] == 'AC'].IDHM_Longevidade.mean() ,'AP':norte[norte['STATE'] == 'AP'].IDHM_Longevidade.mean(), 'AM':norte[norte['STATE'] == 'AM'].IDHM_Longevidade.mean(),'PA':norte[norte['STATE'] == 'PA'].IDHM_Longevidade.mean(),'RO':norte[norte['STATE'] == 'RO'].IDHM_Longevidade.mean(),'RR':norte[norte['STATE'] == 'RR'].IDHM_Longevidade.mean(),'TO':norte[norte['STATE'] == 'TO'].IDHM_Longevidade.mean()}\n",
        "Estados = list(dados1.keys())\n",
        "\n",
        "MediaIDHM = list(dados2.values())\n",
        "MediaIDHM_Educacao = list(dados1.values())\n",
        "MediaIDHM_renda = list(dados3.values())\n",
        "MediaIDHM_longevidade = list(dados4.values())\n",
        "\n",
        "barWidth = 0.2\n",
        "\n",
        "r1 = np.arange(len(MediaIDHM))\n",
        "r2 = [x + barWidth for x in r1]\n",
        "r3 = [x + barWidth for x in r2]\n",
        "r4 = [x + barWidth for x in r3]\n",
        "\n",
        "fig = plt.figure(figsize = (10, 5))\n",
        "\n",
        "#Criando as barras\n",
        "plt.bar(r1,MediaIDHM, color = '#00BFFF', width = barWidth, label = 'IDHM')\n",
        "plt.bar(r2,MediaIDHM_Educacao, color = '#1049F0', width = barWidth, label = 'IDHM_Educacao')\n",
        "plt.bar(r3,MediaIDHM_renda, color = '#D73E0D', width = barWidth, label = 'IDHM_renda')\n",
        "plt.bar(r4,MediaIDHM_longevidade, color = '#0DD7A3', width = barWidth, label = 'IDHM_longevidade')\n",
        "\n",
        "\n",
        "# criando Gráfico\n",
        "plt.xlabel(\"Estados\")\n",
        "plt.xticks([r + barWidth for r in range(len(MediaIDHM))], Estados)\n",
        "plt.ylabel(\"IDHM\")\n",
        "plt.title(\"Gráfico IDHM Médio norte\")\n",
        "plt.legend()\n",
        "plt.show()"
      ]
    },
    {
      "cell_type": "code",
      "execution_count": 61,
      "metadata": {},
      "outputs": [
        {
          "data": {
            "text/html": [
              "<div>\n",
              "<style scoped>\n",
              "    .dataframe tbody tr th:only-of-type {\n",
              "        vertical-align: middle;\n",
              "    }\n",
              "\n",
              "    .dataframe tbody tr th {\n",
              "        vertical-align: top;\n",
              "    }\n",
              "\n",
              "    .dataframe thead th {\n",
              "        text-align: right;\n",
              "    }\n",
              "</style>\n",
              "<table border=\"1\" class=\"dataframe\">\n",
              "  <thead>\n",
              "    <tr style=\"text-align: right;\">\n",
              "      <th></th>\n",
              "      <th>CITY</th>\n",
              "      <th>STATE</th>\n",
              "      <th>IDHM</th>\n",
              "      <th>REGIAO_TUR</th>\n",
              "      <th>CATEGORIA_TUR</th>\n",
              "    </tr>\n",
              "  </thead>\n",
              "  <tbody>\n",
              "    <tr>\n",
              "      <th>3495</th>\n",
              "      <td>Palmas</td>\n",
              "      <td>TO</td>\n",
              "      <td>0.788</td>\n",
              "      <td>Serras E Lago</td>\n",
              "      <td>A</td>\n",
              "    </tr>\n",
              "    <tr>\n",
              "      <th>608</th>\n",
              "      <td>Boa Vista</td>\n",
              "      <td>RR</td>\n",
              "      <td>0.752</td>\n",
              "      <td>Roraima, A Savana Amazônica</td>\n",
              "      <td>A</td>\n",
              "    </tr>\n",
              "    <tr>\n",
              "      <th>558</th>\n",
              "      <td>Belém</td>\n",
              "      <td>PA</td>\n",
              "      <td>0.746</td>\n",
              "      <td>Belém</td>\n",
              "      <td>A</td>\n",
              "    </tr>\n",
              "    <tr>\n",
              "      <th>2849</th>\n",
              "      <td>Manaus</td>\n",
              "      <td>AM</td>\n",
              "      <td>0.737</td>\n",
              "      <td>Polo Amazônico</td>\n",
              "      <td>A</td>\n",
              "    </tr>\n",
              "    <tr>\n",
              "      <th>3927</th>\n",
              "      <td>Porto Velho</td>\n",
              "      <td>RO</td>\n",
              "      <td>0.736</td>\n",
              "      <td>Polo Porto Velho</td>\n",
              "      <td>A</td>\n",
              "    </tr>\n",
              "    <tr>\n",
              "      <th>2797</th>\n",
              "      <td>Macapá</td>\n",
              "      <td>AP</td>\n",
              "      <td>0.733</td>\n",
              "      <td>Meio Do Mundo</td>\n",
              "      <td>A</td>\n",
              "    </tr>\n",
              "    <tr>\n",
              "      <th>4161</th>\n",
              "      <td>Rio Branco</td>\n",
              "      <td>AC</td>\n",
              "      <td>0.727</td>\n",
              "      <td>Conheça Rio Branco</td>\n",
              "      <td>A</td>\n",
              "    </tr>\n",
              "  </tbody>\n",
              "</table>\n",
              "</div>"
            ],
            "text/plain": [
              "             CITY STATE   IDHM                   REGIAO_TUR CATEGORIA_TUR\n",
              "3495       Palmas    TO  0.788                Serras E Lago             A\n",
              "608     Boa Vista    RR  0.752  Roraima, A Savana Amazônica             A\n",
              "558         Belém    PA  0.746                        Belém             A\n",
              "2849       Manaus    AM  0.737               Polo Amazônico             A\n",
              "3927  Porto Velho    RO  0.736             Polo Porto Velho             A\n",
              "2797       Macapá    AP  0.733                Meio Do Mundo             A\n",
              "4161   Rio Branco    AC  0.727           Conheça Rio Branco             A"
            ]
          },
          "execution_count": 61,
          "metadata": {},
          "output_type": "execute_result"
        }
      ],
      "source": [
        "#Capitais\n",
        "norte.loc[norte['CAPITAL'] == 1][['CITY','STATE','IDHM','REGIAO_TUR','CATEGORIA_TUR']].sort_values('IDHM', ascending=False)"
      ]
    },
    {
      "cell_type": "code",
      "execution_count": 62,
      "metadata": {},
      "outputs": [
        {
          "data": {
            "text/html": [
              "<div>\n",
              "<style scoped>\n",
              "    .dataframe tbody tr th:only-of-type {\n",
              "        vertical-align: middle;\n",
              "    }\n",
              "\n",
              "    .dataframe tbody tr th {\n",
              "        vertical-align: top;\n",
              "    }\n",
              "\n",
              "    .dataframe thead th {\n",
              "        text-align: right;\n",
              "    }\n",
              "</style>\n",
              "<table border=\"1\" class=\"dataframe\">\n",
              "  <thead>\n",
              "    <tr style=\"text-align: right;\">\n",
              "      <th></th>\n",
              "      <th>CITY</th>\n",
              "      <th>STATE</th>\n",
              "      <th>IDHM</th>\n",
              "      <th>REGIAO_TUR</th>\n",
              "      <th>CATEGORIA_TUR</th>\n",
              "      <th>RURAL_URBAN</th>\n",
              "    </tr>\n",
              "  </thead>\n",
              "  <tbody>\n",
              "    <tr>\n",
              "      <th>3495</th>\n",
              "      <td>Palmas</td>\n",
              "      <td>TO</td>\n",
              "      <td>0.788</td>\n",
              "      <td>Serras E Lago</td>\n",
              "      <td>A</td>\n",
              "      <td>Urbano</td>\n",
              "    </tr>\n",
              "    <tr>\n",
              "      <th>3572</th>\n",
              "      <td>Paraíso Do Tocantins</td>\n",
              "      <td>TO</td>\n",
              "      <td>0.764</td>\n",
              "      <td>Serras E Lago</td>\n",
              "      <td>C</td>\n",
              "      <td>Urbano</td>\n",
              "    </tr>\n",
              "    <tr>\n",
              "      <th>2014</th>\n",
              "      <td>Gurupi</td>\n",
              "      <td>TO</td>\n",
              "      <td>0.759</td>\n",
              "      <td>Ilha Do Bananal</td>\n",
              "      <td>C</td>\n",
              "      <td>Urbano</td>\n",
              "    </tr>\n",
              "    <tr>\n",
              "      <th>275</th>\n",
              "      <td>Araguaína</td>\n",
              "      <td>TO</td>\n",
              "      <td>0.752</td>\n",
              "      <td>Vale Dos Grandes Rios</td>\n",
              "      <td>B</td>\n",
              "      <td>Urbano</td>\n",
              "    </tr>\n",
              "    <tr>\n",
              "      <th>608</th>\n",
              "      <td>Boa Vista</td>\n",
              "      <td>RR</td>\n",
              "      <td>0.752</td>\n",
              "      <td>Roraima, A Savana Amazônica</td>\n",
              "      <td>A</td>\n",
              "      <td>Urbano</td>\n",
              "    </tr>\n",
              "    <tr>\n",
              "      <th>558</th>\n",
              "      <td>Belém</td>\n",
              "      <td>PA</td>\n",
              "      <td>0.746</td>\n",
              "      <td>Belém</td>\n",
              "      <td>A</td>\n",
              "      <td>Urbano</td>\n",
              "    </tr>\n",
              "    <tr>\n",
              "      <th>1987</th>\n",
              "      <td>Guaraí</td>\n",
              "      <td>TO</td>\n",
              "      <td>0.741</td>\n",
              "      <td>Vale Dos Grandes Rios</td>\n",
              "      <td>C</td>\n",
              "      <td>Urbano</td>\n",
              "    </tr>\n",
              "    <tr>\n",
              "      <th>3920</th>\n",
              "      <td>Porto Nacional</td>\n",
              "      <td>TO</td>\n",
              "      <td>0.740</td>\n",
              "      <td>Serras E Lago</td>\n",
              "      <td>C</td>\n",
              "      <td>Urbano</td>\n",
              "    </tr>\n",
              "    <tr>\n",
              "      <th>2849</th>\n",
              "      <td>Manaus</td>\n",
              "      <td>AM</td>\n",
              "      <td>0.737</td>\n",
              "      <td>Polo Amazônico</td>\n",
              "      <td>A</td>\n",
              "      <td>Urbano</td>\n",
              "    </tr>\n",
              "    <tr>\n",
              "      <th>3927</th>\n",
              "      <td>Porto Velho</td>\n",
              "      <td>RO</td>\n",
              "      <td>0.736</td>\n",
              "      <td>Polo Porto Velho</td>\n",
              "      <td>A</td>\n",
              "      <td>Urbano</td>\n",
              "    </tr>\n",
              "  </tbody>\n",
              "</table>\n",
              "</div>"
            ],
            "text/plain": [
              "                      CITY STATE   IDHM                   REGIAO_TUR  \\\n",
              "3495                Palmas    TO  0.788                Serras E Lago   \n",
              "3572  Paraíso Do Tocantins    TO  0.764                Serras E Lago   \n",
              "2014                Gurupi    TO  0.759              Ilha Do Bananal   \n",
              "275              Araguaína    TO  0.752        Vale Dos Grandes Rios   \n",
              "608              Boa Vista    RR  0.752  Roraima, A Savana Amazônica   \n",
              "558                  Belém    PA  0.746                        Belém   \n",
              "1987                Guaraí    TO  0.741        Vale Dos Grandes Rios   \n",
              "3920        Porto Nacional    TO  0.740                Serras E Lago   \n",
              "2849                Manaus    AM  0.737               Polo Amazônico   \n",
              "3927           Porto Velho    RO  0.736             Polo Porto Velho   \n",
              "\n",
              "     CATEGORIA_TUR RURAL_URBAN  \n",
              "3495             A      Urbano  \n",
              "3572             C      Urbano  \n",
              "2014             C      Urbano  \n",
              "275              B      Urbano  \n",
              "608              A      Urbano  \n",
              "558              A      Urbano  \n",
              "1987             C      Urbano  \n",
              "3920             C      Urbano  \n",
              "2849             A      Urbano  \n",
              "3927             A      Urbano  "
            ]
          },
          "execution_count": 62,
          "metadata": {},
          "output_type": "execute_result"
        }
      ],
      "source": [
        "#Melhores cidades turisticas do Norte\n",
        "norte.loc[(norte['IDHM'] >= 0.650) & (norte['REGIAO_TUR'] != '0')][['CITY','STATE','IDHM','REGIAO_TUR','CATEGORIA_TUR', 'RURAL_URBAN']].sort_values('IDHM', ascending=False).head(10)"
      ]
    },
    {
      "cell_type": "code",
      "execution_count": 63,
      "metadata": {},
      "outputs": [
        {
          "data": {
            "image/png": "[encoded data removed]",
            "text/plain": [
              "<Figure size 1440x720 with 1 Axes>"
            ]
          },
          "metadata": {
            "needs_background": "light"
          },
          "output_type": "display_data"
        }
      ],
      "source": [
        "# Criando Principais tipos de Industria no norte\n",
        "dados =  {'Agriculture':norte.COMP_A.sum()/1000,'Indústrias extrativas':norte.COMP_B.sum()/1000,'Indústrias de transformação':norte.COMP_C.sum()/1000,'Eletricidade e gás':norte.COMP_D.sum()/1000,'Saneamento':norte.COMP_E.sum()/1000,'Construção':norte.COMP_F.sum()/1000,'Automobilística':norte.COMP_G.sum()/1000,'Transporte':norte.COMP_H.sum()/1000,'Hospedagem e alimentação':norte.COMP_I.sum()/1000,'Informação e comunicação':norte.COMP_J.sum()/1000,'Atividades financeiras':norte.COMP_K.sum()/1000,'Atividades imobiliárias':norte.COMP_L.sum()/1000,'Científicas e Técnicas':norte.COMP_M.sum()/1000,'atividades administrativas':norte.COMP_N.sum()/1000,'Administração e Segurança':norte.COMP_O.sum()/1000,'Educação':norte.COMP_P.sum()/1000,'Saúde':norte.COMP_Q.sum()/1000,'Cultura':norte.COMP_R.sum()/1000,'Outras':norte.COMP_S.sum()/1000,'Serviços domésticos':norte.COMP_T.sum()/1000,'Internacional':norte.COMP_U.sum()/1000}\n",
        "Industria = list(dados.keys())\n",
        "qtd = list(dados.values())\n",
        "fig = plt.figure(figsize = (20, 10))\n",
        "\n",
        "# criando Gráfico\n",
        "plt.bar(Industria, qtd, color ='#00BFFF',width = 0.9)\n",
        "plt.xticks(rotation = 90)\n",
        "plt.xlabel(\"Áreas\")\n",
        "plt.ylabel(\"Quantidades(Mil)\")\n",
        "plt.title(\"Indústrias\")\n",
        "plt.show()"
      ]
    },
    {
      "cell_type": "markdown",
      "metadata": {},
      "source": [
        "## **Nordeste**"
      ]
    },
    {
      "cell_type": "code",
      "execution_count": 66,
      "metadata": {},
      "outputs": [
        {
          "data": {
            "text/html": [
              "<div>\n",
              "<style scoped>\n",
              "    .dataframe tbody tr th:only-of-type {\n",
              "        vertical-align: middle;\n",
              "    }\n",
              "\n",
              "    .dataframe tbody tr th {\n",
              "        vertical-align: top;\n",
              "    }\n",
              "\n",
              "    .dataframe thead th {\n",
              "        text-align: right;\n",
              "    }\n",
              "</style>\n",
              "<table border=\"1\" class=\"dataframe\">\n",
              "  <thead>\n",
              "    <tr style=\"text-align: right;\">\n",
              "      <th></th>\n",
              "      <th>Capitais</th>\n",
              "      <th>Cidades</th>\n",
              "      <th>Habitantes</th>\n",
              "      <th>Empresas</th>\n",
              "    </tr>\n",
              "  </thead>\n",
              "  <tbody>\n",
              "    <tr>\n",
              "      <th>0</th>\n",
              "      <td>13</td>\n",
              "      <td>1792</td>\n",
              "      <td>53062072</td>\n",
              "      <td>771290</td>\n",
              "    </tr>\n",
              "  </tbody>\n",
              "</table>\n",
              "</div>"
            ],
            "text/plain": [
              "   Capitais  Cidades  Habitantes  Empresas\n",
              "0        13     1792    53062072    771290"
            ]
          },
          "execution_count": 66,
          "metadata": {},
          "output_type": "execute_result"
        }
      ],
      "source": [
        "DadosNordeste = [{'Capitais':nordeste.loc[(nordeste['CAPITAL'] == 1)]['CITY'].count(),'Cidades': nordeste['CITY'].count(),'Habitantes': nordeste['IBGE_RES_POP'].sum(), 'Empresas': nordeste['COMP_TOT'].sum()}]\n",
        "df_DadosNordeste = pd.DataFrame(DadosNordeste)\n",
        "df_DadosNordeste"
      ]
    },
    {
      "cell_type": "code",
      "execution_count": 64,
      "metadata": {},
      "outputs": [
        {
          "data": {
            "image/png": "[encoded data removed]",
            "text/plain": [
              "<Figure size 720x720 with 1 Axes>"
            ]
          },
          "metadata": {
            "needs_background": "light"
          },
          "output_type": "display_data"
        }
      ],
      "source": [
        "# Mapa do Nordeste\n",
        "\n",
        "long= df_brazil[\"LONG\"] !=0\n",
        "lat = df_brazil[\"LAT\"] !=0 \n",
        "capNordestete = nordeste['CAPITAL'] == 1\n",
        "\n",
        "## use the scatter function\n",
        "plt.figure(figsize=(10,10))\n",
        "plt.title(\" Cidades do Norte\")\n",
        "plt.xlabel(\"Longitude\")\n",
        "plt.ylabel(\"Latitude\")\n",
        "plt.scatter(df_brazil[long&lat&cidadesNordeste][\"LONG\"], df_brazil[long&lat&cidadesNordeste][\"LAT\"], s=5, alpha=1, label='Cidades', c ='#00BFFF')\n",
        "plt.scatter(df_brazil[long&lat&capNordestete][\"LONG\"], df_brazil[long&lat&capNordestete][\"LAT\"], s=50, alpha=1, label='Capital city', c ='#ff4500')\n",
        "plt.legend()\n",
        "plt.show()"
      ]
    },
    {
      "cell_type": "code",
      "execution_count": 67,
      "metadata": {},
      "outputs": [
        {
          "data": {
            "text/plain": [
              "<AxesSubplot:>"
            ]
          },
          "execution_count": 67,
          "metadata": {},
          "output_type": "execute_result"
        },
        {
          "data": {
            "image/png": "[encoded data removed]",
            "text/plain": [
              "<Figure size 432x288 with 1 Axes>"
            ]
          },
          "metadata": {
            "needs_background": "light"
          },
          "output_type": "display_data"
        }
      ],
      "source": [
        "nordeste.boxplot(column=['IDHM'])"
      ]
    },
    {
      "cell_type": "code",
      "execution_count": 71,
      "metadata": {},
      "outputs": [
        {
          "data": {
            "image/png": "[encoded data removed]",
            "text/plain": [
              "<Figure size 720x360 with 1 Axes>"
            ]
          },
          "metadata": {
            "needs_background": "light"
          },
          "output_type": "display_data"
        }
      ],
      "source": [
        "# Criando lista\n",
        "dados1 =  {'PE':nordeste[nordeste['STATE'] == 'PE'].IDHM_Educacao.mean() ,'BA':nordeste[nordeste['STATE'] == 'BA'].IDHM_Educacao.mean(), 'MA':nordeste[nordeste['STATE'] == 'MA'].IDHM_Educacao.mean(),'PI':nordeste[nordeste['STATE'] == 'PI'].IDHM_Educacao.mean(),'CE':nordeste[nordeste['STATE'] == 'CE'].IDHM_Educacao.mean(),'RN':nordeste[nordeste['STATE'] == 'RN'].IDHM_Educacao.mean(),'PB':nordeste[nordeste['STATE'] == 'PB'].IDHM_Educacao.mean(),'AL':nordeste[nordeste['STATE'] == 'AL'].IDHM_Educacao.mean(),'SE':nordeste[nordeste['STATE'] == 'SE'].IDHM_Educacao.mean()}\n",
        "dados2 =  {'PE':nordeste[nordeste['STATE'] == 'PE'].IDHM.mean() ,'BA':nordeste[nordeste['STATE'] == 'BA'].IDHM.mean(), 'MA':nordeste[nordeste['STATE'] == 'MA'].IDHM.mean(),'PI':nordeste[nordeste['STATE'] == 'PI'].IDHM.mean(),'CE':nordeste[nordeste['STATE'] == 'CE'].IDHM.mean(),'RN':nordeste[nordeste['STATE'] == 'RN'].IDHM.mean(),'PB':nordeste[nordeste['STATE'] == 'PB'].IDHM.mean(),'AL':nordeste[nordeste['STATE'] == 'AL'].IDHM.mean(),'SE':nordeste[nordeste['STATE'] == 'SE'].IDHM.mean()}\n",
        "dados3 =  {'PE':nordeste[nordeste['STATE'] == 'PE'].IDHM_Renda.mean() ,'BA':nordeste[nordeste['STATE'] == 'BA'].IDHM_Renda.mean(), 'MA':nordeste[nordeste['STATE'] == 'MA'].IDHM_Renda.mean(),'PI':nordeste[nordeste['STATE'] == 'PI'].IDHM_Renda.mean(),'CE':nordeste[nordeste['STATE'] == 'CE'].IDHM_Renda.mean(),'RN':nordeste[nordeste['STATE'] == 'RN'].IDHM_Renda.mean(),'PB':nordeste[nordeste['STATE'] == 'PB'].IDHM_Renda.mean(),'AL':nordeste[nordeste['STATE'] == 'AL'].IDHM_Renda.mean(),'SE':nordeste[nordeste['STATE'] == 'SE'].IDHM_Renda.mean()}\n",
        "dados4 =  {'PE':nordeste[nordeste['STATE'] == 'PE'].IDHM_Longevidade.mean() ,'BA':nordeste[nordeste['STATE'] == 'BA'].IDHM_Longevidade.mean(), 'MA':nordeste[nordeste['STATE'] == 'MA'].IDHM_Longevidade.mean(),'PI':nordeste[nordeste['STATE'] == 'PI'].IDHM_Longevidade.mean(),'CE':nordeste[nordeste['STATE'] == 'CE'].IDHM_Longevidade.mean(),'RN':nordeste[nordeste['STATE'] == 'RN'].IDHM_Longevidade.mean(),'PB':nordeste[nordeste['STATE'] == 'PB'].IDHM_Longevidade.mean(),'AL':nordeste[nordeste['STATE'] == 'AL'].IDHM_Longevidade.mean(),'SE':nordeste[nordeste['STATE'] == 'SE'].IDHM_Longevidade.mean()}\n",
        "Estados = list(dados1.keys())\n",
        "\n",
        "MediaIDHM = list(dados2.values())\n",
        "MediaIDHM_Educacao = list(dados1.values())\n",
        "MediaIDHM_renda = list(dados3.values())\n",
        "MediaIDHM_longevidade = list(dados4.values())\n",
        "\n",
        "barWidth = 0.2\n",
        "\n",
        "r1 = np.arange(len(MediaIDHM))\n",
        "r2 = [x + barWidth for x in r1]\n",
        "r3 = [x + barWidth for x in r2]\n",
        "r4 = [x + barWidth for x in r3]\n",
        "\n",
        "fig = plt.figure(figsize = (10, 5))\n",
        "\n",
        "#Criando as barras\n",
        "plt.bar(r1,MediaIDHM, color = '#00BFFF', width = barWidth, label = 'IDHM')\n",
        "plt.bar(r2,MediaIDHM_Educacao, color = '#1049F0', width = barWidth, label = 'IDHM_Educacao')\n",
        "plt.bar(r3,MediaIDHM_renda, color = '#D73E0D', width = barWidth, label = 'IDHM_renda')\n",
        "plt.bar(r4,MediaIDHM_longevidade, color = '#0DD7A3', width = barWidth, label = 'IDHM_longevidade')\n",
        "\n",
        "\n",
        "# criando Gráfico\n",
        "plt.xlabel(\"Estados\")\n",
        "plt.xticks([r + barWidth for r in range(len(MediaIDHM))], Estados)\n",
        "plt.ylabel(\"IDHM\")\n",
        "plt.title(\"Gráfico IDHM Médio norte\")\n",
        "plt.legend()\n",
        "plt.show()\n",
        "plt.show()\n"
      ]
    },
    {
      "cell_type": "code",
      "execution_count": 85,
      "metadata": {},
      "outputs": [
        {
          "data": {
            "image/png": "[encoded data removed]",
            "text/plain": [
              "<Figure size 1440x720 with 1 Axes>"
            ]
          },
          "metadata": {
            "needs_background": "light"
          },
          "output_type": "display_data"
        }
      ],
      "source": [
        "# Criando Principais tipos de Industria no nordeste\n",
        "dados =  {'Agriculture':nordeste.COMP_A.sum()/1000,'Indústrias extrativas':nordeste.COMP_B.sum()/1000,'Indústrias de transformação':nordeste.COMP_C.sum()/1000,'Eletricidade e gás':nordeste.COMP_D.sum()/1000,'Saneamento':nordeste.COMP_E.sum()/1000,'Construção':nordeste.COMP_F.sum()/1000,'Automobilística':nordeste.COMP_G.sum()/1000,'Transporte':nordeste.COMP_H.sum()/1000,'Hospedagem e alimentação':nordeste.COMP_I.sum()/1000,'Informação e comunicação':nordeste.COMP_J.sum()/1000,'Atividades financeiras':nordeste.COMP_K.sum()/1000,'Atividades imobiliárias':nordeste.COMP_L.sum()/1000,'Científicas e Técnicas':nordeste.COMP_M.sum()/1000,'atividades administrativas':nordeste.COMP_N.sum()/1000,'Administração e Segurança':nordeste.COMP_O.sum()/1000,'Educação':nordeste.COMP_P.sum()/1000,'Saúde':nordeste.COMP_Q.sum()/1000,'Cultura':nordeste.COMP_R.sum()/1000,'Outras':nordeste.COMP_S.sum()/1000,'Serviços domésticos':nordeste.COMP_T.sum()/1000,'Internacional':nordeste.COMP_U.sum()/1000}\n",
        "Industria = list(dados.keys())\n",
        "qtd = list(dados.values())\n",
        "fig = plt.figure(figsize = (20, 10))\n",
        "\n",
        "# criando Gráfico\n",
        "plt.bar(Industria, qtd, color ='#00BFFF',width = 0.9)\n",
        "plt.xticks(rotation = 90)\n",
        "plt.xlabel(\"Áreas\")\n",
        "plt.ylabel(\"Quantidades(Mil)\")\n",
        "plt.title(\"Indústrias\")\n",
        "plt.show()"
      ]
    },
    {
      "cell_type": "markdown",
      "metadata": {},
      "source": [
        "# **Sul**"
      ]
    },
    {
      "cell_type": "code",
      "execution_count": 83,
      "metadata": {},
      "outputs": [
        {
          "data": {
            "text/html": [
              "<div>\n",
              "<style scoped>\n",
              "    .dataframe tbody tr th:only-of-type {\n",
              "        vertical-align: middle;\n",
              "    }\n",
              "\n",
              "    .dataframe tbody tr th {\n",
              "        vertical-align: top;\n",
              "    }\n",
              "\n",
              "    .dataframe thead th {\n",
              "        text-align: right;\n",
              "    }\n",
              "</style>\n",
              "<table border=\"1\" class=\"dataframe\">\n",
              "  <thead>\n",
              "    <tr style=\"text-align: right;\">\n",
              "      <th></th>\n",
              "      <th>Capitais</th>\n",
              "      <th>Cidades</th>\n",
              "      <th>Habitantes</th>\n",
              "      <th>Empresas</th>\n",
              "    </tr>\n",
              "  </thead>\n",
              "  <tbody>\n",
              "    <tr>\n",
              "      <th>0</th>\n",
              "      <td>4</td>\n",
              "      <td>1188</td>\n",
              "      <td>27386891</td>\n",
              "      <td>1126447</td>\n",
              "    </tr>\n",
              "  </tbody>\n",
              "</table>\n",
              "</div>"
            ],
            "text/plain": [
              "   Capitais  Cidades  Habitantes  Empresas\n",
              "0         4     1188    27386891   1126447"
            ]
          },
          "execution_count": 83,
          "metadata": {},
          "output_type": "execute_result"
        }
      ],
      "source": [
        "DadosSul = [{'Capitais':sul.loc[(sul['CAPITAL'] == 1)]['CITY'].count(),'Cidades': sul['CITY'].count(),'Habitantes': sul['IBGE_RES_POP'].sum(), 'Empresas': sul['COMP_TOT'].sum()}]\n",
        "df_DadosSul = pd.DataFrame(DadosSul)\n",
        "df_DadosSul"
      ]
    },
    {
      "cell_type": "code",
      "execution_count": 76,
      "metadata": {},
      "outputs": [
        {
          "data": {
            "image/png": "[encoded data removed]",
            "text/plain": [
              "<Figure size 720x720 with 1 Axes>"
            ]
          },
          "metadata": {
            "needs_background": "light"
          },
          "output_type": "display_data"
        }
      ],
      "source": [
        "# Mapa do Sul\n",
        "\n",
        "long= df_brazil[\"LONG\"] !=0\n",
        "lat = df_brazil[\"LAT\"] !=0 \n",
        "capSul = sul['CAPITAL'] == 1\n",
        "\n",
        "## use the scatter function\n",
        "plt.figure(figsize=(10,10))\n",
        "plt.title(\" Cidades do Norte\")\n",
        "plt.xlabel(\"Longitude\")\n",
        "plt.ylabel(\"Latitude\")\n",
        "plt.scatter(df_brazil[long&lat&cidadesSul][\"LONG\"], df_brazil[long&lat&cidadesSul][\"LAT\"], s=5, alpha=1, label='Cidades', c ='#00BFFF')\n",
        "plt.scatter(df_brazil[long&lat&capSul][\"LONG\"], df_brazil[long&lat&capSul][\"LAT\"], s=50, alpha=1, label='Capital city', c ='#ff4500')\n",
        "plt.legend()\n",
        "plt.show()"
      ]
    },
    {
      "cell_type": "code",
      "execution_count": 77,
      "metadata": {},
      "outputs": [
        {
          "data": {
            "text/plain": [
              "<AxesSubplot:>"
            ]
          },
          "execution_count": 77,
          "metadata": {},
          "output_type": "execute_result"
        },
        {
          "data": {
            "image/png": "[encoded data removed]",
            "text/plain": [
              "<Figure size 432x288 with 1 Axes>"
            ]
          },
          "metadata": {
            "needs_background": "light"
          },
          "output_type": "display_data"
        }
      ],
      "source": [
        "sul.boxplot(column=['IDHM'])"
      ]
    },
    {
      "cell_type": "code",
      "execution_count": 79,
      "metadata": {},
      "outputs": [
        {
          "data": {
            "image/png": "[encoded data removed]",
            "text/plain": [
              "<Figure size 432x288 with 1 Axes>"
            ]
          },
          "metadata": {
            "needs_background": "light"
          },
          "output_type": "display_data"
        }
      ],
      "source": [
        "#Histograma do IDHM\n",
        "histSUL=sul['IDHM'].hist()"
      ]
    },
    {
      "cell_type": "code",
      "execution_count": 82,
      "metadata": {},
      "outputs": [
        {
          "data": {
            "image/png": "[encoded data removed]",
            "text/plain": [
              "<Figure size 720x360 with 1 Axes>"
            ]
          },
          "metadata": {
            "needs_background": "light"
          },
          "output_type": "display_data"
        }
      ],
      "source": [
        "# Criando lista\n",
        "dados1 =  {'PR':sul[sul['STATE'] == 'PR'].IDHM_Educacao.mean() ,'RS':sul[sul['STATE'] == 'RS'].IDHM_Educacao.mean(), 'SC':sul[sul['STATE'] == 'SC'].IDHM_Educacao.mean()}\n",
        "dados2 =  {'PR':sul[sul['STATE'] == 'PR'].IDHM.mean() ,'RS':sul[sul['STATE'] == 'RS'].IDHM.mean(), 'SC':sul[sul['STATE'] == 'SC'].IDHM.mean()}\n",
        "dados3 =  {'PR':sul[sul['STATE'] == 'PR'].IDHM_Renda.mean() ,'RS':sul[sul['STATE'] == 'RS'].IDHM_Renda.mean(), 'SC':sul[sul['STATE'] == 'SC'].IDHM_Renda.mean()}\n",
        "dados4 =  {'PR':sul[sul['STATE'] == 'PR'].IDHM_Longevidade.mean() ,'RS':sul[sul['STATE'] == 'RS'].IDHM_Longevidade.mean(), 'SC':sul[sul['STATE'] == 'SC'].IDHM_Longevidade.mean()}\n",
        "Estados = list(dados1.keys())\n",
        "\n",
        "MediaIDHM = list(dados2.values())\n",
        "MediaIDHM_Educacao = list(dados1.values())\n",
        "MediaIDHM_renda = list(dados3.values())\n",
        "MediaIDHM_longevidade = list(dados4.values())\n",
        "\n",
        "barWidth = 0.2\n",
        "\n",
        "r1 = np.arange(len(MediaIDHM))\n",
        "r2 = [x + barWidth for x in r1]\n",
        "r3 = [x + barWidth for x in r2]\n",
        "r4 = [x + barWidth for x in r3]\n",
        "\n",
        "fig = plt.figure(figsize = (10, 5))\n",
        "\n",
        "#Criando as barras\n",
        "plt.bar(r1,MediaIDHM, color = '#00BFFF', width = barWidth, label = 'IDHM')\n",
        "plt.bar(r2,MediaIDHM_Educacao, color = '#1049F0', width = barWidth, label = 'IDHM_Educacao')\n",
        "plt.bar(r3,MediaIDHM_renda, color = '#D73E0D', width = barWidth, label = 'IDHM_renda')\n",
        "plt.bar(r4,MediaIDHM_longevidade, color = '#0DD7A3', width = barWidth, label = 'IDHM_longevidade')\n",
        "\n",
        "\n",
        "# criando Gráfico\n",
        "plt.xlabel(\"Estados\")\n",
        "plt.xticks([r + barWidth for r in range(len(MediaIDHM))], Estados)\n",
        "plt.ylabel(\"IDHM\")\n",
        "plt.title(\"Gráfico IDHM Médio norte\")\n",
        "plt.legend()\n",
        "plt.show()\n"
      ]
    },
    {
      "cell_type": "code",
      "execution_count": 86,
      "metadata": {},
      "outputs": [
        {
          "data": {
            "image/png": "[encoded data removed]",
            "text/plain": [
              "<Figure size 1440x720 with 1 Axes>"
            ]
          },
          "metadata": {
            "needs_background": "light"
          },
          "output_type": "display_data"
        }
      ],
      "source": [
        "# Criando Principais tipos de Industria no sul\n",
        "dados =  {'Agriculture':sul.COMP_A.sum()/1000,'Indústrias extrativas':sul.COMP_B.sum()/1000,'Indústrias de transformação':sul.COMP_C.sum()/1000,'Eletricidade e gás':sul.COMP_D.sum()/1000,'Saneamento':sul.COMP_E.sum()/1000,'Construção':sul.COMP_F.sum()/1000,'Automobilística':sul.COMP_G.sum()/1000,'Transporte':sul.COMP_H.sum()/1000,'Hospedagem e alimentação':sul.COMP_I.sum()/1000,'Informação e comunicação':sul.COMP_J.sum()/1000,'Atividades financeiras':sul.COMP_K.sum()/1000,'Atividades imobiliárias':sul.COMP_L.sum()/1000,'Científicas e Técnicas':sul.COMP_M.sum()/1000,'atividades administrativas':sul.COMP_N.sum()/1000,'Administração e Segurança':sul.COMP_O.sum()/1000,'Educação':sul.COMP_P.sum()/1000,'Saúde':sul.COMP_Q.sum()/1000,'Cultura':sul.COMP_R.sum()/1000,'Outras':sul.COMP_S.sum()/1000,'Serviços domésticos':sul.COMP_T.sum()/1000,'Internacional':sul.COMP_U.sum()/1000}\n",
        "Industria = list(dados.keys())\n",
        "qtd = list(dados.values())\n",
        "fig = plt.figure(figsize = (20, 10))\n",
        "\n",
        "# criando Gráfico\n",
        "plt.bar(Industria, qtd, color ='#00BFFF',width = 0.9)\n",
        "plt.xticks(rotation = 90)\n",
        "plt.xlabel(\"Áreas\")\n",
        "plt.ylabel(\"Quantidades(Mil)\")\n",
        "plt.title(\"Indústrias\")\n",
        "plt.show()"
      ]
    },
    {
      "cell_type": "code",
      "execution_count": null,
      "metadata": {},
      "outputs": [],
      "source": [
        "nordeste.loc[(nordeste['IDHM'] <= 0.5) & (nordeste['STATE'] == \"PE\")][['CITY','STATE','IDHM']]"
      ]
    },
    {
      "cell_type": "code",
      "execution_count": null,
      "metadata": {},
      "outputs": [],
      "source": [
        "#As 10 cidades com IDHM maior \n",
        "nordeste.loc[(nordeste['IDHM'] >= 0.650) & (nordeste['STATE'] == \"PE\")][['CITY','STATE','IDHM','IBGE_RES_POP','GDP','COMP_TOT']].sort_values('IDHM', ascending=False).head(10)"
      ]
    },
    {
      "cell_type": "code",
      "execution_count": null,
      "metadata": {},
      "outputs": [],
      "source": [
        "# Criando lista\n",
        "dados =  {'Agriculture':nordeste[nordeste['STATE'] == 'PE'].COMP_A.sum()/1000,'Indústrias extrativas':nordeste[nordeste['STATE'] == 'PE'].COMP_B.sum()/1000,'Indústrias de transformação':nordeste[nordeste['STATE'] == 'PE'].COMP_C.sum()/1000,'Eletricidade e gás':nordeste[nordeste['STATE'] == 'PE'].COMP_D.sum()/1000,'Saneamento':nordeste[nordeste['STATE'] == 'PE'].COMP_E.sum()/1000,'Construção':nordeste[nordeste['STATE'] == 'PE'].COMP_F.sum()/1000,'Automobilística':nordeste[nordeste['STATE'] == 'PE'].COMP_G.sum()/1000,'Transporte':nordeste[nordeste['STATE'] == 'PE'].COMP_H.sum()/1000,'Hospedagem e alimentação':nordeste[nordeste['STATE'] == 'PE'].COMP_I.sum()/1000,'Informação e comunicação':nordeste[nordeste['STATE'] == 'PE'].COMP_J.sum()/1000,'Atividades financeiras':nordeste[nordeste['STATE'] == 'PE'].COMP_K.sum()/1000,'Atividades imobiliárias':nordeste[nordeste['STATE'] == 'PE'].COMP_L.sum()/1000,'Científicas e Técnicas':nordeste[nordeste['STATE'] == 'PE'].COMP_M.sum()/1000,'atividades administrativas':nordeste[nordeste['STATE'] == 'PE'].COMP_N.sum()/1000,'Administração e Segurança':nordeste[nordeste['STATE'] == 'PE'].COMP_O.sum()/1000,'Educação':nordeste[nordeste['STATE'] == 'PE'].COMP_P.sum()/1000,'Saúde':nordeste[nordeste['STATE'] == 'PE'].COMP_Q.sum()/1000,'Cultura':nordeste[nordeste['STATE'] == 'PE'].COMP_R.sum()/1000,'Outras':nordeste[nordeste['STATE'] == 'PE'].COMP_S.sum()/1000,'Serviços domésticos':nordeste[nordeste['STATE'] == 'PE'].COMP_T.sum()/1000,'Internacional':nordeste[nordeste['STATE'] == 'PE'].COMP_U.sum()/1000}\n",
        "Industria = list(dados.keys())\n",
        "qtd = list(dados.values())\n",
        "fig = plt.figure(figsize = (20, 10))\n",
        "\n",
        "# criando Gráfico\n",
        "plt.bar(Industria, qtd, color ='#00BFFF',width = 0.9)\n",
        "plt.xticks(rotation = 50)\n",
        "plt.xlabel(\"Áreas\")\n",
        "plt.ylabel(\"Quantidades\")\n",
        "plt.title(\"Indústrias\")\n",
        "plt.show()"
      ]
    },
    {
      "cell_type": "markdown",
      "metadata": {},
      "source": [
        "# **----------------------------------------------------------------------------** "
      ]
    },
    {
      "cell_type": "markdown",
      "metadata": {},
      "source": [
        "# **Leandro aqui**"
      ]
    },
    {
      "cell_type": "code",
      "execution_count": null,
      "metadata": {},
      "outputs": [],
      "source": [
        "df_brazil.describe()"
      ]
    },
    {
      "cell_type": "code",
      "execution_count": null,
      "metadata": {},
      "outputs": [],
      "source": [
        "#  Eliminando linhas duplicadas, Cidades: Assis, Paraty e Nova Fátima\n",
        "df_brazil = df_brazil.drop_duplicates()"
      ]
    },
    {
      "cell_type": "code",
      "execution_count": null,
      "metadata": {},
      "outputs": [],
      "source": [
        "# Cidade de Paraty possui dois dados sobre a agência de correios, eliminei o diferente de 1 (pesquisado no google que só existe uma agência)\n",
        "df_brazil.drop(df_brazil.loc[(df_brazil['CITY']=='Paraty') & (df_brazil['POST_OFFICES'] != 1)].index, inplace=True)"
      ]
    },
    {
      "cell_type": "code",
      "execution_count": null,
      "metadata": {},
      "outputs": [],
      "source": [
        "# gráfico mostrando que só há uber na área urbana\n",
        "df_brazil.groupby('RURAL_URBAN')['UBER'].sum().plot(kind='bar',figsize=(5,5))"
      ]
    },
    {
      "cell_type": "code",
      "execution_count": null,
      "metadata": {},
      "outputs": [],
      "source": [
        "#Porcentagem correpondente de cada tipologia\n",
        "\n",
        "df_brazil.groupby(['RURAL_URBAN']).size().plot(kind='pie', autopct='%0.2f%%', figsize=(10,10))"
      ]
    },
    {
      "cell_type": "code",
      "execution_count": null,
      "metadata": {},
      "outputs": [],
      "source": [
        "# De acordo com o IBGE a menor cidade do Brasil tem 3565 km², dando o código abaixo , retona 3 cidades com área 0\n",
        "df_brazil[(df_brazil['AREA'] < 3.565)]\n",
        "df_brazil.drop(df_brazil.loc[(df_brazil['AREA'] <  3565)].index, inplace=True)"
      ]
    },
    {
      "cell_type": "code",
      "execution_count": null,
      "metadata": {},
      "outputs": [],
      "source": [
        "# De acordo com o IBGE a  cidade do Brasil menos povoada tem 776 pessoas\n",
        "df_brazil[(df_brazil['IBGE_RES_POP'] < 776)]\n",
        "df_brazil.drop(df_brazil.loc[(df_brazil['IBGE_RES_POP']< 3.565)].index, inplace=True)"
      ]
    },
    {
      "cell_type": "markdown",
      "metadata": {},
      "source": [
        "<h1> <font color =\"yellow\">Limpeza</font> <font color=\"green\">dos dados</font><h1>"
      ]
    },
    {
      "cell_type": "markdown",
      "metadata": {},
      "source": [
        "<h3>Univariado usando Z-Score robusto<h3>"
      ]
    },
    {
      "cell_type": "code",
      "execution_count": null,
      "metadata": {},
      "outputs": [],
      "source": [
        "df_brazil['TAXES'].value_counts()"
      ]
    },
    {
      "cell_type": "code",
      "execution_count": null,
      "metadata": {},
      "outputs": [],
      "source": [
        "df_brazil['TAXES'].describe()"
      ]
    },
    {
      "cell_type": "code",
      "execution_count": null,
      "metadata": {},
      "outputs": [],
      "source": [
        "# Plotando o gráfico para ver as outliers\n",
        "df_brazil['TAXES'].plot.box()"
      ]
    },
    {
      "cell_type": "code",
      "execution_count": null,
      "metadata": {},
      "outputs": [],
      "source": [
        "df_brazil['TAXES'].hist()"
      ]
    },
    {
      "cell_type": "code",
      "execution_count": null,
      "metadata": {},
      "outputs": [],
      "source": [
        " # Como visto em cima , os dados não estão simétricos , então aplicamos log10\n",
        " df_brazil['TAXES_Log'] = log10(df_brazil['TAXES'])\n",
        " df_brazil['TAXES_Log'].hist()"
      ]
    },
    {
      "cell_type": "code",
      "execution_count": null,
      "metadata": {},
      "outputs": [],
      "source": [
        "# Usando z-core robusto\n",
        "from numpy import abs\n",
        "mad = abs(df_brazil['TAXES_Log'] - df_brazil['TAXES_Log'].median()).median()*(1/0.6745)\n",
        "print(mad)"
      ]
    },
    {
      "cell_type": "code",
      "execution_count": null,
      "metadata": {},
      "outputs": [],
      "source": [
        "# Agora vamos plotar o z-score robusto\n",
        "(abs(df_brazil['TAXES_Log']-df_brazil['TAXES_Log'].median())/mad).hist()"
      ]
    },
    {
      "cell_type": "code",
      "execution_count": null,
      "metadata": {},
      "outputs": [],
      "source": [
        "# Usando a limiar > 2.5, encontro os outliers\n",
        "df_brazil[abs(df_brazil['TAXES_Log']-df_brazil['TAXES_Log'].median())/mad > 2.5]"
      ]
    },
    {
      "cell_type": "code",
      "execution_count": null,
      "metadata": {},
      "outputs": [],
      "source": [
        "# Gerando novo dataframe, eliminando os outros\n",
        "df_brazil = df_brazil[abs(df_brazil['TAXES_Log']-df_brazil['TAXES_Log'].median())/mad < 2.5]"
      ]
    },
    {
      "cell_type": "code",
      "execution_count": null,
      "metadata": {},
      "outputs": [],
      "source": [
        "df_brazil['TAXES'].plot.box()"
      ]
    }
  ],
  "metadata": {
    "colab": {
      "name": "Brazilian Cities.ipynb",
      "provenance": []
    },
    "kernelspec": {
      "display_name": "Python 3.9.1 64-bit",
      "language": "python",
      "name": "python3"
    },
    "language_info": {
      "codemirror_mode": {
        "name": "ipython",
        "version": 3
      },
      "file_extension": ".py",
      "mimetype": "text/x-python",
      "name": "python",
      "nbconvert_exporter": "python",
      "pygments_lexer": "ipython3",
      "version": "3.9.1"
    },
    "vscode": {
      "interpreter": {
        "hash": "23c97b6ce6e74fc802f0025f74c429d7e026c9009e3626756b84148f9ac2a5e4"
      }
    }
  },
  "nbformat": 4,
  "nbformat_minor": 0
}
