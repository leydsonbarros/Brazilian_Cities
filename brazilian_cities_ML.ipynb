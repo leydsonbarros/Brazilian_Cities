{
  "cells": [
    {
      "cell_type": "markdown",
      "metadata": {
        "id": "0EN6FYuXqlqD"
      },
      "source": [
        "# --**Importações bibliotecas**-- "
      ]
    },
    {
      "cell_type": "code",
      "execution_count": 1,
      "metadata": {
        "id": "WXtoC0Eeqj4g"
      },
      "outputs": [],
      "source": [
        "#Importação\n",
        "\n",
        "import numpy as np\n",
        "import pandas as pd\n",
        "from numpy import log10\n",
        "import seaborn as sns \n",
        "import matplotlib.pyplot as plt\n",
        "from matplotlib import pylab\n",
        "from sklearn.cluster import KMeans\n",
        "from sklearn.decomposition import PCA\n",
        "from sklearn.metrics import silhouette_score\n",
        "from scipy.spatial.distance import cdist, pdist\n",
        "import warnings\n",
        "from sklearn.model_selection import train_test_split\n",
        "warnings.filterwarnings(\"ignore\")\n",
        "%matplotlib inline\n",
        "import sys\n",
        "from scipy.stats import linregress\n",
        "from sklearn.linear_model import LinearRegression\n",
        "from sklearn import metrics\n",
        "from sklearn.neighbors import KNeighborsRegressor\n",
        "from sklearn.metrics import r2_score\n",
        "from datetime import datetime\n",
        "import sklearn.datasets\n",
        "import sklearn.ensemble\n",
        "import sklearn.model_selection\n",
        "from sklearn.datasets import make_regression\n",
        "from sklearn.ensemble import RandomForestRegressor\n",
        "from sklearn.metrics import mean_squared_error\n",
        "from statsmodels.tsa.holtwinters import ExponentialSmoothing\n",
        "\n"
      ]
    },
    {
      "cell_type": "code",
      "execution_count": 2,
      "metadata": {
        "id": "drIXirIpzMK1"
      },
      "outputs": [],
      "source": [
        "#Instalando o MLFLOW\n",
        "!pip install mlflow --quiet\n",
        "!pip install pyngrok --quiet # Servidor para simular o painel criado para mostar os logs "
      ]
    },
    {
      "cell_type": "code",
      "execution_count": 3,
      "metadata": {
        "id": "BMv6dHumzgGU",
        "colab": {
          "base_uri": "https://localhost:8080/"
        },
        "outputId": "3b83f445-0b53-4720-dff9-c440bef102be"
      },
      "outputs": [
        {
          "output_type": "execute_result",
          "data": {
            "text/plain": [
              "<Experiment: artifact_location='file:///content/mlruns/1', creation_time=1664835286969, experiment_id='1', last_update_time=1664835286969, lifecycle_stage='active', name='brazilian_cities-ML', tags={}>"
            ]
          },
          "metadata": {},
          "execution_count": 3
        }
      ],
      "source": [
        "import mlflow\n",
        "import mlflow.sklearn\n",
        "\n",
        "mlflow.set_experiment('brazilian_cities-ML')\n"
      ]
    },
    {
      "cell_type": "code",
      "execution_count": 4,
      "metadata": {
        "id": "yBcKnJT7feiV",
        "colab": {
          "base_uri": "https://localhost:8080/",
          "height": 35
        },
        "outputId": "30642683-f44d-4860-86f4-7023c3a78842"
      },
      "outputs": [
        {
          "output_type": "execute_result",
          "data": {
            "text/plain": [
              "'1.29.0'"
            ],
            "application/vnd.google.colaboratory.intrinsic+json": {
              "type": "string"
            }
          },
          "metadata": {},
          "execution_count": 4
        }
      ],
      "source": [
        "#Versão Instalada\n",
        "mlflow.__version__"
      ]
    },
    {
      "cell_type": "code",
      "execution_count": 5,
      "metadata": {
        "id": "1OEkxp1bR9xI",
        "colab": {
          "base_uri": "https://localhost:8080/"
        },
        "outputId": "b9f238d9-2cd3-45df-e22e-07b4b7a99dc7"
      },
      "outputs": [
        {
          "output_type": "execute_result",
          "data": {
            "text/plain": [
              "<ActiveRun: >"
            ]
          },
          "metadata": {},
          "execution_count": 5
        }
      ],
      "source": [
        "#Inicio o MlFlow\n",
        "mlflow.start_run()"
      ]
    },
    {
      "cell_type": "markdown",
      "metadata": {
        "id": "VyIqrd8-uJ9l"
      },
      "source": [
        "# **Base de dados**\n",
        "\n"
      ]
    },
    {
      "cell_type": "code",
      "execution_count": 6,
      "metadata": {
        "id": "m-i_O_jeuLZU"
      },
      "outputs": [],
      "source": [
        "df_brazil=pd.read_csv(\"https://raw.githubusercontent.com/leoRecTI/teste2/main/cidadesBrasil/BRAZIL_CITIES_REV2022.CSV\", on_bad_lines='skip')\n"
      ]
    },
    {
      "cell_type": "markdown",
      "metadata": {
        "id": "qMdeiRkjvtYw"
      },
      "source": [
        "#1° Agrupamento\n",
        "Vamos construir uma Máquina Preditiva que, a partir de dados das cidades, agrupe por similaridade, afim de compreender o comportamento das cidades e e explicação do seu desenvolvimento.\n",
        "Também vamos analisar vamos passar por uma lista de algoritmos diferentes de predição, usando Regressão Linear, floresta aleatórias e \n",
        "K-vizinhos"
      ]
    },
    {
      "cell_type": "markdown",
      "metadata": {
        "id": "o_TTHCXsv_9Q"
      },
      "source": [
        "# **2 Análise exploratória dos dados**\n",
        "\n"
      ]
    },
    {
      "cell_type": "code",
      "execution_count": 7,
      "metadata": {
        "id": "2_0FpOiOxwtt",
        "colab": {
          "base_uri": "https://localhost:8080/",
          "height": 369
        },
        "outputId": "98a82270-77b1-4f64-8cf3-fb9411558c09"
      },
      "outputs": [
        {
          "output_type": "execute_result",
          "data": {
            "text/plain": [
              "                  CITY STATE  CAPITAL  IBGE_RES_POP  IBGE_RES_POP_BRAS  \\\n",
              "0      Abadia De Goiás    GO        0          6876               6876   \n",
              "1  Abadia Dos Dourados    MG        0          6704               6704   \n",
              "2            Abadiânia    GO        0         15757              15609   \n",
              "3           Abaetetuba    PA        0        141100             141040   \n",
              "4               Abaeté    MG        0         22690              22690   \n",
              "\n",
              "   IBGE_RES_POP_ESTR  IBGE_DU  IBGE_DU_URBAN  IBGE_DU_RURAL  IBGE_POP  ...  \\\n",
              "0                  0     2137           1546            591      5300  ...   \n",
              "1                  0     2328           1481            847      4154  ...   \n",
              "2                148     4655           3233           1422     10656  ...   \n",
              "3                 60    31061          19057          12004     82956  ...   \n",
              "4                  0     7694           6667           1027     18464  ...   \n",
              "\n",
              "   Pu_Bank  Pr_Assets  Pu_Assets  Cars  Motorcycles  Wheeled_tractor  UBER  \\\n",
              "0        0          0          0  2158         1246                0     0   \n",
              "1        0          0          0  2227         1142                0     0   \n",
              "2        1   33724584   67091904  2838         1426                0     0   \n",
              "3        4   76181384  800078483  5277        25661                0     0   \n",
              "4        2   44974716  371922572  6928         2953                0     0   \n",
              "\n",
              "   MAC  WAL-MART  POST_OFFICES  \n",
              "0    0         0             1  \n",
              "1    0         0             1  \n",
              "2    0         0             3  \n",
              "3    0         0             2  \n",
              "4    0         0             4  \n",
              "\n",
              "[5 rows x 81 columns]"
            ],
            "text/html": [
              "\n",
              "  <div id=\"df-bda86a0d-68f7-4e05-819b-86c293a0ee7f\">\n",
              "    <div class=\"colab-df-container\">\n",
              "      <div>\n",
              "<style scoped>\n",
              "    .dataframe tbody tr th:only-of-type {\n",
              "        vertical-align: middle;\n",
              "    }\n",
              "\n",
              "    .dataframe tbody tr th {\n",
              "        vertical-align: top;\n",
              "    }\n",
              "\n",
              "    .dataframe thead th {\n",
              "        text-align: right;\n",
              "    }\n",
              "</style>\n",
              "<table border=\"1\" class=\"dataframe\">\n",
              "  <thead>\n",
              "    <tr style=\"text-align: right;\">\n",
              "      <th></th>\n",
              "      <th>CITY</th>\n",
              "      <th>STATE</th>\n",
              "      <th>CAPITAL</th>\n",
              "      <th>IBGE_RES_POP</th>\n",
              "      <th>IBGE_RES_POP_BRAS</th>\n",
              "      <th>IBGE_RES_POP_ESTR</th>\n",
              "      <th>IBGE_DU</th>\n",
              "      <th>IBGE_DU_URBAN</th>\n",
              "      <th>IBGE_DU_RURAL</th>\n",
              "      <th>IBGE_POP</th>\n",
              "      <th>...</th>\n",
              "      <th>Pu_Bank</th>\n",
              "      <th>Pr_Assets</th>\n",
              "      <th>Pu_Assets</th>\n",
              "      <th>Cars</th>\n",
              "      <th>Motorcycles</th>\n",
              "      <th>Wheeled_tractor</th>\n",
              "      <th>UBER</th>\n",
              "      <th>MAC</th>\n",
              "      <th>WAL-MART</th>\n",
              "      <th>POST_OFFICES</th>\n",
              "    </tr>\n",
              "  </thead>\n",
              "  <tbody>\n",
              "    <tr>\n",
              "      <th>0</th>\n",
              "      <td>Abadia De Goiás</td>\n",
              "      <td>GO</td>\n",
              "      <td>0</td>\n",
              "      <td>6876</td>\n",
              "      <td>6876</td>\n",
              "      <td>0</td>\n",
              "      <td>2137</td>\n",
              "      <td>1546</td>\n",
              "      <td>591</td>\n",
              "      <td>5300</td>\n",
              "      <td>...</td>\n",
              "      <td>0</td>\n",
              "      <td>0</td>\n",
              "      <td>0</td>\n",
              "      <td>2158</td>\n",
              "      <td>1246</td>\n",
              "      <td>0</td>\n",
              "      <td>0</td>\n",
              "      <td>0</td>\n",
              "      <td>0</td>\n",
              "      <td>1</td>\n",
              "    </tr>\n",
              "    <tr>\n",
              "      <th>1</th>\n",
              "      <td>Abadia Dos Dourados</td>\n",
              "      <td>MG</td>\n",
              "      <td>0</td>\n",
              "      <td>6704</td>\n",
              "      <td>6704</td>\n",
              "      <td>0</td>\n",
              "      <td>2328</td>\n",
              "      <td>1481</td>\n",
              "      <td>847</td>\n",
              "      <td>4154</td>\n",
              "      <td>...</td>\n",
              "      <td>0</td>\n",
              "      <td>0</td>\n",
              "      <td>0</td>\n",
              "      <td>2227</td>\n",
              "      <td>1142</td>\n",
              "      <td>0</td>\n",
              "      <td>0</td>\n",
              "      <td>0</td>\n",
              "      <td>0</td>\n",
              "      <td>1</td>\n",
              "    </tr>\n",
              "    <tr>\n",
              "      <th>2</th>\n",
              "      <td>Abadiânia</td>\n",
              "      <td>GO</td>\n",
              "      <td>0</td>\n",
              "      <td>15757</td>\n",
              "      <td>15609</td>\n",
              "      <td>148</td>\n",
              "      <td>4655</td>\n",
              "      <td>3233</td>\n",
              "      <td>1422</td>\n",
              "      <td>10656</td>\n",
              "      <td>...</td>\n",
              "      <td>1</td>\n",
              "      <td>33724584</td>\n",
              "      <td>67091904</td>\n",
              "      <td>2838</td>\n",
              "      <td>1426</td>\n",
              "      <td>0</td>\n",
              "      <td>0</td>\n",
              "      <td>0</td>\n",
              "      <td>0</td>\n",
              "      <td>3</td>\n",
              "    </tr>\n",
              "    <tr>\n",
              "      <th>3</th>\n",
              "      <td>Abaetetuba</td>\n",
              "      <td>PA</td>\n",
              "      <td>0</td>\n",
              "      <td>141100</td>\n",
              "      <td>141040</td>\n",
              "      <td>60</td>\n",
              "      <td>31061</td>\n",
              "      <td>19057</td>\n",
              "      <td>12004</td>\n",
              "      <td>82956</td>\n",
              "      <td>...</td>\n",
              "      <td>4</td>\n",
              "      <td>76181384</td>\n",
              "      <td>800078483</td>\n",
              "      <td>5277</td>\n",
              "      <td>25661</td>\n",
              "      <td>0</td>\n",
              "      <td>0</td>\n",
              "      <td>0</td>\n",
              "      <td>0</td>\n",
              "      <td>2</td>\n",
              "    </tr>\n",
              "    <tr>\n",
              "      <th>4</th>\n",
              "      <td>Abaeté</td>\n",
              "      <td>MG</td>\n",
              "      <td>0</td>\n",
              "      <td>22690</td>\n",
              "      <td>22690</td>\n",
              "      <td>0</td>\n",
              "      <td>7694</td>\n",
              "      <td>6667</td>\n",
              "      <td>1027</td>\n",
              "      <td>18464</td>\n",
              "      <td>...</td>\n",
              "      <td>2</td>\n",
              "      <td>44974716</td>\n",
              "      <td>371922572</td>\n",
              "      <td>6928</td>\n",
              "      <td>2953</td>\n",
              "      <td>0</td>\n",
              "      <td>0</td>\n",
              "      <td>0</td>\n",
              "      <td>0</td>\n",
              "      <td>4</td>\n",
              "    </tr>\n",
              "  </tbody>\n",
              "</table>\n",
              "<p>5 rows × 81 columns</p>\n",
              "</div>\n",
              "      <button class=\"colab-df-convert\" onclick=\"convertToInteractive('df-bda86a0d-68f7-4e05-819b-86c293a0ee7f')\"\n",
              "              title=\"Convert this dataframe to an interactive table.\"\n",
              "              style=\"display:none;\">\n",
              "        \n",
              "  <svg xmlns=\"http://www.w3.org/2000/svg\" height=\"24px\"viewBox=\"0 0 24 24\"\n",
              "       width=\"24px\">\n",
              "    <path d=\"M0 0h24v24H0V0z\" fill=\"none\"/>\n",
              "    <path d=\"M18.56 5.44l.94 2.06.94-2.06 2.06-.94-2.06-.94-.94-2.06-.94 2.06-2.06.94zm-11 1L8.5 8.5l.94-2.06 2.06-.94-2.06-.94L8.5 2.5l-.94 2.06-2.06.94zm10 10l.94 2.06.94-2.06 2.06-.94-2.06-.94-.94-2.06-.94 2.06-2.06.94z\"/><path d=\"M17.41 7.96l-1.37-1.37c-.4-.4-.92-.59-1.43-.59-.52 0-1.04.2-1.43.59L10.3 9.45l-7.72 7.72c-.78.78-.78 2.05 0 2.83L4 21.41c.39.39.9.59 1.41.59.51 0 1.02-.2 1.41-.59l7.78-7.78 2.81-2.81c.8-.78.8-2.07 0-2.86zM5.41 20L4 18.59l7.72-7.72 1.47 1.35L5.41 20z\"/>\n",
              "  </svg>\n",
              "      </button>\n",
              "      \n",
              "  <style>\n",
              "    .colab-df-container {\n",
              "      display:flex;\n",
              "      flex-wrap:wrap;\n",
              "      gap: 12px;\n",
              "    }\n",
              "\n",
              "    .colab-df-convert {\n",
              "      background-color: #E8F0FE;\n",
              "      border: none;\n",
              "      border-radius: 50%;\n",
              "      cursor: pointer;\n",
              "      display: none;\n",
              "      fill: #1967D2;\n",
              "      height: 32px;\n",
              "      padding: 0 0 0 0;\n",
              "      width: 32px;\n",
              "    }\n",
              "\n",
              "    .colab-df-convert:hover {\n",
              "      background-color: #E2EBFA;\n",
              "      box-shadow: 0px 1px 2px rgba(60, 64, 67, 0.3), 0px 1px 3px 1px rgba(60, 64, 67, 0.15);\n",
              "      fill: #174EA6;\n",
              "    }\n",
              "\n",
              "    [theme=dark] .colab-df-convert {\n",
              "      background-color: #3B4455;\n",
              "      fill: #D2E3FC;\n",
              "    }\n",
              "\n",
              "    [theme=dark] .colab-df-convert:hover {\n",
              "      background-color: #434B5C;\n",
              "      box-shadow: 0px 1px 3px 1px rgba(0, 0, 0, 0.15);\n",
              "      filter: drop-shadow(0px 1px 2px rgba(0, 0, 0, 0.3));\n",
              "      fill: #FFFFFF;\n",
              "    }\n",
              "  </style>\n",
              "\n",
              "      <script>\n",
              "        const buttonEl =\n",
              "          document.querySelector('#df-bda86a0d-68f7-4e05-819b-86c293a0ee7f button.colab-df-convert');\n",
              "        buttonEl.style.display =\n",
              "          google.colab.kernel.accessAllowed ? 'block' : 'none';\n",
              "\n",
              "        async function convertToInteractive(key) {\n",
              "          const element = document.querySelector('#df-bda86a0d-68f7-4e05-819b-86c293a0ee7f');\n",
              "          const dataTable =\n",
              "            await google.colab.kernel.invokeFunction('convertToInteractive',\n",
              "                                                     [key], {});\n",
              "          if (!dataTable) return;\n",
              "\n",
              "          const docLinkHtml = 'Like what you see? Visit the ' +\n",
              "            '<a target=\"_blank\" href=https://colab.research.google.com/notebooks/data_table.ipynb>data table notebook</a>'\n",
              "            + ' to learn more about interactive tables.';\n",
              "          element.innerHTML = '';\n",
              "          dataTable['output_type'] = 'display_data';\n",
              "          await google.colab.output.renderOutput(dataTable, element);\n",
              "          const docLink = document.createElement('div');\n",
              "          docLink.innerHTML = docLinkHtml;\n",
              "          element.appendChild(docLink);\n",
              "        }\n",
              "      </script>\n",
              "    </div>\n",
              "  </div>\n",
              "  "
            ]
          },
          "metadata": {},
          "execution_count": 7
        }
      ],
      "source": [
        "#Visualização dos dados \n",
        "df_brazil.head()"
      ]
    },
    {
      "cell_type": "code",
      "execution_count": 8,
      "metadata": {
        "id": "zU9sHZ69x8Ir",
        "colab": {
          "base_uri": "https://localhost:8080/"
        },
        "outputId": "91f4788f-bbae-43cd-9fe4-40119d4e7002"
      },
      "outputs": [
        {
          "output_type": "stream",
          "name": "stdout",
          "text": [
            "CITY                 0\n",
            "STATE                0\n",
            "CAPITAL              0\n",
            "IBGE_RES_POP         0\n",
            "IBGE_RES_POP_BRAS    0\n",
            "                    ..\n",
            "Wheeled_tractor      0\n",
            "UBER                 0\n",
            "MAC                  0\n",
            "WAL-MART             0\n",
            "POST_OFFICES         0\n",
            "Length: 81, dtype: int64\n"
          ]
        }
      ],
      "source": [
        " #Verificando se existe dados nulos\n",
        "print(df_brazil.isnull().sum())"
      ]
    },
    {
      "cell_type": "code",
      "execution_count": 9,
      "metadata": {
        "id": "R17WLujvyBCg"
      },
      "outputs": [],
      "source": [
        "#Verificando se existe dados nulos\n",
        "#df_brazil.info()"
      ]
    },
    {
      "cell_type": "code",
      "execution_count": 10,
      "metadata": {
        "id": "cqEDFG61z9sz"
      },
      "outputs": [],
      "source": [
        "# Criando os dataframes por região\n",
        "nordeste = df_brazil.loc[(df_brazil['STATE'] == 'PE') | (df_brazil['STATE'] == 'MA') | (df_brazil['STATE'] == 'RN') | (df_brazil['STATE'] == 'BA') | (df_brazil['STATE'] == 'CE') | (df_brazil['STATE'] == 'AL') | (df_brazil['STATE'] == 'PI') | (df_brazil['STATE'] == 'PB') | (df_brazil['STATE'] == 'SE')]\n",
        "norte =  df_brazil.loc[(df_brazil['STATE'] == 'AC') | (df_brazil['STATE'] == 'AP') | (df_brazil['STATE'] == 'AM') | (df_brazil['STATE'] == 'PA') | (df_brazil['STATE'] == 'RO') | (df_brazil['STATE'] == 'RR') | (df_brazil['STATE'] == 'TO')]\n",
        "sul = df_brazil.loc[(df_brazil['STATE'] == 'PR') | (df_brazil['STATE'] == 'RS') | (df_brazil['STATE'] == 'SC')]\n",
        "centroOeste =  df_brazil.loc[(df_brazil['STATE'] == 'DF') | (df_brazil['STATE'] == 'GO') | (df_brazil['STATE'] == 'MT') | (df_brazil['STATE'] == 'MS')]\n",
        "suldeste = df_brazil.loc[(df_brazil['STATE'] == 'ES') | (df_brazil['STATE'] == 'MG') | (df_brazil['STATE'] == 'SP') | (df_brazil['STATE'] == 'RJ')]\n",
        "# Verificação dos estados \n",
        "checknordeste = ['PE','BA', 'MA','PI','CE','RN','PB','AL','SE']\n",
        "checknorte = ['AC','AP', 'AM','PA','RO','RR','TO']\n",
        "checksul = ['PR','RS', 'SC']\n",
        "checkcentroOeste = ['DF','GO', 'MT','MS']\n",
        "checksudeste = ['ES','MG', 'SP','RJ']\n",
        "# Verificação das cidades por estado\n",
        "cidadesNordeste = df_brazil[\"STATE\"].isin(checknordeste)\n",
        "cidadesNorte = df_brazil[\"STATE\"].isin(checknorte)\n",
        "cidadesSul = df_brazil[\"STATE\"].isin(checksul)\n",
        "cidadesCentroOeste = df_brazil[\"STATE\"].isin(checkcentroOeste)\n",
        "cidadesSudeste = df_brazil[\"STATE\"].isin(checksudeste)"
      ]
    },
    {
      "cell_type": "code",
      "execution_count": 11,
      "metadata": {
        "id": "EHKbm5Kyz_4r",
        "colab": {
          "base_uri": "https://localhost:8080/",
          "height": 621
        },
        "outputId": "fe5457eb-8d50-49de-dee2-90226cd950c8"
      },
      "outputs": [
        {
          "output_type": "display_data",
          "data": {
            "text/plain": [
              "<Figure size 720x720 with 1 Axes>"
            ],
            "image/png": "[encoded data removed]"
          },
          "metadata": {
            "needs_background": "light"
          }
        }
      ],
      "source": [
        "# Mapa do Brasil \n",
        "\n",
        "long= df_brazil[\"LONG\"] !=0\n",
        "lat = df_brazil[\"LAT\"] !=0 \n",
        "## Montando o Mapa\n",
        "plt.figure(figsize=(10,10))\n",
        "plt.title(\" Cidades (Latitude e Longitude)\")\n",
        "plt.xlabel(\"Longitude\")\n",
        "plt.ylabel(\"Latitude\")\n",
        "plt.scatter(df_brazil[long&lat&cidadesNorte][\"LONG\"], df_brazil[long&lat&cidadesNorte][\"LAT\"], s=5, alpha=1, label='NORTE', c ='#006400')\n",
        "plt.scatter(df_brazil[long&lat&cidadesNordeste][\"LONG\"], df_brazil[long&lat&cidadesNordeste][\"LAT\"], s=5, alpha=1, label='Nordeste', c ='#00BFFF')\n",
        "plt.scatter(df_brazil[long&lat&cidadesCentroOeste][\"LONG\"], df_brazil[long&lat&cidadesCentroOeste][\"LAT\"], s=5, alpha=1, label='Centro Oeste', c ='#DB7093')\n",
        "plt.scatter(df_brazil[long&lat&cidadesSul][\"LONG\"], df_brazil[long&lat&cidadesSul][\"LAT\"], s=5, alpha=1, label='SUL', c ='#9932CC')\n",
        "plt.scatter(df_brazil[long&lat&cidadesSudeste][\"LONG\"], df_brazil[long&lat&cidadesSudeste][\"LAT\"], s=5, alpha=1, label='Sudeste', c ='#FF4500')\n",
        "\n",
        "plt.legend()\n",
        "plt.show()"
      ]
    },
    {
      "cell_type": "code",
      "execution_count": 12,
      "metadata": {
        "id": "PHMthrw30R79",
        "colab": {
          "base_uri": "https://localhost:8080/",
          "height": 621
        },
        "outputId": "cdf0627b-92ec-43aa-8218-26e445b6c2f7"
      },
      "outputs": [
        {
          "output_type": "display_data",
          "data": {
            "text/plain": [
              "<Figure size 720x720 with 1 Axes>"
            ],
            "image/png": "[encoded data removed]"
          },
          "metadata": {
            "needs_background": "light"
          }
        }
      ],
      "source": [
        "# Mapa do Brasil Capitais\n",
        "\n",
        "long= df_brazil[\"LONG\"] != 0\n",
        "lat = df_brazil[\"LAT\"] !=0 \n",
        "cap = df_brazil['CAPITAL'] ==1\n",
        " \n",
        "#Montando o Mapa\n",
        "plt.figure(figsize=(10,10))\n",
        "plt.title(\" Cidades (Latitude e Longitude)\")\n",
        "plt.xlabel(\"Longitude\")\n",
        "plt.ylabel(\"Latitude\")\n",
        "plt.scatter(df_brazil[long&lat&cap][\"LONG\"], df_brazil[long&lat&cap][\"LAT\"], s=50, alpha=1, label='Capital city', c ='#ff4500')\n",
        "plt.scatter(df_brazil[long&lat&~cap][\"LONG\"], df_brazil[long&lat&~cap][\"LAT\"], s=1, alpha=1, label='cidades', c = '#32cd32')\n",
        "plt.legend()\n",
        "plt.show()"
      ]
    },
    {
      "cell_type": "markdown",
      "metadata": {
        "id": "lZl3owerwSJB"
      },
      "source": [
        "# **3 Pré-processamento dos dados**\n",
        "\n"
      ]
    },
    {
      "cell_type": "code",
      "execution_count": 13,
      "metadata": {
        "id": "TNcI7HF8yYN8"
      },
      "outputs": [],
      "source": [
        "#  Eliminando linhas duplicadas (Cidades: Assis, Paraty e Nova Fátima)\n",
        "df_brazil = df_brazil.drop_duplicates()"
      ]
    },
    {
      "cell_type": "code",
      "execution_count": 14,
      "metadata": {
        "id": "R2ebMF98y5i_"
      },
      "outputs": [],
      "source": [
        "# Cidade de Paraty possui dois dados sobre a agência de correios, eliminei o diferente de 1 (pesquisado no google que só existe uma agência)\n",
        "df_brazil.drop(df_brazil.loc[(df_brazil['CITY']=='Paraty') & (df_brazil['POST_OFFICES'] != 1)].index, inplace=True)"
      ]
    },
    {
      "cell_type": "code",
      "execution_count": 15,
      "metadata": {
        "id": "jzKTJo8wzKXd"
      },
      "outputs": [],
      "source": [
        "#Limpando as cidades que tem área menor que 3.565 km², pois foi pesquisado que nao existe cidade menor que essetamanho de área\n",
        "df_brazil.drop(df_brazil.loc[(df_brazil['AREA'] < 3.565)].index, inplace=True)"
      ]
    },
    {
      "cell_type": "code",
      "execution_count": 16,
      "metadata": {
        "id": "WwylHcjvzR4q"
      },
      "outputs": [],
      "source": [
        "#Eliminando as cidades que tem menos de 776 habitantes\n",
        "df_brazil.drop(df_brazil.loc[(df_brazil['IBGE_RES_POP'] < 776)].index, inplace=True)"
      ]
    },
    {
      "cell_type": "code",
      "execution_count": 17,
      "metadata": {
        "id": "2PT6hWkRzXN0"
      },
      "outputs": [],
      "source": [
        "#Eliminando as cidades que tem IDHM menor que 0.0\n",
        "df_brazil.drop(df_brazil.loc[(df_brazil['IDHM'] == 0.0)].index, inplace=True)"
      ]
    },
    {
      "cell_type": "markdown",
      "metadata": {
        "id": "s3AJmqNe9_k7"
      },
      "source": [
        "## **Parametros que serão usados para o agrupamento** \n",
        "\n",
        "* IBGE_RES_POP - Resident Population \n",
        "* IBGE_DU - Domestic Units Total \n",
        "* IBGE_1 - Resident Population Regular Urban Planning \n",
        "* IBGE_1-4 - Resident Population Regular Urban Planning\n",
        "* IBGE_5-9 - Resident Population Regular Urban Planning \n",
        "* IBGE_10-14 - Resident Population Regular Urban Planning\n",
        "* IBGE_15-59 - Resident Population Regular Urban Planning \n",
        "* IBGE_60+ - Resident Population Regular Urban Planning - above 60 \n",
        "* IBGE_CROP_PRODUCTION_$ - Crop Production\n",
        "* IDHM - HDI Human Development Index\n",
        "* TAXES - Taxes\n",
        "* GDP - Gross Domestic Product \n",
        "* COMP_TOT - Total number of companies\n",
        "\n",
        "\n",
        "\n",
        "\n"
      ]
    },
    {
      "cell_type": "code",
      "execution_count": 18,
      "metadata": {
        "id": "gxnMCavH2D25",
        "colab": {
          "base_uri": "https://localhost:8080/"
        },
        "outputId": "34d5890c-790d-49e1-c4fe-c7a6b37efda0"
      },
      "outputs": [
        {
          "output_type": "execute_result",
          "data": {
            "text/plain": [
              "array([[6.87600e+03, 2.05540e+04, 1.66412e+05, ..., 5.00000e+00,\n",
              "        0.00000e+00, 0.00000e+00],\n",
              "       [6.70400e+03, 1.28730e+04, 1.80089e+05, ..., 1.90000e+01,\n",
              "        0.00000e+00, 0.00000e+00],\n",
              "       [1.57570e+04, 2.68230e+04, 2.87984e+05, ..., 8.00000e+00,\n",
              "        0.00000e+00, 0.00000e+00],\n",
              "       ...,\n",
              "       [1.08590e+04, 1.62600e+03, 5.68540e+04, ..., 3.00000e+00,\n",
              "        0.00000e+00, 0.00000e+00],\n",
              "       [4.93330e+04, 2.43770e+04, 6.12233e+05, ..., 2.00000e+01,\n",
              "        0.00000e+00, 0.00000e+00],\n",
              "       [2.67300e+03, 6.91000e+02, 8.89080e+04, ..., 8.00000e+00,\n",
              "        0.00000e+00, 0.00000e+00]])"
            ]
          },
          "metadata": {},
          "execution_count": 18
        }
      ],
      "source": [
        "#Criando as variáveis de entrada do modelo \n",
        "variáveisModelo = df_brazil[['IBGE_RES_POP','TAXES','GDP','IDHM Ranking 2010','COMP_TOT','AREA','COMP_A','COMP_B','COMP_C','COMP_D','COMP_E','COMP_F','COMP_G','COMP_H','COMP_I','COMP_J','COMP_K','COMP_L','COMP_M','COMP_N','COMP_O','COMP_P','COMP_Q','COMP_R','COMP_S','COMP_T','COMP_U']].values\n",
        "variáveisModelo"
      ]
    },
    {
      "cell_type": "markdown",
      "metadata": {
        "id": "JOTkugl8wdgu"
      },
      "source": [
        "# **4 Máquina preditiva**\n",
        "\n"
      ]
    },
    {
      "cell_type": "markdown",
      "metadata": {
        "id": "kCslB2ikFn-G"
      },
      "source": [
        "### Usaremos o **PCA** para reduzir a quantidade de variáveis"
      ]
    },
    {
      "cell_type": "markdown",
      "metadata": {
        "id": "u6BfvJHy7NRH"
      },
      "source": [
        "#### PCA é uma Técnica de Aprendizagem não supervisionada utilizada para reduzir a dimensionalidade dos dados.\n",
        "\n",
        "Transformamos as 13 variáveis em 2 variáveis (2 componentes principais). O Importante é entender que a transformação\n",
        "foi realizada por meio da Algebra. \n",
        "O que fizermos foi juntar as variáveis de acordo com sua semelhança entre \n",
        "si, onde essa semelhança foi medida pela variância."
      ]
    },
    {
      "cell_type": "code",
      "execution_count": 19,
      "metadata": {
        "id": "i99SzCd-Fm4g"
      },
      "outputs": [],
      "source": [
        "# Aplica redução de dimensionalidade no array das variáveis\n",
        "pca = PCA(n_components = 2).fit_transform(variáveisModelo)"
      ]
    },
    {
      "cell_type": "markdown",
      "metadata": {
        "id": "r0tjja8RJldv"
      },
      "source": [
        "# Agora vamos usar o K-means"
      ]
    },
    {
      "cell_type": "markdown",
      "metadata": {
        "id": "ipwc-RRM-3Wa"
      },
      "source": [
        "### Usaremos o Algoritmo **Kmeans** para Criar os grupos (segmentos)."
      ]
    },
    {
      "cell_type": "markdown",
      "metadata": {
        "id": "wZt-CoAR-9di"
      },
      "source": [
        "* O agrupamento é guiado pelo princípio de que os itens dentro de um cluster devem ser muito semelhantes entre si, mas muito diferentes entre clusters.\n",
        "* Simplificação de grandes conjuntos de dados agrupando características com valores semelhantes em um número menor de categorias homogêneas\n",
        "* Se você começar com dados sem rótulo ou seja sem variável target, você pode usar o clustering para criar rótulos de classe. \n",
        "\n",
        "* A qualidade do agrupamento depende do algoritmo escolhido, da função de distância e da aplicação. Diz-se que a qualidade de um modelo de cluster é superior, quando a distância inter-cluster é maximizada e a distância intra-cluster é minimizada\n",
        "\n",
        "* Às vezes, o número de clusters é definido por requisitos de negócios ou a motivação para a análise. \n",
        "\n",
        "* Muito provavelmente, você terá um conhecimento a priori sobre os verdadeiros agrupamentos e você pode aplicar essa informação para escolher o número de clusters."
      ]
    },
    {
      "cell_type": "code",
      "execution_count": 20,
      "metadata": {
        "id": "FtJ0-kuOJnh2",
        "colab": {
          "base_uri": "https://localhost:8080/"
        },
        "outputId": "504fcecf-2d0d-4170-f666-cb61f01cd82c"
      },
      "outputs": [
        {
          "output_type": "execute_result",
          "data": {
            "text/plain": [
              "range(1, 12)"
            ]
          },
          "metadata": {},
          "execution_count": 20
        }
      ],
      "source": [
        "# Determinando um range do Hyperparâmetro  \"K\"  do Kmeans\n",
        "k_ranger =range(1,12)\n",
        "k_ranger"
      ]
    },
    {
      "cell_type": "code",
      "execution_count": 21,
      "metadata": {
        "id": "jeezfiphJ0rJ"
      },
      "outputs": [],
      "source": [
        "# Aplicando o modelo K-Means para cada valor de K \n",
        "k_mean_var = [KMeans(n_clusters= k).fit(pca) for k in k_ranger]\n"
      ]
    },
    {
      "cell_type": "markdown",
      "metadata": {
        "id": "MF9HyFrQcf5D"
      },
      "source": [
        "## Curva de Elban"
      ]
    },
    {
      "cell_type": "code",
      "execution_count": 22,
      "metadata": {
        "id": "Ae_qlTy2clBQ",
        "colab": {
          "base_uri": "https://localhost:8080/",
          "height": 295
        },
        "outputId": "e42eefe9-cf75-405a-b290-d68e16e67dbb"
      },
      "outputs": [
        {
          "output_type": "display_data",
          "data": {
            "text/plain": [
              "<Figure size 432x288 with 1 Axes>"
            ],
            "image/png": "[encoded data removed]"
          },
          "metadata": {
            "needs_background": "light"
          }
        }
      ],
      "source": [
        "#Ajustando o centroide do cluster para cada modelo\n",
        "centroids = [X.cluster_centers_ for X in k_mean_var]\n",
        "\n",
        "#Calculando a distancia euclidiana de cada ponto de dado para o centroide\n",
        "k_euclid = [cdist(pca, cent, 'euclidean') for cent in centroids]\n",
        "dist = [np.min(ke, axis = 1) for ke in k_euclid]\n",
        "\n",
        "#Soma dos quadrados das distancia dentro do cluster\n",
        "soma_distancia_intra_cluster = [sum(d**2) for d in dist]\n",
        "\n",
        "#Soma total dos quadrados \n",
        "sum_total = sum(pdist(pca)**2)/pca.shape[0]\n",
        "\n",
        "#soma dos quadrados entre cluster\n",
        "soma_distancia_intra_cluster = sum_total - soma_distancia_intra_cluster\n",
        "\n",
        "#Curva de Elban\n",
        "fig = plt.figure()\n",
        "ax = fig.add_subplot(111)\n",
        "ax.plot(k_ranger, soma_distancia_intra_cluster/sum_total*100, 'b*-')\n",
        "ax.set_ylim((0,100))\n",
        "plt.grid(True)\n",
        "plt.xlabel('N de Cluster')\n",
        "plt.ylabel('% de Variância Explicada')\n",
        "plt.title('Variancia explicada por cada valor de K');\n"
      ]
    },
    {
      "cell_type": "markdown",
      "metadata": {
        "id": "KPWfVRrxwtNT"
      },
      "source": [
        "# **5 Avaliação de máquina preditiva**\n",
        "\n"
      ]
    },
    {
      "cell_type": "markdown",
      "metadata": {
        "id": "iVoHrHy9rrvO"
      },
      "source": [
        "### Avaliando a Máquina Preditiva V1 com k = 6"
      ]
    },
    {
      "cell_type": "code",
      "execution_count": 23,
      "metadata": {
        "id": "bk_3xP1jilR0",
        "colab": {
          "base_uri": "https://localhost:8080/"
        },
        "outputId": "4623b9c5-e98a-4dda-bec7-05784ae06833"
      },
      "outputs": [
        {
          "output_type": "execute_result",
          "data": {
            "text/plain": [
              "KMeans(n_clusters=6)"
            ]
          },
          "metadata": {},
          "execution_count": 23
        }
      ],
      "source": [
        "#criando um modelo com k = 6\n",
        "modelo_v1 = KMeans(n_clusters = 6)\n",
        "modelo_v1.fit(pca)"
      ]
    },
    {
      "cell_type": "code",
      "execution_count": 24,
      "metadata": {
        "id": "PtJXd_a8plAL",
        "colab": {
          "base_uri": "https://localhost:8080/"
        },
        "outputId": "835425ae-d029-46fd-b181-2cd85fa38ed8"
      },
      "outputs": [
        {
          "output_type": "execute_result",
          "data": {
            "text/plain": [
              "0.909651238727546"
            ]
          },
          "metadata": {},
          "execution_count": 24
        }
      ],
      "source": [
        "#Silhoette Score\n",
        "labels = modelo_v1.labels_\n",
        "\n",
        "KMeans6 = silhouette_score(pca, labels, metric = 'euclidean')\n",
        "KMeans6\n"
      ]
    },
    {
      "cell_type": "markdown",
      "metadata": {
        "id": "xqbwnpaysW1g"
      },
      "source": [
        "### Avaliando a Máquina Preditiva V2 com k = 7"
      ]
    },
    {
      "cell_type": "code",
      "execution_count": 25,
      "metadata": {
        "id": "qi9uA0_5smfC",
        "colab": {
          "base_uri": "https://localhost:8080/"
        },
        "outputId": "02b207cd-e53a-4bb6-b209-0844025b643f"
      },
      "outputs": [
        {
          "output_type": "execute_result",
          "data": {
            "text/plain": [
              "KMeans(n_clusters=7)"
            ]
          },
          "metadata": {},
          "execution_count": 25
        }
      ],
      "source": [
        "#criando um modelo com k = 7\n",
        "modelo_v2 = KMeans(n_clusters = 7)\n",
        "modelo_v2.fit(pca)"
      ]
    },
    {
      "cell_type": "code",
      "execution_count": 26,
      "metadata": {
        "id": "IVLqkdB5srMB",
        "colab": {
          "base_uri": "https://localhost:8080/"
        },
        "outputId": "fce584a4-bf79-464f-9548-cff62be95391"
      },
      "outputs": [
        {
          "output_type": "execute_result",
          "data": {
            "text/plain": [
              "0.90946501847374"
            ]
          },
          "metadata": {},
          "execution_count": 26
        }
      ],
      "source": [
        "#Silhoette Score\n",
        "labels = modelo_v2.labels_\n",
        "\n",
        "KMeans7 = silhouette_score(pca, labels, metric = 'euclidean')\n",
        "KMeans7"
      ]
    },
    {
      "cell_type": "markdown",
      "metadata": {
        "id": "4BVE5JuusaXv"
      },
      "source": [
        "### Avaliando a Máquina Preditiva V3 com k = 8"
      ]
    },
    {
      "cell_type": "code",
      "execution_count": 27,
      "metadata": {
        "id": "uauzfl6zsvBa",
        "colab": {
          "base_uri": "https://localhost:8080/"
        },
        "outputId": "0695e74e-ecc4-48a4-ab86-7c876c9a099c"
      },
      "outputs": [
        {
          "output_type": "execute_result",
          "data": {
            "text/plain": [
              "KMeans()"
            ]
          },
          "metadata": {},
          "execution_count": 27
        }
      ],
      "source": [
        "#criando um modelo com k = 8\n",
        "modelo_v3 = KMeans(n_clusters = 8)\n",
        "modelo_v3.fit(pca)"
      ]
    },
    {
      "cell_type": "code",
      "execution_count": 28,
      "metadata": {
        "id": "hi4vHHZosy5p",
        "colab": {
          "base_uri": "https://localhost:8080/"
        },
        "outputId": "061dd217-d910-45ba-9d87-0092c3f0cc12"
      },
      "outputs": [
        {
          "output_type": "execute_result",
          "data": {
            "text/plain": [
              "0.890071991377382"
            ]
          },
          "metadata": {},
          "execution_count": 28
        }
      ],
      "source": [
        "#Silhoette Score\n",
        "labels = modelo_v3.labels_\n",
        "\n",
        "KMeans8 = silhouette_score(pca, labels, metric = 'euclidean')\n",
        "KMeans8"
      ]
    },
    {
      "cell_type": "markdown",
      "metadata": {
        "id": "vltPQA8-sd1F"
      },
      "source": [
        "### Avaliando a Máquina Preditiva V3 com k = 9"
      ]
    },
    {
      "cell_type": "code",
      "execution_count": 29,
      "metadata": {
        "id": "VWaodTUvs11d",
        "colab": {
          "base_uri": "https://localhost:8080/"
        },
        "outputId": "ab44758e-f920-4500-eda0-654e7c0dda34"
      },
      "outputs": [
        {
          "output_type": "execute_result",
          "data": {
            "text/plain": [
              "KMeans(n_clusters=9)"
            ]
          },
          "metadata": {},
          "execution_count": 29
        }
      ],
      "source": [
        "#criando um modelo com k = 9\n",
        "modelo_v4 = KMeans(n_clusters = 9)\n",
        "modelo_v4.fit(pca)"
      ]
    },
    {
      "cell_type": "code",
      "execution_count": 30,
      "metadata": {
        "id": "Hsgq0xuPs45j",
        "colab": {
          "base_uri": "https://localhost:8080/"
        },
        "outputId": "28fec050-4f93-4864-b4bb-6beb9afe9b32"
      },
      "outputs": [
        {
          "output_type": "execute_result",
          "data": {
            "text/plain": [
              "0.8519503364946118"
            ]
          },
          "metadata": {},
          "execution_count": 30
        }
      ],
      "source": [
        "#Silhoette Score\n",
        "labels = modelo_v4.labels_\n",
        "\n",
        "KMeans9 = silhouette_score(pca, labels, metric = 'euclidean')\n",
        "KMeans9"
      ]
    },
    {
      "cell_type": "markdown",
      "metadata": {
        "id": "sFISBqC7sgTn"
      },
      "source": [
        "### Avaliando a Máquina Preditiva V4 com k = 10"
      ]
    },
    {
      "cell_type": "code",
      "execution_count": 31,
      "metadata": {
        "id": "xloeHKdVs7Px",
        "colab": {
          "base_uri": "https://localhost:8080/"
        },
        "outputId": "dd23433a-1444-4557-a474-81c65693b4d8"
      },
      "outputs": [
        {
          "output_type": "execute_result",
          "data": {
            "text/plain": [
              "KMeans(n_clusters=10)"
            ]
          },
          "metadata": {},
          "execution_count": 31
        }
      ],
      "source": [
        "#criando um modelo com k = 10\n",
        "modelo_v5 = KMeans(n_clusters = 10)\n",
        "modelo_v5.fit(pca)"
      ]
    },
    {
      "cell_type": "code",
      "execution_count": 32,
      "metadata": {
        "id": "jWd-rZmqs_lv",
        "colab": {
          "base_uri": "https://localhost:8080/"
        },
        "outputId": "5af09b9d-738b-4902-bf63-2a3daa7694e9"
      },
      "outputs": [
        {
          "output_type": "execute_result",
          "data": {
            "text/plain": [
              "0.8473157611566093"
            ]
          },
          "metadata": {},
          "execution_count": 32
        }
      ],
      "source": [
        "#Silhoette Score\n",
        "labels = modelo_v5.labels_\n",
        "\n",
        "KMeans10 = silhouette_score(pca, labels, metric = 'euclidean')\n",
        "KMeans10"
      ]
    },
    {
      "cell_type": "markdown",
      "metadata": {
        "id": "gLAPLHsNteOB"
      },
      "source": [
        "# Usando as marcações dos clurstes da máuina preditiva final"
      ]
    },
    {
      "cell_type": "code",
      "execution_count": 33,
      "metadata": {
        "id": "1iSeMPL3to2D"
      },
      "outputs": [],
      "source": [
        "df_brazil['cluster'] = modelo_v1.labels_"
      ]
    },
    {
      "cell_type": "code",
      "execution_count": 34,
      "metadata": {
        "id": "SKYmcpbhItFo",
        "colab": {
          "base_uri": "https://localhost:8080/"
        },
        "outputId": "7f4e3746-22e9-4fef-b8a6-635966875894"
      },
      "outputs": [
        {
          "output_type": "execute_result",
          "data": {
            "text/plain": [
              "cluster\n",
              "0    3.798786e+05\n",
              "1    6.870359e+08\n",
              "2    2.824642e+08\n",
              "3    6.393537e+07\n",
              "4    2.384964e+07\n",
              "5    7.700314e+06\n",
              "Name: GDP, dtype: float64"
            ]
          },
          "metadata": {},
          "execution_count": 34
        }
      ],
      "source": [
        "df_brazil.groupby('cluster')['GDP'].mean()"
      ]
    },
    {
      "cell_type": "code",
      "execution_count": 35,
      "metadata": {
        "id": "iOHrhmYA-fpH",
        "colab": {
          "base_uri": "https://localhost:8080/"
        },
        "outputId": "464fbb1d-8f9b-4953-f78d-03434415414a"
      },
      "outputs": [
        {
          "output_type": "execute_result",
          "data": {
            "text/plain": [
              "cluster\n",
              "0    0.655053\n",
              "1    0.805000\n",
              "2    0.811500\n",
              "3    0.782417\n",
              "4    0.774350\n",
              "5    0.754116\n",
              "Name: IDHM, dtype: float64"
            ]
          },
          "metadata": {},
          "execution_count": 35
        }
      ],
      "source": [
        "df_brazil.groupby('cluster')['IDHM'].mean()"
      ]
    },
    {
      "cell_type": "code",
      "execution_count": 36,
      "metadata": {
        "id": "nhYGZTBgB5tl",
        "colab": {
          "base_uri": "https://localhost:8080/"
        },
        "outputId": "8625a4f5-535d-4a64-b9c8-d3c414053bb4"
      },
      "outputs": [
        {
          "output_type": "execute_result",
          "data": {
            "text/plain": [
              "5344"
            ]
          },
          "metadata": {},
          "execution_count": 36
        }
      ],
      "source": [
        "cluster0 = df_brazil[df_brazil['cluster']== 0]['cluster'].count()\n",
        "cluster0"
      ]
    },
    {
      "cell_type": "code",
      "execution_count": 37,
      "metadata": {
        "id": "9_Lh52fkDV1g",
        "colab": {
          "base_uri": "https://localhost:8080/"
        },
        "outputId": "aff47a7b-2b64-4274-a88f-e984d99201de"
      },
      "outputs": [
        {
          "output_type": "execute_result",
          "data": {
            "text/plain": [
              "1"
            ]
          },
          "metadata": {},
          "execution_count": 37
        }
      ],
      "source": [
        "cluster1 = df_brazil[df_brazil['cluster']== 1]['cluster'].count()\n",
        "cluster1"
      ]
    },
    {
      "cell_type": "code",
      "execution_count": 38,
      "metadata": {
        "id": "MoFJUnqWDY-n",
        "colab": {
          "base_uri": "https://localhost:8080/"
        },
        "outputId": "48e46a3a-10e5-499c-b8a0-36109a26d613"
      },
      "outputs": [
        {
          "output_type": "execute_result",
          "data": {
            "text/plain": [
              "2"
            ]
          },
          "metadata": {},
          "execution_count": 38
        }
      ],
      "source": [
        "cluster2 = df_brazil[df_brazil['cluster']== 2]['cluster'].count()\n",
        "cluster2"
      ]
    },
    {
      "cell_type": "code",
      "execution_count": 39,
      "metadata": {
        "id": "gyDVWME3Dc0Q",
        "colab": {
          "base_uri": "https://localhost:8080/"
        },
        "outputId": "5ded8b88-88b7-4630-cf96-c1729279167c"
      },
      "outputs": [
        {
          "output_type": "execute_result",
          "data": {
            "text/plain": [
              "12"
            ]
          },
          "metadata": {},
          "execution_count": 39
        }
      ],
      "source": [
        "cluster3 = df_brazil[df_brazil['cluster']== 3]['cluster'].count()\n",
        "cluster3"
      ]
    },
    {
      "cell_type": "code",
      "execution_count": 40,
      "metadata": {
        "id": "vDtUDpSQDf6d",
        "colab": {
          "base_uri": "https://localhost:8080/"
        },
        "outputId": "4f5696bf-926a-4dff-fd33-890d60c3eff2"
      },
      "outputs": [
        {
          "output_type": "execute_result",
          "data": {
            "text/plain": [
              "40"
            ]
          },
          "metadata": {},
          "execution_count": 40
        }
      ],
      "source": [
        "cluster4 = df_brazil[df_brazil['cluster']== 4]['cluster'].count()\n",
        "cluster4\n"
      ]
    },
    {
      "cell_type": "code",
      "execution_count": 41,
      "metadata": {
        "id": "kQuywGe8mmJu",
        "colab": {
          "base_uri": "https://localhost:8080/"
        },
        "outputId": "9adb248b-b981-4c69-dd37-c0f7089c6b0f"
      },
      "outputs": [
        {
          "output_type": "execute_result",
          "data": {
            "text/plain": [
              "164"
            ]
          },
          "metadata": {},
          "execution_count": 41
        }
      ],
      "source": [
        "cluster5 = df_brazil[df_brazil['cluster']== 5]['cluster'].count()\n",
        "cluster5"
      ]
    },
    {
      "cell_type": "code",
      "execution_count": 42,
      "metadata": {
        "id": "skDKcRTO2fFF",
        "colab": {
          "base_uri": "https://localhost:8080/",
          "height": 206
        },
        "outputId": "3377afc5-3313-4ef7-d8d3-81256a873281"
      },
      "outputs": [
        {
          "output_type": "execute_result",
          "data": {
            "text/plain": [
              "      IBGE_RES_POP   TAXES      GDP  IDHM Ranking 2010  COMP_TOT      AREA  \\\n",
              "2515         88006  344685  4040385                431      2475  7174.225   \n",
              "288         104150  450807  4030758                596      4432   382.215   \n",
              "285         214006  401063  4012632               3143      3992   345.655   \n",
              "2791         60105  635335  3999684               1431      3034  3940.537   \n",
              "272         109801  301892  3923828                200      3108  2729.508   \n",
              "\n",
              "       IDHM  \n",
              "2515  0.757  \n",
              "288   0.748  \n",
              "285   0.649  \n",
              "2791  0.716  \n",
              "272   0.773  "
            ],
            "text/html": [
              "\n",
              "  <div id=\"df-06f87928-0b1c-47ed-bcda-2ed6e81ef4b4\">\n",
              "    <div class=\"colab-df-container\">\n",
              "      <div>\n",
              "<style scoped>\n",
              "    .dataframe tbody tr th:only-of-type {\n",
              "        vertical-align: middle;\n",
              "    }\n",
              "\n",
              "    .dataframe tbody tr th {\n",
              "        vertical-align: top;\n",
              "    }\n",
              "\n",
              "    .dataframe thead th {\n",
              "        text-align: right;\n",
              "    }\n",
              "</style>\n",
              "<table border=\"1\" class=\"dataframe\">\n",
              "  <thead>\n",
              "    <tr style=\"text-align: right;\">\n",
              "      <th></th>\n",
              "      <th>IBGE_RES_POP</th>\n",
              "      <th>TAXES</th>\n",
              "      <th>GDP</th>\n",
              "      <th>IDHM Ranking 2010</th>\n",
              "      <th>COMP_TOT</th>\n",
              "      <th>AREA</th>\n",
              "      <th>IDHM</th>\n",
              "    </tr>\n",
              "  </thead>\n",
              "  <tbody>\n",
              "    <tr>\n",
              "      <th>2515</th>\n",
              "      <td>88006</td>\n",
              "      <td>344685</td>\n",
              "      <td>4040385</td>\n",
              "      <td>431</td>\n",
              "      <td>2475</td>\n",
              "      <td>7174.225</td>\n",
              "      <td>0.757</td>\n",
              "    </tr>\n",
              "    <tr>\n",
              "      <th>288</th>\n",
              "      <td>104150</td>\n",
              "      <td>450807</td>\n",
              "      <td>4030758</td>\n",
              "      <td>596</td>\n",
              "      <td>4432</td>\n",
              "      <td>382.215</td>\n",
              "      <td>0.748</td>\n",
              "    </tr>\n",
              "    <tr>\n",
              "      <th>285</th>\n",
              "      <td>214006</td>\n",
              "      <td>401063</td>\n",
              "      <td>4012632</td>\n",
              "      <td>3143</td>\n",
              "      <td>3992</td>\n",
              "      <td>345.655</td>\n",
              "      <td>0.649</td>\n",
              "    </tr>\n",
              "    <tr>\n",
              "      <th>2791</th>\n",
              "      <td>60105</td>\n",
              "      <td>635335</td>\n",
              "      <td>3999684</td>\n",
              "      <td>1431</td>\n",
              "      <td>3034</td>\n",
              "      <td>3940.537</td>\n",
              "      <td>0.716</td>\n",
              "    </tr>\n",
              "    <tr>\n",
              "      <th>272</th>\n",
              "      <td>109801</td>\n",
              "      <td>301892</td>\n",
              "      <td>3923828</td>\n",
              "      <td>200</td>\n",
              "      <td>3108</td>\n",
              "      <td>2729.508</td>\n",
              "      <td>0.773</td>\n",
              "    </tr>\n",
              "  </tbody>\n",
              "</table>\n",
              "</div>\n",
              "      <button class=\"colab-df-convert\" onclick=\"convertToInteractive('df-06f87928-0b1c-47ed-bcda-2ed6e81ef4b4')\"\n",
              "              title=\"Convert this dataframe to an interactive table.\"\n",
              "              style=\"display:none;\">\n",
              "        \n",
              "  <svg xmlns=\"http://www.w3.org/2000/svg\" height=\"24px\"viewBox=\"0 0 24 24\"\n",
              "       width=\"24px\">\n",
              "    <path d=\"M0 0h24v24H0V0z\" fill=\"none\"/>\n",
              "    <path d=\"M18.56 5.44l.94 2.06.94-2.06 2.06-.94-2.06-.94-.94-2.06-.94 2.06-2.06.94zm-11 1L8.5 8.5l.94-2.06 2.06-.94-2.06-.94L8.5 2.5l-.94 2.06-2.06.94zm10 10l.94 2.06.94-2.06 2.06-.94-2.06-.94-.94-2.06-.94 2.06-2.06.94z\"/><path d=\"M17.41 7.96l-1.37-1.37c-.4-.4-.92-.59-1.43-.59-.52 0-1.04.2-1.43.59L10.3 9.45l-7.72 7.72c-.78.78-.78 2.05 0 2.83L4 21.41c.39.39.9.59 1.41.59.51 0 1.02-.2 1.41-.59l7.78-7.78 2.81-2.81c.8-.78.8-2.07 0-2.86zM5.41 20L4 18.59l7.72-7.72 1.47 1.35L5.41 20z\"/>\n",
              "  </svg>\n",
              "      </button>\n",
              "      \n",
              "  <style>\n",
              "    .colab-df-container {\n",
              "      display:flex;\n",
              "      flex-wrap:wrap;\n",
              "      gap: 12px;\n",
              "    }\n",
              "\n",
              "    .colab-df-convert {\n",
              "      background-color: #E8F0FE;\n",
              "      border: none;\n",
              "      border-radius: 50%;\n",
              "      cursor: pointer;\n",
              "      display: none;\n",
              "      fill: #1967D2;\n",
              "      height: 32px;\n",
              "      padding: 0 0 0 0;\n",
              "      width: 32px;\n",
              "    }\n",
              "\n",
              "    .colab-df-convert:hover {\n",
              "      background-color: #E2EBFA;\n",
              "      box-shadow: 0px 1px 2px rgba(60, 64, 67, 0.3), 0px 1px 3px 1px rgba(60, 64, 67, 0.15);\n",
              "      fill: #174EA6;\n",
              "    }\n",
              "\n",
              "    [theme=dark] .colab-df-convert {\n",
              "      background-color: #3B4455;\n",
              "      fill: #D2E3FC;\n",
              "    }\n",
              "\n",
              "    [theme=dark] .colab-df-convert:hover {\n",
              "      background-color: #434B5C;\n",
              "      box-shadow: 0px 1px 3px 1px rgba(0, 0, 0, 0.15);\n",
              "      filter: drop-shadow(0px 1px 2px rgba(0, 0, 0, 0.3));\n",
              "      fill: #FFFFFF;\n",
              "    }\n",
              "  </style>\n",
              "\n",
              "      <script>\n",
              "        const buttonEl =\n",
              "          document.querySelector('#df-06f87928-0b1c-47ed-bcda-2ed6e81ef4b4 button.colab-df-convert');\n",
              "        buttonEl.style.display =\n",
              "          google.colab.kernel.accessAllowed ? 'block' : 'none';\n",
              "\n",
              "        async function convertToInteractive(key) {\n",
              "          const element = document.querySelector('#df-06f87928-0b1c-47ed-bcda-2ed6e81ef4b4');\n",
              "          const dataTable =\n",
              "            await google.colab.kernel.invokeFunction('convertToInteractive',\n",
              "                                                     [key], {});\n",
              "          if (!dataTable) return;\n",
              "\n",
              "          const docLinkHtml = 'Like what you see? Visit the ' +\n",
              "            '<a target=\"_blank\" href=https://colab.research.google.com/notebooks/data_table.ipynb>data table notebook</a>'\n",
              "            + ' to learn more about interactive tables.';\n",
              "          element.innerHTML = '';\n",
              "          dataTable['output_type'] = 'display_data';\n",
              "          await google.colab.output.renderOutput(dataTable, element);\n",
              "          const docLink = document.createElement('div');\n",
              "          docLink.innerHTML = docLinkHtml;\n",
              "          element.appendChild(docLink);\n",
              "        }\n",
              "      </script>\n",
              "    </div>\n",
              "  </div>\n",
              "  "
            ]
          },
          "metadata": {},
          "execution_count": 42
        }
      ],
      "source": [
        "df_brazil[df_brazil['cluster']== 0][['IBGE_RES_POP','TAXES','GDP','IDHM Ranking 2010','COMP_TOT','AREA','IDHM']].sort_values('GDP', ascending=False).head()"
      ]
    },
    {
      "cell_type": "code",
      "execution_count": 43,
      "metadata": {
        "id": "oISbUBb12hXc",
        "colab": {
          "base_uri": "https://localhost:8080/",
          "height": 81
        },
        "outputId": "74d7263b-2607-464d-8e16-4e4c40775c69"
      },
      "outputs": [
        {
          "output_type": "execute_result",
          "data": {
            "text/plain": [
              "      IBGE_RES_POP      TAXES        GDP  IDHM Ranking 2010  COMP_TOT     AREA\n",
              "4997      11253503  117125387  687035890                 28    530446  1521.11"
            ],
            "text/html": [
              "\n",
              "  <div id=\"df-483e0aba-7b3b-47bf-9dd5-8900931cc99a\">\n",
              "    <div class=\"colab-df-container\">\n",
              "      <div>\n",
              "<style scoped>\n",
              "    .dataframe tbody tr th:only-of-type {\n",
              "        vertical-align: middle;\n",
              "    }\n",
              "\n",
              "    .dataframe tbody tr th {\n",
              "        vertical-align: top;\n",
              "    }\n",
              "\n",
              "    .dataframe thead th {\n",
              "        text-align: right;\n",
              "    }\n",
              "</style>\n",
              "<table border=\"1\" class=\"dataframe\">\n",
              "  <thead>\n",
              "    <tr style=\"text-align: right;\">\n",
              "      <th></th>\n",
              "      <th>IBGE_RES_POP</th>\n",
              "      <th>TAXES</th>\n",
              "      <th>GDP</th>\n",
              "      <th>IDHM Ranking 2010</th>\n",
              "      <th>COMP_TOT</th>\n",
              "      <th>AREA</th>\n",
              "    </tr>\n",
              "  </thead>\n",
              "  <tbody>\n",
              "    <tr>\n",
              "      <th>4997</th>\n",
              "      <td>11253503</td>\n",
              "      <td>117125387</td>\n",
              "      <td>687035890</td>\n",
              "      <td>28</td>\n",
              "      <td>530446</td>\n",
              "      <td>1521.11</td>\n",
              "    </tr>\n",
              "  </tbody>\n",
              "</table>\n",
              "</div>\n",
              "      <button class=\"colab-df-convert\" onclick=\"convertToInteractive('df-483e0aba-7b3b-47bf-9dd5-8900931cc99a')\"\n",
              "              title=\"Convert this dataframe to an interactive table.\"\n",
              "              style=\"display:none;\">\n",
              "        \n",
              "  <svg xmlns=\"http://www.w3.org/2000/svg\" height=\"24px\"viewBox=\"0 0 24 24\"\n",
              "       width=\"24px\">\n",
              "    <path d=\"M0 0h24v24H0V0z\" fill=\"none\"/>\n",
              "    <path d=\"M18.56 5.44l.94 2.06.94-2.06 2.06-.94-2.06-.94-.94-2.06-.94 2.06-2.06.94zm-11 1L8.5 8.5l.94-2.06 2.06-.94-2.06-.94L8.5 2.5l-.94 2.06-2.06.94zm10 10l.94 2.06.94-2.06 2.06-.94-2.06-.94-.94-2.06-.94 2.06-2.06.94z\"/><path d=\"M17.41 7.96l-1.37-1.37c-.4-.4-.92-.59-1.43-.59-.52 0-1.04.2-1.43.59L10.3 9.45l-7.72 7.72c-.78.78-.78 2.05 0 2.83L4 21.41c.39.39.9.59 1.41.59.51 0 1.02-.2 1.41-.59l7.78-7.78 2.81-2.81c.8-.78.8-2.07 0-2.86zM5.41 20L4 18.59l7.72-7.72 1.47 1.35L5.41 20z\"/>\n",
              "  </svg>\n",
              "      </button>\n",
              "      \n",
              "  <style>\n",
              "    .colab-df-container {\n",
              "      display:flex;\n",
              "      flex-wrap:wrap;\n",
              "      gap: 12px;\n",
              "    }\n",
              "\n",
              "    .colab-df-convert {\n",
              "      background-color: #E8F0FE;\n",
              "      border: none;\n",
              "      border-radius: 50%;\n",
              "      cursor: pointer;\n",
              "      display: none;\n",
              "      fill: #1967D2;\n",
              "      height: 32px;\n",
              "      padding: 0 0 0 0;\n",
              "      width: 32px;\n",
              "    }\n",
              "\n",
              "    .colab-df-convert:hover {\n",
              "      background-color: #E2EBFA;\n",
              "      box-shadow: 0px 1px 2px rgba(60, 64, 67, 0.3), 0px 1px 3px 1px rgba(60, 64, 67, 0.15);\n",
              "      fill: #174EA6;\n",
              "    }\n",
              "\n",
              "    [theme=dark] .colab-df-convert {\n",
              "      background-color: #3B4455;\n",
              "      fill: #D2E3FC;\n",
              "    }\n",
              "\n",
              "    [theme=dark] .colab-df-convert:hover {\n",
              "      background-color: #434B5C;\n",
              "      box-shadow: 0px 1px 3px 1px rgba(0, 0, 0, 0.15);\n",
              "      filter: drop-shadow(0px 1px 2px rgba(0, 0, 0, 0.3));\n",
              "      fill: #FFFFFF;\n",
              "    }\n",
              "  </style>\n",
              "\n",
              "      <script>\n",
              "        const buttonEl =\n",
              "          document.querySelector('#df-483e0aba-7b3b-47bf-9dd5-8900931cc99a button.colab-df-convert');\n",
              "        buttonEl.style.display =\n",
              "          google.colab.kernel.accessAllowed ? 'block' : 'none';\n",
              "\n",
              "        async function convertToInteractive(key) {\n",
              "          const element = document.querySelector('#df-483e0aba-7b3b-47bf-9dd5-8900931cc99a');\n",
              "          const dataTable =\n",
              "            await google.colab.kernel.invokeFunction('convertToInteractive',\n",
              "                                                     [key], {});\n",
              "          if (!dataTable) return;\n",
              "\n",
              "          const docLinkHtml = 'Like what you see? Visit the ' +\n",
              "            '<a target=\"_blank\" href=https://colab.research.google.com/notebooks/data_table.ipynb>data table notebook</a>'\n",
              "            + ' to learn more about interactive tables.';\n",
              "          element.innerHTML = '';\n",
              "          dataTable['output_type'] = 'display_data';\n",
              "          await google.colab.output.renderOutput(dataTable, element);\n",
              "          const docLink = document.createElement('div');\n",
              "          docLink.innerHTML = docLinkHtml;\n",
              "          element.appendChild(docLink);\n",
              "        }\n",
              "      </script>\n",
              "    </div>\n",
              "  </div>\n",
              "  "
            ]
          },
          "metadata": {},
          "execution_count": 43
        }
      ],
      "source": [
        "df_brazil[df_brazil['cluster']== 1][['IBGE_RES_POP','TAXES','GDP','IDHM Ranking 2010','COMP_TOT','AREA']].sort_values('GDP', ascending=False).head()"
      ]
    },
    {
      "cell_type": "code",
      "execution_count": 44,
      "metadata": {
        "id": "uFUVNA662jfW",
        "colab": {
          "base_uri": "https://localhost:8080/",
          "height": 112
        },
        "outputId": "44afcdeb-3f2d-4b6c-8246-f974273d7527"
      },
      "outputs": [
        {
          "output_type": "execute_result",
          "data": {
            "text/plain": [
              "      IBGE_RES_POP     TAXES        GDP  IDHM Ranking 2010  COMP_TOT  \\\n",
              "4175       6320446  68106116  329431360                 46    190038   \n",
              "719        2570160  29145585  235497107                  9     86200   \n",
              "\n",
              "          AREA   IDHM  \n",
              "4175  1200.255  0.799  \n",
              "719   5760.783  0.824  "
            ],
            "text/html": [
              "\n",
              "  <div id=\"df-a8c09cf0-fbd1-4ea4-beb5-b3bfc3956bd4\">\n",
              "    <div class=\"colab-df-container\">\n",
              "      <div>\n",
              "<style scoped>\n",
              "    .dataframe tbody tr th:only-of-type {\n",
              "        vertical-align: middle;\n",
              "    }\n",
              "\n",
              "    .dataframe tbody tr th {\n",
              "        vertical-align: top;\n",
              "    }\n",
              "\n",
              "    .dataframe thead th {\n",
              "        text-align: right;\n",
              "    }\n",
              "</style>\n",
              "<table border=\"1\" class=\"dataframe\">\n",
              "  <thead>\n",
              "    <tr style=\"text-align: right;\">\n",
              "      <th></th>\n",
              "      <th>IBGE_RES_POP</th>\n",
              "      <th>TAXES</th>\n",
              "      <th>GDP</th>\n",
              "      <th>IDHM Ranking 2010</th>\n",
              "      <th>COMP_TOT</th>\n",
              "      <th>AREA</th>\n",
              "      <th>IDHM</th>\n",
              "    </tr>\n",
              "  </thead>\n",
              "  <tbody>\n",
              "    <tr>\n",
              "      <th>4175</th>\n",
              "      <td>6320446</td>\n",
              "      <td>68106116</td>\n",
              "      <td>329431360</td>\n",
              "      <td>46</td>\n",
              "      <td>190038</td>\n",
              "      <td>1200.255</td>\n",
              "      <td>0.799</td>\n",
              "    </tr>\n",
              "    <tr>\n",
              "      <th>719</th>\n",
              "      <td>2570160</td>\n",
              "      <td>29145585</td>\n",
              "      <td>235497107</td>\n",
              "      <td>9</td>\n",
              "      <td>86200</td>\n",
              "      <td>5760.783</td>\n",
              "      <td>0.824</td>\n",
              "    </tr>\n",
              "  </tbody>\n",
              "</table>\n",
              "</div>\n",
              "      <button class=\"colab-df-convert\" onclick=\"convertToInteractive('df-a8c09cf0-fbd1-4ea4-beb5-b3bfc3956bd4')\"\n",
              "              title=\"Convert this dataframe to an interactive table.\"\n",
              "              style=\"display:none;\">\n",
              "        \n",
              "  <svg xmlns=\"http://www.w3.org/2000/svg\" height=\"24px\"viewBox=\"0 0 24 24\"\n",
              "       width=\"24px\">\n",
              "    <path d=\"M0 0h24v24H0V0z\" fill=\"none\"/>\n",
              "    <path d=\"M18.56 5.44l.94 2.06.94-2.06 2.06-.94-2.06-.94-.94-2.06-.94 2.06-2.06.94zm-11 1L8.5 8.5l.94-2.06 2.06-.94-2.06-.94L8.5 2.5l-.94 2.06-2.06.94zm10 10l.94 2.06.94-2.06 2.06-.94-2.06-.94-.94-2.06-.94 2.06-2.06.94z\"/><path d=\"M17.41 7.96l-1.37-1.37c-.4-.4-.92-.59-1.43-.59-.52 0-1.04.2-1.43.59L10.3 9.45l-7.72 7.72c-.78.78-.78 2.05 0 2.83L4 21.41c.39.39.9.59 1.41.59.51 0 1.02-.2 1.41-.59l7.78-7.78 2.81-2.81c.8-.78.8-2.07 0-2.86zM5.41 20L4 18.59l7.72-7.72 1.47 1.35L5.41 20z\"/>\n",
              "  </svg>\n",
              "      </button>\n",
              "      \n",
              "  <style>\n",
              "    .colab-df-container {\n",
              "      display:flex;\n",
              "      flex-wrap:wrap;\n",
              "      gap: 12px;\n",
              "    }\n",
              "\n",
              "    .colab-df-convert {\n",
              "      background-color: #E8F0FE;\n",
              "      border: none;\n",
              "      border-radius: 50%;\n",
              "      cursor: pointer;\n",
              "      display: none;\n",
              "      fill: #1967D2;\n",
              "      height: 32px;\n",
              "      padding: 0 0 0 0;\n",
              "      width: 32px;\n",
              "    }\n",
              "\n",
              "    .colab-df-convert:hover {\n",
              "      background-color: #E2EBFA;\n",
              "      box-shadow: 0px 1px 2px rgba(60, 64, 67, 0.3), 0px 1px 3px 1px rgba(60, 64, 67, 0.15);\n",
              "      fill: #174EA6;\n",
              "    }\n",
              "\n",
              "    [theme=dark] .colab-df-convert {\n",
              "      background-color: #3B4455;\n",
              "      fill: #D2E3FC;\n",
              "    }\n",
              "\n",
              "    [theme=dark] .colab-df-convert:hover {\n",
              "      background-color: #434B5C;\n",
              "      box-shadow: 0px 1px 3px 1px rgba(0, 0, 0, 0.15);\n",
              "      filter: drop-shadow(0px 1px 2px rgba(0, 0, 0, 0.3));\n",
              "      fill: #FFFFFF;\n",
              "    }\n",
              "  </style>\n",
              "\n",
              "      <script>\n",
              "        const buttonEl =\n",
              "          document.querySelector('#df-a8c09cf0-fbd1-4ea4-beb5-b3bfc3956bd4 button.colab-df-convert');\n",
              "        buttonEl.style.display =\n",
              "          google.colab.kernel.accessAllowed ? 'block' : 'none';\n",
              "\n",
              "        async function convertToInteractive(key) {\n",
              "          const element = document.querySelector('#df-a8c09cf0-fbd1-4ea4-beb5-b3bfc3956bd4');\n",
              "          const dataTable =\n",
              "            await google.colab.kernel.invokeFunction('convertToInteractive',\n",
              "                                                     [key], {});\n",
              "          if (!dataTable) return;\n",
              "\n",
              "          const docLinkHtml = 'Like what you see? Visit the ' +\n",
              "            '<a target=\"_blank\" href=https://colab.research.google.com/notebooks/data_table.ipynb>data table notebook</a>'\n",
              "            + ' to learn more about interactive tables.';\n",
              "          element.innerHTML = '';\n",
              "          dataTable['output_type'] = 'display_data';\n",
              "          await google.colab.output.renderOutput(dataTable, element);\n",
              "          const docLink = document.createElement('div');\n",
              "          docLink.innerHTML = docLinkHtml;\n",
              "          element.appendChild(docLink);\n",
              "        }\n",
              "      </script>\n",
              "    </div>\n",
              "  </div>\n",
              "  "
            ]
          },
          "metadata": {},
          "execution_count": 44
        }
      ],
      "source": [
        "df_brazil[df_brazil['cluster']== 2][['IBGE_RES_POP','TAXES','GDP','IDHM Ranking 2010','COMP_TOT','AREA','IDHM']].sort_values('GDP', ascending=False).head()"
      ]
    },
    {
      "cell_type": "code",
      "execution_count": 45,
      "metadata": {
        "id": "IOnz3gkz2lkg",
        "colab": {
          "base_uri": "https://localhost:8080/",
          "height": 206
        },
        "outputId": "169ccf0d-72cc-4be5-f6b0-32477ac2cb9d"
      },
      "outputs": [
        {
          "output_type": "execute_result",
          "data": {
            "text/plain": [
              "      IBGE_RES_POP     TAXES       GDP  IDHM Ranking 2010  COMP_TOT  \\\n",
              "550        2375151  12495658  88277463                 20    103867   \n",
              "1458       1751907  15912488  83788904                 10    101929   \n",
              "3435        666740  15626341  74402691                174     15315   \n",
              "3897       1409351  10986035  73425264                 32     80082   \n",
              "2849       1802014  12433232  70296364                852     21586   \n",
              "\n",
              "           AREA   IDHM  \n",
              "550     331.401  0.810  \n",
              "1458    435.036  0.823  \n",
              "3435     64.954  0.776  \n",
              "3897    495.390  0.805  \n",
              "2849  11401.092  0.737  "
            ],
            "text/html": [
              "\n",
              "  <div id=\"df-e43b3944-4739-4055-bae9-bd11187e0a4b\">\n",
              "    <div class=\"colab-df-container\">\n",
              "      <div>\n",
              "<style scoped>\n",
              "    .dataframe tbody tr th:only-of-type {\n",
              "        vertical-align: middle;\n",
              "    }\n",
              "\n",
              "    .dataframe tbody tr th {\n",
              "        vertical-align: top;\n",
              "    }\n",
              "\n",
              "    .dataframe thead th {\n",
              "        text-align: right;\n",
              "    }\n",
              "</style>\n",
              "<table border=\"1\" class=\"dataframe\">\n",
              "  <thead>\n",
              "    <tr style=\"text-align: right;\">\n",
              "      <th></th>\n",
              "      <th>IBGE_RES_POP</th>\n",
              "      <th>TAXES</th>\n",
              "      <th>GDP</th>\n",
              "      <th>IDHM Ranking 2010</th>\n",
              "      <th>COMP_TOT</th>\n",
              "      <th>AREA</th>\n",
              "      <th>IDHM</th>\n",
              "    </tr>\n",
              "  </thead>\n",
              "  <tbody>\n",
              "    <tr>\n",
              "      <th>550</th>\n",
              "      <td>2375151</td>\n",
              "      <td>12495658</td>\n",
              "      <td>88277463</td>\n",
              "      <td>20</td>\n",
              "      <td>103867</td>\n",
              "      <td>331.401</td>\n",
              "      <td>0.810</td>\n",
              "    </tr>\n",
              "    <tr>\n",
              "      <th>1458</th>\n",
              "      <td>1751907</td>\n",
              "      <td>15912488</td>\n",
              "      <td>83788904</td>\n",
              "      <td>10</td>\n",
              "      <td>101929</td>\n",
              "      <td>435.036</td>\n",
              "      <td>0.823</td>\n",
              "    </tr>\n",
              "    <tr>\n",
              "      <th>3435</th>\n",
              "      <td>666740</td>\n",
              "      <td>15626341</td>\n",
              "      <td>74402691</td>\n",
              "      <td>174</td>\n",
              "      <td>15315</td>\n",
              "      <td>64.954</td>\n",
              "      <td>0.776</td>\n",
              "    </tr>\n",
              "    <tr>\n",
              "      <th>3897</th>\n",
              "      <td>1409351</td>\n",
              "      <td>10986035</td>\n",
              "      <td>73425264</td>\n",
              "      <td>32</td>\n",
              "      <td>80082</td>\n",
              "      <td>495.390</td>\n",
              "      <td>0.805</td>\n",
              "    </tr>\n",
              "    <tr>\n",
              "      <th>2849</th>\n",
              "      <td>1802014</td>\n",
              "      <td>12433232</td>\n",
              "      <td>70296364</td>\n",
              "      <td>852</td>\n",
              "      <td>21586</td>\n",
              "      <td>11401.092</td>\n",
              "      <td>0.737</td>\n",
              "    </tr>\n",
              "  </tbody>\n",
              "</table>\n",
              "</div>\n",
              "      <button class=\"colab-df-convert\" onclick=\"convertToInteractive('df-e43b3944-4739-4055-bae9-bd11187e0a4b')\"\n",
              "              title=\"Convert this dataframe to an interactive table.\"\n",
              "              style=\"display:none;\">\n",
              "        \n",
              "  <svg xmlns=\"http://www.w3.org/2000/svg\" height=\"24px\"viewBox=\"0 0 24 24\"\n",
              "       width=\"24px\">\n",
              "    <path d=\"M0 0h24v24H0V0z\" fill=\"none\"/>\n",
              "    <path d=\"M18.56 5.44l.94 2.06.94-2.06 2.06-.94-2.06-.94-.94-2.06-.94 2.06-2.06.94zm-11 1L8.5 8.5l.94-2.06 2.06-.94-2.06-.94L8.5 2.5l-.94 2.06-2.06.94zm10 10l.94 2.06.94-2.06 2.06-.94-2.06-.94-.94-2.06-.94 2.06-2.06.94z\"/><path d=\"M17.41 7.96l-1.37-1.37c-.4-.4-.92-.59-1.43-.59-.52 0-1.04.2-1.43.59L10.3 9.45l-7.72 7.72c-.78.78-.78 2.05 0 2.83L4 21.41c.39.39.9.59 1.41.59.51 0 1.02-.2 1.41-.59l7.78-7.78 2.81-2.81c.8-.78.8-2.07 0-2.86zM5.41 20L4 18.59l7.72-7.72 1.47 1.35L5.41 20z\"/>\n",
              "  </svg>\n",
              "      </button>\n",
              "      \n",
              "  <style>\n",
              "    .colab-df-container {\n",
              "      display:flex;\n",
              "      flex-wrap:wrap;\n",
              "      gap: 12px;\n",
              "    }\n",
              "\n",
              "    .colab-df-convert {\n",
              "      background-color: #E8F0FE;\n",
              "      border: none;\n",
              "      border-radius: 50%;\n",
              "      cursor: pointer;\n",
              "      display: none;\n",
              "      fill: #1967D2;\n",
              "      height: 32px;\n",
              "      padding: 0 0 0 0;\n",
              "      width: 32px;\n",
              "    }\n",
              "\n",
              "    .colab-df-convert:hover {\n",
              "      background-color: #E2EBFA;\n",
              "      box-shadow: 0px 1px 2px rgba(60, 64, 67, 0.3), 0px 1px 3px 1px rgba(60, 64, 67, 0.15);\n",
              "      fill: #174EA6;\n",
              "    }\n",
              "\n",
              "    [theme=dark] .colab-df-convert {\n",
              "      background-color: #3B4455;\n",
              "      fill: #D2E3FC;\n",
              "    }\n",
              "\n",
              "    [theme=dark] .colab-df-convert:hover {\n",
              "      background-color: #434B5C;\n",
              "      box-shadow: 0px 1px 3px 1px rgba(0, 0, 0, 0.15);\n",
              "      filter: drop-shadow(0px 1px 2px rgba(0, 0, 0, 0.3));\n",
              "      fill: #FFFFFF;\n",
              "    }\n",
              "  </style>\n",
              "\n",
              "      <script>\n",
              "        const buttonEl =\n",
              "          document.querySelector('#df-e43b3944-4739-4055-bae9-bd11187e0a4b button.colab-df-convert');\n",
              "        buttonEl.style.display =\n",
              "          google.colab.kernel.accessAllowed ? 'block' : 'none';\n",
              "\n",
              "        async function convertToInteractive(key) {\n",
              "          const element = document.querySelector('#df-e43b3944-4739-4055-bae9-bd11187e0a4b');\n",
              "          const dataTable =\n",
              "            await google.colab.kernel.invokeFunction('convertToInteractive',\n",
              "                                                     [key], {});\n",
              "          if (!dataTable) return;\n",
              "\n",
              "          const docLinkHtml = 'Like what you see? Visit the ' +\n",
              "            '<a target=\"_blank\" href=https://colab.research.google.com/notebooks/data_table.ipynb>data table notebook</a>'\n",
              "            + ' to learn more about interactive tables.';\n",
              "          element.innerHTML = '';\n",
              "          dataTable['output_type'] = 'display_data';\n",
              "          await google.colab.output.renderOutput(dataTable, element);\n",
              "          const docLink = document.createElement('div');\n",
              "          docLink.innerHTML = docLinkHtml;\n",
              "          element.appendChild(docLink);\n",
              "        }\n",
              "      </script>\n",
              "    </div>\n",
              "  </div>\n",
              "  "
            ]
          },
          "metadata": {},
          "execution_count": 45
        }
      ],
      "source": [
        "df_brazil[df_brazil['cluster']== 3][['IBGE_RES_POP','TAXES','GDP','IDHM Ranking 2010','COMP_TOT','AREA','IDHM']].sort_values('GDP', ascending=False).head()"
      ]
    },
    {
      "cell_type": "code",
      "execution_count": 46,
      "metadata": {
        "id": "VkZJFvYw2n13",
        "colab": {
          "base_uri": "https://localhost:8080/",
          "height": 206
        },
        "outputId": "da44b613-0bd8-4f93-ac5f-43118364faf9"
      },
      "outputs": [
        {
          "output_type": "execute_result",
          "data": {
            "text/plain": [
              "      IBGE_RES_POP    TAXES       GDP  IDHM Ranking 2010  COMP_TOT      AREA  \\\n",
              "4740        765463  7102546  42131380                 31     25504   409.532   \n",
              "1603        855048  4898139  39857742               1579     12129   467.072   \n",
              "2599        370126  7289366  39782736                 11     16395   431.207   \n",
              "4888        629921  4998656  37315783                 24     20912  1099.409   \n",
              "5327        604013  8024748  32536256                 72     25562  4115.206   \n",
              "\n",
              "       IDHM  \n",
              "4740  0.805  \n",
              "1603  0.711  \n",
              "2599  0.822  \n",
              "4888  0.807  \n",
              "5327  0.789  "
            ],
            "text/html": [
              "\n",
              "  <div id=\"df-e801e164-59ed-4f4e-98f0-ef9a8d3d4e62\">\n",
              "    <div class=\"colab-df-container\">\n",
              "      <div>\n",
              "<style scoped>\n",
              "    .dataframe tbody tr th:only-of-type {\n",
              "        vertical-align: middle;\n",
              "    }\n",
              "\n",
              "    .dataframe tbody tr th {\n",
              "        vertical-align: top;\n",
              "    }\n",
              "\n",
              "    .dataframe thead th {\n",
              "        text-align: right;\n",
              "    }\n",
              "</style>\n",
              "<table border=\"1\" class=\"dataframe\">\n",
              "  <thead>\n",
              "    <tr style=\"text-align: right;\">\n",
              "      <th></th>\n",
              "      <th>IBGE_RES_POP</th>\n",
              "      <th>TAXES</th>\n",
              "      <th>GDP</th>\n",
              "      <th>IDHM Ranking 2010</th>\n",
              "      <th>COMP_TOT</th>\n",
              "      <th>AREA</th>\n",
              "      <th>IDHM</th>\n",
              "    </tr>\n",
              "  </thead>\n",
              "  <tbody>\n",
              "    <tr>\n",
              "      <th>4740</th>\n",
              "      <td>765463</td>\n",
              "      <td>7102546</td>\n",
              "      <td>42131380</td>\n",
              "      <td>31</td>\n",
              "      <td>25504</td>\n",
              "      <td>409.532</td>\n",
              "      <td>0.805</td>\n",
              "    </tr>\n",
              "    <tr>\n",
              "      <th>1603</th>\n",
              "      <td>855048</td>\n",
              "      <td>4898139</td>\n",
              "      <td>39857742</td>\n",
              "      <td>1579</td>\n",
              "      <td>12129</td>\n",
              "      <td>467.072</td>\n",
              "      <td>0.711</td>\n",
              "    </tr>\n",
              "    <tr>\n",
              "      <th>2599</th>\n",
              "      <td>370126</td>\n",
              "      <td>7289366</td>\n",
              "      <td>39782736</td>\n",
              "      <td>11</td>\n",
              "      <td>16395</td>\n",
              "      <td>431.207</td>\n",
              "      <td>0.822</td>\n",
              "    </tr>\n",
              "    <tr>\n",
              "      <th>4888</th>\n",
              "      <td>629921</td>\n",
              "      <td>4998656</td>\n",
              "      <td>37315783</td>\n",
              "      <td>24</td>\n",
              "      <td>20912</td>\n",
              "      <td>1099.409</td>\n",
              "      <td>0.807</td>\n",
              "    </tr>\n",
              "    <tr>\n",
              "      <th>5327</th>\n",
              "      <td>604013</td>\n",
              "      <td>8024748</td>\n",
              "      <td>32536256</td>\n",
              "      <td>72</td>\n",
              "      <td>25562</td>\n",
              "      <td>4115.206</td>\n",
              "      <td>0.789</td>\n",
              "    </tr>\n",
              "  </tbody>\n",
              "</table>\n",
              "</div>\n",
              "      <button class=\"colab-df-convert\" onclick=\"convertToInteractive('df-e801e164-59ed-4f4e-98f0-ef9a8d3d4e62')\"\n",
              "              title=\"Convert this dataframe to an interactive table.\"\n",
              "              style=\"display:none;\">\n",
              "        \n",
              "  <svg xmlns=\"http://www.w3.org/2000/svg\" height=\"24px\"viewBox=\"0 0 24 24\"\n",
              "       width=\"24px\">\n",
              "    <path d=\"M0 0h24v24H0V0z\" fill=\"none\"/>\n",
              "    <path d=\"M18.56 5.44l.94 2.06.94-2.06 2.06-.94-2.06-.94-.94-2.06-.94 2.06-2.06.94zm-11 1L8.5 8.5l.94-2.06 2.06-.94-2.06-.94L8.5 2.5l-.94 2.06-2.06.94zm10 10l.94 2.06.94-2.06 2.06-.94-2.06-.94-.94-2.06-.94 2.06-2.06.94z\"/><path d=\"M17.41 7.96l-1.37-1.37c-.4-.4-.92-.59-1.43-.59-.52 0-1.04.2-1.43.59L10.3 9.45l-7.72 7.72c-.78.78-.78 2.05 0 2.83L4 21.41c.39.39.9.59 1.41.59.51 0 1.02-.2 1.41-.59l7.78-7.78 2.81-2.81c.8-.78.8-2.07 0-2.86zM5.41 20L4 18.59l7.72-7.72 1.47 1.35L5.41 20z\"/>\n",
              "  </svg>\n",
              "      </button>\n",
              "      \n",
              "  <style>\n",
              "    .colab-df-container {\n",
              "      display:flex;\n",
              "      flex-wrap:wrap;\n",
              "      gap: 12px;\n",
              "    }\n",
              "\n",
              "    .colab-df-convert {\n",
              "      background-color: #E8F0FE;\n",
              "      border: none;\n",
              "      border-radius: 50%;\n",
              "      cursor: pointer;\n",
              "      display: none;\n",
              "      fill: #1967D2;\n",
              "      height: 32px;\n",
              "      padding: 0 0 0 0;\n",
              "      width: 32px;\n",
              "    }\n",
              "\n",
              "    .colab-df-convert:hover {\n",
              "      background-color: #E2EBFA;\n",
              "      box-shadow: 0px 1px 2px rgba(60, 64, 67, 0.3), 0px 1px 3px 1px rgba(60, 64, 67, 0.15);\n",
              "      fill: #174EA6;\n",
              "    }\n",
              "\n",
              "    [theme=dark] .colab-df-convert {\n",
              "      background-color: #3B4455;\n",
              "      fill: #D2E3FC;\n",
              "    }\n",
              "\n",
              "    [theme=dark] .colab-df-convert:hover {\n",
              "      background-color: #434B5C;\n",
              "      box-shadow: 0px 1px 3px 1px rgba(0, 0, 0, 0.15);\n",
              "      filter: drop-shadow(0px 1px 2px rgba(0, 0, 0, 0.3));\n",
              "      fill: #FFFFFF;\n",
              "    }\n",
              "  </style>\n",
              "\n",
              "      <script>\n",
              "        const buttonEl =\n",
              "          document.querySelector('#df-e801e164-59ed-4f4e-98f0-ef9a8d3d4e62 button.colab-df-convert');\n",
              "        buttonEl.style.display =\n",
              "          google.colab.kernel.accessAllowed ? 'block' : 'none';\n",
              "\n",
              "        async function convertToInteractive(key) {\n",
              "          const element = document.querySelector('#df-e801e164-59ed-4f4e-98f0-ef9a8d3d4e62');\n",
              "          const dataTable =\n",
              "            await google.colab.kernel.invokeFunction('convertToInteractive',\n",
              "                                                     [key], {});\n",
              "          if (!dataTable) return;\n",
              "\n",
              "          const docLinkHtml = 'Like what you see? Visit the ' +\n",
              "            '<a target=\"_blank\" href=https://colab.research.google.com/notebooks/data_table.ipynb>data table notebook</a>'\n",
              "            + ' to learn more about interactive tables.';\n",
              "          element.innerHTML = '';\n",
              "          dataTable['output_type'] = 'display_data';\n",
              "          await google.colab.output.renderOutput(dataTable, element);\n",
              "          const docLink = document.createElement('div');\n",
              "          docLink.innerHTML = docLinkHtml;\n",
              "          element.appendChild(docLink);\n",
              "        }\n",
              "      </script>\n",
              "    </div>\n",
              "  </div>\n",
              "  "
            ]
          },
          "metadata": {},
          "execution_count": 46
        }
      ],
      "source": [
        "df_brazil[df_brazil['cluster']== 4][['IBGE_RES_POP','TAXES','GDP','IDHM Ranking 2010','COMP_TOT','AREA','IDHM']].sort_values('GDP', ascending=False).head()"
      ]
    },
    {
      "cell_type": "code",
      "execution_count": 47,
      "metadata": {
        "id": "A1Q4fXbZEI3a",
        "colab": {
          "base_uri": "https://localhost:8080/",
          "height": 206
        },
        "outputId": "3463a57f-f064-4350-ce05-ae19b6a4eb60"
      },
      "outputs": [
        {
          "output_type": "execute_result",
          "data": {
            "text/plain": [
              "      IBGE_RES_POP    TAXES       GDP  IDHM Ranking 2010  COMP_TOT       AREA  \\\n",
              "4880        408258  1493522  15735652                 51     21637    431.944   \n",
              "597         309011  2205434  15395367                 25     19430    518.619   \n",
              "3927        428527  1902607  14741744                890      8883  34090.954   \n",
              "2595        516247  1792187  14532953                147     19513   1435.749   \n",
              "3073        387779  1726538  14426294                112     11019    712.541   \n",
              "\n",
              "       IDHM  \n",
              "4880  0.797  \n",
              "597   0.806  \n",
              "3927  0.736  \n",
              "2595  0.778  \n",
              "3073  0.783  "
            ],
            "text/html": [
              "\n",
              "  <div id=\"df-abd389bc-9f34-4dad-8a91-59e813c23de8\">\n",
              "    <div class=\"colab-df-container\">\n",
              "      <div>\n",
              "<style scoped>\n",
              "    .dataframe tbody tr th:only-of-type {\n",
              "        vertical-align: middle;\n",
              "    }\n",
              "\n",
              "    .dataframe tbody tr th {\n",
              "        vertical-align: top;\n",
              "    }\n",
              "\n",
              "    .dataframe thead th {\n",
              "        text-align: right;\n",
              "    }\n",
              "</style>\n",
              "<table border=\"1\" class=\"dataframe\">\n",
              "  <thead>\n",
              "    <tr style=\"text-align: right;\">\n",
              "      <th></th>\n",
              "      <th>IBGE_RES_POP</th>\n",
              "      <th>TAXES</th>\n",
              "      <th>GDP</th>\n",
              "      <th>IDHM Ranking 2010</th>\n",
              "      <th>COMP_TOT</th>\n",
              "      <th>AREA</th>\n",
              "      <th>IDHM</th>\n",
              "    </tr>\n",
              "  </thead>\n",
              "  <tbody>\n",
              "    <tr>\n",
              "      <th>4880</th>\n",
              "      <td>408258</td>\n",
              "      <td>1493522</td>\n",
              "      <td>15735652</td>\n",
              "      <td>51</td>\n",
              "      <td>21637</td>\n",
              "      <td>431.944</td>\n",
              "      <td>0.797</td>\n",
              "    </tr>\n",
              "    <tr>\n",
              "      <th>597</th>\n",
              "      <td>309011</td>\n",
              "      <td>2205434</td>\n",
              "      <td>15395367</td>\n",
              "      <td>25</td>\n",
              "      <td>19430</td>\n",
              "      <td>518.619</td>\n",
              "      <td>0.806</td>\n",
              "    </tr>\n",
              "    <tr>\n",
              "      <th>3927</th>\n",
              "      <td>428527</td>\n",
              "      <td>1902607</td>\n",
              "      <td>14741744</td>\n",
              "      <td>890</td>\n",
              "      <td>8883</td>\n",
              "      <td>34090.954</td>\n",
              "      <td>0.736</td>\n",
              "    </tr>\n",
              "    <tr>\n",
              "      <th>2595</th>\n",
              "      <td>516247</td>\n",
              "      <td>1792187</td>\n",
              "      <td>14532953</td>\n",
              "      <td>147</td>\n",
              "      <td>19513</td>\n",
              "      <td>1435.749</td>\n",
              "      <td>0.778</td>\n",
              "    </tr>\n",
              "    <tr>\n",
              "      <th>3073</th>\n",
              "      <td>387779</td>\n",
              "      <td>1726538</td>\n",
              "      <td>14426294</td>\n",
              "      <td>112</td>\n",
              "      <td>11019</td>\n",
              "      <td>712.541</td>\n",
              "      <td>0.783</td>\n",
              "    </tr>\n",
              "  </tbody>\n",
              "</table>\n",
              "</div>\n",
              "      <button class=\"colab-df-convert\" onclick=\"convertToInteractive('df-abd389bc-9f34-4dad-8a91-59e813c23de8')\"\n",
              "              title=\"Convert this dataframe to an interactive table.\"\n",
              "              style=\"display:none;\">\n",
              "        \n",
              "  <svg xmlns=\"http://www.w3.org/2000/svg\" height=\"24px\"viewBox=\"0 0 24 24\"\n",
              "       width=\"24px\">\n",
              "    <path d=\"M0 0h24v24H0V0z\" fill=\"none\"/>\n",
              "    <path d=\"M18.56 5.44l.94 2.06.94-2.06 2.06-.94-2.06-.94-.94-2.06-.94 2.06-2.06.94zm-11 1L8.5 8.5l.94-2.06 2.06-.94-2.06-.94L8.5 2.5l-.94 2.06-2.06.94zm10 10l.94 2.06.94-2.06 2.06-.94-2.06-.94-.94-2.06-.94 2.06-2.06.94z\"/><path d=\"M17.41 7.96l-1.37-1.37c-.4-.4-.92-.59-1.43-.59-.52 0-1.04.2-1.43.59L10.3 9.45l-7.72 7.72c-.78.78-.78 2.05 0 2.83L4 21.41c.39.39.9.59 1.41.59.51 0 1.02-.2 1.41-.59l7.78-7.78 2.81-2.81c.8-.78.8-2.07 0-2.86zM5.41 20L4 18.59l7.72-7.72 1.47 1.35L5.41 20z\"/>\n",
              "  </svg>\n",
              "      </button>\n",
              "      \n",
              "  <style>\n",
              "    .colab-df-container {\n",
              "      display:flex;\n",
              "      flex-wrap:wrap;\n",
              "      gap: 12px;\n",
              "    }\n",
              "\n",
              "    .colab-df-convert {\n",
              "      background-color: #E8F0FE;\n",
              "      border: none;\n",
              "      border-radius: 50%;\n",
              "      cursor: pointer;\n",
              "      display: none;\n",
              "      fill: #1967D2;\n",
              "      height: 32px;\n",
              "      padding: 0 0 0 0;\n",
              "      width: 32px;\n",
              "    }\n",
              "\n",
              "    .colab-df-convert:hover {\n",
              "      background-color: #E2EBFA;\n",
              "      box-shadow: 0px 1px 2px rgba(60, 64, 67, 0.3), 0px 1px 3px 1px rgba(60, 64, 67, 0.15);\n",
              "      fill: #174EA6;\n",
              "    }\n",
              "\n",
              "    [theme=dark] .colab-df-convert {\n",
              "      background-color: #3B4455;\n",
              "      fill: #D2E3FC;\n",
              "    }\n",
              "\n",
              "    [theme=dark] .colab-df-convert:hover {\n",
              "      background-color: #434B5C;\n",
              "      box-shadow: 0px 1px 3px 1px rgba(0, 0, 0, 0.15);\n",
              "      filter: drop-shadow(0px 1px 2px rgba(0, 0, 0, 0.3));\n",
              "      fill: #FFFFFF;\n",
              "    }\n",
              "  </style>\n",
              "\n",
              "      <script>\n",
              "        const buttonEl =\n",
              "          document.querySelector('#df-abd389bc-9f34-4dad-8a91-59e813c23de8 button.colab-df-convert');\n",
              "        buttonEl.style.display =\n",
              "          google.colab.kernel.accessAllowed ? 'block' : 'none';\n",
              "\n",
              "        async function convertToInteractive(key) {\n",
              "          const element = document.querySelector('#df-abd389bc-9f34-4dad-8a91-59e813c23de8');\n",
              "          const dataTable =\n",
              "            await google.colab.kernel.invokeFunction('convertToInteractive',\n",
              "                                                     [key], {});\n",
              "          if (!dataTable) return;\n",
              "\n",
              "          const docLinkHtml = 'Like what you see? Visit the ' +\n",
              "            '<a target=\"_blank\" href=https://colab.research.google.com/notebooks/data_table.ipynb>data table notebook</a>'\n",
              "            + ' to learn more about interactive tables.';\n",
              "          element.innerHTML = '';\n",
              "          dataTable['output_type'] = 'display_data';\n",
              "          await google.colab.output.renderOutput(dataTable, element);\n",
              "          const docLink = document.createElement('div');\n",
              "          docLink.innerHTML = docLinkHtml;\n",
              "          element.appendChild(docLink);\n",
              "        }\n",
              "      </script>\n",
              "    </div>\n",
              "  </div>\n",
              "  "
            ]
          },
          "metadata": {},
          "execution_count": 47
        }
      ],
      "source": [
        "df_brazil[df_brazil['cluster']== 5][['IBGE_RES_POP','TAXES','GDP','IDHM Ranking 2010','COMP_TOT','AREA','IDHM']].sort_values('GDP', ascending=False).head()"
      ]
    },
    {
      "cell_type": "code",
      "execution_count": 48,
      "metadata": {
        "id": "mLqLcGhOqCcP"
      },
      "outputs": [],
      "source": [
        "mlflow.log_param(\"KMeans6\", KMeans6)\n",
        "mlflow.log_param(\"KMeans7\", KMeans7)\n",
        "mlflow.log_metric(\"KMeans8\", KMeans8)\n",
        "mlflow.log_metric(\"KMeans9\", KMeans9)\n",
        "mlflow.log_metric(\"KMeans10\", KMeans10)\n",
        "mlflow.log_metric(\"cluster0\", cluster0)\n",
        "mlflow.log_metric(\"cluster1\", cluster1)\n",
        "mlflow.log_metric(\"cluster2\", cluster2)\n",
        "mlflow.log_metric(\"cluster3\", cluster3)\n",
        "mlflow.log_metric(\"cluster4\", cluster4)\n",
        "mlflow.log_metric(\"cluster5\", cluster5)"
      ]
    },
    {
      "cell_type": "markdown",
      "source": [
        "\n",
        "## **A partir daqui vamos fazer previsões a partir de alguns algoritmos,mostrando seus respectivos resultados** "
      ],
      "metadata": {
        "id": "nS5FIoBePcpM"
      }
    },
    {
      "cell_type": "markdown",
      "metadata": {
        "id": "IqLcVduKbCeR"
      },
      "source": [
        "# **6 Regressão Linear**\n",
        "O primeiro algoritmo foi a Regressão Linear em que obtivemos Score de 97,34%"
      ]
    },
    {
      "cell_type": "code",
      "execution_count": 49,
      "metadata": {
        "id": "jfdorE6gbgmr",
        "colab": {
          "base_uri": "https://localhost:8080/",
          "height": 505
        },
        "outputId": "69571503-7ac3-4f1c-d990-00a103b6f3e2"
      },
      "outputs": [
        {
          "output_type": "execute_result",
          "data": {
            "text/plain": [
              "                    CAPITAL  IBGE_RES_POP  IBGE_RES_POP_BRAS  \\\n",
              "CAPITAL            1.000000      0.511893           0.513345   \n",
              "IBGE_RES_POP       0.511893      1.000000           0.999993   \n",
              "IBGE_RES_POP_BRAS  0.513345      0.999993           1.000000   \n",
              "IBGE_RES_POP_ESTR  0.299429      0.904066           0.902431   \n",
              "IBGE_DU            0.500446      0.998566           0.998474   \n",
              "...                     ...           ...                ...   \n",
              "UBER               0.414748      0.386106           0.387573   \n",
              "MAC                0.422499      0.955848           0.955042   \n",
              "WAL-MART           0.481166      0.468419           0.469910   \n",
              "POST_OFFICES       0.504537      0.915504           0.915469   \n",
              "cluster            0.234917      0.295037           0.296584   \n",
              "\n",
              "                   IBGE_RES_POP_ESTR   IBGE_DU  IBGE_DU_URBAN  IBGE_DU_RURAL  \\\n",
              "CAPITAL                     0.299429  0.500446       0.500769       0.107925   \n",
              "IBGE_RES_POP                0.904066  0.998566       0.997830       0.267968   \n",
              "IBGE_RES_POP_BRAS           0.902431  0.998474       0.997726       0.268401   \n",
              "IBGE_RES_POP_ESTR           1.000000  0.912256       0.912935       0.193391   \n",
              "IBGE_DU                     0.912256  1.000000       0.999677       0.252597   \n",
              "...                              ...       ...            ...            ...   \n",
              "UBER                        0.184097  0.377781       0.374099       0.230907   \n",
              "MAC                         0.953784  0.962707       0.963402       0.204906   \n",
              "WAL-MART                    0.255773  0.469038       0.470532       0.055822   \n",
              "POST_OFFICES                0.830791  0.918623       0.916345       0.307458   \n",
              "cluster                     0.092924  0.286028       0.283906       0.149456   \n",
              "\n",
              "                   IBGE_POP    IBGE_1  IBGE_1-4  ...  Pr_Assets  Pu_Assets  \\\n",
              "CAPITAL            0.513595  0.534980  0.533208  ...   0.190572   0.299960   \n",
              "IBGE_RES_POP       0.997886  0.989630  0.990121  ...   0.762173   0.494512   \n",
              "IBGE_RES_POP_BRAS  0.997858  0.989774  0.990267  ...   0.760355   0.494962   \n",
              "IBGE_RES_POP_ESTR  0.904559  0.877708  0.877854  ...   0.892379   0.396148   \n",
              "IBGE_DU            0.995641  0.982398  0.982885  ...   0.762280   0.487518   \n",
              "...                     ...       ...       ...  ...        ...        ...   \n",
              "UBER               0.388775  0.407815  0.406456  ...   0.098576   0.167049   \n",
              "MAC                0.956697  0.933022  0.933175  ...   0.826692   0.510685   \n",
              "WAL-MART           0.446998  0.440273  0.439275  ...   0.184794   0.141893   \n",
              "POST_OFFICES       0.914636  0.900823  0.900153  ...   0.696905   0.482167   \n",
              "cluster            0.298507  0.319779  0.320042  ...   0.031713   0.062771   \n",
              "\n",
              "                       Cars  Motorcycles  Wheeled_tractor      UBER       MAC  \\\n",
              "CAPITAL            0.437177     0.538493         0.335010  0.414748  0.422499   \n",
              "IBGE_RES_POP       0.965383     0.938502         0.791111  0.386106  0.955848   \n",
              "IBGE_RES_POP_BRAS  0.964812     0.938794         0.790348  0.387573  0.955042   \n",
              "IBGE_RES_POP_ESTR  0.936118     0.814945         0.800210  0.184097  0.953784   \n",
              "IBGE_DU            0.966776     0.929277         0.792867  0.377781  0.962707   \n",
              "...                     ...          ...              ...       ...       ...   \n",
              "UBER               0.329028     0.496716         0.283455  1.000000  0.287189   \n",
              "MAC                0.973634     0.875262         0.824182  0.287189  1.000000   \n",
              "WAL-MART           0.402819     0.429684         0.395507  0.336825  0.388711   \n",
              "POST_OFFICES       0.910336     0.881150         0.766153  0.413473  0.896001   \n",
              "cluster            0.238592     0.395464         0.246525  0.542857  0.183322   \n",
              "\n",
              "                   WAL-MART  POST_OFFICES   cluster  \n",
              "CAPITAL            0.481166      0.504537  0.234917  \n",
              "IBGE_RES_POP       0.468419      0.915504  0.295037  \n",
              "IBGE_RES_POP_BRAS  0.469910      0.915469  0.296584  \n",
              "IBGE_RES_POP_ESTR  0.255773      0.830791  0.092924  \n",
              "IBGE_DU            0.469038      0.918623  0.286028  \n",
              "...                     ...           ...       ...  \n",
              "UBER               0.336825      0.413473  0.542857  \n",
              "MAC                0.388711      0.896001  0.183322  \n",
              "WAL-MART           1.000000      0.453680  0.230927  \n",
              "POST_OFFICES       0.453680      1.000000  0.266833  \n",
              "cluster            0.230927      0.266833  1.000000  \n",
              "\n",
              "[76 rows x 76 columns]"
            ],
            "text/html": [
              "\n",
              "  <div id=\"df-e5747aa9-fb42-4411-bc61-44b40ca8c419\">\n",
              "    <div class=\"colab-df-container\">\n",
              "      <div>\n",
              "<style scoped>\n",
              "    .dataframe tbody tr th:only-of-type {\n",
              "        vertical-align: middle;\n",
              "    }\n",
              "\n",
              "    .dataframe tbody tr th {\n",
              "        vertical-align: top;\n",
              "    }\n",
              "\n",
              "    .dataframe thead th {\n",
              "        text-align: right;\n",
              "    }\n",
              "</style>\n",
              "<table border=\"1\" class=\"dataframe\">\n",
              "  <thead>\n",
              "    <tr style=\"text-align: right;\">\n",
              "      <th></th>\n",
              "      <th>CAPITAL</th>\n",
              "      <th>IBGE_RES_POP</th>\n",
              "      <th>IBGE_RES_POP_BRAS</th>\n",
              "      <th>IBGE_RES_POP_ESTR</th>\n",
              "      <th>IBGE_DU</th>\n",
              "      <th>IBGE_DU_URBAN</th>\n",
              "      <th>IBGE_DU_RURAL</th>\n",
              "      <th>IBGE_POP</th>\n",
              "      <th>IBGE_1</th>\n",
              "      <th>IBGE_1-4</th>\n",
              "      <th>...</th>\n",
              "      <th>Pr_Assets</th>\n",
              "      <th>Pu_Assets</th>\n",
              "      <th>Cars</th>\n",
              "      <th>Motorcycles</th>\n",
              "      <th>Wheeled_tractor</th>\n",
              "      <th>UBER</th>\n",
              "      <th>MAC</th>\n",
              "      <th>WAL-MART</th>\n",
              "      <th>POST_OFFICES</th>\n",
              "      <th>cluster</th>\n",
              "    </tr>\n",
              "  </thead>\n",
              "  <tbody>\n",
              "    <tr>\n",
              "      <th>CAPITAL</th>\n",
              "      <td>1.000000</td>\n",
              "      <td>0.511893</td>\n",
              "      <td>0.513345</td>\n",
              "      <td>0.299429</td>\n",
              "      <td>0.500446</td>\n",
              "      <td>0.500769</td>\n",
              "      <td>0.107925</td>\n",
              "      <td>0.513595</td>\n",
              "      <td>0.534980</td>\n",
              "      <td>0.533208</td>\n",
              "      <td>...</td>\n",
              "      <td>0.190572</td>\n",
              "      <td>0.299960</td>\n",
              "      <td>0.437177</td>\n",
              "      <td>0.538493</td>\n",
              "      <td>0.335010</td>\n",
              "      <td>0.414748</td>\n",
              "      <td>0.422499</td>\n",
              "      <td>0.481166</td>\n",
              "      <td>0.504537</td>\n",
              "      <td>0.234917</td>\n",
              "    </tr>\n",
              "    <tr>\n",
              "      <th>IBGE_RES_POP</th>\n",
              "      <td>0.511893</td>\n",
              "      <td>1.000000</td>\n",
              "      <td>0.999993</td>\n",
              "      <td>0.904066</td>\n",
              "      <td>0.998566</td>\n",
              "      <td>0.997830</td>\n",
              "      <td>0.267968</td>\n",
              "      <td>0.997886</td>\n",
              "      <td>0.989630</td>\n",
              "      <td>0.990121</td>\n",
              "      <td>...</td>\n",
              "      <td>0.762173</td>\n",
              "      <td>0.494512</td>\n",
              "      <td>0.965383</td>\n",
              "      <td>0.938502</td>\n",
              "      <td>0.791111</td>\n",
              "      <td>0.386106</td>\n",
              "      <td>0.955848</td>\n",
              "      <td>0.468419</td>\n",
              "      <td>0.915504</td>\n",
              "      <td>0.295037</td>\n",
              "    </tr>\n",
              "    <tr>\n",
              "      <th>IBGE_RES_POP_BRAS</th>\n",
              "      <td>0.513345</td>\n",
              "      <td>0.999993</td>\n",
              "      <td>1.000000</td>\n",
              "      <td>0.902431</td>\n",
              "      <td>0.998474</td>\n",
              "      <td>0.997726</td>\n",
              "      <td>0.268401</td>\n",
              "      <td>0.997858</td>\n",
              "      <td>0.989774</td>\n",
              "      <td>0.990267</td>\n",
              "      <td>...</td>\n",
              "      <td>0.760355</td>\n",
              "      <td>0.494962</td>\n",
              "      <td>0.964812</td>\n",
              "      <td>0.938794</td>\n",
              "      <td>0.790348</td>\n",
              "      <td>0.387573</td>\n",
              "      <td>0.955042</td>\n",
              "      <td>0.469910</td>\n",
              "      <td>0.915469</td>\n",
              "      <td>0.296584</td>\n",
              "    </tr>\n",
              "    <tr>\n",
              "      <th>IBGE_RES_POP_ESTR</th>\n",
              "      <td>0.299429</td>\n",
              "      <td>0.904066</td>\n",
              "      <td>0.902431</td>\n",
              "      <td>1.000000</td>\n",
              "      <td>0.912256</td>\n",
              "      <td>0.912935</td>\n",
              "      <td>0.193391</td>\n",
              "      <td>0.904559</td>\n",
              "      <td>0.877708</td>\n",
              "      <td>0.877854</td>\n",
              "      <td>...</td>\n",
              "      <td>0.892379</td>\n",
              "      <td>0.396148</td>\n",
              "      <td>0.936118</td>\n",
              "      <td>0.814945</td>\n",
              "      <td>0.800210</td>\n",
              "      <td>0.184097</td>\n",
              "      <td>0.953784</td>\n",
              "      <td>0.255773</td>\n",
              "      <td>0.830791</td>\n",
              "      <td>0.092924</td>\n",
              "    </tr>\n",
              "    <tr>\n",
              "      <th>IBGE_DU</th>\n",
              "      <td>0.500446</td>\n",
              "      <td>0.998566</td>\n",
              "      <td>0.998474</td>\n",
              "      <td>0.912256</td>\n",
              "      <td>1.000000</td>\n",
              "      <td>0.999677</td>\n",
              "      <td>0.252597</td>\n",
              "      <td>0.995641</td>\n",
              "      <td>0.982398</td>\n",
              "      <td>0.982885</td>\n",
              "      <td>...</td>\n",
              "      <td>0.762280</td>\n",
              "      <td>0.487518</td>\n",
              "      <td>0.966776</td>\n",
              "      <td>0.929277</td>\n",
              "      <td>0.792867</td>\n",
              "      <td>0.377781</td>\n",
              "      <td>0.962707</td>\n",
              "      <td>0.469038</td>\n",
              "      <td>0.918623</td>\n",
              "      <td>0.286028</td>\n",
              "    </tr>\n",
              "    <tr>\n",
              "      <th>...</th>\n",
              "      <td>...</td>\n",
              "      <td>...</td>\n",
              "      <td>...</td>\n",
              "      <td>...</td>\n",
              "      <td>...</td>\n",
              "      <td>...</td>\n",
              "      <td>...</td>\n",
              "      <td>...</td>\n",
              "      <td>...</td>\n",
              "      <td>...</td>\n",
              "      <td>...</td>\n",
              "      <td>...</td>\n",
              "      <td>...</td>\n",
              "      <td>...</td>\n",
              "      <td>...</td>\n",
              "      <td>...</td>\n",
              "      <td>...</td>\n",
              "      <td>...</td>\n",
              "      <td>...</td>\n",
              "      <td>...</td>\n",
              "      <td>...</td>\n",
              "    </tr>\n",
              "    <tr>\n",
              "      <th>UBER</th>\n",
              "      <td>0.414748</td>\n",
              "      <td>0.386106</td>\n",
              "      <td>0.387573</td>\n",
              "      <td>0.184097</td>\n",
              "      <td>0.377781</td>\n",
              "      <td>0.374099</td>\n",
              "      <td>0.230907</td>\n",
              "      <td>0.388775</td>\n",
              "      <td>0.407815</td>\n",
              "      <td>0.406456</td>\n",
              "      <td>...</td>\n",
              "      <td>0.098576</td>\n",
              "      <td>0.167049</td>\n",
              "      <td>0.329028</td>\n",
              "      <td>0.496716</td>\n",
              "      <td>0.283455</td>\n",
              "      <td>1.000000</td>\n",
              "      <td>0.287189</td>\n",
              "      <td>0.336825</td>\n",
              "      <td>0.413473</td>\n",
              "      <td>0.542857</td>\n",
              "    </tr>\n",
              "    <tr>\n",
              "      <th>MAC</th>\n",
              "      <td>0.422499</td>\n",
              "      <td>0.955848</td>\n",
              "      <td>0.955042</td>\n",
              "      <td>0.953784</td>\n",
              "      <td>0.962707</td>\n",
              "      <td>0.963402</td>\n",
              "      <td>0.204906</td>\n",
              "      <td>0.956697</td>\n",
              "      <td>0.933022</td>\n",
              "      <td>0.933175</td>\n",
              "      <td>...</td>\n",
              "      <td>0.826692</td>\n",
              "      <td>0.510685</td>\n",
              "      <td>0.973634</td>\n",
              "      <td>0.875262</td>\n",
              "      <td>0.824182</td>\n",
              "      <td>0.287189</td>\n",
              "      <td>1.000000</td>\n",
              "      <td>0.388711</td>\n",
              "      <td>0.896001</td>\n",
              "      <td>0.183322</td>\n",
              "    </tr>\n",
              "    <tr>\n",
              "      <th>WAL-MART</th>\n",
              "      <td>0.481166</td>\n",
              "      <td>0.468419</td>\n",
              "      <td>0.469910</td>\n",
              "      <td>0.255773</td>\n",
              "      <td>0.469038</td>\n",
              "      <td>0.470532</td>\n",
              "      <td>0.055822</td>\n",
              "      <td>0.446998</td>\n",
              "      <td>0.440273</td>\n",
              "      <td>0.439275</td>\n",
              "      <td>...</td>\n",
              "      <td>0.184794</td>\n",
              "      <td>0.141893</td>\n",
              "      <td>0.402819</td>\n",
              "      <td>0.429684</td>\n",
              "      <td>0.395507</td>\n",
              "      <td>0.336825</td>\n",
              "      <td>0.388711</td>\n",
              "      <td>1.000000</td>\n",
              "      <td>0.453680</td>\n",
              "      <td>0.230927</td>\n",
              "    </tr>\n",
              "    <tr>\n",
              "      <th>POST_OFFICES</th>\n",
              "      <td>0.504537</td>\n",
              "      <td>0.915504</td>\n",
              "      <td>0.915469</td>\n",
              "      <td>0.830791</td>\n",
              "      <td>0.918623</td>\n",
              "      <td>0.916345</td>\n",
              "      <td>0.307458</td>\n",
              "      <td>0.914636</td>\n",
              "      <td>0.900823</td>\n",
              "      <td>0.900153</td>\n",
              "      <td>...</td>\n",
              "      <td>0.696905</td>\n",
              "      <td>0.482167</td>\n",
              "      <td>0.910336</td>\n",
              "      <td>0.881150</td>\n",
              "      <td>0.766153</td>\n",
              "      <td>0.413473</td>\n",
              "      <td>0.896001</td>\n",
              "      <td>0.453680</td>\n",
              "      <td>1.000000</td>\n",
              "      <td>0.266833</td>\n",
              "    </tr>\n",
              "    <tr>\n",
              "      <th>cluster</th>\n",
              "      <td>0.234917</td>\n",
              "      <td>0.295037</td>\n",
              "      <td>0.296584</td>\n",
              "      <td>0.092924</td>\n",
              "      <td>0.286028</td>\n",
              "      <td>0.283906</td>\n",
              "      <td>0.149456</td>\n",
              "      <td>0.298507</td>\n",
              "      <td>0.319779</td>\n",
              "      <td>0.320042</td>\n",
              "      <td>...</td>\n",
              "      <td>0.031713</td>\n",
              "      <td>0.062771</td>\n",
              "      <td>0.238592</td>\n",
              "      <td>0.395464</td>\n",
              "      <td>0.246525</td>\n",
              "      <td>0.542857</td>\n",
              "      <td>0.183322</td>\n",
              "      <td>0.230927</td>\n",
              "      <td>0.266833</td>\n",
              "      <td>1.000000</td>\n",
              "    </tr>\n",
              "  </tbody>\n",
              "</table>\n",
              "<p>76 rows × 76 columns</p>\n",
              "</div>\n",
              "      <button class=\"colab-df-convert\" onclick=\"convertToInteractive('df-e5747aa9-fb42-4411-bc61-44b40ca8c419')\"\n",
              "              title=\"Convert this dataframe to an interactive table.\"\n",
              "              style=\"display:none;\">\n",
              "        \n",
              "  <svg xmlns=\"http://www.w3.org/2000/svg\" height=\"24px\"viewBox=\"0 0 24 24\"\n",
              "       width=\"24px\">\n",
              "    <path d=\"M0 0h24v24H0V0z\" fill=\"none\"/>\n",
              "    <path d=\"M18.56 5.44l.94 2.06.94-2.06 2.06-.94-2.06-.94-.94-2.06-.94 2.06-2.06.94zm-11 1L8.5 8.5l.94-2.06 2.06-.94-2.06-.94L8.5 2.5l-.94 2.06-2.06.94zm10 10l.94 2.06.94-2.06 2.06-.94-2.06-.94-.94-2.06-.94 2.06-2.06.94z\"/><path d=\"M17.41 7.96l-1.37-1.37c-.4-.4-.92-.59-1.43-.59-.52 0-1.04.2-1.43.59L10.3 9.45l-7.72 7.72c-.78.78-.78 2.05 0 2.83L4 21.41c.39.39.9.59 1.41.59.51 0 1.02-.2 1.41-.59l7.78-7.78 2.81-2.81c.8-.78.8-2.07 0-2.86zM5.41 20L4 18.59l7.72-7.72 1.47 1.35L5.41 20z\"/>\n",
              "  </svg>\n",
              "      </button>\n",
              "      \n",
              "  <style>\n",
              "    .colab-df-container {\n",
              "      display:flex;\n",
              "      flex-wrap:wrap;\n",
              "      gap: 12px;\n",
              "    }\n",
              "\n",
              "    .colab-df-convert {\n",
              "      background-color: #E8F0FE;\n",
              "      border: none;\n",
              "      border-radius: 50%;\n",
              "      cursor: pointer;\n",
              "      display: none;\n",
              "      fill: #1967D2;\n",
              "      height: 32px;\n",
              "      padding: 0 0 0 0;\n",
              "      width: 32px;\n",
              "    }\n",
              "\n",
              "    .colab-df-convert:hover {\n",
              "      background-color: #E2EBFA;\n",
              "      box-shadow: 0px 1px 2px rgba(60, 64, 67, 0.3), 0px 1px 3px 1px rgba(60, 64, 67, 0.15);\n",
              "      fill: #174EA6;\n",
              "    }\n",
              "\n",
              "    [theme=dark] .colab-df-convert {\n",
              "      background-color: #3B4455;\n",
              "      fill: #D2E3FC;\n",
              "    }\n",
              "\n",
              "    [theme=dark] .colab-df-convert:hover {\n",
              "      background-color: #434B5C;\n",
              "      box-shadow: 0px 1px 3px 1px rgba(0, 0, 0, 0.15);\n",
              "      filter: drop-shadow(0px 1px 2px rgba(0, 0, 0, 0.3));\n",
              "      fill: #FFFFFF;\n",
              "    }\n",
              "  </style>\n",
              "\n",
              "      <script>\n",
              "        const buttonEl =\n",
              "          document.querySelector('#df-e5747aa9-fb42-4411-bc61-44b40ca8c419 button.colab-df-convert');\n",
              "        buttonEl.style.display =\n",
              "          google.colab.kernel.accessAllowed ? 'block' : 'none';\n",
              "\n",
              "        async function convertToInteractive(key) {\n",
              "          const element = document.querySelector('#df-e5747aa9-fb42-4411-bc61-44b40ca8c419');\n",
              "          const dataTable =\n",
              "            await google.colab.kernel.invokeFunction('convertToInteractive',\n",
              "                                                     [key], {});\n",
              "          if (!dataTable) return;\n",
              "\n",
              "          const docLinkHtml = 'Like what you see? Visit the ' +\n",
              "            '<a target=\"_blank\" href=https://colab.research.google.com/notebooks/data_table.ipynb>data table notebook</a>'\n",
              "            + ' to learn more about interactive tables.';\n",
              "          element.innerHTML = '';\n",
              "          dataTable['output_type'] = 'display_data';\n",
              "          await google.colab.output.renderOutput(dataTable, element);\n",
              "          const docLink = document.createElement('div');\n",
              "          docLink.innerHTML = docLinkHtml;\n",
              "          element.appendChild(docLink);\n",
              "        }\n",
              "      </script>\n",
              "    </div>\n",
              "  </div>\n",
              "  "
            ]
          },
          "metadata": {},
          "execution_count": 49
        }
      ],
      "source": [
        "# Aqui gerei a correlação das colunas da database\n",
        "co = df_brazil.corr()\n",
        "co"
      ]
    },
    {
      "cell_type": "code",
      "execution_count": 50,
      "metadata": {
        "id": "BWTY0CObbrbc",
        "colab": {
          "base_uri": "https://localhost:8080/",
          "height": 619
        },
        "outputId": "476e6a17-07cc-4c3f-b0b6-ca90bda8becc"
      },
      "outputs": [
        {
          "output_type": "execute_result",
          "data": {
            "text/plain": [
              "<matplotlib.collections.PathCollection at 0x7f65605a47d0>"
            ]
          },
          "metadata": {},
          "execution_count": 50
        },
        {
          "output_type": "display_data",
          "data": {
            "text/plain": [
              "<Figure size 720x720 with 1 Axes>"
            ],
            "image/png": "[encoded data removed]"
          },
          "metadata": {
            "needs_background": "light"
          }
        }
      ],
      "source": [
        "# Escolhi a coluna GDP (Produto interno bruto) e a coluna COM_TOT (número total de companhias) , prever GDP de uma cidade baseado no total de companhias\n",
        "y = df_brazil.loc[:,'GDP'].values\n",
        "x = df_brazil.loc[:, 'COMP_TOT'].values\n",
        "plt.figure(figsize=(10,10))\n",
        "plt.scatter(x,y)"
      ]
    },
    {
      "cell_type": "code",
      "execution_count": 51,
      "metadata": {
        "id": "PBO7eNsGbv87",
        "colab": {
          "base_uri": "https://localhost:8080/"
        },
        "outputId": "e06d07d5-df3b-4a1a-9f0a-dc37fb465b03"
      },
      "outputs": [
        {
          "output_type": "execute_result",
          "data": {
            "text/plain": [
              "0.9701666725720989"
            ]
          },
          "metadata": {},
          "execution_count": 51
        }
      ],
      "source": [
        "corrL=df_brazil['GDP'].corr(df_brazil['COMP_TOT']) # Correlação entre as duas é alta, por isso escolhi elas duas\n",
        "corrL"
      ]
    },
    {
      "cell_type": "markdown",
      "metadata": {
        "id": "OwsYFnIdbz-g"
      },
      "source": [
        "<h1>Aumentar o número total de companhias de uma cidade aumenta proporcionalmente seu PIB?<h1>"
      ]
    },
    {
      "cell_type": "code",
      "execution_count": 52,
      "metadata": {
        "id": "IZHBjxYfb1ny"
      },
      "outputs": [],
      "source": [
        "# nova forma à matriz sem alterar seus dados.\n",
        "x = x.reshape(-1,1)\n",
        "y = y.reshape(-1,1)"
      ]
    },
    {
      "cell_type": "code",
      "execution_count": 53,
      "metadata": {
        "id": "fUx1_Lctb81M",
        "colab": {
          "base_uri": "https://localhost:8080/"
        },
        "outputId": "cef39dd8-0ac7-4724-8d9e-144c05fba611"
      },
      "outputs": [
        {
          "output_type": "stream",
          "name": "stdout",
          "text": [
            "4172 1391\n"
          ]
        }
      ],
      "source": [
        "#Dividir em teste e em treino\n",
        "#75% pra treinamento e 25% para teste\n",
        "x_tr, x_tes, y_tr, y_test = train_test_split(x, y, test_size=0.25) \n",
        "print(len(x_tr), len(x_tes))"
      ]
    },
    {
      "cell_type": "code",
      "execution_count": 54,
      "metadata": {
        "id": "cre_PYWBcDlE",
        "colab": {
          "base_uri": "https://localhost:8080/"
        },
        "outputId": "f87c105c-0a12-4342-b2ed-81dcc8ece4f5"
      },
      "outputs": [
        {
          "output_type": "execute_result",
          "data": {
            "text/plain": [
              "LinearRegression()"
            ]
          },
          "metadata": {},
          "execution_count": 54
        }
      ],
      "source": [
        "#Aplicando as fórmulas estatísticas\n",
        "Funcao_Regressao = LinearRegression()\n",
        "Funcao_Regressao.fit(x_tr,y_tr) \n"
      ]
    },
    {
      "cell_type": "code",
      "execution_count": 55,
      "metadata": {
        "id": "y4Db97OpcIuX",
        "colab": {
          "base_uri": "https://localhost:8080/"
        },
        "outputId": "b914a1f5-d673-48f3-9956-59efc81861b6"
      },
      "outputs": [
        {
          "output_type": "execute_result",
          "data": {
            "text/plain": [
              "0.9627344400565615"
            ]
          },
          "metadata": {},
          "execution_count": 55
        }
      ],
      "source": [
        "#modelo perto de 1, teve performance boa\n",
        "Funcao_Regressao.score(x_tr, y_tr) "
      ]
    },
    {
      "cell_type": "code",
      "execution_count": 56,
      "metadata": {
        "id": "qj9qt4MtcPto",
        "colab": {
          "base_uri": "https://localhost:8080/",
          "height": 602
        },
        "outputId": "64e0fa5e-9f4b-415a-d9c7-e74111848c14"
      },
      "outputs": [
        {
          "output_type": "display_data",
          "data": {
            "text/plain": [
              "<Figure size 720x720 with 1 Axes>"
            ],
            "image/png": "[encoded data removed]"
          },
          "metadata": {
            "needs_background": "light"
          }
        }
      ],
      "source": [
        "#Plotando a reta da regressão\n",
        "plt.figure(figsize=(10,10))\n",
        "plt.scatter(x_tr, y_tr) #Plotando os dois eixos\n",
        "plt.plot(x_tes, Funcao_Regressao.predict(x_tes), color = 'red'); #Fazendo previções"
      ]
    },
    {
      "cell_type": "code",
      "execution_count": 57,
      "metadata": {
        "id": "Qte8ZhykcTmJ",
        "colab": {
          "base_uri": "https://localhost:8080/"
        },
        "outputId": "8088303f-144e-4fa8-cb3b-6695c679326c"
      },
      "outputs": [
        {
          "output_type": "stream",
          "name": "stdout",
          "text": [
            "RMSE 3630198.087285354\n"
          ]
        }
      ],
      "source": [
        "# Avaliando o Erro médio\n",
        "previsao = Funcao_Regressao.predict(x_tes)\n",
        "print('RMSE', np.sqrt(metrics.mean_squared_error(y_test, previsao))) "
      ]
    },
    {
      "cell_type": "markdown",
      "metadata": {
        "id": "nGJiZ5ZWcgUB"
      },
      "source": [
        "<h3>Respodendo a pergunta, A resposta é não em alguns casos , a correlaçao entre  o PIB e o total de companhias é bastante forte, porém não significa que é completamente proporcional, analisando a reta vemos que há grande tendência de aumento de companhias junto com o PIB de cada cidade!<h3>"
      ]
    },
    {
      "cell_type": "markdown",
      "metadata": {
        "id": "_ROCGhjPckfP"
      },
      "source": [
        "# **7 Random Forest Regressor**"
      ]
    },
    {
      "cell_type": "code",
      "execution_count": 58,
      "metadata": {
        "id": "PVfmktGGcnub"
      },
      "outputs": [],
      "source": [
        "y = df_brazil.loc[:,'GDP'].values\n",
        "x = df_brazil.loc[:, 'COMP_TOT'].values.reshape(-1,1)"
      ]
    },
    {
      "cell_type": "code",
      "execution_count": 59,
      "metadata": {
        "id": "3l0o_KtMcrgy",
        "colab": {
          "base_uri": "https://localhost:8080/"
        },
        "outputId": "7cb591cf-ec0a-4115-99e5-0e07db7383de"
      },
      "outputs": [
        {
          "output_type": "stream",
          "name": "stdout",
          "text": [
            "4172 1391\n"
          ]
        }
      ],
      "source": [
        "#Dividir em teste e em treino\n",
        "#75% pra treinamento e 25% para teste\n",
        "x_tr, x_tes, y_tr, y_tes = train_test_split(x, y, test_size=0.25) \n",
        "print(len(x_tr), len(x_tes))"
      ]
    },
    {
      "cell_type": "code",
      "execution_count": 60,
      "metadata": {
        "id": "6vvG-XtncxtP"
      },
      "outputs": [],
      "source": [
        "#Criamos um random forest , podemos alterar número de árvores, aqui botei 1000 árvores\n",
        "floresta = RandomForestRegressor(max_depth=8, n_estimators=25, random_state=0) \n",
        "\n",
        "# Treina o modelo\n",
        "floresta.fit(x_tr,y_tr)\n",
        "\n",
        "# Aplica o modelo treinado no dataset de teste para prever o resultado\n",
        "y_pre = floresta.predict(x_tes)"
      ]
    },
    {
      "cell_type": "code",
      "execution_count": 61,
      "metadata": {
        "id": "QnU0kTmh0yHz",
        "colab": {
          "base_uri": "https://localhost:8080/"
        },
        "outputId": "994b965c-e1ea-439a-88cf-276e9530f047"
      },
      "outputs": [
        {
          "output_type": "execute_result",
          "data": {
            "text/plain": [
              "0.4028220554253791"
            ]
          },
          "metadata": {},
          "execution_count": 61
        }
      ],
      "source": [
        "#Aqui vemos a acurácia do modelo\n",
        "metrics.r2_score(y_tes, y_pre)"
      ]
    },
    {
      "cell_type": "code",
      "execution_count": 62,
      "metadata": {
        "id": "dR21IjUA0zfU",
        "colab": {
          "base_uri": "https://localhost:8080/"
        },
        "outputId": "4b781bfb-81eb-41f0-8f8a-d7e34d5cb595"
      },
      "outputs": [
        {
          "output_type": "execute_result",
          "data": {
            "text/plain": [
              "16067568.144012121"
            ]
          },
          "metadata": {},
          "execution_count": 62
        }
      ],
      "source": [
        "#Aqui o erro\n",
        "np.sqrt(mean_squared_error(y_tes,y_pre))"
      ]
    },
    {
      "cell_type": "markdown",
      "metadata": {
        "id": "sI1wrmfHr_vG"
      },
      "source": [
        "# **8 K-Neighbors**\n"
      ]
    },
    {
      "cell_type": "code",
      "execution_count": 63,
      "metadata": {
        "id": "aW5GgHSPBt2A"
      },
      "outputs": [],
      "source": [
        "#Ainda usando GDP e COMP_TOT\n",
        "y = df_brazil.loc[:,'GDP'].values.reshape(-1,1)\n",
        "x = df_brazil.loc[:, 'COMP_TOT'].values"
      ]
    },
    {
      "cell_type": "code",
      "execution_count": 64,
      "metadata": {
        "id": "kPOdnqSkSfKm"
      },
      "outputs": [],
      "source": [
        "x = x.reshape(-1,1)\n",
        "y = y.reshape(-1,1)"
      ]
    },
    {
      "cell_type": "code",
      "execution_count": 65,
      "metadata": {
        "id": "LzJSG0vbS6yT"
      },
      "outputs": [],
      "source": [
        "x_train,x_test,y_train,y_test = train_test_split(x, y, test_size=0.25)\n"
      ]
    },
    {
      "cell_type": "code",
      "execution_count": 66,
      "metadata": {
        "id": "_VMthn1zTBRb"
      },
      "outputs": [],
      "source": [
        "vizinhos_3 = KNeighborsRegressor(n_neighbors=3)\n",
        "modelo = vizinhos_3.fit(x, y)"
      ]
    },
    {
      "cell_type": "code",
      "execution_count": 67,
      "metadata": {
        "id": "fzJGQFvATNPH",
        "colab": {
          "base_uri": "https://localhost:8080/"
        },
        "outputId": "656ee8d0-f8b4-4e9b-e21e-8af60f455bef"
      },
      "outputs": [
        {
          "output_type": "stream",
          "name": "stdout",
          "text": [
            "Score entre testes:  0.7837303752344612\n"
          ]
        }
      ],
      "source": [
        "print('Score entre testes: ',vizinhos_3.score(x_test,y_test))"
      ]
    },
    {
      "cell_type": "code",
      "execution_count": 68,
      "metadata": {
        "id": "IZetP0E2TDZC",
        "colab": {
          "base_uri": "https://localhost:8080/",
          "height": 295
        },
        "outputId": "c716dbe8-f955-48de-97fa-44d2523d4cf5"
      },
      "outputs": [
        {
          "output_type": "display_data",
          "data": {
            "text/plain": [
              "<Figure size 432x288 with 1 Axes>"
            ],
            "image/png": "[encoded data removed]"
          },
          "metadata": {
            "needs_background": "light"
          }
        }
      ],
      "source": [
        "plt.scatter(x_test, y_test)\n",
        "plt.scatter(x_test, vizinhos_3.predict(x_test), color='red')\n",
        "plt.title('GDP x Total de companhias (Treinamento)')\n",
        "plt.xlabel('GDP')\n",
        "plt.ylabel('COMP_TOT')\n",
        "plt.show()"
      ]
    },
    {
      "cell_type": "markdown",
      "source": [
        "Até então temos que a Regressao Linear e o K-Neighbors-Regressor são os melhores nossos melhores algoritmos testados"
      ],
      "metadata": {
        "id": "oi2kHcv_Ud1e"
      }
    },
    {
      "cell_type": "code",
      "source": [],
      "metadata": {
        "id": "FRv95VVkUbEY"
      },
      "execution_count": 68,
      "outputs": []
    },
    {
      "cell_type": "code",
      "execution_count": 69,
      "metadata": {
        "id": "3q98o1n2xZ4l",
        "colab": {
          "base_uri": "https://localhost:8080/"
        },
        "outputId": "c7c74926-4a19-4bc3-e302-ac9e9097eec7"
      },
      "outputs": [
        {
          "output_type": "stream",
          "name": "stdout",
          "text": [
            "MLflow Tracking UI: https://a7e6-34-123-1-157.ngrok.io\n"
          ]
        }
      ],
      "source": [
        "from pyngrok import ngrok\n",
        "# Terminate open tunnels if exist\n",
        "ngrok.kill()\n",
        "\n",
        "# Setting the authtoken (optional)\n",
        "# Get your authtoken from https://dashboard.ngrok.com/auth\n",
        "NGROK_AUTH_TOKEN = \"\"\n",
        "ngrok.set_auth_token(NGROK_AUTH_TOKEN)\n",
        "\n",
        "# Open an HTTPs tunnel on port 5000 for http://localhost:5000\n",
        "ngrok_tunnel = ngrok.connect(addr=\"5000\", proto=\"http\", bind_tls=True)\n",
        "print(\"MLflow Tracking UI:\", ngrok_tunnel.public_url)"
      ]
    },
    {
      "cell_type": "code",
      "execution_count": null,
      "metadata": {
        "colab": {
          "base_uri": "https://localhost:8080/"
        },
        "id": "BCm1m8Yy1c8p",
        "outputId": "83301824-0c66-4483-cabf-30a0584269f6"
      },
      "outputs": [
        {
          "output_type": "stream",
          "name": "stdout",
          "text": [
            "[2022-10-04 00:46:21 +0000] [1433] [INFO] Starting gunicorn 20.1.0\n",
            "[2022-10-04 00:46:21 +0000] [1433] [INFO] Listening at: http://127.0.0.1:5000 (1433)\n",
            "[2022-10-04 00:46:21 +0000] [1433] [INFO] Using worker: sync\n",
            "[2022-10-04 00:46:21 +0000] [1436] [INFO] Booting worker with pid: 1436\n"
          ]
        }
      ],
      "source": [
        "!mlflow ui"
      ]
    },
    {
      "cell_type": "code",
      "execution_count": null,
      "metadata": {
        "id": "W8x4gWV1rFIy"
      },
      "outputs": [],
      "source": [
        "mlflow.end_run()"
      ]
    }
  ],
  "metadata": {
    "colab": {
      "provenance": [],
      "collapsed_sections": [
        "s3AJmqNe9_k7",
        "JOTkugl8wdgu",
        "kCslB2ikFn-G",
        "u6BfvJHy7NRH",
        "r0tjja8RJldv",
        "ipwc-RRM-3Wa",
        "MF9HyFrQcf5D",
        "KPWfVRrxwtNT",
        "iVoHrHy9rrvO",
        "xqbwnpaysW1g",
        "4BVE5JuusaXv",
        "vltPQA8-sd1F",
        "sFISBqC7sgTn"
      ]
    },
    "kernelspec": {
      "display_name": "Python 3",
      "name": "python3"
    },
    "language_info": {
      "name": "python"
    }
  },
  "nbformat": 4,
  "nbformat_minor": 0
}